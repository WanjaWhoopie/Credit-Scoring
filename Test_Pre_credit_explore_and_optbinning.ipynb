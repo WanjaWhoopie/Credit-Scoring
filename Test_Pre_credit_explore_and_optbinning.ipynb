{
  "nbformat": 4,
  "nbformat_minor": 0,
  "metadata": {
    "colab": {
      "provenance": [],
      "collapsed_sections": [
        "kmif5u1fvQH5",
        "tko4N-YjvckD",
        "dV5G9Tqty_3F",
        "ISuVIpm6JF80",
        "SO-nhA5QJ3V5",
        "1XgUekTsJ-qE",
        "yIXeUYz-LVJY",
        "ds8MPlVZKH7E",
        "WaJUCFvkKYEm",
        "d-aOKWAWKgFs",
        "sGgHenI4KstP",
        "EprEW_byK4s1",
        "It5t2Nv16kyE",
        "0h4_vrn369lO",
        "AC3yEn0b9lGb",
        "NE9NSVcLdvNW",
        "vdVPEpUIgRrv",
        "y4lAXudFjM6_",
        "SkRTkrKm0DD5",
        "FY3Q4PAv0Mpy",
        "n2a_4BAn0UNl",
        "yLwtfWXo0rmo",
        "Oq7fVJx2046S",
        "0jSXfRar08Ov",
        "66tnMKdl0uEE",
        "PIcOCF6PQBA5",
        "yAmPoxsCWEKi",
        "RnejijgQTY08",
        "pFl0zfgbYD-n",
        "6fy0ORpxUZRx",
        "SoweYsbAYNfv",
        "hvzmlMOD65lz",
        "qDhx7SBvZQb_",
        "icUOFdeReB3P",
        "8xn0YlPChGHA",
        "m97f01OwjqQB",
        "xusnYAYtThIu",
        "o149B8tLn3Iw",
        "j7MPhZVhpsCV"
      ],
      "mount_file_id": "1lZCWgiLI60L9i4eG9pczJeg8kDIIV7cX",
      "authorship_tag": "ABX9TyMSQpEIIZC+P1tDuZXftFRw",
      "include_colab_link": true
    },
    "kernelspec": {
      "name": "python3",
      "display_name": "Python 3"
    },
    "language_info": {
      "name": "python"
    }
  },
  "cells": [
    {
      "cell_type": "markdown",
      "metadata": {
        "id": "view-in-github",
        "colab_type": "text"
      },
      "source": [
        "<a href=\"https://colab.research.google.com/github/WanjaWhoopie/Credit-Scoring/blob/main/Test_Pre_credit_explore_and_optbinning.ipynb\" target=\"_parent\"><img src=\"https://colab.research.google.com/assets/colab-badge.svg\" alt=\"Open In Colab\"/></a>"
      ]
    },
    {
      "cell_type": "markdown",
      "metadata": {
        "id": "kmif5u1fvQH5"
      },
      "source": [
        "# **Import**"
      ]
    },
    {
      "cell_type": "code",
      "metadata": {
        "id": "dABK3iaQyfMI"
      },
      "source": [
        "import numpy as np\n",
        "import pandas as pd\n",
        "\n",
        "import matplotlib.pyplot as plt\n",
        "import seaborn as sns"
      ],
      "execution_count": null,
      "outputs": []
    },
    {
      "cell_type": "code",
      "metadata": {
        "colab": {
          "base_uri": "https://localhost:8080/"
        },
        "id": "Q2fxBFTAACsP",
        "outputId": "15e58963-ec2e-4220-e07c-5082de9df0a6"
      },
      "source": [
        "!pip install optbinning\n",
        "\n",
        "from optbinning import OptimalBinning"
      ],
      "execution_count": null,
      "outputs": [
        {
          "output_type": "stream",
          "name": "stdout",
          "text": [
            "Requirement already satisfied: optbinning in /usr/local/lib/python3.7/dist-packages (0.12.2)\n",
            "Requirement already satisfied: matplotlib in /usr/local/lib/python3.7/dist-packages (from optbinning) (3.2.2)\n",
            "Requirement already satisfied: pympler in /usr/local/lib/python3.7/dist-packages (from optbinning) (0.9)\n",
            "Requirement already satisfied: ropwr>=0.2.0 in /usr/local/lib/python3.7/dist-packages (from optbinning) (0.2.0)\n",
            "Requirement already satisfied: dill in /usr/local/lib/python3.7/dist-packages (from optbinning) (0.3.4)\n",
            "Requirement already satisfied: ortools>=7.2 in /usr/local/lib/python3.7/dist-packages (from optbinning) (9.1.9490)\n",
            "Requirement already satisfied: pandas in /usr/local/lib/python3.7/dist-packages (from optbinning) (1.3.4)\n",
            "Requirement already satisfied: tdigest in /usr/local/lib/python3.7/dist-packages (from optbinning) (0.5.2.2)\n",
            "Requirement already satisfied: scikit-learn>=0.22.0 in /usr/local/lib/python3.7/dist-packages (from optbinning) (0.22.2.post1)\n",
            "Requirement already satisfied: numpy>=1.16.1 in /usr/local/lib/python3.7/dist-packages (from optbinning) (1.19.5)\n",
            "Requirement already satisfied: scipy>=1.6.0 in /usr/local/lib/python3.7/dist-packages (from optbinning) (1.7.1)\n",
            "Requirement already satisfied: absl-py>=0.13 in /usr/local/lib/python3.7/dist-packages (from ortools>=7.2->optbinning) (0.15.0)\n",
            "Requirement already satisfied: protobuf>=3.18.0 in /usr/local/lib/python3.7/dist-packages (from ortools>=7.2->optbinning) (3.19.0)\n",
            "Requirement already satisfied: six in /usr/local/lib/python3.7/dist-packages (from absl-py>=0.13->ortools>=7.2->optbinning) (1.15.0)\n",
            "Requirement already satisfied: cvxpy>=1.0 in /usr/local/lib/python3.7/dist-packages (from ropwr>=0.2.0->optbinning) (1.0.31)\n",
            "Requirement already satisfied: multiprocess in /usr/local/lib/python3.7/dist-packages (from cvxpy>=1.0->ropwr>=0.2.0->optbinning) (0.70.12.2)\n",
            "Requirement already satisfied: ecos>=2 in /usr/local/lib/python3.7/dist-packages (from cvxpy>=1.0->ropwr>=0.2.0->optbinning) (2.0.7.post1)\n",
            "Requirement already satisfied: scs>=1.1.3 in /usr/local/lib/python3.7/dist-packages (from cvxpy>=1.0->ropwr>=0.2.0->optbinning) (2.1.4)\n",
            "Requirement already satisfied: osqp>=0.4.1 in /usr/local/lib/python3.7/dist-packages (from cvxpy>=1.0->ropwr>=0.2.0->optbinning) (0.6.2.post0)\n",
            "Requirement already satisfied: qdldl in /usr/local/lib/python3.7/dist-packages (from osqp>=0.4.1->cvxpy>=1.0->ropwr>=0.2.0->optbinning) (0.1.5.post0)\n",
            "Requirement already satisfied: joblib>=0.11 in /usr/local/lib/python3.7/dist-packages (from scikit-learn>=0.22.0->optbinning) (1.0.1)\n",
            "Requirement already satisfied: cycler>=0.10 in /usr/local/lib/python3.7/dist-packages (from matplotlib->optbinning) (0.10.0)\n",
            "Requirement already satisfied: kiwisolver>=1.0.1 in /usr/local/lib/python3.7/dist-packages (from matplotlib->optbinning) (1.3.2)\n",
            "Requirement already satisfied: python-dateutil>=2.1 in /usr/local/lib/python3.7/dist-packages (from matplotlib->optbinning) (2.8.2)\n",
            "Requirement already satisfied: pyparsing!=2.0.4,!=2.1.2,!=2.1.6,>=2.0.1 in /usr/local/lib/python3.7/dist-packages (from matplotlib->optbinning) (2.4.7)\n",
            "Requirement already satisfied: pytz>=2017.3 in /usr/local/lib/python3.7/dist-packages (from pandas->optbinning) (2018.9)\n",
            "Requirement already satisfied: accumulation-tree in /usr/local/lib/python3.7/dist-packages (from tdigest->optbinning) (0.6.2)\n",
            "Requirement already satisfied: pyudorandom in /usr/local/lib/python3.7/dist-packages (from tdigest->optbinning) (1.0.0)\n"
          ]
        }
      ]
    },
    {
      "cell_type": "code",
      "metadata": {
        "id": "_t0hRocYuPyr"
      },
      "source": [
        "# !pip install featuretools\n",
        "# import featuretools as ft\n"
      ],
      "execution_count": null,
      "outputs": []
    },
    {
      "cell_type": "code",
      "metadata": {
        "colab": {
          "base_uri": "https://localhost:8080/"
        },
        "id": "Icmxsov2KnKn",
        "outputId": "1a7932c9-4749-4a11-c207-ec00cec92ccc"
      },
      "source": [
        "pip install pandas --upgrade"
      ],
      "execution_count": null,
      "outputs": [
        {
          "output_type": "stream",
          "name": "stdout",
          "text": [
            "Requirement already satisfied: pandas in /usr/local/lib/python3.7/dist-packages (1.3.4)\n",
            "Requirement already satisfied: python-dateutil>=2.7.3 in /usr/local/lib/python3.7/dist-packages (from pandas) (2.8.2)\n",
            "Requirement already satisfied: pytz>=2017.3 in /usr/local/lib/python3.7/dist-packages (from pandas) (2018.9)\n",
            "Requirement already satisfied: numpy>=1.17.3 in /usr/local/lib/python3.7/dist-packages (from pandas) (1.19.5)\n",
            "Requirement already satisfied: six>=1.5 in /usr/local/lib/python3.7/dist-packages (from python-dateutil>=2.7.3->pandas) (1.15.0)\n"
          ]
        }
      ]
    },
    {
      "cell_type": "markdown",
      "metadata": {
        "id": "tko4N-YjvckD"
      },
      "source": [
        "# **Load Data and Split**"
      ]
    },
    {
      "cell_type": "code",
      "metadata": {
        "colab": {
          "base_uri": "https://localhost:8080/"
        },
        "id": "uF31WabNvbmL",
        "outputId": "cde781b1-3dc2-45f3-a3af-210062b3a662"
      },
      "source": [
        "#mount drive\n",
        "from google.colab import drive\n",
        "drive.mount('/content/drive')"
      ],
      "execution_count": null,
      "outputs": [
        {
          "output_type": "stream",
          "name": "stdout",
          "text": [
            "Drive already mounted at /content/drive; to attempt to forcibly remount, call drive.mount(\"/content/drive\", force_remount=True).\n"
          ]
        }
      ]
    },
    {
      "cell_type": "code",
      "metadata": {
        "colab": {
          "base_uri": "https://localhost:8080/"
        },
        "id": "TZSa2tdev-3_",
        "outputId": "1eb4f2b0-d3f4-41f9-86a3-4a310894e233"
      },
      "source": [
        "dataset =  pd.read_csv(\"/content/drive/My Drive/AICE/scData.csv\")"
      ],
      "execution_count": null,
      "outputs": [
        {
          "output_type": "stream",
          "name": "stderr",
          "text": [
            "/usr/local/lib/python3.7/dist-packages/IPython/core/interactiveshell.py:2882: DtypeWarning: Columns (11,35,37,44,46,47,48,49) have mixed types.Specify dtype option on import or set low_memory=False.\n",
            "  exec(code_obj, self.user_global_ns, self.user_ns)\n"
          ]
        }
      ]
    },
    {
      "cell_type": "code",
      "metadata": {
        "colab": {
          "base_uri": "https://localhost:8080/"
        },
        "id": "TZC2y9slxzUC",
        "outputId": "c266e9ab-8974-4d44-b610-fad1400cdd8f"
      },
      "source": [
        "dataset.shape"
      ],
      "execution_count": null,
      "outputs": [
        {
          "output_type": "execute_result",
          "data": {
            "text/plain": [
              "(5447, 151)"
            ]
          },
          "metadata": {},
          "execution_count": 7
        }
      ]
    },
    {
      "cell_type": "code",
      "metadata": {
        "id": "xEeKZ-Qjx1S8"
      },
      "source": [
        "precred_cols =['government_institution_income', 'private_institution_income', 'remittance_income', 'agricutural_income',\n",
        "               'commericial_trade_income', 'service_provision_income', 'commericial_trade_income', 'frequent_monthly_expense',\n",
        "               'number of loans', 'number of outstanding loans', 'remaining_payment_months', 'sum_otherincome']"
      ],
      "execution_count": null,
      "outputs": []
    },
    {
      "cell_type": "code",
      "metadata": {
        "id": "EDLApai-5np_"
      },
      "source": [
        "# changing the labeling of the target variable\n",
        "dataset['good_bad'] = np.where(dataset['Bad90'].isin([1]), 0, 1)"
      ],
      "execution_count": null,
      "outputs": []
    },
    {
      "cell_type": "code",
      "metadata": {
        "id": "C3aGS07Ys-iL",
        "colab": {
          "base_uri": "https://localhost:8080/"
        },
        "outputId": "a95a0199-77ec-435f-f841-f0c205505b6a"
      },
      "source": [
        "# add the values of other income columns\n",
        "other_income_cols = ['pension_income',\n",
        "       'government_institution_income', 'private_institution_income',\n",
        "       'remittance_income', 'commericial_trade_income',\n",
        "       'service_provision_income']\n",
        "\n",
        "dataset['income_sum'] = dataset[other_income_cols].sum(axis=1)\n",
        "dataset['income_sum'].head()"
      ],
      "execution_count": null,
      "outputs": [
        {
          "output_type": "execute_result",
          "data": {
            "text/plain": [
              "0       0\n",
              "1       0\n",
              "2       0\n",
              "3       0\n",
              "4    7000\n",
              "Name: income_sum, dtype: int64"
            ]
          },
          "metadata": {},
          "execution_count": 10
        }
      ]
    },
    {
      "cell_type": "code",
      "metadata": {
        "id": "3kKbKYPuHOS_"
      },
      "source": [
        "from sklearn.model_selection import train_test_split\n",
        "data_inputs_train, data_inputs_test, data_targets_train, data_targets_test = train_test_split(dataset.drop('Bad90', axis = 1), dataset['Bad90'], test_size = 0.2, random_state = 42)"
      ],
      "execution_count": null,
      "outputs": []
    },
    {
      "cell_type": "code",
      "metadata": {
        "id": "0a_-XzHiHzra"
      },
      "source": [
        "df_inputs_test = data_inputs_test\n",
        "df_targets_test = data_targets_test"
      ],
      "execution_count": null,
      "outputs": []
    },
    {
      "cell_type": "markdown",
      "metadata": {
        "id": "dV5G9Tqty_3F"
      },
      "source": [
        "# **1. Government_institution_income**"
      ]
    },
    {
      "cell_type": "code",
      "metadata": {
        "colab": {
          "base_uri": "https://localhost:8080/"
        },
        "id": "m4BPgbOnzH--",
        "outputId": "2d6a1362-ec9e-46ca-c707-cbae6777ee6a"
      },
      "source": [
        "dataset['government_institution_income'].unique()"
      ],
      "execution_count": null,
      "outputs": [
        {
          "output_type": "execute_result",
          "data": {
            "text/plain": [
              "array([     0,  41000,  25000,  30000,  55000,  38000,  20000,  42000,\n",
              "        33000, 100000,  18000,  60000,  44000,  54000,  47000,  15000,\n",
              "        50000,  40000,   8000,  80000,  10000,  90000, 123000,  24000,\n",
              "       500000,  21000, 250000,  23000, 200000,  32000,  75000,  89000,\n",
              "        12000,  35000,  70000,  22000,  45000,  52000, 120000, 125000])"
            ]
          },
          "metadata": {},
          "execution_count": 13
        }
      ]
    },
    {
      "cell_type": "code",
      "metadata": {
        "colab": {
          "base_uri": "https://localhost:8080/"
        },
        "id": "Ah5KKtzl-tXh",
        "outputId": "f950c7d8-d247-4768-c144-bd34fc39f401"
      },
      "source": [
        "dataset['government_institution_income'].describe()"
      ],
      "execution_count": null,
      "outputs": [
        {
          "output_type": "execute_result",
          "data": {
            "text/plain": [
              "count      5447.000000\n",
              "mean        886.543051\n",
              "std       10725.602036\n",
              "min           0.000000\n",
              "25%           0.000000\n",
              "50%           0.000000\n",
              "75%           0.000000\n",
              "max      500000.000000\n",
              "Name: government_institution_income, dtype: float64"
            ]
          },
          "metadata": {},
          "execution_count": 14
        }
      ]
    },
    {
      "cell_type": "markdown",
      "metadata": {
        "id": "KS2qkrre72v0"
      },
      "source": [
        "5362 are zeros"
      ]
    },
    {
      "cell_type": "code",
      "metadata": {
        "colab": {
          "base_uri": "https://localhost:8080/"
        },
        "id": "06lU4ySV7VtU",
        "outputId": "98f42bff-c7ba-4275-d413-677e10617cad"
      },
      "source": [
        "#visualise ditribution\n",
        "sns.distplot(dataset['government_institution_income'])"
      ],
      "execution_count": null,
      "outputs": [
        {
          "output_type": "stream",
          "name": "stderr",
          "text": [
            "/usr/local/lib/python3.7/dist-packages/seaborn/distributions.py:2619: FutureWarning: `distplot` is a deprecated function and will be removed in a future version. Please adapt your code to use either `displot` (a figure-level function with similar flexibility) or `histplot` (an axes-level function for histograms).\n",
            "  warnings.warn(msg, FutureWarning)\n"
          ]
        },
        {
          "output_type": "execute_result",
          "data": {
            "text/plain": [
              "<matplotlib.axes._subplots.AxesSubplot at 0x7fc4c1873e10>"
            ]
          },
          "metadata": {},
          "execution_count": 15
        },
        {
          "output_type": "display_data",
          "data": {
            "image/png": "[encoded data removed]",
            "text/plain": [
              "<Figure size 432x288 with 1 Axes>"
            ]
          },
          "metadata": {
            "needs_background": "light"
          }
        }
      ]
    },
    {
      "cell_type": "code",
      "metadata": {
        "id": "Xcjyq2BP_LWp",
        "colab": {
          "base_uri": "https://localhost:8080/"
        },
        "outputId": "84a7e624-58d9-4168-c8b4-a52fe842d4c4"
      },
      "source": [
        "sns.countplot(x= 'government_institution_income', data=dataset, hue= 'good_bad')"
      ],
      "execution_count": null,
      "outputs": [
        {
          "output_type": "execute_result",
          "data": {
            "text/plain": [
              "<matplotlib.axes._subplots.AxesSubplot at 0x7fc4a95e5c90>"
            ]
          },
          "metadata": {},
          "execution_count": 16
        },
        {
          "output_type": "display_data",
          "data": {
            "image/png": "[encoded data removed]",
            "text/plain": [
              "<Figure size 432x288 with 1 Axes>"
            ]
          },
          "metadata": {
            "needs_background": "light"
          }
        }
      ]
    },
    {
      "cell_type": "markdown",
      "metadata": {
        "id": "ISuVIpm6JF80"
      },
      "source": [
        "# **2. Private_institution_income**"
      ]
    },
    {
      "cell_type": "code",
      "metadata": {
        "colab": {
          "base_uri": "https://localhost:8080/"
        },
        "id": "AM_2KXSeJRxq",
        "outputId": "0a4e2dbe-4109-4e31-b4f5-53da566424ab"
      },
      "source": [
        "dataset['private_institution_income'].unique()"
      ],
      "execution_count": null,
      "outputs": [
        {
          "output_type": "execute_result",
          "data": {
            "text/plain": [
              "array([     0,  31000,  35000, 150000,  30000,  25000,   7000,  20000,\n",
              "        70000,  15000,  12000,  18000,  60000,  90000, 120000,  80000,\n",
              "        10000,   4500,   6000,  72200, 110000,  12800,  45000,   7500,\n",
              "        50000,  55000, 140000,  65000, 570000,      1, 100000,  24000,\n",
              "        27000,  40000,  32000, 900000, 350000,  14400,  46000,  13000,\n",
              "        48000,  23000,   9000,   5000])"
            ]
          },
          "metadata": {},
          "execution_count": 17
        }
      ]
    },
    {
      "cell_type": "code",
      "metadata": {
        "colab": {
          "base_uri": "https://localhost:8080/"
        },
        "id": "crsiI--6JRxr",
        "outputId": "53bb6b17-521f-47ba-ab01-28493db21e64"
      },
      "source": [
        "dataset['private_institution_income'].describe()"
      ],
      "execution_count": null,
      "outputs": [
        {
          "output_type": "execute_result",
          "data": {
            "text/plain": [
              "count      5447.000000\n",
              "mean       1043.950982\n",
              "std       16859.452365\n",
              "min           0.000000\n",
              "25%           0.000000\n",
              "50%           0.000000\n",
              "75%           0.000000\n",
              "max      900000.000000\n",
              "Name: private_institution_income, dtype: float64"
            ]
          },
          "metadata": {},
          "execution_count": 18
        }
      ]
    },
    {
      "cell_type": "markdown",
      "metadata": {
        "id": "3j2PFmGDJRxs"
      },
      "source": [
        "5448 are zeros"
      ]
    },
    {
      "cell_type": "code",
      "metadata": {
        "colab": {
          "base_uri": "https://localhost:8080/"
        },
        "id": "0_PC3syXJRxt",
        "outputId": "ff91751a-2678-434c-f53e-b58df80ab3dc"
      },
      "source": [
        "#visualise ditribution\n",
        "sns.distplot(dataset['private_institution_income'])"
      ],
      "execution_count": null,
      "outputs": [
        {
          "output_type": "stream",
          "name": "stderr",
          "text": [
            "/usr/local/lib/python3.7/dist-packages/seaborn/distributions.py:2619: FutureWarning: `distplot` is a deprecated function and will be removed in a future version. Please adapt your code to use either `displot` (a figure-level function with similar flexibility) or `histplot` (an axes-level function for histograms).\n",
            "  warnings.warn(msg, FutureWarning)\n"
          ]
        },
        {
          "output_type": "execute_result",
          "data": {
            "text/plain": [
              "<matplotlib.axes._subplots.AxesSubplot at 0x7fc4a943ab50>"
            ]
          },
          "metadata": {},
          "execution_count": 19
        },
        {
          "output_type": "display_data",
          "data": {
            "image/png": "[encoded data removed]",
            "text/plain": [
              "<Figure size 432x288 with 1 Axes>"
            ]
          },
          "metadata": {
            "needs_background": "light"
          }
        }
      ]
    },
    {
      "cell_type": "code",
      "metadata": {
        "colab": {
          "base_uri": "https://localhost:8080/"
        },
        "id": "TGTa8ZKUJRxt",
        "outputId": "479c44a4-05b1-403b-c672-7520f17274bc"
      },
      "source": [
        "sns.countplot(x= 'private_institution_income', data=dataset, hue= 'good_bad')"
      ],
      "execution_count": null,
      "outputs": [
        {
          "output_type": "execute_result",
          "data": {
            "text/plain": [
              "<matplotlib.axes._subplots.AxesSubplot at 0x7fc4a934b890>"
            ]
          },
          "metadata": {},
          "execution_count": 20
        },
        {
          "output_type": "display_data",
          "data": {
            "image/png": "[encoded data removed]",
            "text/plain": [
              "<Figure size 432x288 with 1 Axes>"
            ]
          },
          "metadata": {
            "needs_background": "light"
          }
        }
      ]
    },
    {
      "cell_type": "markdown",
      "metadata": {
        "id": "SO-nhA5QJ3V5"
      },
      "source": [
        "# **3. Remittance_income**"
      ]
    },
    {
      "cell_type": "code",
      "metadata": {
        "colab": {
          "base_uri": "https://localhost:8080/"
        },
        "id": "Y14Nm-fbMHch",
        "outputId": "2c0da012-d6df-42f5-c630-a1b2c62dc904"
      },
      "source": [
        "dataset['remittance_income'].unique()"
      ],
      "execution_count": null,
      "outputs": [
        {
          "output_type": "execute_result",
          "data": {
            "text/plain": [
              "array([      0,   50000,   11200,   70000,   33000,   13500,    4500,\n",
              "        300000,    5000,   16300,   18000,  100000,   20000,   25000,\n",
              "         23000,   19000,   30000,   15000,   11400,    7000,  160000,\n",
              "        260000,   68100,   24000,   60000,   40000,   90000,   80000,\n",
              "         75000,    9000,   19500,   35000,   10000,    6000,  200000,\n",
              "       1000000,   53000,   11250,    1040,    4000,   52000,   10500,\n",
              "        118000,   41500,   21600,   32000,  127000,   46000])"
            ]
          },
          "metadata": {},
          "execution_count": 21
        }
      ]
    },
    {
      "cell_type": "code",
      "metadata": {
        "colab": {
          "base_uri": "https://localhost:8080/"
        },
        "id": "s_g0e8pxMHci",
        "outputId": "2f3334b4-38b4-486e-bd6b-c0f0fba07afb"
      },
      "source": [
        "dataset['remittance_income'].describe()"
      ],
      "execution_count": null,
      "outputs": [
        {
          "output_type": "execute_result",
          "data": {
            "text/plain": [
              "count       5447.000000\n",
              "mean         772.882321\n",
              "std        15761.282993\n",
              "min            0.000000\n",
              "25%            0.000000\n",
              "50%            0.000000\n",
              "75%            0.000000\n",
              "max      1000000.000000\n",
              "Name: remittance_income, dtype: float64"
            ]
          },
          "metadata": {},
          "execution_count": 22
        }
      ]
    },
    {
      "cell_type": "markdown",
      "metadata": {
        "id": "hRssPJBEMHci"
      },
      "source": [
        "5373 are zeros"
      ]
    },
    {
      "cell_type": "code",
      "metadata": {
        "colab": {
          "base_uri": "https://localhost:8080/"
        },
        "id": "6MjD-fvQMHcj",
        "outputId": "0dab1e78-a1f4-4584-82a3-547cd642096f"
      },
      "source": [
        "#visualise ditribution\n",
        "sns.distplot(dataset['remittance_income'])"
      ],
      "execution_count": null,
      "outputs": [
        {
          "output_type": "stream",
          "name": "stderr",
          "text": [
            "/usr/local/lib/python3.7/dist-packages/seaborn/distributions.py:2619: FutureWarning: `distplot` is a deprecated function and will be removed in a future version. Please adapt your code to use either `displot` (a figure-level function with similar flexibility) or `histplot` (an axes-level function for histograms).\n",
            "  warnings.warn(msg, FutureWarning)\n"
          ]
        },
        {
          "output_type": "execute_result",
          "data": {
            "text/plain": [
              "<matplotlib.axes._subplots.AxesSubplot at 0x7fc4a9119090>"
            ]
          },
          "metadata": {},
          "execution_count": 23
        },
        {
          "output_type": "display_data",
          "data": {
            "image/png": "[encoded data removed]",
            "text/plain": [
              "<Figure size 432x288 with 1 Axes>"
            ]
          },
          "metadata": {
            "needs_background": "light"
          }
        }
      ]
    },
    {
      "cell_type": "code",
      "metadata": {
        "colab": {
          "base_uri": "https://localhost:8080/"
        },
        "id": "2fk2JsZYMHcj",
        "outputId": "190cdc49-a1ac-4602-9c03-154acfdae71e"
      },
      "source": [
        "sns.countplot(x= 'remittance_income', data=dataset, hue= 'good_bad')"
      ],
      "execution_count": null,
      "outputs": [
        {
          "output_type": "execute_result",
          "data": {
            "text/plain": [
              "<matplotlib.axes._subplots.AxesSubplot at 0x7fc4a9ac3090>"
            ]
          },
          "metadata": {},
          "execution_count": 24
        },
        {
          "output_type": "display_data",
          "data": {
            "image/png": "[encoded data removed]",
            "text/plain": [
              "<Figure size 432x288 with 1 Axes>"
            ]
          },
          "metadata": {
            "needs_background": "light"
          }
        }
      ]
    },
    {
      "cell_type": "markdown",
      "metadata": {
        "id": "1XgUekTsJ-qE"
      },
      "source": [
        "# **4. Agricutural_income**"
      ]
    },
    {
      "cell_type": "code",
      "metadata": {
        "colab": {
          "base_uri": "https://localhost:8080/"
        },
        "id": "CbXgbbrDMm8p",
        "outputId": "25344b9a-a3b4-4136-95ba-b8a60a6c5847"
      },
      "source": [
        "dataset['agricultural_income'].unique()"
      ],
      "execution_count": null,
      "outputs": [
        {
          "output_type": "execute_result",
          "data": {
            "text/plain": [
              "array([0])"
            ]
          },
          "metadata": {},
          "execution_count": 25
        }
      ]
    },
    {
      "cell_type": "code",
      "metadata": {
        "colab": {
          "base_uri": "https://localhost:8080/"
        },
        "id": "br_7hxCtMm8q",
        "outputId": "17a6ebac-6e7f-442f-80f2-f9b3d678480f"
      },
      "source": [
        "dataset['agricultural_income'].describe()"
      ],
      "execution_count": null,
      "outputs": [
        {
          "output_type": "execute_result",
          "data": {
            "text/plain": [
              "count    5447.0\n",
              "mean        0.0\n",
              "std         0.0\n",
              "min         0.0\n",
              "25%         0.0\n",
              "50%         0.0\n",
              "75%         0.0\n",
              "max         0.0\n",
              "Name: agricultural_income, dtype: float64"
            ]
          },
          "metadata": {},
          "execution_count": 26
        }
      ]
    },
    {
      "cell_type": "markdown",
      "metadata": {
        "id": "qcEb_i5xMm8q"
      },
      "source": [
        "5447 are zeros"
      ]
    },
    {
      "cell_type": "code",
      "metadata": {
        "colab": {
          "base_uri": "https://localhost:8080/"
        },
        "id": "ILJwOAKSMm8r",
        "outputId": "7b6ff9c8-d314-4daf-8852-a5c5a169d93a"
      },
      "source": [
        "#visualise ditribution\n",
        "sns.distplot(dataset['agricultural_income'])"
      ],
      "execution_count": null,
      "outputs": [
        {
          "output_type": "stream",
          "name": "stderr",
          "text": [
            "/usr/local/lib/python3.7/dist-packages/seaborn/distributions.py:2619: FutureWarning: `distplot` is a deprecated function and will be removed in a future version. Please adapt your code to use either `displot` (a figure-level function with similar flexibility) or `histplot` (an axes-level function for histograms).\n",
            "  warnings.warn(msg, FutureWarning)\n",
            "/usr/local/lib/python3.7/dist-packages/seaborn/distributions.py:316: UserWarning: Dataset has 0 variance; skipping density estimate. Pass `warn_singular=False` to disable this warning.\n",
            "  warnings.warn(msg, UserWarning)\n"
          ]
        },
        {
          "output_type": "execute_result",
          "data": {
            "text/plain": [
              "<matplotlib.axes._subplots.AxesSubplot at 0x7fc4a8e84dd0>"
            ]
          },
          "metadata": {},
          "execution_count": 27
        },
        {
          "output_type": "display_data",
          "data": {
            "image/png": "[encoded data removed]",
            "text/plain": [
              "<Figure size 432x288 with 1 Axes>"
            ]
          },
          "metadata": {
            "needs_background": "light"
          }
        }
      ]
    },
    {
      "cell_type": "code",
      "metadata": {
        "colab": {
          "base_uri": "https://localhost:8080/"
        },
        "id": "od1i9-RxMm8r",
        "outputId": "15c3656c-2e73-4171-b12b-f334352fa31c"
      },
      "source": [
        "sns.countplot(x= 'agricultural_income', data=dataset, hue= 'good_bad')"
      ],
      "execution_count": null,
      "outputs": [
        {
          "output_type": "execute_result",
          "data": {
            "text/plain": [
              "<matplotlib.axes._subplots.AxesSubplot at 0x7fc4a8d5f810>"
            ]
          },
          "metadata": {},
          "execution_count": 28
        },
        {
          "output_type": "display_data",
          "data": {
            "image/png": "[encoded data removed]",
            "text/plain": [
              "<Figure size 432x288 with 1 Axes>"
            ]
          },
          "metadata": {
            "needs_background": "light"
          }
        }
      ]
    },
    {
      "cell_type": "markdown",
      "metadata": {
        "id": "yIXeUYz-LVJY"
      },
      "source": [
        "# **5. Service_provision_income**"
      ]
    },
    {
      "cell_type": "code",
      "metadata": {
        "colab": {
          "base_uri": "https://localhost:8080/"
        },
        "id": "o5W-v1WANmWB",
        "outputId": "0333897d-a698-43e5-a371-666ea807a359"
      },
      "source": [
        "dataset['service_provision_income'].unique()"
      ],
      "execution_count": null,
      "outputs": [
        {
          "output_type": "execute_result",
          "data": {
            "text/plain": [
              "array([     0,   7000,  15000,  30000,   2000,  24000,   5000, 180000,\n",
              "        21000,  90000, 100000,  36000,   6000,  50000,  10000,  12000,\n",
              "        60000,  20000,  70000,  40000,  18000,  25000,   9000,   3000,\n",
              "        11000,  14000,   4000,  80000,  16800,   3500,  13000,  45000,\n",
              "        19200,   7200, 450000,  67500, 300000, 133500,  32000,   8000])"
            ]
          },
          "metadata": {},
          "execution_count": 29
        }
      ]
    },
    {
      "cell_type": "code",
      "metadata": {
        "colab": {
          "base_uri": "https://localhost:8080/"
        },
        "id": "zSoVMIcSNmWB",
        "outputId": "16f2c410-abaf-45bb-b688-b0c35129a3f9"
      },
      "source": [
        "dataset['service_provision_income'].describe()"
      ],
      "execution_count": null,
      "outputs": [
        {
          "output_type": "execute_result",
          "data": {
            "text/plain": [
              "count      5447.000000\n",
              "mean        752.689554\n",
              "std        9828.574347\n",
              "min           0.000000\n",
              "25%           0.000000\n",
              "50%           0.000000\n",
              "75%           0.000000\n",
              "max      450000.000000\n",
              "Name: service_provision_income, dtype: float64"
            ]
          },
          "metadata": {},
          "execution_count": 30
        }
      ]
    },
    {
      "cell_type": "markdown",
      "metadata": {
        "id": "YIwb8mXNNmWB"
      },
      "source": [
        "5348 are zeros"
      ]
    },
    {
      "cell_type": "code",
      "metadata": {
        "colab": {
          "base_uri": "https://localhost:8080/"
        },
        "id": "Xi3xf6j6NmWB",
        "outputId": "dddff920-2613-4c04-fcaf-17a960cb2cf8"
      },
      "source": [
        "#visualise ditribution\n",
        "sns.distplot(dataset['service_provision_income'])"
      ],
      "execution_count": null,
      "outputs": [
        {
          "output_type": "stream",
          "name": "stderr",
          "text": [
            "/usr/local/lib/python3.7/dist-packages/seaborn/distributions.py:2619: FutureWarning: `distplot` is a deprecated function and will be removed in a future version. Please adapt your code to use either `displot` (a figure-level function with similar flexibility) or `histplot` (an axes-level function for histograms).\n",
            "  warnings.warn(msg, FutureWarning)\n"
          ]
        },
        {
          "output_type": "execute_result",
          "data": {
            "text/plain": [
              "<matplotlib.axes._subplots.AxesSubplot at 0x7fc4a8d41b50>"
            ]
          },
          "metadata": {},
          "execution_count": 31
        },
        {
          "output_type": "display_data",
          "data": {
            "image/png": "[encoded data removed]",
            "text/plain": [
              "<Figure size 432x288 with 1 Axes>"
            ]
          },
          "metadata": {
            "needs_background": "light"
          }
        }
      ]
    },
    {
      "cell_type": "code",
      "metadata": {
        "colab": {
          "base_uri": "https://localhost:8080/"
        },
        "id": "A34-nHgPNmWC",
        "outputId": "f0e3f5a0-6a91-405a-af14-f5cd72353043"
      },
      "source": [
        "sns.countplot(x= 'service_provision_income', data=dataset, hue= 'good_bad')"
      ],
      "execution_count": null,
      "outputs": [
        {
          "output_type": "execute_result",
          "data": {
            "text/plain": [
              "<matplotlib.axes._subplots.AxesSubplot at 0x7fc4a8bf1910>"
            ]
          },
          "metadata": {},
          "execution_count": 32
        },
        {
          "output_type": "display_data",
          "data": {
            "image/png": "[encoded data removed]",
            "text/plain": [
              "<Figure size 432x288 with 1 Axes>"
            ]
          },
          "metadata": {
            "needs_background": "light"
          }
        }
      ]
    },
    {
      "cell_type": "markdown",
      "metadata": {
        "id": "ds8MPlVZKH7E"
      },
      "source": [
        "# **6. Commercial_trade_income**"
      ]
    },
    {
      "cell_type": "code",
      "metadata": {
        "colab": {
          "base_uri": "https://localhost:8080/"
        },
        "id": "GiPbwRhNN-DY",
        "outputId": "93e6950f-5175-4df4-a0db-f0dc35491c61"
      },
      "source": [
        "dataset['commericial_trade_income'].unique()"
      ],
      "execution_count": null,
      "outputs": [
        {
          "output_type": "execute_result",
          "data": {
            "text/plain": [
              "array([       0,     9000,    50000,    21000,    42000,       40,\n",
              "         200000,    12500,    52000,    60000,   100000,    10000,\n",
              "          30000,   170000,    26000,    95000,    15000,    80000,\n",
              "          20000,    33400,     5250,     9600,   120000,     5000,\n",
              "          40000,     6600,    73500,    18000,    22000,    25000,\n",
              "          58900,     5800,     6000,    16000,     4000,     8000,\n",
              "          70000,   340000,     3000,    27000,    24000,    12000,\n",
              "          14400,     7000,    48000,     4700,   210500,   500000,\n",
              "         850500,    14000,    45000,     2000,    56750,    51000,\n",
              "         360000,   160000,    72000,    36000,    45600,    17000,\n",
              "          21300,     7200,    32000,    13500,    55000,    35000,\n",
              "          24800,     1000,   870000,    42500,    40335,    13000,\n",
              "         150000,     1500,    12660,   110000,   450000, 20000000,\n",
              "           5400,    11000,   300000,     8050,    46000,    61500,\n",
              "          87500,   105000,    56000,    39000,    27200,    38000,\n",
              "          22500,    65000,     3600,    14800,    90000,    59000,\n",
              "        1000000,   135000,    19200,     7500,     8400,   167000,\n",
              "           4800,   700000,    45900,    10500,    19998,    75000,\n",
              "        2000000,    58000,    89000])"
            ]
          },
          "metadata": {},
          "execution_count": 33
        }
      ]
    },
    {
      "cell_type": "code",
      "metadata": {
        "colab": {
          "base_uri": "https://localhost:8080/"
        },
        "id": "K9mOPVTyzw8z",
        "outputId": "ec80c3d5-58af-4471-adcb-2df8aa7d335a"
      },
      "source": [
        "# check value count for the unique values\n",
        "pension_df = pd.DataFrame(dataset['commericial_trade_income'].value_counts().reset_index().values, columns=['Categories','Aggregate Sum'])\n",
        "pension_df['% of Total'] = pension_df['Aggregate Sum'] / len(dataset) * 100\n",
        "pension_df.head(10)"
      ],
      "execution_count": null,
      "outputs": [
        {
          "output_type": "execute_result",
          "data": {
            "text/html": [
              "<div>\n",
              "<style scoped>\n",
              "    .dataframe tbody tr th:only-of-type {\n",
              "        vertical-align: middle;\n",
              "    }\n",
              "\n",
              "    .dataframe tbody tr th {\n",
              "        vertical-align: top;\n",
              "    }\n",
              "\n",
              "    .dataframe thead th {\n",
              "        text-align: right;\n",
              "    }\n",
              "</style>\n",
              "<table border=\"1\" class=\"dataframe\">\n",
              "  <thead>\n",
              "    <tr style=\"text-align: right;\">\n",
              "      <th></th>\n",
              "      <th>Categories</th>\n",
              "      <th>Aggregate Sum</th>\n",
              "      <th>% of Total</th>\n",
              "    </tr>\n",
              "  </thead>\n",
              "  <tbody>\n",
              "    <tr>\n",
              "      <th>0</th>\n",
              "      <td>0</td>\n",
              "      <td>4823</td>\n",
              "      <td>88.544153</td>\n",
              "    </tr>\n",
              "    <tr>\n",
              "      <th>1</th>\n",
              "      <td>20000</td>\n",
              "      <td>62</td>\n",
              "      <td>1.138241</td>\n",
              "    </tr>\n",
              "    <tr>\n",
              "      <th>2</th>\n",
              "      <td>15000</td>\n",
              "      <td>60</td>\n",
              "      <td>1.101524</td>\n",
              "    </tr>\n",
              "    <tr>\n",
              "      <th>3</th>\n",
              "      <td>10000</td>\n",
              "      <td>53</td>\n",
              "      <td>0.973013</td>\n",
              "    </tr>\n",
              "    <tr>\n",
              "      <th>4</th>\n",
              "      <td>30000</td>\n",
              "      <td>47</td>\n",
              "      <td>0.862860</td>\n",
              "    </tr>\n",
              "    <tr>\n",
              "      <th>5</th>\n",
              "      <td>50000</td>\n",
              "      <td>35</td>\n",
              "      <td>0.642556</td>\n",
              "    </tr>\n",
              "    <tr>\n",
              "      <th>6</th>\n",
              "      <td>40000</td>\n",
              "      <td>20</td>\n",
              "      <td>0.367175</td>\n",
              "    </tr>\n",
              "    <tr>\n",
              "      <th>7</th>\n",
              "      <td>9000</td>\n",
              "      <td>20</td>\n",
              "      <td>0.367175</td>\n",
              "    </tr>\n",
              "    <tr>\n",
              "      <th>8</th>\n",
              "      <td>60000</td>\n",
              "      <td>20</td>\n",
              "      <td>0.367175</td>\n",
              "    </tr>\n",
              "    <tr>\n",
              "      <th>9</th>\n",
              "      <td>6000</td>\n",
              "      <td>19</td>\n",
              "      <td>0.348816</td>\n",
              "    </tr>\n",
              "  </tbody>\n",
              "</table>\n",
              "</div>"
            ],
            "text/plain": [
              "   Categories  Aggregate Sum  % of Total\n",
              "0           0           4823   88.544153\n",
              "1       20000             62    1.138241\n",
              "2       15000             60    1.101524\n",
              "3       10000             53    0.973013\n",
              "4       30000             47    0.862860\n",
              "5       50000             35    0.642556\n",
              "6       40000             20    0.367175\n",
              "7        9000             20    0.367175\n",
              "8       60000             20    0.367175\n",
              "9        6000             19    0.348816"
            ]
          },
          "metadata": {},
          "execution_count": 34
        }
      ]
    },
    {
      "cell_type": "code",
      "metadata": {
        "colab": {
          "base_uri": "https://localhost:8080/"
        },
        "id": "UdpTZrYnN-DZ",
        "outputId": "cbc25bec-c61f-4663-e808-13b175e578f7"
      },
      "source": [
        "dataset['commericial_trade_income'].describe()"
      ],
      "execution_count": null,
      "outputs": [
        {
          "output_type": "execute_result",
          "data": {
            "text/plain": [
              "count    5.447000e+03\n",
              "mean     8.917851e+03\n",
              "std      2.743317e+05\n",
              "min      0.000000e+00\n",
              "25%      0.000000e+00\n",
              "50%      0.000000e+00\n",
              "75%      0.000000e+00\n",
              "max      2.000000e+07\n",
              "Name: commericial_trade_income, dtype: float64"
            ]
          },
          "metadata": {},
          "execution_count": 35
        }
      ]
    },
    {
      "cell_type": "markdown",
      "metadata": {
        "id": "SBpmtCr_N-DZ"
      },
      "source": [
        "4823 are zeros"
      ]
    },
    {
      "cell_type": "code",
      "metadata": {
        "colab": {
          "base_uri": "https://localhost:8080/"
        },
        "id": "rw9txIMtN-DZ",
        "outputId": "ecf552ef-90a3-449e-abba-26caa79bed0d"
      },
      "source": [
        "#visualise ditribution\n",
        "sns.distplot(dataset['commericial_trade_income'])"
      ],
      "execution_count": null,
      "outputs": [
        {
          "output_type": "stream",
          "name": "stderr",
          "text": [
            "/usr/local/lib/python3.7/dist-packages/seaborn/distributions.py:2619: FutureWarning: `distplot` is a deprecated function and will be removed in a future version. Please adapt your code to use either `displot` (a figure-level function with similar flexibility) or `histplot` (an axes-level function for histograms).\n",
            "  warnings.warn(msg, FutureWarning)\n"
          ]
        },
        {
          "output_type": "execute_result",
          "data": {
            "text/plain": [
              "<matplotlib.axes._subplots.AxesSubplot at 0x7fc4a8c48390>"
            ]
          },
          "metadata": {},
          "execution_count": 36
        },
        {
          "output_type": "display_data",
          "data": {
            "image/png": "[encoded data removed]",
            "text/plain": [
              "<Figure size 432x288 with 1 Axes>"
            ]
          },
          "metadata": {
            "needs_background": "light"
          }
        }
      ]
    },
    {
      "cell_type": "code",
      "metadata": {
        "colab": {
          "base_uri": "https://localhost:8080/"
        },
        "id": "KOe9aNsJN-DZ",
        "outputId": "ba139dd4-08ed-4156-8441-f6f01e4af7ef"
      },
      "source": [
        "sns.countplot(x= 'commericial_trade_income', data=dataset, hue= 'good_bad')"
      ],
      "execution_count": null,
      "outputs": [
        {
          "output_type": "execute_result",
          "data": {
            "text/plain": [
              "<matplotlib.axes._subplots.AxesSubplot at 0x7fc4a88af650>"
            ]
          },
          "metadata": {},
          "execution_count": 37
        },
        {
          "output_type": "display_data",
          "data": {
            "image/png": "[encoded data removed]",
            "text/plain": [
              "<Figure size 432x288 with 1 Axes>"
            ]
          },
          "metadata": {
            "needs_background": "light"
          }
        }
      ]
    },
    {
      "cell_type": "markdown",
      "metadata": {
        "id": "WaJUCFvkKYEm"
      },
      "source": [
        "# **7. Frequent_monthly_expense**"
      ]
    },
    {
      "cell_type": "code",
      "metadata": {
        "colab": {
          "base_uri": "https://localhost:8080/"
        },
        "id": "29cSwZqcOm4Z",
        "outputId": "c4b05053-f634-4ff0-f302-5cd342267a86"
      },
      "source": [
        "dataset['frequent_monthly_expense'].unique()"
      ],
      "execution_count": null,
      "outputs": [
        {
          "output_type": "execute_result",
          "data": {
            "text/plain": [
              "array(['Food , Other', 'Other', 'Food , Farm inputs',\n",
              "       'School fees , Food', 'Food', 'Food , Loans , Other',\n",
              "       'Food , Farm inputs , Rent', 'Farm inputs', 'Food , Loans',\n",
              "       'Food , Farm inputs , Loans', 'School fees , Food , Loans',\n",
              "       'School fees', 'School fees , Food , Farm inputs',\n",
              "       'Food , Farm inputs , Other',\n",
              "       'School fees , Food , Clothing , Farm inputs',\n",
              "       'School fees , Food , Rent , Other', 'Rent',\n",
              "       'Food , Clothing , Farm inputs , Other',\n",
              "       'School fees , Food , Other', 'School fees , Loans',\n",
              "       'School fees , Food , Farm inputs , Rent , Loans', 'Food , Rent',\n",
              "       'Food , Rent , Loans , Other', 'School fees , Other',\n",
              "       'Rent , Other', 'Farm inputs , Other',\n",
              "       'School fees , Food , Loans , Other',\n",
              "       'School fees , Food , Farm inputs , Rent', 'Food , Rent , Other',\n",
              "       'School fees , Food , Rent', 'School fees , Farm inputs',\n",
              "       'School fees , Food , Farm inputs , Loans',\n",
              "       'School fees , Food , Clothing , Loans',\n",
              "       'Farm inputs , Rent , Other', 'Loans , Other',\n",
              "       'School fees , Farm inputs , Loans , Other',\n",
              "       'Food , Clothing , Other', '0', 'Farm inputs , Loans',\n",
              "       'Farm inputs , Rent', 'Loans', 'Food , Clothing , Rent',\n",
              "       'School fees , Food , Clothing , Farm inputs , Loans',\n",
              "       'Food , Clothing', 'Food , Rent , Loans',\n",
              "       'Food , Farm inputs , Rent , Loans',\n",
              "       'School fees , Food , Farm inputs , Other',\n",
              "       'Food , Farm inputs , Rent , Other',\n",
              "       'Food , Farm inputs , Rent , Loans , Other',\n",
              "       'School fees , Food , Clothing , Other',\n",
              "       'School fees , Food , Other  , Other',\n",
              "       'Food , Farm inputs , Loans , Other',\n",
              "       'School fees , Farm inputs , Loans',\n",
              "       'School fees , Food , Rent , Loans',\n",
              "       'School fees , Food , Farm inputs , Rent , Other',\n",
              "       'School fees , Clothing , Other', 'School fees , Rent',\n",
              "       'Food , Other  , Other',\n",
              "       'School fees , Farm inputs , Rent , Loans',\n",
              "       'Food , Farm inputs , Loans , Other  , Other',\n",
              "       'Food , Clothing , Farm inputs',\n",
              "       'School fees , Food , Rent , Loans , Other',\n",
              "       'School fees , Food , Clothing , Farm inputs , Other',\n",
              "       'School fees , Food , Farm inputs , Loans , Other',\n",
              "       'School fees , Farm inputs , Other',\n",
              "       'School fees , Farm inputs , Rent',\n",
              "       'School fees , Food , Clothing , Rent , Other',\n",
              "       'Farm inputs , Rent , Loans', 'Rent , Loans , Other',\n",
              "       'School fees , Food , Clothing , Farm inputs , Rent',\n",
              "       'School fees , Rent , Other', 'Food , Clothing , Loans',\n",
              "       'Food , Clothing , Rent , Other', 'Farm inputs , Loans , Other',\n",
              "       'Clothing , Other', 'School fees , Food , Clothing',\n",
              "       'Food , Clothing , Farm inputs , Loans , Other'], dtype=object)"
            ]
          },
          "metadata": {},
          "execution_count": 38
        }
      ]
    },
    {
      "cell_type": "code",
      "metadata": {
        "colab": {
          "base_uri": "https://localhost:8080/"
        },
        "id": "T1iXu2BgOm4a",
        "outputId": "406bc3bd-4de0-4994-fd91-60a49fff3e7f"
      },
      "source": [
        "dataset['frequent_monthly_expense'].describe()"
      ],
      "execution_count": null,
      "outputs": [
        {
          "output_type": "execute_result",
          "data": {
            "text/plain": [
              "count      5447\n",
              "unique       77\n",
              "top       Other\n",
              "freq       1466\n",
              "Name: frequent_monthly_expense, dtype: object"
            ]
          },
          "metadata": {},
          "execution_count": 39
        }
      ]
    },
    {
      "cell_type": "code",
      "metadata": {
        "id": "AS69o3EoOm4a"
      },
      "source": [
        "#visualise ditribution\n",
        "#sns.distplot(dataset['frequent_monthly_expense'])"
      ],
      "execution_count": null,
      "outputs": []
    },
    {
      "cell_type": "code",
      "metadata": {
        "colab": {
          "base_uri": "https://localhost:8080/"
        },
        "id": "YiMisoHgOm4b",
        "outputId": "831c21b9-7a45-4932-d803-568cfcccd0b4"
      },
      "source": [
        "sns.countplot(x= 'frequent_monthly_expense', data=dataset, hue= 'good_bad')"
      ],
      "execution_count": null,
      "outputs": [
        {
          "output_type": "execute_result",
          "data": {
            "text/plain": [
              "<matplotlib.axes._subplots.AxesSubplot at 0x7fc4a84bf5d0>"
            ]
          },
          "metadata": {},
          "execution_count": 41
        },
        {
          "output_type": "display_data",
          "data": {
            "image/png": "[encoded data removed]",
            "text/plain": [
              "<Figure size 432x288 with 1 Axes>"
            ]
          },
          "metadata": {
            "needs_background": "light"
          }
        }
      ]
    },
    {
      "cell_type": "markdown",
      "metadata": {
        "id": "d-aOKWAWKgFs"
      },
      "source": [
        "# **8. Number of loans**"
      ]
    },
    {
      "cell_type": "code",
      "metadata": {
        "colab": {
          "base_uri": "https://localhost:8080/"
        },
        "id": "lL3LsejKPfPu",
        "outputId": "81d9452d-7877-4668-f1e3-122b483d9d04"
      },
      "source": [
        "dataset['number_of_loans'].unique()"
      ],
      "execution_count": null,
      "outputs": [
        {
          "output_type": "execute_result",
          "data": {
            "text/plain": [
              "array(['0 loans', '1 loan', '2-3 loans', 'More than 4 loans'],\n",
              "      dtype=object)"
            ]
          },
          "metadata": {},
          "execution_count": 42
        }
      ]
    },
    {
      "cell_type": "code",
      "metadata": {
        "colab": {
          "base_uri": "https://localhost:8080/"
        },
        "id": "jsWTgBNtPfPv",
        "outputId": "35ef4358-cc01-4012-b775-d77be23931be"
      },
      "source": [
        "dataset['number_of_loans'].describe()"
      ],
      "execution_count": null,
      "outputs": [
        {
          "output_type": "execute_result",
          "data": {
            "text/plain": [
              "count        5447\n",
              "unique          4\n",
              "top       0 loans\n",
              "freq         3115\n",
              "Name: number_of_loans, dtype: object"
            ]
          },
          "metadata": {},
          "execution_count": 43
        }
      ]
    },
    {
      "cell_type": "code",
      "metadata": {
        "colab": {
          "base_uri": "https://localhost:8080/"
        },
        "id": "zyxXhG1z5QSA",
        "outputId": "c3b9155c-a6d6-4487-894e-0ca028e4a47b"
      },
      "source": [
        "dataset['number_of_loans'].value_counts()"
      ],
      "execution_count": null,
      "outputs": [
        {
          "output_type": "execute_result",
          "data": {
            "text/plain": [
              "0 loans              3115\n",
              "1 loan               1763\n",
              "2-3 loans             537\n",
              "More than 4 loans      32\n",
              "Name: number_of_loans, dtype: int64"
            ]
          },
          "metadata": {},
          "execution_count": 44
        }
      ]
    },
    {
      "cell_type": "markdown",
      "metadata": {
        "id": "OMsoi5hqPfPv"
      },
      "source": [
        "3674 are 0-loans"
      ]
    },
    {
      "cell_type": "code",
      "metadata": {
        "id": "Z-k8nR0KPfPv"
      },
      "source": [
        "#visualise ditribution\n",
        "#sns.distplot(dataset['number_of_loans'])"
      ],
      "execution_count": null,
      "outputs": []
    },
    {
      "cell_type": "code",
      "metadata": {
        "colab": {
          "base_uri": "https://localhost:8080/"
        },
        "id": "_IZq_WI5PfPw",
        "outputId": "2fbff9fb-b2f4-4b65-e9fc-124550250a1f"
      },
      "source": [
        "sns.countplot(x= 'number_of_loans', data=dataset, hue= 'good_bad')"
      ],
      "execution_count": null,
      "outputs": [
        {
          "output_type": "execute_result",
          "data": {
            "text/plain": [
              "<matplotlib.axes._subplots.AxesSubplot at 0x7fc4a81e5110>"
            ]
          },
          "metadata": {},
          "execution_count": 46
        },
        {
          "output_type": "display_data",
          "data": {
            "image/png": "[encoded data removed]",
            "text/plain": [
              "<Figure size 432x288 with 1 Axes>"
            ]
          },
          "metadata": {
            "needs_background": "light"
          }
        }
      ]
    },
    {
      "cell_type": "markdown",
      "metadata": {
        "id": "sGgHenI4KstP"
      },
      "source": [
        "# **9. Number of outstanding loans**"
      ]
    },
    {
      "cell_type": "code",
      "metadata": {
        "colab": {
          "base_uri": "https://localhost:8080/"
        },
        "id": "SGu4eK3ZQhIv",
        "outputId": "1964e26c-4bd8-4171-bcf0-d59ae35e7a83"
      },
      "source": [
        "dataset['number_of_outstanding_loans'].unique()"
      ],
      "execution_count": null,
      "outputs": [
        {
          "output_type": "execute_result",
          "data": {
            "text/plain": [
              "array(['0 loans', '1 loan', '2-3 loans', 'More than 4 loans'],\n",
              "      dtype=object)"
            ]
          },
          "metadata": {},
          "execution_count": 47
        }
      ]
    },
    {
      "cell_type": "code",
      "metadata": {
        "colab": {
          "base_uri": "https://localhost:8080/"
        },
        "id": "1R_fmYohQhIw",
        "outputId": "bf426934-3b09-4219-a17d-bc82494a3a21"
      },
      "source": [
        "dataset['number_of_outstanding_loans'].describe()"
      ],
      "execution_count": null,
      "outputs": [
        {
          "output_type": "execute_result",
          "data": {
            "text/plain": [
              "count        5447\n",
              "unique          4\n",
              "top       0 loans\n",
              "freq         3674\n",
              "Name: number_of_outstanding_loans, dtype: object"
            ]
          },
          "metadata": {},
          "execution_count": 48
        }
      ]
    },
    {
      "cell_type": "markdown",
      "metadata": {
        "id": "CjiosLBYQhIw"
      },
      "source": [
        "3674 are 0-loans"
      ]
    },
    {
      "cell_type": "code",
      "metadata": {
        "id": "B1Pg8bjjQhIw"
      },
      "source": [
        "#visualise ditribution\n",
        "#sns.distplot(dataset['number_of_loans'])"
      ],
      "execution_count": null,
      "outputs": []
    },
    {
      "cell_type": "code",
      "metadata": {
        "colab": {
          "base_uri": "https://localhost:8080/"
        },
        "id": "rQiA3DGQQhIw",
        "outputId": "eec7bd07-d5ca-47c1-e2b7-ed2ed8a41e13"
      },
      "source": [
        "sns.countplot(x= 'number_of_outstanding_loans', data=dataset, hue= 'good_bad')"
      ],
      "execution_count": null,
      "outputs": [
        {
          "output_type": "execute_result",
          "data": {
            "text/plain": [
              "<matplotlib.axes._subplots.AxesSubplot at 0x7fc4a815cf50>"
            ]
          },
          "metadata": {},
          "execution_count": 50
        },
        {
          "output_type": "display_data",
          "data": {
            "image/png": "[encoded data removed]",
            "text/plain": [
              "<Figure size 432x288 with 1 Axes>"
            ]
          },
          "metadata": {
            "needs_background": "light"
          }
        }
      ]
    },
    {
      "cell_type": "markdown",
      "metadata": {
        "id": "EprEW_byK4s1"
      },
      "source": [
        "# **10. Remaining_payment_months**"
      ]
    },
    {
      "cell_type": "code",
      "metadata": {
        "colab": {
          "base_uri": "https://localhost:8080/"
        },
        "id": "UEY4MqMmQ1Me",
        "outputId": "59c7ccd3-1c08-4cfd-a7aa-f9824f495968"
      },
      "source": [
        "dataset['remaining_payment_months'].unique()"
      ],
      "execution_count": null,
      "outputs": [
        {
          "output_type": "execute_result",
          "data": {
            "text/plain": [
              "array([      0,       1,      36,      12,       3,      48,      18,\n",
              "            24,      20,      14,       6,       5,      72,      76,\n",
              "             2,      11,      25,      10,      31,       7,      53,\n",
              "            60,      40,       4,      68,      50,      56,      16,\n",
              "            13,       8,      32,       9,      84,      52,      17,\n",
              "            30,      15,      29,      21,      22,      80,      54,\n",
              "            73,      28,      58,     108,      88,      42,   20000,\n",
              "            66,     336,     240,     100,      49,      35,   15000,\n",
              "       1500000,     180,      98,      75,      45,      37,   10000,\n",
              "           120,      -4,      38,      57,     134,   47265,      19,\n",
              "            26,      70,    2025,      46,  283331,      34,      27,\n",
              "            -1,      43,  390000,   22000,     144,  100000,   12000,\n",
              "           168,      39,     200,      23,      33,   40000,   33000,\n",
              "            44,      96,   24000,      51,    7000,      83,   14500,\n",
              "         75000, 1800000,      90,      47,     150,      78,    4600,\n",
              "         37000,   16000, 4260000,    5000,   13000, 1200000,    9000,\n",
              "        180000,   31000])"
            ]
          },
          "metadata": {},
          "execution_count": 51
        }
      ]
    },
    {
      "cell_type": "code",
      "metadata": {
        "colab": {
          "base_uri": "https://localhost:8080/"
        },
        "id": "OOKOQZSa1Qov",
        "outputId": "10c0a7c2-3228-44d9-b625-e0741ee9a3d0"
      },
      "source": [
        "df = dataset[['remaining_payment_months', 'total_outstanding_loan_amount']]\n",
        "df.sample(30)"
      ],
      "execution_count": null,
      "outputs": [
        {
          "output_type": "execute_result",
          "data": {
            "text/html": [
              "<div>\n",
              "<style scoped>\n",
              "    .dataframe tbody tr th:only-of-type {\n",
              "        vertical-align: middle;\n",
              "    }\n",
              "\n",
              "    .dataframe tbody tr th {\n",
              "        vertical-align: top;\n",
              "    }\n",
              "\n",
              "    .dataframe thead th {\n",
              "        text-align: right;\n",
              "    }\n",
              "</style>\n",
              "<table border=\"1\" class=\"dataframe\">\n",
              "  <thead>\n",
              "    <tr style=\"text-align: right;\">\n",
              "      <th></th>\n",
              "      <th>remaining_payment_months</th>\n",
              "      <th>total_outstanding_loan_amount</th>\n",
              "    </tr>\n",
              "  </thead>\n",
              "  <tbody>\n",
              "    <tr>\n",
              "      <th>1291</th>\n",
              "      <td>0</td>\n",
              "      <td>0</td>\n",
              "    </tr>\n",
              "    <tr>\n",
              "      <th>2979</th>\n",
              "      <td>0</td>\n",
              "      <td>0</td>\n",
              "    </tr>\n",
              "    <tr>\n",
              "      <th>236</th>\n",
              "      <td>0</td>\n",
              "      <td>0</td>\n",
              "    </tr>\n",
              "    <tr>\n",
              "      <th>5370</th>\n",
              "      <td>0</td>\n",
              "      <td>0</td>\n",
              "    </tr>\n",
              "    <tr>\n",
              "      <th>1371</th>\n",
              "      <td>0</td>\n",
              "      <td>0</td>\n",
              "    </tr>\n",
              "    <tr>\n",
              "      <th>4220</th>\n",
              "      <td>0</td>\n",
              "      <td>0</td>\n",
              "    </tr>\n",
              "    <tr>\n",
              "      <th>820</th>\n",
              "      <td>0</td>\n",
              "      <td>0</td>\n",
              "    </tr>\n",
              "    <tr>\n",
              "      <th>4863</th>\n",
              "      <td>0</td>\n",
              "      <td>0</td>\n",
              "    </tr>\n",
              "    <tr>\n",
              "      <th>2593</th>\n",
              "      <td>0</td>\n",
              "      <td>0</td>\n",
              "    </tr>\n",
              "    <tr>\n",
              "      <th>618</th>\n",
              "      <td>0</td>\n",
              "      <td>0</td>\n",
              "    </tr>\n",
              "    <tr>\n",
              "      <th>626</th>\n",
              "      <td>0</td>\n",
              "      <td>0</td>\n",
              "    </tr>\n",
              "    <tr>\n",
              "      <th>994</th>\n",
              "      <td>0</td>\n",
              "      <td>0</td>\n",
              "    </tr>\n",
              "    <tr>\n",
              "      <th>2531</th>\n",
              "      <td>0</td>\n",
              "      <td>0</td>\n",
              "    </tr>\n",
              "    <tr>\n",
              "      <th>82</th>\n",
              "      <td>0</td>\n",
              "      <td>0</td>\n",
              "    </tr>\n",
              "    <tr>\n",
              "      <th>627</th>\n",
              "      <td>0</td>\n",
              "      <td>0</td>\n",
              "    </tr>\n",
              "    <tr>\n",
              "      <th>1509</th>\n",
              "      <td>0</td>\n",
              "      <td>0</td>\n",
              "    </tr>\n",
              "    <tr>\n",
              "      <th>5193</th>\n",
              "      <td>0</td>\n",
              "      <td>0</td>\n",
              "    </tr>\n",
              "    <tr>\n",
              "      <th>5291</th>\n",
              "      <td>24</td>\n",
              "      <td>72000</td>\n",
              "    </tr>\n",
              "    <tr>\n",
              "      <th>1514</th>\n",
              "      <td>0</td>\n",
              "      <td>0</td>\n",
              "    </tr>\n",
              "    <tr>\n",
              "      <th>5424</th>\n",
              "      <td>6</td>\n",
              "      <td>0</td>\n",
              "    </tr>\n",
              "    <tr>\n",
              "      <th>4497</th>\n",
              "      <td>0</td>\n",
              "      <td>0</td>\n",
              "    </tr>\n",
              "    <tr>\n",
              "      <th>3914</th>\n",
              "      <td>0</td>\n",
              "      <td>0</td>\n",
              "    </tr>\n",
              "    <tr>\n",
              "      <th>4991</th>\n",
              "      <td>0</td>\n",
              "      <td>0</td>\n",
              "    </tr>\n",
              "    <tr>\n",
              "      <th>794</th>\n",
              "      <td>72</td>\n",
              "      <td>3200000</td>\n",
              "    </tr>\n",
              "    <tr>\n",
              "      <th>4887</th>\n",
              "      <td>13</td>\n",
              "      <td>250000</td>\n",
              "    </tr>\n",
              "    <tr>\n",
              "      <th>4102</th>\n",
              "      <td>12</td>\n",
              "      <td>550000</td>\n",
              "    </tr>\n",
              "    <tr>\n",
              "      <th>4160</th>\n",
              "      <td>0</td>\n",
              "      <td>0</td>\n",
              "    </tr>\n",
              "    <tr>\n",
              "      <th>1373</th>\n",
              "      <td>12</td>\n",
              "      <td>120000</td>\n",
              "    </tr>\n",
              "    <tr>\n",
              "      <th>1643</th>\n",
              "      <td>22</td>\n",
              "      <td>90000</td>\n",
              "    </tr>\n",
              "    <tr>\n",
              "      <th>5072</th>\n",
              "      <td>0</td>\n",
              "      <td>0</td>\n",
              "    </tr>\n",
              "  </tbody>\n",
              "</table>\n",
              "</div>"
            ],
            "text/plain": [
              "      remaining_payment_months  total_outstanding_loan_amount\n",
              "1291                         0                              0\n",
              "2979                         0                              0\n",
              "236                          0                              0\n",
              "5370                         0                              0\n",
              "1371                         0                              0\n",
              "4220                         0                              0\n",
              "820                          0                              0\n",
              "4863                         0                              0\n",
              "2593                         0                              0\n",
              "618                          0                              0\n",
              "626                          0                              0\n",
              "994                          0                              0\n",
              "2531                         0                              0\n",
              "82                           0                              0\n",
              "627                          0                              0\n",
              "1509                         0                              0\n",
              "5193                         0                              0\n",
              "5291                        24                          72000\n",
              "1514                         0                              0\n",
              "5424                         6                              0\n",
              "4497                         0                              0\n",
              "3914                         0                              0\n",
              "4991                         0                              0\n",
              "794                         72                        3200000\n",
              "4887                        13                         250000\n",
              "4102                        12                         550000\n",
              "4160                         0                              0\n",
              "1373                        12                         120000\n",
              "1643                        22                          90000\n",
              "5072                         0                              0"
            ]
          },
          "metadata": {},
          "execution_count": 52
        }
      ]
    },
    {
      "cell_type": "code",
      "metadata": {
        "colab": {
          "base_uri": "https://localhost:8080/"
        },
        "id": "WNVn-0i30uhV",
        "outputId": "7a47a32f-9b51-4759-8c4c-cfe31d74f5b3"
      },
      "source": [
        "dataset['remaining_payment_months'].value_counts()"
      ],
      "execution_count": null,
      "outputs": [
        {
          "output_type": "execute_result",
          "data": {
            "text/plain": [
              "0        3766\n",
              "24        187\n",
              "1         164\n",
              "12        141\n",
              "36        134\n",
              "         ... \n",
              "336         1\n",
              "33          1\n",
              "33000       1\n",
              "44          1\n",
              "31000       1\n",
              "Name: remaining_payment_months, Length: 114, dtype: int64"
            ]
          },
          "metadata": {},
          "execution_count": 53
        }
      ]
    },
    {
      "cell_type": "code",
      "metadata": {
        "colab": {
          "base_uri": "https://localhost:8080/"
        },
        "id": "jBlO5jsvQ1Mf",
        "outputId": "adf1182f-23a6-4b5e-9ab3-bad2fe8ed948"
      },
      "source": [
        "dataset['remaining_payment_months'].describe()"
      ],
      "execution_count": null,
      "outputs": [
        {
          "output_type": "execute_result",
          "data": {
            "text/plain": [
              "count    5.447000e+03\n",
              "mean     2.270369e+03\n",
              "std      7.246766e+04\n",
              "min     -4.000000e+00\n",
              "25%      0.000000e+00\n",
              "50%      0.000000e+00\n",
              "75%      3.000000e+00\n",
              "max      4.260000e+06\n",
              "Name: remaining_payment_months, dtype: float64"
            ]
          },
          "metadata": {},
          "execution_count": 54
        }
      ]
    },
    {
      "cell_type": "markdown",
      "metadata": {
        "id": "aWZSxkYOQ1Mf"
      },
      "source": [
        "3766 are 0"
      ]
    },
    {
      "cell_type": "code",
      "metadata": {
        "id": "TrH5foB-Q1Mf"
      },
      "source": [
        "#visualise ditribution\n",
        "#sns.distplot(dataset['number_of_loans'])"
      ],
      "execution_count": null,
      "outputs": []
    },
    {
      "cell_type": "code",
      "metadata": {
        "colab": {
          "base_uri": "https://localhost:8080/"
        },
        "id": "i0URpBdtQ1Mf",
        "outputId": "875aa4e8-c11a-4d0d-f2da-f4551c4b69d5"
      },
      "source": [
        "sns.countplot(x= 'remaining_payment_months', data=dataset, hue= 'good_bad')"
      ],
      "execution_count": null,
      "outputs": [
        {
          "output_type": "execute_result",
          "data": {
            "text/plain": [
              "<matplotlib.axes._subplots.AxesSubplot at 0x7fc4a805dd50>"
            ]
          },
          "metadata": {},
          "execution_count": 56
        },
        {
          "output_type": "display_data",
          "data": {
            "image/png": "[encoded data removed]",
            "text/plain": [
              "<Figure size 432x288 with 1 Axes>"
            ]
          },
          "metadata": {
            "needs_background": "light"
          }
        }
      ]
    },
    {
      "cell_type": "code",
      "metadata": {
        "colab": {
          "base_uri": "https://localhost:8080/"
        },
        "id": "bFY6q4QnRlDc",
        "outputId": "17c0510f-b2d1-4a27-c72a-0809e10c41f7"
      },
      "source": [
        "dataset['sum_otherincome'].unique()"
      ],
      "execution_count": null,
      "outputs": [
        {
          "output_type": "execute_result",
          "data": {
            "text/plain": [
              "array([       0,     7000,    15000,     9000,    50000,    31000,\n",
              "          21000,    35000,   150000,    42000,       40,   200000,\n",
              "          30000,    25000,    12500,    11200,    52000,    60000,\n",
              "          70000,   100000,    33000,    10000,    82000,   170000,\n",
              "          26000,    95000,    20000,    80000,    13500,    35400,\n",
              "           5250,    33600,     4500,   120000,     5000,    40000,\n",
              "           6600,   110000,    28675,    73500,   180000,   300000,\n",
              "          18000,    22000,    16300,    58900,     5800,    76000,\n",
              "           6000,    90000,    16000,     4000,    11000,    36000,\n",
              "           8000,    12000,    84000,    66000,   340000,     3000,\n",
              "          46000,    27000,    24000,    14400,    23000,    19000,\n",
              "          37000,     2000,    88000,   108000,    17000,    39000,\n",
              "          48000,    11400,    94000,     4700,   210500,   500000,\n",
              "         160000,   850500,    14000,    45000,   260000,    56750,\n",
              "          68100,    51000,   360000,    72000,    45600,    21300,\n",
              "           7200,    32000,    75000,    55000,    19500,    24800,\n",
              "          72200,   870000,    42500,    40335,    12800,     7500,\n",
              "          13000,   246000,   140000,  1000000,    65000,   570000,\n",
              "          16800,     1500,    53000,    11250,    12660,   450000,\n",
              "              1, 20000000,     5400,     3500,     8050,    61500,\n",
              "          87500,    19200,     1040,   105000,    92000,    27200,\n",
              "          38000,   900000,    22500,   400000,    56500,    10500,\n",
              "         118000,   350000,    41500,    67500,    21600,   280000,\n",
              "          10800,    64000,    14800,    59000,   135000,     9600,\n",
              "         133500,     8400,   228000,   167000,     4800,   700000,\n",
              "          45900,    19998,   127000,  2000000,    58000,   130000,\n",
              "          44000,   104000,   240000,    89000,   250000])"
            ]
          },
          "metadata": {},
          "execution_count": 57
        }
      ]
    },
    {
      "cell_type": "code",
      "metadata": {
        "colab": {
          "base_uri": "https://localhost:8080/"
        },
        "id": "UeeUEetiRlDc",
        "outputId": "e99aedac-8e32-4bc5-d960-82c0dbaff388"
      },
      "source": [
        "dataset['sum_otherincome'].describe()"
      ],
      "execution_count": null,
      "outputs": [
        {
          "output_type": "execute_result",
          "data": {
            "text/plain": [
              "count    5.447000e+03\n",
              "mean     1.348484e+04\n",
              "std      2.761760e+05\n",
              "min      0.000000e+00\n",
              "25%      0.000000e+00\n",
              "50%      0.000000e+00\n",
              "75%      0.000000e+00\n",
              "max      2.000000e+07\n",
              "Name: sum_otherincome, dtype: float64"
            ]
          },
          "metadata": {},
          "execution_count": 58
        }
      ]
    },
    {
      "cell_type": "markdown",
      "metadata": {
        "id": "YPJ2sSvcRlDd"
      },
      "source": [
        "4441 are 0"
      ]
    },
    {
      "cell_type": "code",
      "metadata": {
        "colab": {
          "base_uri": "https://localhost:8080/"
        },
        "id": "6BEqtkwiRlDd",
        "outputId": "c3c52ce1-46e3-4e9d-ec77-922d9b8a633c"
      },
      "source": [
        "#visualise ditribution\n",
        "sns.distplot(dataset['sum_otherincome'])"
      ],
      "execution_count": null,
      "outputs": [
        {
          "output_type": "stream",
          "name": "stderr",
          "text": [
            "/usr/local/lib/python3.7/dist-packages/seaborn/distributions.py:2619: FutureWarning: `distplot` is a deprecated function and will be removed in a future version. Please adapt your code to use either `displot` (a figure-level function with similar flexibility) or `histplot` (an axes-level function for histograms).\n",
            "  warnings.warn(msg, FutureWarning)\n"
          ]
        },
        {
          "output_type": "execute_result",
          "data": {
            "text/plain": [
              "<matplotlib.axes._subplots.AxesSubplot at 0x7fc4a7cb9e90>"
            ]
          },
          "metadata": {},
          "execution_count": 59
        },
        {
          "output_type": "display_data",
          "data": {
            "image/png": "[encoded data removed]",
            "text/plain": [
              "<Figure size 432x288 with 1 Axes>"
            ]
          },
          "metadata": {
            "needs_background": "light"
          }
        }
      ]
    },
    {
      "cell_type": "code",
      "metadata": {
        "colab": {
          "base_uri": "https://localhost:8080/"
        },
        "id": "Og_EBBclRlDd",
        "outputId": "a1c81541-c220-4f46-a4bc-19d0690afc5e"
      },
      "source": [
        "sns.countplot(x= 'sum_otherincome', data=dataset, hue= 'good_bad')"
      ],
      "execution_count": null,
      "outputs": [
        {
          "output_type": "execute_result",
          "data": {
            "text/plain": [
              "<matplotlib.axes._subplots.AxesSubplot at 0x7fc4a7baa210>"
            ]
          },
          "metadata": {},
          "execution_count": 60
        },
        {
          "output_type": "display_data",
          "data": {
            "image/png": "[encoded data removed]",
            "text/plain": [
              "<Figure size 432x288 with 1 Axes>"
            ]
          },
          "metadata": {
            "needs_background": "light"
          }
        }
      ]
    },
    {
      "cell_type": "code",
      "metadata": {
        "id": "EzGWjvooRlDe"
      },
      "source": [
        "variable = \"sum_otherincome\"\n",
        "x = df_inputs_test[variable].values\n",
        "y = df_targets_test"
      ],
      "execution_count": null,
      "outputs": []
    },
    {
      "cell_type": "code",
      "metadata": {
        "id": "Q4iLNOeORlDe"
      },
      "source": [
        "optb = OptimalBinning(name=variable, dtype=\"numerical\", solver=\"cp\")"
      ],
      "execution_count": null,
      "outputs": []
    },
    {
      "cell_type": "code",
      "metadata": {
        "colab": {
          "base_uri": "https://localhost:8080/"
        },
        "id": "djVBYXaKRlDe",
        "outputId": "22d68b8f-d32f-4826-b5fa-fddaa60c01fc"
      },
      "source": [
        "optb.fit(x, y)"
      ],
      "execution_count": null,
      "outputs": [
        {
          "output_type": "execute_result",
          "data": {
            "text/plain": [
              "OptimalBinning(cat_cutoff=None, class_weight=None, divergence='iv',\n",
              "               dtype='numerical', gamma=0, max_bin_n_event=None,\n",
              "               max_bin_n_nonevent=None, max_bin_size=None, max_n_bins=None,\n",
              "               max_n_prebins=20, max_pvalue=None,\n",
              "               max_pvalue_policy='consecutive', min_bin_n_event=None,\n",
              "               min_bin_n_nonevent=None, min_bin_size=None,\n",
              "               min_event_rate_diff=0, min_n_bins=None, min_prebin_size=0.05,\n",
              "               mip_solver='bop', monotonic_trend='auto', name='sum_otherincome',\n",
              "               outlier_detector=None, outlier_params=None,\n",
              "               prebinning_method='cart', solver='cp', special_codes=None,\n",
              "               split_digits=None, time_limit=100, user_splits=None,\n",
              "               user_splits_fixed=None, ...)"
            ]
          },
          "metadata": {},
          "execution_count": 63
        }
      ]
    },
    {
      "cell_type": "code",
      "metadata": {
        "colab": {
          "base_uri": "https://localhost:8080/"
        },
        "id": "_WMj7uuaRlDe",
        "outputId": "4967830d-e8fd-4d5e-aea1-d4aa60b66c2f"
      },
      "source": [
        "optb.status"
      ],
      "execution_count": null,
      "outputs": [
        {
          "output_type": "execute_result",
          "data": {
            "application/vnd.google.colaboratory.intrinsic+json": {
              "type": "string"
            },
            "text/plain": [
              "'OPTIMAL'"
            ]
          },
          "metadata": {},
          "execution_count": 64
        }
      ]
    },
    {
      "cell_type": "code",
      "metadata": {
        "colab": {
          "base_uri": "https://localhost:8080/"
        },
        "id": "exXdsqTlRlDf",
        "outputId": "f8929cfe-9483-4cc8-d8cb-1cfd05ae3e59"
      },
      "source": [
        "optb.splits"
      ],
      "execution_count": null,
      "outputs": [
        {
          "output_type": "execute_result",
          "data": {
            "text/plain": [
              "array([ 6500., 20500.])"
            ]
          },
          "metadata": {},
          "execution_count": 65
        }
      ]
    },
    {
      "cell_type": "code",
      "metadata": {
        "id": "aCMqH8vgRlDf"
      },
      "source": [
        "binning_table = optb.binning_table"
      ],
      "execution_count": null,
      "outputs": []
    },
    {
      "cell_type": "code",
      "metadata": {
        "colab": {
          "base_uri": "https://localhost:8080/"
        },
        "id": "jhA85Dj5RlDf",
        "outputId": "c00c50b6-2858-4db6-c1a2-116795cab5ec"
      },
      "source": [
        "binning_table.build()"
      ],
      "execution_count": null,
      "outputs": [
        {
          "output_type": "execute_result",
          "data": {
            "text/html": [
              "<div>\n",
              "<style scoped>\n",
              "    .dataframe tbody tr th:only-of-type {\n",
              "        vertical-align: middle;\n",
              "    }\n",
              "\n",
              "    .dataframe tbody tr th {\n",
              "        vertical-align: top;\n",
              "    }\n",
              "\n",
              "    .dataframe thead th {\n",
              "        text-align: right;\n",
              "    }\n",
              "</style>\n",
              "<table border=\"1\" class=\"dataframe\">\n",
              "  <thead>\n",
              "    <tr style=\"text-align: right;\">\n",
              "      <th></th>\n",
              "      <th>Bin</th>\n",
              "      <th>Count</th>\n",
              "      <th>Count (%)</th>\n",
              "      <th>Non-event</th>\n",
              "      <th>Event</th>\n",
              "      <th>Event rate</th>\n",
              "      <th>WoE</th>\n",
              "      <th>IV</th>\n",
              "      <th>JS</th>\n",
              "    </tr>\n",
              "  </thead>\n",
              "  <tbody>\n",
              "    <tr>\n",
              "      <th>0</th>\n",
              "      <td>(-inf, 6500.00)</td>\n",
              "      <td>883</td>\n",
              "      <td>0.810092</td>\n",
              "      <td>763</td>\n",
              "      <td>120</td>\n",
              "      <td>0.135900</td>\n",
              "      <td>0.052645</td>\n",
              "      <td>0.002203</td>\n",
              "      <td>0.000275</td>\n",
              "    </tr>\n",
              "    <tr>\n",
              "      <th>1</th>\n",
              "      <td>[6500.00, 20500.00)</td>\n",
              "      <td>97</td>\n",
              "      <td>0.088991</td>\n",
              "      <td>74</td>\n",
              "      <td>23</td>\n",
              "      <td>0.237113</td>\n",
              "      <td>-0.628551</td>\n",
              "      <td>0.043523</td>\n",
              "      <td>0.005352</td>\n",
              "    </tr>\n",
              "    <tr>\n",
              "      <th>2</th>\n",
              "      <td>[20500.00, inf)</td>\n",
              "      <td>110</td>\n",
              "      <td>0.100917</td>\n",
              "      <td>98</td>\n",
              "      <td>12</td>\n",
              "      <td>0.109091</td>\n",
              "      <td>0.302939</td>\n",
              "      <td>0.008299</td>\n",
              "      <td>0.001033</td>\n",
              "    </tr>\n",
              "    <tr>\n",
              "      <th>3</th>\n",
              "      <td>Special</td>\n",
              "      <td>0</td>\n",
              "      <td>0.000000</td>\n",
              "      <td>0</td>\n",
              "      <td>0</td>\n",
              "      <td>0.000000</td>\n",
              "      <td>0.0</td>\n",
              "      <td>0.000000</td>\n",
              "      <td>0.000000</td>\n",
              "    </tr>\n",
              "    <tr>\n",
              "      <th>4</th>\n",
              "      <td>Missing</td>\n",
              "      <td>0</td>\n",
              "      <td>0.000000</td>\n",
              "      <td>0</td>\n",
              "      <td>0</td>\n",
              "      <td>0.000000</td>\n",
              "      <td>0.0</td>\n",
              "      <td>0.000000</td>\n",
              "      <td>0.000000</td>\n",
              "    </tr>\n",
              "    <tr>\n",
              "      <th>Totals</th>\n",
              "      <td></td>\n",
              "      <td>1090</td>\n",
              "      <td>1.000000</td>\n",
              "      <td>935</td>\n",
              "      <td>155</td>\n",
              "      <td>0.142202</td>\n",
              "      <td></td>\n",
              "      <td>0.054024</td>\n",
              "      <td>0.006661</td>\n",
              "    </tr>\n",
              "  </tbody>\n",
              "</table>\n",
              "</div>"
            ],
            "text/plain": [
              "                        Bin  Count  Count (%)  ...       WoE        IV        JS\n",
              "0           (-inf, 6500.00)    883   0.810092  ...  0.052645  0.002203  0.000275\n",
              "1       [6500.00, 20500.00)     97   0.088991  ... -0.628551  0.043523  0.005352\n",
              "2           [20500.00, inf)    110   0.100917  ...  0.302939  0.008299  0.001033\n",
              "3                   Special      0   0.000000  ...       0.0  0.000000  0.000000\n",
              "4                   Missing      0   0.000000  ...       0.0  0.000000  0.000000\n",
              "Totals                        1090   1.000000  ...            0.054024  0.006661\n",
              "\n",
              "[6 rows x 9 columns]"
            ]
          },
          "metadata": {},
          "execution_count": 67
        }
      ]
    },
    {
      "cell_type": "markdown",
      "metadata": {
        "id": "It5t2Nv16kyE"
      },
      "source": [
        "# **Income_sum**"
      ]
    },
    {
      "cell_type": "code",
      "metadata": {
        "id": "DNMKyANd6kyG"
      },
      "source": [
        "variable = \"income_sum\"\n",
        "x = df_inputs_test[variable].values\n",
        "y = df_targets_test"
      ],
      "execution_count": null,
      "outputs": []
    },
    {
      "cell_type": "code",
      "metadata": {
        "id": "WaYbdyfe6kyH"
      },
      "source": [
        "optb = OptimalBinning(name=variable, dtype=\"numerical\", solver=\"cp\")"
      ],
      "execution_count": null,
      "outputs": []
    },
    {
      "cell_type": "code",
      "metadata": {
        "colab": {
          "base_uri": "https://localhost:8080/"
        },
        "id": "HHE91KTz6kyH",
        "outputId": "e4d167f4-31ef-4ad5-f059-bd95219ba7c9"
      },
      "source": [
        "optb.fit(x, y)"
      ],
      "execution_count": null,
      "outputs": [
        {
          "output_type": "execute_result",
          "data": {
            "text/plain": [
              "OptimalBinning(cat_cutoff=None, class_weight=None, divergence='iv',\n",
              "               dtype='numerical', gamma=0, max_bin_n_event=None,\n",
              "               max_bin_n_nonevent=None, max_bin_size=None, max_n_bins=None,\n",
              "               max_n_prebins=20, max_pvalue=None,\n",
              "               max_pvalue_policy='consecutive', min_bin_n_event=None,\n",
              "               min_bin_n_nonevent=None, min_bin_size=None,\n",
              "               min_event_rate_diff=0, min_n_bins=None, min_prebin_size=0.05,\n",
              "               mip_solver='bop', monotonic_trend='auto', name='income_sum',\n",
              "               outlier_detector=None, outlier_params=None,\n",
              "               prebinning_method='cart', solver='cp', special_codes=None,\n",
              "               split_digits=None, time_limit=100, user_splits=None,\n",
              "               user_splits_fixed=None, ...)"
            ]
          },
          "metadata": {},
          "execution_count": 70
        }
      ]
    },
    {
      "cell_type": "code",
      "metadata": {
        "colab": {
          "base_uri": "https://localhost:8080/"
        },
        "id": "IHr6ep136kyI",
        "outputId": "952abb6a-62ab-4bb3-c197-b1d680e07844"
      },
      "source": [
        "optb.status"
      ],
      "execution_count": null,
      "outputs": [
        {
          "output_type": "execute_result",
          "data": {
            "application/vnd.google.colaboratory.intrinsic+json": {
              "type": "string"
            },
            "text/plain": [
              "'OPTIMAL'"
            ]
          },
          "metadata": {},
          "execution_count": 71
        }
      ]
    },
    {
      "cell_type": "code",
      "metadata": {
        "colab": {
          "base_uri": "https://localhost:8080/"
        },
        "id": "-_oO5nL26kyI",
        "outputId": "91e77f7b-c3dc-46fa-c890-aa1b865eae2e"
      },
      "source": [
        "optb.splits"
      ],
      "execution_count": null,
      "outputs": [
        {
          "output_type": "execute_result",
          "data": {
            "text/plain": [
              "array([ 6500., 20500.])"
            ]
          },
          "metadata": {},
          "execution_count": 72
        }
      ]
    },
    {
      "cell_type": "code",
      "metadata": {
        "id": "QCN-ujjC6kyJ"
      },
      "source": [
        "binning_table = optb.binning_table"
      ],
      "execution_count": null,
      "outputs": []
    },
    {
      "cell_type": "code",
      "metadata": {
        "colab": {
          "base_uri": "https://localhost:8080/"
        },
        "id": "2iNIbRUv6kyJ",
        "outputId": "719ae966-bbd1-43a0-88b4-6db0a3595fe6"
      },
      "source": [
        "binning_table.build()"
      ],
      "execution_count": null,
      "outputs": [
        {
          "output_type": "execute_result",
          "data": {
            "text/html": [
              "<div>\n",
              "<style scoped>\n",
              "    .dataframe tbody tr th:only-of-type {\n",
              "        vertical-align: middle;\n",
              "    }\n",
              "\n",
              "    .dataframe tbody tr th {\n",
              "        vertical-align: top;\n",
              "    }\n",
              "\n",
              "    .dataframe thead th {\n",
              "        text-align: right;\n",
              "    }\n",
              "</style>\n",
              "<table border=\"1\" class=\"dataframe\">\n",
              "  <thead>\n",
              "    <tr style=\"text-align: right;\">\n",
              "      <th></th>\n",
              "      <th>Bin</th>\n",
              "      <th>Count</th>\n",
              "      <th>Count (%)</th>\n",
              "      <th>Non-event</th>\n",
              "      <th>Event</th>\n",
              "      <th>Event rate</th>\n",
              "      <th>WoE</th>\n",
              "      <th>IV</th>\n",
              "      <th>JS</th>\n",
              "    </tr>\n",
              "  </thead>\n",
              "  <tbody>\n",
              "    <tr>\n",
              "      <th>0</th>\n",
              "      <td>(-inf, 6500.00)</td>\n",
              "      <td>883</td>\n",
              "      <td>0.810092</td>\n",
              "      <td>763</td>\n",
              "      <td>120</td>\n",
              "      <td>0.135900</td>\n",
              "      <td>0.052645</td>\n",
              "      <td>0.002203</td>\n",
              "      <td>0.000275</td>\n",
              "    </tr>\n",
              "    <tr>\n",
              "      <th>1</th>\n",
              "      <td>[6500.00, 20500.00)</td>\n",
              "      <td>100</td>\n",
              "      <td>0.091743</td>\n",
              "      <td>77</td>\n",
              "      <td>23</td>\n",
              "      <td>0.230000</td>\n",
              "      <td>-0.58881</td>\n",
              "      <td>0.038882</td>\n",
              "      <td>0.004791</td>\n",
              "    </tr>\n",
              "    <tr>\n",
              "      <th>2</th>\n",
              "      <td>[20500.00, inf)</td>\n",
              "      <td>107</td>\n",
              "      <td>0.098165</td>\n",
              "      <td>95</td>\n",
              "      <td>12</td>\n",
              "      <td>0.112150</td>\n",
              "      <td>0.271849</td>\n",
              "      <td>0.006575</td>\n",
              "      <td>0.000819</td>\n",
              "    </tr>\n",
              "    <tr>\n",
              "      <th>3</th>\n",
              "      <td>Special</td>\n",
              "      <td>0</td>\n",
              "      <td>0.000000</td>\n",
              "      <td>0</td>\n",
              "      <td>0</td>\n",
              "      <td>0.000000</td>\n",
              "      <td>0.0</td>\n",
              "      <td>0.000000</td>\n",
              "      <td>0.000000</td>\n",
              "    </tr>\n",
              "    <tr>\n",
              "      <th>4</th>\n",
              "      <td>Missing</td>\n",
              "      <td>0</td>\n",
              "      <td>0.000000</td>\n",
              "      <td>0</td>\n",
              "      <td>0</td>\n",
              "      <td>0.000000</td>\n",
              "      <td>0.0</td>\n",
              "      <td>0.000000</td>\n",
              "      <td>0.000000</td>\n",
              "    </tr>\n",
              "    <tr>\n",
              "      <th>Totals</th>\n",
              "      <td></td>\n",
              "      <td>1090</td>\n",
              "      <td>1.000000</td>\n",
              "      <td>935</td>\n",
              "      <td>155</td>\n",
              "      <td>0.142202</td>\n",
              "      <td></td>\n",
              "      <td>0.047659</td>\n",
              "      <td>0.005886</td>\n",
              "    </tr>\n",
              "  </tbody>\n",
              "</table>\n",
              "</div>"
            ],
            "text/plain": [
              "                        Bin  Count  Count (%)  ...       WoE        IV        JS\n",
              "0           (-inf, 6500.00)    883   0.810092  ...  0.052645  0.002203  0.000275\n",
              "1       [6500.00, 20500.00)    100   0.091743  ...  -0.58881  0.038882  0.004791\n",
              "2           [20500.00, inf)    107   0.098165  ...  0.271849  0.006575  0.000819\n",
              "3                   Special      0   0.000000  ...       0.0  0.000000  0.000000\n",
              "4                   Missing      0   0.000000  ...       0.0  0.000000  0.000000\n",
              "Totals                        1090   1.000000  ...            0.047659  0.005886\n",
              "\n",
              "[6 rows x 9 columns]"
            ]
          },
          "metadata": {},
          "execution_count": 74
        }
      ]
    },
    {
      "cell_type": "code",
      "metadata": {
        "colab": {
          "base_uri": "https://localhost:8080/"
        },
        "id": "LNFrysDR6kyK",
        "outputId": "9dcb41d2-e403-4c07-868d-3cc16966c51b"
      },
      "source": [
        "binning_table.plot(metric=\"woe\")"
      ],
      "execution_count": null,
      "outputs": [
        {
          "output_type": "display_data",
          "data": {
            "image/png": "[encoded data removed]",
            "text/plain": [
              "<Figure size 432x288 with 2 Axes>"
            ]
          },
          "metadata": {
            "needs_background": "light"
          }
        }
      ]
    },
    {
      "cell_type": "markdown",
      "metadata": {
        "id": "0h4_vrn369lO"
      },
      "source": [
        "# **Crops Grown**"
      ]
    },
    {
      "cell_type": "code",
      "metadata": {
        "colab": {
          "base_uri": "https://localhost:8080/"
        },
        "id": "wlKTmBEz69lQ",
        "outputId": "522e6881-df59-4ded-db2e-7db4ad82a98f"
      },
      "source": [
        "dataset[\"crops_grown\"].value_counts()"
      ],
      "execution_count": null,
      "outputs": [
        {
          "output_type": "execute_result",
          "data": {
            "text/plain": [
              "3 type of crops               1534\n",
              "2 type of crops               1213\n",
              "More than 4 types of crops    1157\n",
              "4 type of crops                722\n",
              "1 type of crop                 482\n",
              "0 type of crops                339\n",
              "Name: crops_grown, dtype: int64"
            ]
          },
          "metadata": {},
          "execution_count": 76
        }
      ]
    },
    {
      "cell_type": "code",
      "metadata": {
        "id": "m1bpE7i069lR"
      },
      "source": [
        "variable = \"crops_grown\"\n",
        "x = df_inputs_test[variable].values\n",
        "y = df_targets_test"
      ],
      "execution_count": null,
      "outputs": []
    },
    {
      "cell_type": "code",
      "metadata": {
        "id": "hBRT4FCY69lS"
      },
      "source": [
        "optb = OptimalBinning(name=variable, dtype=\"categorical\", solver=\"cp\")"
      ],
      "execution_count": null,
      "outputs": []
    },
    {
      "cell_type": "code",
      "metadata": {
        "colab": {
          "base_uri": "https://localhost:8080/"
        },
        "id": "ZZ3_miEI69lS",
        "outputId": "f0e35be1-4a39-4f5e-806f-c2098d3c1020"
      },
      "source": [
        "optb.fit(x, y)"
      ],
      "execution_count": null,
      "outputs": [
        {
          "output_type": "execute_result",
          "data": {
            "text/plain": [
              "OptimalBinning(cat_cutoff=None, class_weight=None, divergence='iv',\n",
              "               dtype='categorical', gamma=0, max_bin_n_event=None,\n",
              "               max_bin_n_nonevent=None, max_bin_size=None, max_n_bins=None,\n",
              "               max_n_prebins=20, max_pvalue=None,\n",
              "               max_pvalue_policy='consecutive', min_bin_n_event=None,\n",
              "               min_bin_n_nonevent=None, min_bin_size=None,\n",
              "               min_event_rate_diff=0, min_n_bins=None, min_prebin_size=0.05,\n",
              "               mip_solver='bop', monotonic_trend='auto', name='crops_grown',\n",
              "               outlier_detector=None, outlier_params=None,\n",
              "               prebinning_method='cart', solver='cp', special_codes=None,\n",
              "               split_digits=None, time_limit=100, user_splits=None,\n",
              "               user_splits_fixed=None, ...)"
            ]
          },
          "metadata": {},
          "execution_count": 79
        }
      ]
    },
    {
      "cell_type": "code",
      "metadata": {
        "colab": {
          "base_uri": "https://localhost:8080/"
        },
        "id": "7isMd1z-69lT",
        "outputId": "d2fb3edf-7aaa-470c-b2f8-5d0e91c10683"
      },
      "source": [
        "optb.status"
      ],
      "execution_count": null,
      "outputs": [
        {
          "output_type": "execute_result",
          "data": {
            "application/vnd.google.colaboratory.intrinsic+json": {
              "type": "string"
            },
            "text/plain": [
              "'OPTIMAL'"
            ]
          },
          "metadata": {},
          "execution_count": 80
        }
      ]
    },
    {
      "cell_type": "code",
      "metadata": {
        "colab": {
          "base_uri": "https://localhost:8080/"
        },
        "id": "XyzBCbp669lU",
        "outputId": "89e7a323-cf54-4e92-8b1e-02234ff987ec"
      },
      "source": [
        "optb.splits"
      ],
      "execution_count": null,
      "outputs": [
        {
          "output_type": "execute_result",
          "data": {
            "text/plain": [
              "[array(['1 type of crop'], dtype=object),\n",
              " array(['0 type of crops'], dtype=object),\n",
              " array(['4 type of crops'], dtype=object),\n",
              " array(['2 type of crops'], dtype=object),\n",
              " array(['More than 4 types of crops'], dtype=object),\n",
              " array(['3 type of crops'], dtype=object)]"
            ]
          },
          "metadata": {},
          "execution_count": 81
        }
      ]
    },
    {
      "cell_type": "code",
      "metadata": {
        "id": "60fqVVbX69lV"
      },
      "source": [
        "binning_table = optb.binning_table"
      ],
      "execution_count": null,
      "outputs": []
    },
    {
      "cell_type": "code",
      "metadata": {
        "colab": {
          "base_uri": "https://localhost:8080/"
        },
        "id": "EGMaL8d969lV",
        "outputId": "5faff589-ba86-483b-fe90-b0d452252cc6"
      },
      "source": [
        "binning_table.build()"
      ],
      "execution_count": null,
      "outputs": [
        {
          "output_type": "execute_result",
          "data": {
            "text/html": [
              "<div>\n",
              "<style scoped>\n",
              "    .dataframe tbody tr th:only-of-type {\n",
              "        vertical-align: middle;\n",
              "    }\n",
              "\n",
              "    .dataframe tbody tr th {\n",
              "        vertical-align: top;\n",
              "    }\n",
              "\n",
              "    .dataframe thead th {\n",
              "        text-align: right;\n",
              "    }\n",
              "</style>\n",
              "<table border=\"1\" class=\"dataframe\">\n",
              "  <thead>\n",
              "    <tr style=\"text-align: right;\">\n",
              "      <th></th>\n",
              "      <th>Bin</th>\n",
              "      <th>Count</th>\n",
              "      <th>Count (%)</th>\n",
              "      <th>Non-event</th>\n",
              "      <th>Event</th>\n",
              "      <th>Event rate</th>\n",
              "      <th>WoE</th>\n",
              "      <th>IV</th>\n",
              "      <th>JS</th>\n",
              "    </tr>\n",
              "  </thead>\n",
              "  <tbody>\n",
              "    <tr>\n",
              "      <th>0</th>\n",
              "      <td>[1 type of crop]</td>\n",
              "      <td>102</td>\n",
              "      <td>0.093578</td>\n",
              "      <td>96</td>\n",
              "      <td>6</td>\n",
              "      <td>0.058824</td>\n",
              "      <td>0.975467</td>\n",
              "      <td>0.062395</td>\n",
              "      <td>0.007504</td>\n",
              "    </tr>\n",
              "    <tr>\n",
              "      <th>1</th>\n",
              "      <td>[0 type of crops]</td>\n",
              "      <td>68</td>\n",
              "      <td>0.062385</td>\n",
              "      <td>62</td>\n",
              "      <td>6</td>\n",
              "      <td>0.088235</td>\n",
              "      <td>0.538254</td>\n",
              "      <td>0.014856</td>\n",
              "      <td>0.001835</td>\n",
              "    </tr>\n",
              "    <tr>\n",
              "      <th>2</th>\n",
              "      <td>[4 type of crops]</td>\n",
              "      <td>146</td>\n",
              "      <td>0.133945</td>\n",
              "      <td>125</td>\n",
              "      <td>21</td>\n",
              "      <td>0.143836</td>\n",
              "      <td>-0.01333</td>\n",
              "      <td>0.000024</td>\n",
              "      <td>0.000003</td>\n",
              "    </tr>\n",
              "    <tr>\n",
              "      <th>3</th>\n",
              "      <td>[2 type of crops]</td>\n",
              "      <td>252</td>\n",
              "      <td>0.231193</td>\n",
              "      <td>213</td>\n",
              "      <td>39</td>\n",
              "      <td>0.154762</td>\n",
              "      <td>-0.099391</td>\n",
              "      <td>0.002366</td>\n",
              "      <td>0.000296</td>\n",
              "    </tr>\n",
              "    <tr>\n",
              "      <th>4</th>\n",
              "      <td>[More than 4 types of crops]</td>\n",
              "      <td>236</td>\n",
              "      <td>0.216514</td>\n",
              "      <td>199</td>\n",
              "      <td>37</td>\n",
              "      <td>0.156780</td>\n",
              "      <td>-0.114735</td>\n",
              "      <td>0.002969</td>\n",
              "      <td>0.000371</td>\n",
              "    </tr>\n",
              "    <tr>\n",
              "      <th>5</th>\n",
              "      <td>[3 type of crops]</td>\n",
              "      <td>286</td>\n",
              "      <td>0.262385</td>\n",
              "      <td>240</td>\n",
              "      <td>46</td>\n",
              "      <td>0.160839</td>\n",
              "      <td>-0.145124</td>\n",
              "      <td>0.005818</td>\n",
              "      <td>0.000727</td>\n",
              "    </tr>\n",
              "    <tr>\n",
              "      <th>6</th>\n",
              "      <td>Special</td>\n",
              "      <td>0</td>\n",
              "      <td>0.000000</td>\n",
              "      <td>0</td>\n",
              "      <td>0</td>\n",
              "      <td>0.000000</td>\n",
              "      <td>0.0</td>\n",
              "      <td>0.000000</td>\n",
              "      <td>0.000000</td>\n",
              "    </tr>\n",
              "    <tr>\n",
              "      <th>7</th>\n",
              "      <td>Missing</td>\n",
              "      <td>0</td>\n",
              "      <td>0.000000</td>\n",
              "      <td>0</td>\n",
              "      <td>0</td>\n",
              "      <td>0.000000</td>\n",
              "      <td>0.0</td>\n",
              "      <td>0.000000</td>\n",
              "      <td>0.000000</td>\n",
              "    </tr>\n",
              "    <tr>\n",
              "      <th>Totals</th>\n",
              "      <td></td>\n",
              "      <td>1090</td>\n",
              "      <td>1.000000</td>\n",
              "      <td>935</td>\n",
              "      <td>155</td>\n",
              "      <td>0.142202</td>\n",
              "      <td></td>\n",
              "      <td>0.088428</td>\n",
              "      <td>0.010735</td>\n",
              "    </tr>\n",
              "  </tbody>\n",
              "</table>\n",
              "</div>"
            ],
            "text/plain": [
              "                                 Bin  Count  ...        IV        JS\n",
              "0                   [1 type of crop]    102  ...  0.062395  0.007504\n",
              "1                  [0 type of crops]     68  ...  0.014856  0.001835\n",
              "2                  [4 type of crops]    146  ...  0.000024  0.000003\n",
              "3                  [2 type of crops]    252  ...  0.002366  0.000296\n",
              "4       [More than 4 types of crops]    236  ...  0.002969  0.000371\n",
              "5                  [3 type of crops]    286  ...  0.005818  0.000727\n",
              "6                            Special      0  ...  0.000000  0.000000\n",
              "7                            Missing      0  ...  0.000000  0.000000\n",
              "Totals                                 1090  ...  0.088428  0.010735\n",
              "\n",
              "[9 rows x 9 columns]"
            ]
          },
          "metadata": {},
          "execution_count": 83
        }
      ]
    },
    {
      "cell_type": "code",
      "metadata": {
        "colab": {
          "base_uri": "https://localhost:8080/"
        },
        "id": "OgG4Ad9E69lW",
        "outputId": "ce374adc-d66b-4bc3-c19c-9b9c14f7b644"
      },
      "source": [
        "binning_table.plot(metric=\"woe\")"
      ],
      "execution_count": null,
      "outputs": [
        {
          "output_type": "display_data",
          "data": {
            "image/png": "[encoded data removed]",
            "text/plain": [
              "<Figure size 432x288 with 2 Axes>"
            ]
          },
          "metadata": {
            "needs_background": "light"
          }
        }
      ]
    },
    {
      "cell_type": "markdown",
      "metadata": {
        "id": "AC3yEn0b9lGb"
      },
      "source": [
        "# **Number_of_businesses_before**"
      ]
    },
    {
      "cell_type": "code",
      "metadata": {
        "colab": {
          "base_uri": "https://localhost:8080/"
        },
        "id": "AFUOPlPa9lGd",
        "outputId": "f11b5416-f238-4c69-add4-8da6823c5005"
      },
      "source": [
        "dataset[\"number_of_businesses_before\"].value_counts()"
      ],
      "execution_count": null,
      "outputs": [
        {
          "output_type": "execute_result",
          "data": {
            "text/plain": [
              "1 business                2629\n",
              "0 businesses              2389\n",
              "2 businesses               360\n",
              "3-5 businesses              44\n",
              "More than 5 businesses      25\n",
              "Name: number_of_businesses_before, dtype: int64"
            ]
          },
          "metadata": {},
          "execution_count": 85
        }
      ]
    },
    {
      "cell_type": "code",
      "metadata": {
        "id": "WqUr3opL9lGe"
      },
      "source": [
        "variable = \"number_of_businesses_before\"\n",
        "x = df_inputs_test[variable].values\n",
        "y = df_targets_test"
      ],
      "execution_count": null,
      "outputs": []
    },
    {
      "cell_type": "code",
      "metadata": {
        "id": "w2ydpnl-9lGf"
      },
      "source": [
        "optb = OptimalBinning(name=variable, dtype=\"categorical\", solver=\"cp\")"
      ],
      "execution_count": null,
      "outputs": []
    },
    {
      "cell_type": "code",
      "metadata": {
        "colab": {
          "base_uri": "https://localhost:8080/"
        },
        "id": "DEQ9n4J99lGf",
        "outputId": "19fe810c-9bf0-4289-b73e-192d077ded6b"
      },
      "source": [
        "optb.fit(x, y)"
      ],
      "execution_count": null,
      "outputs": [
        {
          "output_type": "execute_result",
          "data": {
            "text/plain": [
              "OptimalBinning(cat_cutoff=None, class_weight=None, divergence='iv',\n",
              "               dtype='categorical', gamma=0, max_bin_n_event=None,\n",
              "               max_bin_n_nonevent=None, max_bin_size=None, max_n_bins=None,\n",
              "               max_n_prebins=20, max_pvalue=None,\n",
              "               max_pvalue_policy='consecutive', min_bin_n_event=None,\n",
              "               min_bin_n_nonevent=None, min_bin_size=None,\n",
              "               min_event_rate_diff=0, min_n_bins=None, min_prebin_size=0.05,\n",
              "               mip_solver='bop', monotonic_trend='auto',\n",
              "               name='number_of_businesses_before', outlier_detector=None,\n",
              "               outlier_params=None, prebinning_method='cart', solver='cp',\n",
              "               special_codes=None, split_digits=None, time_limit=100,\n",
              "               user_splits=None, user_splits_fixed=None, ...)"
            ]
          },
          "metadata": {},
          "execution_count": 88
        }
      ]
    },
    {
      "cell_type": "code",
      "metadata": {
        "colab": {
          "base_uri": "https://localhost:8080/"
        },
        "id": "dNx39oHl9lGg",
        "outputId": "439a43af-c33e-4e50-c401-f84bbe9a5f3b"
      },
      "source": [
        "optb.status"
      ],
      "execution_count": null,
      "outputs": [
        {
          "output_type": "execute_result",
          "data": {
            "application/vnd.google.colaboratory.intrinsic+json": {
              "type": "string"
            },
            "text/plain": [
              "'OPTIMAL'"
            ]
          },
          "metadata": {},
          "execution_count": 89
        }
      ]
    },
    {
      "cell_type": "code",
      "metadata": {
        "colab": {
          "base_uri": "https://localhost:8080/"
        },
        "id": "LFUOVzIz9lGh",
        "outputId": "aad8455d-9fdb-41e8-9b13-4ac11fed8833"
      },
      "source": [
        "optb.splits"
      ],
      "execution_count": null,
      "outputs": [
        {
          "output_type": "execute_result",
          "data": {
            "text/plain": [
              "[array(['3-5 businesses', 'More than 5 businesses', '2 businesses'],\n",
              "       dtype=object),\n",
              " array(['1 business'], dtype=object),\n",
              " array(['0 businesses'], dtype=object)]"
            ]
          },
          "metadata": {},
          "execution_count": 90
        }
      ]
    },
    {
      "cell_type": "code",
      "metadata": {
        "id": "9H3fY1179lGi"
      },
      "source": [
        "binning_table = optb.binning_table"
      ],
      "execution_count": null,
      "outputs": []
    },
    {
      "cell_type": "code",
      "metadata": {
        "colab": {
          "base_uri": "https://localhost:8080/"
        },
        "id": "S9XII4Ua9lGi",
        "outputId": "420bec45-ca03-4e2e-fc3f-f446008822fa"
      },
      "source": [
        "binning_table.build()"
      ],
      "execution_count": null,
      "outputs": [
        {
          "output_type": "execute_result",
          "data": {
            "text/html": [
              "<div>\n",
              "<style scoped>\n",
              "    .dataframe tbody tr th:only-of-type {\n",
              "        vertical-align: middle;\n",
              "    }\n",
              "\n",
              "    .dataframe tbody tr th {\n",
              "        vertical-align: top;\n",
              "    }\n",
              "\n",
              "    .dataframe thead th {\n",
              "        text-align: right;\n",
              "    }\n",
              "</style>\n",
              "<table border=\"1\" class=\"dataframe\">\n",
              "  <thead>\n",
              "    <tr style=\"text-align: right;\">\n",
              "      <th></th>\n",
              "      <th>Bin</th>\n",
              "      <th>Count</th>\n",
              "      <th>Count (%)</th>\n",
              "      <th>Non-event</th>\n",
              "      <th>Event</th>\n",
              "      <th>Event rate</th>\n",
              "      <th>WoE</th>\n",
              "      <th>IV</th>\n",
              "      <th>JS</th>\n",
              "    </tr>\n",
              "  </thead>\n",
              "  <tbody>\n",
              "    <tr>\n",
              "      <th>0</th>\n",
              "      <td>[3-5 businesses, More than 5 businesses, 2 bus...</td>\n",
              "      <td>73</td>\n",
              "      <td>0.066972</td>\n",
              "      <td>67</td>\n",
              "      <td>6</td>\n",
              "      <td>0.082192</td>\n",
              "      <td>0.615812</td>\n",
              "      <td>0.020290</td>\n",
              "      <td>0.002497</td>\n",
              "    </tr>\n",
              "    <tr>\n",
              "      <th>1</th>\n",
              "      <td>[1 business]</td>\n",
              "      <td>532</td>\n",
              "      <td>0.488073</td>\n",
              "      <td>455</td>\n",
              "      <td>77</td>\n",
              "      <td>0.144737</td>\n",
              "      <td>-0.020629</td>\n",
              "      <td>0.000209</td>\n",
              "      <td>0.000026</td>\n",
              "    </tr>\n",
              "    <tr>\n",
              "      <th>2</th>\n",
              "      <td>[0 businesses]</td>\n",
              "      <td>485</td>\n",
              "      <td>0.444954</td>\n",
              "      <td>413</td>\n",
              "      <td>72</td>\n",
              "      <td>0.148454</td>\n",
              "      <td>-0.05034</td>\n",
              "      <td>0.001148</td>\n",
              "      <td>0.000143</td>\n",
              "    </tr>\n",
              "    <tr>\n",
              "      <th>3</th>\n",
              "      <td>Special</td>\n",
              "      <td>0</td>\n",
              "      <td>0.000000</td>\n",
              "      <td>0</td>\n",
              "      <td>0</td>\n",
              "      <td>0.000000</td>\n",
              "      <td>0.0</td>\n",
              "      <td>0.000000</td>\n",
              "      <td>0.000000</td>\n",
              "    </tr>\n",
              "    <tr>\n",
              "      <th>4</th>\n",
              "      <td>Missing</td>\n",
              "      <td>0</td>\n",
              "      <td>0.000000</td>\n",
              "      <td>0</td>\n",
              "      <td>0</td>\n",
              "      <td>0.000000</td>\n",
              "      <td>0.0</td>\n",
              "      <td>0.000000</td>\n",
              "      <td>0.000000</td>\n",
              "    </tr>\n",
              "    <tr>\n",
              "      <th>Totals</th>\n",
              "      <td></td>\n",
              "      <td>1090</td>\n",
              "      <td>1.000000</td>\n",
              "      <td>935</td>\n",
              "      <td>155</td>\n",
              "      <td>0.142202</td>\n",
              "      <td></td>\n",
              "      <td>0.021647</td>\n",
              "      <td>0.002667</td>\n",
              "    </tr>\n",
              "  </tbody>\n",
              "</table>\n",
              "</div>"
            ],
            "text/plain": [
              "                                                      Bin  ...        JS\n",
              "0       [3-5 businesses, More than 5 businesses, 2 bus...  ...  0.002497\n",
              "1                                            [1 business]  ...  0.000026\n",
              "2                                          [0 businesses]  ...  0.000143\n",
              "3                                                 Special  ...  0.000000\n",
              "4                                                 Missing  ...  0.000000\n",
              "Totals                                                     ...  0.002667\n",
              "\n",
              "[6 rows x 9 columns]"
            ]
          },
          "metadata": {},
          "execution_count": 92
        }
      ]
    },
    {
      "cell_type": "code",
      "metadata": {
        "colab": {
          "base_uri": "https://localhost:8080/"
        },
        "id": "-6q5XFd39lGj",
        "outputId": "268f485d-3fab-4452-dcd9-b6e615472c58"
      },
      "source": [
        "binning_table.plot(metric=\"woe\")"
      ],
      "execution_count": null,
      "outputs": [
        {
          "output_type": "display_data",
          "data": {
            "image/png": "[encoded data removed]",
            "text/plain": [
              "<Figure size 432x288 with 2 Axes>"
            ]
          },
          "metadata": {
            "needs_background": "light"
          }
        }
      ]
    },
    {
      "cell_type": "markdown",
      "metadata": {
        "id": "NE9NSVcLdvNW"
      },
      "source": [
        "# **Family_descision_maker**"
      ]
    },
    {
      "cell_type": "code",
      "metadata": {
        "colab": {
          "base_uri": "https://localhost:8080/"
        },
        "id": "GTWcUSnrdvNW",
        "outputId": "cc54dae8-c734-4398-cf24-118b82174632"
      },
      "source": [
        "dataset[\"family_descision_maker\"].value_counts()"
      ],
      "execution_count": null,
      "outputs": [
        {
          "output_type": "execute_result",
          "data": {
            "text/plain": [
              "Husband                      3054\n",
              "Everyone in the household    1822\n",
              "Wife                          514\n",
              "Child (son/daughter)           57\n",
              "Name: family_descision_maker, dtype: int64"
            ]
          },
          "metadata": {},
          "execution_count": 94
        }
      ]
    },
    {
      "cell_type": "code",
      "metadata": {
        "id": "2LnPBdHmdvNX"
      },
      "source": [
        "variable = \"family_descision_maker\"\n",
        "x = df_inputs_test[variable].values\n",
        "y = df_targets_test"
      ],
      "execution_count": null,
      "outputs": []
    },
    {
      "cell_type": "code",
      "metadata": {
        "id": "U06_oxRLdvNX"
      },
      "source": [
        "optb = OptimalBinning(name=variable, dtype=\"categorical\", solver=\"cp\")"
      ],
      "execution_count": null,
      "outputs": []
    },
    {
      "cell_type": "code",
      "metadata": {
        "colab": {
          "base_uri": "https://localhost:8080/"
        },
        "id": "y-hoh6EUdvNX",
        "outputId": "80d8c6f2-3447-4921-a371-315c0569e63f"
      },
      "source": [
        "optb.fit(x, y)"
      ],
      "execution_count": null,
      "outputs": [
        {
          "output_type": "execute_result",
          "data": {
            "text/plain": [
              "OptimalBinning(cat_cutoff=None, class_weight=None, divergence='iv',\n",
              "               dtype='categorical', gamma=0, max_bin_n_event=None,\n",
              "               max_bin_n_nonevent=None, max_bin_size=None, max_n_bins=None,\n",
              "               max_n_prebins=20, max_pvalue=None,\n",
              "               max_pvalue_policy='consecutive', min_bin_n_event=None,\n",
              "               min_bin_n_nonevent=None, min_bin_size=None,\n",
              "               min_event_rate_diff=0, min_n_bins=None, min_prebin_size=0.05,\n",
              "               mip_solver='bop', monotonic_trend='auto',\n",
              "               name='family_descision_maker', outlier_detector=None,\n",
              "               outlier_params=None, prebinning_method='cart', solver='cp',\n",
              "               special_codes=None, split_digits=None, time_limit=100,\n",
              "               user_splits=None, user_splits_fixed=None, ...)"
            ]
          },
          "metadata": {},
          "execution_count": 97
        }
      ]
    },
    {
      "cell_type": "code",
      "metadata": {
        "colab": {
          "base_uri": "https://localhost:8080/"
        },
        "id": "-2RsSysXdvNX",
        "outputId": "da7eb7ad-ecb2-47ba-8df5-e07ff62a9399"
      },
      "source": [
        "optb.status"
      ],
      "execution_count": null,
      "outputs": [
        {
          "output_type": "execute_result",
          "data": {
            "application/vnd.google.colaboratory.intrinsic+json": {
              "type": "string"
            },
            "text/plain": [
              "'OPTIMAL'"
            ]
          },
          "metadata": {},
          "execution_count": 98
        }
      ]
    },
    {
      "cell_type": "code",
      "metadata": {
        "colab": {
          "base_uri": "https://localhost:8080/"
        },
        "id": "QvNugH0wdvNX",
        "outputId": "e6722e9a-6bb0-4607-ac38-60e82feb6031"
      },
      "source": [
        "optb.splits"
      ],
      "execution_count": null,
      "outputs": [
        {
          "output_type": "execute_result",
          "data": {
            "text/plain": [
              "[array(['Wife'], dtype=object),\n",
              " array(['Child (son/daughter)', 'Husband'], dtype=object),\n",
              " array(['Everyone in the household'], dtype=object)]"
            ]
          },
          "metadata": {},
          "execution_count": 99
        }
      ]
    },
    {
      "cell_type": "code",
      "metadata": {
        "id": "dsMzxgF5dvNX"
      },
      "source": [
        "binning_table = optb.binning_table"
      ],
      "execution_count": null,
      "outputs": []
    },
    {
      "cell_type": "code",
      "metadata": {
        "colab": {
          "base_uri": "https://localhost:8080/"
        },
        "id": "N50drFJwdvNX",
        "outputId": "80cca3e1-4012-4674-d639-1e26d25a6d0d"
      },
      "source": [
        "binning_table.build()"
      ],
      "execution_count": null,
      "outputs": [
        {
          "output_type": "execute_result",
          "data": {
            "text/html": [
              "<div>\n",
              "<style scoped>\n",
              "    .dataframe tbody tr th:only-of-type {\n",
              "        vertical-align: middle;\n",
              "    }\n",
              "\n",
              "    .dataframe tbody tr th {\n",
              "        vertical-align: top;\n",
              "    }\n",
              "\n",
              "    .dataframe thead th {\n",
              "        text-align: right;\n",
              "    }\n",
              "</style>\n",
              "<table border=\"1\" class=\"dataframe\">\n",
              "  <thead>\n",
              "    <tr style=\"text-align: right;\">\n",
              "      <th></th>\n",
              "      <th>Bin</th>\n",
              "      <th>Count</th>\n",
              "      <th>Count (%)</th>\n",
              "      <th>Non-event</th>\n",
              "      <th>Event</th>\n",
              "      <th>Event rate</th>\n",
              "      <th>WoE</th>\n",
              "      <th>IV</th>\n",
              "      <th>JS</th>\n",
              "    </tr>\n",
              "  </thead>\n",
              "  <tbody>\n",
              "    <tr>\n",
              "      <th>0</th>\n",
              "      <td>[Wife]</td>\n",
              "      <td>106</td>\n",
              "      <td>0.097248</td>\n",
              "      <td>94</td>\n",
              "      <td>12</td>\n",
              "      <td>0.113208</td>\n",
              "      <td>0.261267</td>\n",
              "      <td>0.006039</td>\n",
              "      <td>0.000753</td>\n",
              "    </tr>\n",
              "    <tr>\n",
              "      <th>1</th>\n",
              "      <td>[Child (son/daughter), Husband]</td>\n",
              "      <td>633</td>\n",
              "      <td>0.580734</td>\n",
              "      <td>542</td>\n",
              "      <td>91</td>\n",
              "      <td>0.143760</td>\n",
              "      <td>-0.012715</td>\n",
              "      <td>0.000094</td>\n",
              "      <td>0.000012</td>\n",
              "    </tr>\n",
              "    <tr>\n",
              "      <th>2</th>\n",
              "      <td>[Everyone in the household]</td>\n",
              "      <td>351</td>\n",
              "      <td>0.322018</td>\n",
              "      <td>299</td>\n",
              "      <td>52</td>\n",
              "      <td>0.148148</td>\n",
              "      <td>-0.047922</td>\n",
              "      <td>0.000752</td>\n",
              "      <td>0.000094</td>\n",
              "    </tr>\n",
              "    <tr>\n",
              "      <th>3</th>\n",
              "      <td>Special</td>\n",
              "      <td>0</td>\n",
              "      <td>0.000000</td>\n",
              "      <td>0</td>\n",
              "      <td>0</td>\n",
              "      <td>0.000000</td>\n",
              "      <td>0.0</td>\n",
              "      <td>0.000000</td>\n",
              "      <td>0.000000</td>\n",
              "    </tr>\n",
              "    <tr>\n",
              "      <th>4</th>\n",
              "      <td>Missing</td>\n",
              "      <td>0</td>\n",
              "      <td>0.000000</td>\n",
              "      <td>0</td>\n",
              "      <td>0</td>\n",
              "      <td>0.000000</td>\n",
              "      <td>0.0</td>\n",
              "      <td>0.000000</td>\n",
              "      <td>0.000000</td>\n",
              "    </tr>\n",
              "    <tr>\n",
              "      <th>Totals</th>\n",
              "      <td></td>\n",
              "      <td>1090</td>\n",
              "      <td>1.000000</td>\n",
              "      <td>935</td>\n",
              "      <td>155</td>\n",
              "      <td>0.142202</td>\n",
              "      <td></td>\n",
              "      <td>0.006886</td>\n",
              "      <td>0.000859</td>\n",
              "    </tr>\n",
              "  </tbody>\n",
              "</table>\n",
              "</div>"
            ],
            "text/plain": [
              "                                    Bin  Count  ...        IV        JS\n",
              "0                                [Wife]    106  ...  0.006039  0.000753\n",
              "1       [Child (son/daughter), Husband]    633  ...  0.000094  0.000012\n",
              "2           [Everyone in the household]    351  ...  0.000752  0.000094\n",
              "3                               Special      0  ...  0.000000  0.000000\n",
              "4                               Missing      0  ...  0.000000  0.000000\n",
              "Totals                                    1090  ...  0.006886  0.000859\n",
              "\n",
              "[6 rows x 9 columns]"
            ]
          },
          "metadata": {},
          "execution_count": 101
        }
      ]
    },
    {
      "cell_type": "code",
      "metadata": {
        "colab": {
          "base_uri": "https://localhost:8080/"
        },
        "id": "xRjnPqDqdvNY",
        "outputId": "51ba3721-bd7a-451a-f001-ee276ce87ef5"
      },
      "source": [
        "binning_table.plot(metric=\"woe\")"
      ],
      "execution_count": null,
      "outputs": [
        {
          "output_type": "display_data",
          "data": {
            "image/png": "[encoded data removed]",
            "text/plain": [
              "<Figure size 432x288 with 2 Axes>"
            ]
          },
          "metadata": {
            "needs_background": "light"
          }
        }
      ]
    },
    {
      "cell_type": "markdown",
      "metadata": {
        "id": "vdVPEpUIgRrv"
      },
      "source": [
        "# **Netincome1_business**"
      ]
    },
    {
      "cell_type": "code",
      "metadata": {
        "colab": {
          "base_uri": "https://localhost:8080/"
        },
        "id": "oCEi309QgRrw",
        "outputId": "bec5c9da-d96a-440b-d5a7-5910488349f6"
      },
      "source": [
        "dataset[\"netincome1_business\"].value_counts()"
      ],
      "execution_count": null,
      "outputs": [
        {
          "output_type": "execute_result",
          "data": {
            "text/plain": [
              "0.00     2577\n",
              "50.00     319\n",
              "60.00     164\n",
              "66.67     160\n",
              "40.00     130\n",
              "         ... \n",
              "64.81       1\n",
              "64.91       1\n",
              "57.08       1\n",
              "95.38       1\n",
              "75.33       1\n",
              "Name: netincome1_business, Length: 784, dtype: int64"
            ]
          },
          "metadata": {},
          "execution_count": 103
        }
      ]
    },
    {
      "cell_type": "code",
      "metadata": {
        "id": "ZCS2C-HggRrw"
      },
      "source": [
        "variable = \"netincome1_business\"\n",
        "x = df_inputs_test[variable].values\n",
        "y = df_targets_test"
      ],
      "execution_count": null,
      "outputs": []
    },
    {
      "cell_type": "code",
      "metadata": {
        "id": "rcg4hxEjgRrw"
      },
      "source": [
        "optb = OptimalBinning(name=variable, dtype=\"numerical\", solver=\"cp\")"
      ],
      "execution_count": null,
      "outputs": []
    },
    {
      "cell_type": "code",
      "metadata": {
        "colab": {
          "base_uri": "https://localhost:8080/"
        },
        "id": "jJPskNQCgRrw",
        "outputId": "a273b638-3085-4fea-e2a1-f6faacc6d322"
      },
      "source": [
        "optb.fit(x, y)"
      ],
      "execution_count": null,
      "outputs": [
        {
          "output_type": "execute_result",
          "data": {
            "text/plain": [
              "OptimalBinning(cat_cutoff=None, class_weight=None, divergence='iv',\n",
              "               dtype='numerical', gamma=0, max_bin_n_event=None,\n",
              "               max_bin_n_nonevent=None, max_bin_size=None, max_n_bins=None,\n",
              "               max_n_prebins=20, max_pvalue=None,\n",
              "               max_pvalue_policy='consecutive', min_bin_n_event=None,\n",
              "               min_bin_n_nonevent=None, min_bin_size=None,\n",
              "               min_event_rate_diff=0, min_n_bins=None, min_prebin_size=0.05,\n",
              "               mip_solver='bop', monotonic_trend='auto',\n",
              "               name='netincome1_business', outlier_detector=None,\n",
              "               outlier_params=None, prebinning_method='cart', solver='cp',\n",
              "               special_codes=None, split_digits=None, time_limit=100,\n",
              "               user_splits=None, user_splits_fixed=None, ...)"
            ]
          },
          "metadata": {},
          "execution_count": 106
        }
      ]
    },
    {
      "cell_type": "code",
      "metadata": {
        "colab": {
          "base_uri": "https://localhost:8080/"
        },
        "id": "cmYsHoFwgRrw",
        "outputId": "3c6a4822-0c90-4761-ed1e-9e1591e1a61d"
      },
      "source": [
        "optb.status"
      ],
      "execution_count": null,
      "outputs": [
        {
          "output_type": "execute_result",
          "data": {
            "application/vnd.google.colaboratory.intrinsic+json": {
              "type": "string"
            },
            "text/plain": [
              "'OPTIMAL'"
            ]
          },
          "metadata": {},
          "execution_count": 107
        }
      ]
    },
    {
      "cell_type": "code",
      "metadata": {
        "colab": {
          "base_uri": "https://localhost:8080/"
        },
        "id": "2BDWgPd4gRrw",
        "outputId": "ffc34b05-c9a3-46fb-94ad-3371020d25a2"
      },
      "source": [
        "optb.splits"
      ],
      "execution_count": null,
      "outputs": [
        {
          "output_type": "execute_result",
          "data": {
            "text/plain": [
              "array([15.625     , 33.66500092, 42.68000031, 71.27000046])"
            ]
          },
          "metadata": {},
          "execution_count": 108
        }
      ]
    },
    {
      "cell_type": "code",
      "metadata": {
        "id": "0dScbFqBgRrx"
      },
      "source": [
        "binning_table = optb.binning_table"
      ],
      "execution_count": null,
      "outputs": []
    },
    {
      "cell_type": "code",
      "metadata": {
        "colab": {
          "base_uri": "https://localhost:8080/"
        },
        "id": "rB8VoZTbgRrx",
        "outputId": "8019f2e5-c2cb-47c1-ae25-2d4833580fe5"
      },
      "source": [
        "binning_table.build()"
      ],
      "execution_count": null,
      "outputs": [
        {
          "output_type": "execute_result",
          "data": {
            "text/html": [
              "<div>\n",
              "<style scoped>\n",
              "    .dataframe tbody tr th:only-of-type {\n",
              "        vertical-align: middle;\n",
              "    }\n",
              "\n",
              "    .dataframe tbody tr th {\n",
              "        vertical-align: top;\n",
              "    }\n",
              "\n",
              "    .dataframe thead th {\n",
              "        text-align: right;\n",
              "    }\n",
              "</style>\n",
              "<table border=\"1\" class=\"dataframe\">\n",
              "  <thead>\n",
              "    <tr style=\"text-align: right;\">\n",
              "      <th></th>\n",
              "      <th>Bin</th>\n",
              "      <th>Count</th>\n",
              "      <th>Count (%)</th>\n",
              "      <th>Non-event</th>\n",
              "      <th>Event</th>\n",
              "      <th>Event rate</th>\n",
              "      <th>WoE</th>\n",
              "      <th>IV</th>\n",
              "      <th>JS</th>\n",
              "    </tr>\n",
              "  </thead>\n",
              "  <tbody>\n",
              "    <tr>\n",
              "      <th>0</th>\n",
              "      <td>(-inf, 15.62)</td>\n",
              "      <td>608</td>\n",
              "      <td>0.557798</td>\n",
              "      <td>517</td>\n",
              "      <td>91</td>\n",
              "      <td>0.149671</td>\n",
              "      <td>-0.059938</td>\n",
              "      <td>0.002047</td>\n",
              "      <td>0.000256</td>\n",
              "    </tr>\n",
              "    <tr>\n",
              "      <th>1</th>\n",
              "      <td>[15.62, 33.67)</td>\n",
              "      <td>73</td>\n",
              "      <td>0.066972</td>\n",
              "      <td>65</td>\n",
              "      <td>8</td>\n",
              "      <td>0.109589</td>\n",
              "      <td>0.297824</td>\n",
              "      <td>0.005333</td>\n",
              "      <td>0.000664</td>\n",
              "    </tr>\n",
              "    <tr>\n",
              "      <th>2</th>\n",
              "      <td>[33.67, 42.68)</td>\n",
              "      <td>59</td>\n",
              "      <td>0.054128</td>\n",
              "      <td>57</td>\n",
              "      <td>2</td>\n",
              "      <td>0.033898</td>\n",
              "      <td>1.552783</td>\n",
              "      <td>0.074626</td>\n",
              "      <td>0.008491</td>\n",
              "    </tr>\n",
              "    <tr>\n",
              "      <th>3</th>\n",
              "      <td>[42.68, 71.27)</td>\n",
              "      <td>235</td>\n",
              "      <td>0.215596</td>\n",
              "      <td>202</td>\n",
              "      <td>33</td>\n",
              "      <td>0.140426</td>\n",
              "      <td>0.014639</td>\n",
              "      <td>0.000046</td>\n",
              "      <td>0.000006</td>\n",
              "    </tr>\n",
              "    <tr>\n",
              "      <th>4</th>\n",
              "      <td>[71.27, inf)</td>\n",
              "      <td>115</td>\n",
              "      <td>0.105505</td>\n",
              "      <td>94</td>\n",
              "      <td>21</td>\n",
              "      <td>0.182609</td>\n",
              "      <td>-0.298349</td>\n",
              "      <td>0.010427</td>\n",
              "      <td>0.001299</td>\n",
              "    </tr>\n",
              "    <tr>\n",
              "      <th>5</th>\n",
              "      <td>Special</td>\n",
              "      <td>0</td>\n",
              "      <td>0.000000</td>\n",
              "      <td>0</td>\n",
              "      <td>0</td>\n",
              "      <td>0.000000</td>\n",
              "      <td>0.0</td>\n",
              "      <td>0.000000</td>\n",
              "      <td>0.000000</td>\n",
              "    </tr>\n",
              "    <tr>\n",
              "      <th>6</th>\n",
              "      <td>Missing</td>\n",
              "      <td>0</td>\n",
              "      <td>0.000000</td>\n",
              "      <td>0</td>\n",
              "      <td>0</td>\n",
              "      <td>0.000000</td>\n",
              "      <td>0.0</td>\n",
              "      <td>0.000000</td>\n",
              "      <td>0.000000</td>\n",
              "    </tr>\n",
              "    <tr>\n",
              "      <th>Totals</th>\n",
              "      <td></td>\n",
              "      <td>1090</td>\n",
              "      <td>1.000000</td>\n",
              "      <td>935</td>\n",
              "      <td>155</td>\n",
              "      <td>0.142202</td>\n",
              "      <td></td>\n",
              "      <td>0.092479</td>\n",
              "      <td>0.010716</td>\n",
              "    </tr>\n",
              "  </tbody>\n",
              "</table>\n",
              "</div>"
            ],
            "text/plain": [
              "                   Bin  Count  Count (%)  ...       WoE        IV        JS\n",
              "0        (-inf, 15.62)    608   0.557798  ... -0.059938  0.002047  0.000256\n",
              "1       [15.62, 33.67)     73   0.066972  ...  0.297824  0.005333  0.000664\n",
              "2       [33.67, 42.68)     59   0.054128  ...  1.552783  0.074626  0.008491\n",
              "3       [42.68, 71.27)    235   0.215596  ...  0.014639  0.000046  0.000006\n",
              "4         [71.27, inf)    115   0.105505  ... -0.298349  0.010427  0.001299\n",
              "5              Special      0   0.000000  ...       0.0  0.000000  0.000000\n",
              "6              Missing      0   0.000000  ...       0.0  0.000000  0.000000\n",
              "Totals                   1090   1.000000  ...            0.092479  0.010716\n",
              "\n",
              "[8 rows x 9 columns]"
            ]
          },
          "metadata": {},
          "execution_count": 110
        }
      ]
    },
    {
      "cell_type": "code",
      "metadata": {
        "colab": {
          "base_uri": "https://localhost:8080/"
        },
        "id": "8gX7gINsgRrx",
        "outputId": "7234dfce-4b62-41b5-adb0-2191d1437656"
      },
      "source": [
        "binning_table.plot(metric=\"woe\")"
      ],
      "execution_count": null,
      "outputs": [
        {
          "output_type": "display_data",
          "data": {
            "image/png": "[encoded data removed]",
            "text/plain": [
              "<Figure size 432x288 with 2 Axes>"
            ]
          },
          "metadata": {
            "needs_background": "light"
          }
        }
      ]
    },
    {
      "cell_type": "markdown",
      "metadata": {
        "id": "y4lAXudFjM6_"
      },
      "source": [
        "# **Netincome2_business**"
      ]
    },
    {
      "cell_type": "code",
      "metadata": {
        "colab": {
          "base_uri": "https://localhost:8080/"
        },
        "id": "XTzhaaSBjM7A",
        "outputId": "14755475-4623-43c7-bd05-4db7de340fd4"
      },
      "source": [
        "dataset[\"netincome2_business\"].value_counts()"
      ],
      "execution_count": null,
      "outputs": [
        {
          "output_type": "execute_result",
          "data": {
            "text/plain": [
              " 0.00      2226\n",
              " 50.00      311\n",
              " 60.00      170\n",
              " 66.67      166\n",
              " 40.00      134\n",
              "           ... \n",
              "-48.44        1\n",
              "-760.00       1\n",
              " 26.09        1\n",
              "-298.89       1\n",
              " 86.96        1\n",
              "Name: netincome2_business, Length: 970, dtype: int64"
            ]
          },
          "metadata": {},
          "execution_count": 112
        }
      ]
    },
    {
      "cell_type": "code",
      "metadata": {
        "id": "VfsJeKwRjM7B"
      },
      "source": [
        "variable = \"netincome2_business\"\n",
        "x = df_inputs_test[variable].values\n",
        "y = df_targets_test"
      ],
      "execution_count": null,
      "outputs": []
    },
    {
      "cell_type": "code",
      "metadata": {
        "id": "hkormpmXjM7B"
      },
      "source": [
        "optb = OptimalBinning(name=variable, dtype=\"numerical\", solver=\"cp\")"
      ],
      "execution_count": null,
      "outputs": []
    },
    {
      "cell_type": "code",
      "metadata": {
        "colab": {
          "base_uri": "https://localhost:8080/"
        },
        "id": "6i1qHd89jM7B",
        "outputId": "004fa3f8-05c9-4d93-bf88-8ecbe2fc39b2"
      },
      "source": [
        "optb.fit(x, y)"
      ],
      "execution_count": null,
      "outputs": [
        {
          "output_type": "execute_result",
          "data": {
            "text/plain": [
              "OptimalBinning(cat_cutoff=None, class_weight=None, divergence='iv',\n",
              "               dtype='numerical', gamma=0, max_bin_n_event=None,\n",
              "               max_bin_n_nonevent=None, max_bin_size=None, max_n_bins=None,\n",
              "               max_n_prebins=20, max_pvalue=None,\n",
              "               max_pvalue_policy='consecutive', min_bin_n_event=None,\n",
              "               min_bin_n_nonevent=None, min_bin_size=None,\n",
              "               min_event_rate_diff=0, min_n_bins=None, min_prebin_size=0.05,\n",
              "               mip_solver='bop', monotonic_trend='auto',\n",
              "               name='netincome2_business', outlier_detector=None,\n",
              "               outlier_params=None, prebinning_method='cart', solver='cp',\n",
              "               special_codes=None, split_digits=None, time_limit=100,\n",
              "               user_splits=None, user_splits_fixed=None, ...)"
            ]
          },
          "metadata": {},
          "execution_count": 115
        }
      ]
    },
    {
      "cell_type": "code",
      "metadata": {
        "colab": {
          "base_uri": "https://localhost:8080/"
        },
        "id": "ifqMJYnejM7B",
        "outputId": "be2da742-59a6-4b48-f509-4fe3983b92b1"
      },
      "source": [
        "optb.status"
      ],
      "execution_count": null,
      "outputs": [
        {
          "output_type": "execute_result",
          "data": {
            "application/vnd.google.colaboratory.intrinsic+json": {
              "type": "string"
            },
            "text/plain": [
              "'OPTIMAL'"
            ]
          },
          "metadata": {},
          "execution_count": 116
        }
      ]
    },
    {
      "cell_type": "code",
      "metadata": {
        "colab": {
          "base_uri": "https://localhost:8080/"
        },
        "id": "kcz7uLFhjM7C",
        "outputId": "93a305b8-7e79-42cf-e138-f11271f5912b"
      },
      "source": [
        "optb.splits"
      ],
      "execution_count": null,
      "outputs": [
        {
          "output_type": "execute_result",
          "data": {
            "text/plain": [
              "array([-32.40500069,  15.28999996,  33.66500092,  48.64500046,\n",
              "        74.04999924,  81.88999939])"
            ]
          },
          "metadata": {},
          "execution_count": 117
        }
      ]
    },
    {
      "cell_type": "code",
      "metadata": {
        "id": "GXHQQw-DjM7C"
      },
      "source": [
        "binning_table = optb.binning_table"
      ],
      "execution_count": null,
      "outputs": []
    },
    {
      "cell_type": "code",
      "metadata": {
        "colab": {
          "base_uri": "https://localhost:8080/"
        },
        "id": "WNmehzkSjM7C",
        "outputId": "7de7783a-7d82-4abe-98fd-c39f47f485ce"
      },
      "source": [
        "binning_table.build()"
      ],
      "execution_count": null,
      "outputs": [
        {
          "output_type": "execute_result",
          "data": {
            "text/html": [
              "<div>\n",
              "<style scoped>\n",
              "    .dataframe tbody tr th:only-of-type {\n",
              "        vertical-align: middle;\n",
              "    }\n",
              "\n",
              "    .dataframe tbody tr th {\n",
              "        vertical-align: top;\n",
              "    }\n",
              "\n",
              "    .dataframe thead th {\n",
              "        text-align: right;\n",
              "    }\n",
              "</style>\n",
              "<table border=\"1\" class=\"dataframe\">\n",
              "  <thead>\n",
              "    <tr style=\"text-align: right;\">\n",
              "      <th></th>\n",
              "      <th>Bin</th>\n",
              "      <th>Count</th>\n",
              "      <th>Count (%)</th>\n",
              "      <th>Non-event</th>\n",
              "      <th>Event</th>\n",
              "      <th>Event rate</th>\n",
              "      <th>WoE</th>\n",
              "      <th>IV</th>\n",
              "      <th>JS</th>\n",
              "    </tr>\n",
              "  </thead>\n",
              "  <tbody>\n",
              "    <tr>\n",
              "      <th>0</th>\n",
              "      <td>(-inf, -32.41)</td>\n",
              "      <td>55</td>\n",
              "      <td>0.050459</td>\n",
              "      <td>43</td>\n",
              "      <td>12</td>\n",
              "      <td>0.218182</td>\n",
              "      <td>-0.520828</td>\n",
              "      <td>0.016370</td>\n",
              "      <td>0.002023</td>\n",
              "    </tr>\n",
              "    <tr>\n",
              "      <th>1</th>\n",
              "      <td>[-32.41, 15.29)</td>\n",
              "      <td>470</td>\n",
              "      <td>0.431193</td>\n",
              "      <td>405</td>\n",
              "      <td>65</td>\n",
              "      <td>0.138298</td>\n",
              "      <td>0.032378</td>\n",
              "      <td>0.000447</td>\n",
              "      <td>0.000056</td>\n",
              "    </tr>\n",
              "    <tr>\n",
              "      <th>2</th>\n",
              "      <td>[15.29, 33.67)</td>\n",
              "      <td>76</td>\n",
              "      <td>0.069725</td>\n",
              "      <td>68</td>\n",
              "      <td>8</td>\n",
              "      <td>0.105263</td>\n",
              "      <td>0.342945</td>\n",
              "      <td>0.007241</td>\n",
              "      <td>0.000901</td>\n",
              "    </tr>\n",
              "    <tr>\n",
              "      <th>3</th>\n",
              "      <td>[33.67, 48.65)</td>\n",
              "      <td>94</td>\n",
              "      <td>0.086239</td>\n",
              "      <td>87</td>\n",
              "      <td>7</td>\n",
              "      <td>0.074468</td>\n",
              "      <td>0.722877</td>\n",
              "      <td>0.034616</td>\n",
              "      <td>0.004235</td>\n",
              "    </tr>\n",
              "    <tr>\n",
              "      <th>4</th>\n",
              "      <td>[48.65, 74.05)</td>\n",
              "      <td>254</td>\n",
              "      <td>0.233028</td>\n",
              "      <td>217</td>\n",
              "      <td>37</td>\n",
              "      <td>0.145669</td>\n",
              "      <td>-0.028142</td>\n",
              "      <td>0.000186</td>\n",
              "      <td>0.000023</td>\n",
              "    </tr>\n",
              "    <tr>\n",
              "      <th>5</th>\n",
              "      <td>[74.05, 81.89)</td>\n",
              "      <td>69</td>\n",
              "      <td>0.063303</td>\n",
              "      <td>57</td>\n",
              "      <td>12</td>\n",
              "      <td>0.173913</td>\n",
              "      <td>-0.238977</td>\n",
              "      <td>0.003933</td>\n",
              "      <td>0.000490</td>\n",
              "    </tr>\n",
              "    <tr>\n",
              "      <th>6</th>\n",
              "      <td>[81.89, inf)</td>\n",
              "      <td>72</td>\n",
              "      <td>0.066055</td>\n",
              "      <td>58</td>\n",
              "      <td>14</td>\n",
              "      <td>0.194444</td>\n",
              "      <td>-0.375736</td>\n",
              "      <td>0.010630</td>\n",
              "      <td>0.001321</td>\n",
              "    </tr>\n",
              "    <tr>\n",
              "      <th>7</th>\n",
              "      <td>Special</td>\n",
              "      <td>0</td>\n",
              "      <td>0.000000</td>\n",
              "      <td>0</td>\n",
              "      <td>0</td>\n",
              "      <td>0.000000</td>\n",
              "      <td>0.0</td>\n",
              "      <td>0.000000</td>\n",
              "      <td>0.000000</td>\n",
              "    </tr>\n",
              "    <tr>\n",
              "      <th>8</th>\n",
              "      <td>Missing</td>\n",
              "      <td>0</td>\n",
              "      <td>0.000000</td>\n",
              "      <td>0</td>\n",
              "      <td>0</td>\n",
              "      <td>0.000000</td>\n",
              "      <td>0.0</td>\n",
              "      <td>0.000000</td>\n",
              "      <td>0.000000</td>\n",
              "    </tr>\n",
              "    <tr>\n",
              "      <th>Totals</th>\n",
              "      <td></td>\n",
              "      <td>1090</td>\n",
              "      <td>1.000000</td>\n",
              "      <td>935</td>\n",
              "      <td>155</td>\n",
              "      <td>0.142202</td>\n",
              "      <td></td>\n",
              "      <td>0.073423</td>\n",
              "      <td>0.009050</td>\n",
              "    </tr>\n",
              "  </tbody>\n",
              "</table>\n",
              "</div>"
            ],
            "text/plain": [
              "                    Bin  Count  Count (%)  ...       WoE        IV        JS\n",
              "0        (-inf, -32.41)     55   0.050459  ... -0.520828  0.016370  0.002023\n",
              "1       [-32.41, 15.29)    470   0.431193  ...  0.032378  0.000447  0.000056\n",
              "2        [15.29, 33.67)     76   0.069725  ...  0.342945  0.007241  0.000901\n",
              "3        [33.67, 48.65)     94   0.086239  ...  0.722877  0.034616  0.004235\n",
              "4        [48.65, 74.05)    254   0.233028  ... -0.028142  0.000186  0.000023\n",
              "5        [74.05, 81.89)     69   0.063303  ... -0.238977  0.003933  0.000490\n",
              "6          [81.89, inf)     72   0.066055  ... -0.375736  0.010630  0.001321\n",
              "7               Special      0   0.000000  ...       0.0  0.000000  0.000000\n",
              "8               Missing      0   0.000000  ...       0.0  0.000000  0.000000\n",
              "Totals                    1090   1.000000  ...            0.073423  0.009050\n",
              "\n",
              "[10 rows x 9 columns]"
            ]
          },
          "metadata": {},
          "execution_count": 119
        }
      ]
    },
    {
      "cell_type": "code",
      "metadata": {
        "colab": {
          "base_uri": "https://localhost:8080/"
        },
        "id": "eKvvE0bBjM7C",
        "outputId": "2707b59b-3216-42fb-9fe8-a7f5e843e6ec"
      },
      "source": [
        "binning_table.plot(metric=\"woe\")"
      ],
      "execution_count": null,
      "outputs": [
        {
          "output_type": "display_data",
          "data": {
            "image/png": "[encoded data removed]",
            "text/plain": [
              "<Figure size 432x288 with 2 Axes>"
            ]
          },
          "metadata": {
            "needs_background": "light"
          }
        }
      ]
    },
    {
      "cell_type": "markdown",
      "metadata": {
        "id": "SkRTkrKm0DD5"
      },
      "source": [
        "# **Optbinning**"
      ]
    },
    {
      "cell_type": "markdown",
      "metadata": {
        "id": "FY3Q4PAv0Mpy"
      },
      "source": [
        "## **Duration with same employer**"
      ]
    },
    {
      "cell_type": "code",
      "metadata": {
        "colab": {
          "base_uri": "https://localhost:8080/"
        },
        "id": "LPpLJ3iw9sUq",
        "outputId": "22cc2dde-8279-44ad-febe-f95aaac08158"
      },
      "source": [
        "dataset[\"duration_with_same_employer\"].value_counts()"
      ],
      "execution_count": null,
      "outputs": [
        {
          "output_type": "execute_result",
          "data": {
            "text/plain": [
              "0-1 year             3588\n",
              "More than 5 years    1458\n",
              "2-5 years             297\n",
              "1-2 years             104\n",
              "Name: duration_with_same_employer, dtype: int64"
            ]
          },
          "metadata": {},
          "execution_count": 121
        }
      ]
    },
    {
      "cell_type": "code",
      "metadata": {
        "id": "S7ZuiCiv7tdn"
      },
      "source": [
        "variable = \"duration_with_same_employer\"\n",
        "x = df_inputs_test[variable].values\n",
        "y = df_targets_test"
      ],
      "execution_count": null,
      "outputs": []
    },
    {
      "cell_type": "code",
      "metadata": {
        "id": "15xSx01b7tdo"
      },
      "source": [
        "optb = OptimalBinning(name=variable, dtype=\"categorical\", solver=\"cp\")"
      ],
      "execution_count": null,
      "outputs": []
    },
    {
      "cell_type": "code",
      "metadata": {
        "colab": {
          "base_uri": "https://localhost:8080/"
        },
        "id": "4pUxiTAf7tdo",
        "outputId": "36e49332-a3b0-47e6-c1fe-49cafb024eaa"
      },
      "source": [
        "optb.fit(x, y)"
      ],
      "execution_count": null,
      "outputs": [
        {
          "output_type": "execute_result",
          "data": {
            "text/plain": [
              "OptimalBinning(cat_cutoff=None, class_weight=None, divergence='iv',\n",
              "               dtype='categorical', gamma=0, max_bin_n_event=None,\n",
              "               max_bin_n_nonevent=None, max_bin_size=None, max_n_bins=None,\n",
              "               max_n_prebins=20, max_pvalue=None,\n",
              "               max_pvalue_policy='consecutive', min_bin_n_event=None,\n",
              "               min_bin_n_nonevent=None, min_bin_size=None,\n",
              "               min_event_rate_diff=0, min_n_bins=None, min_prebin_size=0.05,\n",
              "               mip_solver='bop', monotonic_trend='auto',\n",
              "               name='duration_with_same_employer', outlier_detector=None,\n",
              "               outlier_params=None, prebinning_method='cart', solver='cp',\n",
              "               special_codes=None, split_digits=None, time_limit=100,\n",
              "               user_splits=None, user_splits_fixed=None, ...)"
            ]
          },
          "metadata": {},
          "execution_count": 124
        }
      ]
    },
    {
      "cell_type": "code",
      "metadata": {
        "colab": {
          "base_uri": "https://localhost:8080/"
        },
        "id": "rd6DPIoF7tdp",
        "outputId": "ce9f5a75-76fe-45c4-ffce-13b04bd028bc"
      },
      "source": [
        "optb.status"
      ],
      "execution_count": null,
      "outputs": [
        {
          "output_type": "execute_result",
          "data": {
            "application/vnd.google.colaboratory.intrinsic+json": {
              "type": "string"
            },
            "text/plain": [
              "'OPTIMAL'"
            ]
          },
          "metadata": {},
          "execution_count": 125
        }
      ]
    },
    {
      "cell_type": "code",
      "metadata": {
        "colab": {
          "base_uri": "https://localhost:8080/"
        },
        "id": "MaVHtSx87tdq",
        "outputId": "092e8053-dfbd-40e7-fcee-36eb9b613fbf"
      },
      "source": [
        "optb.splits"
      ],
      "execution_count": null,
      "outputs": [
        {
          "output_type": "execute_result",
          "data": {
            "text/plain": [
              "[array(['1-2 years', '2-5 years'], dtype=object),\n",
              " array(['More than 5 years'], dtype=object),\n",
              " array(['0-1 year'], dtype=object)]"
            ]
          },
          "metadata": {},
          "execution_count": 126
        }
      ]
    },
    {
      "cell_type": "code",
      "metadata": {
        "id": "RjXqsCF67tdr"
      },
      "source": [
        "binning_table = optb.binning_table"
      ],
      "execution_count": null,
      "outputs": []
    },
    {
      "cell_type": "code",
      "metadata": {
        "colab": {
          "base_uri": "https://localhost:8080/"
        },
        "id": "D5f461lE7tdr",
        "outputId": "9a88d1a9-6ecf-435d-c7f6-29b2857d635b"
      },
      "source": [
        "binning_table.build()"
      ],
      "execution_count": null,
      "outputs": [
        {
          "output_type": "execute_result",
          "data": {
            "text/html": [
              "<div>\n",
              "<style scoped>\n",
              "    .dataframe tbody tr th:only-of-type {\n",
              "        vertical-align: middle;\n",
              "    }\n",
              "\n",
              "    .dataframe tbody tr th {\n",
              "        vertical-align: top;\n",
              "    }\n",
              "\n",
              "    .dataframe thead th {\n",
              "        text-align: right;\n",
              "    }\n",
              "</style>\n",
              "<table border=\"1\" class=\"dataframe\">\n",
              "  <thead>\n",
              "    <tr style=\"text-align: right;\">\n",
              "      <th></th>\n",
              "      <th>Bin</th>\n",
              "      <th>Count</th>\n",
              "      <th>Count (%)</th>\n",
              "      <th>Non-event</th>\n",
              "      <th>Event</th>\n",
              "      <th>Event rate</th>\n",
              "      <th>WoE</th>\n",
              "      <th>IV</th>\n",
              "      <th>JS</th>\n",
              "    </tr>\n",
              "  </thead>\n",
              "  <tbody>\n",
              "    <tr>\n",
              "      <th>0</th>\n",
              "      <td>[1-2 years, 2-5 years]</td>\n",
              "      <td>99</td>\n",
              "      <td>0.090826</td>\n",
              "      <td>89</td>\n",
              "      <td>10</td>\n",
              "      <td>0.101010</td>\n",
              "      <td>0.38893</td>\n",
              "      <td>0.011929</td>\n",
              "      <td>0.001482</td>\n",
              "    </tr>\n",
              "    <tr>\n",
              "      <th>1</th>\n",
              "      <td>[More than 5 years]</td>\n",
              "      <td>270</td>\n",
              "      <td>0.247706</td>\n",
              "      <td>242</td>\n",
              "      <td>28</td>\n",
              "      <td>0.103704</td>\n",
              "      <td>0.359612</td>\n",
              "      <td>0.028114</td>\n",
              "      <td>0.003495</td>\n",
              "    </tr>\n",
              "    <tr>\n",
              "      <th>2</th>\n",
              "      <td>[0-1 year]</td>\n",
              "      <td>721</td>\n",
              "      <td>0.661468</td>\n",
              "      <td>604</td>\n",
              "      <td>117</td>\n",
              "      <td>0.162275</td>\n",
              "      <td>-0.155721</td>\n",
              "      <td>0.016950</td>\n",
              "      <td>0.002117</td>\n",
              "    </tr>\n",
              "    <tr>\n",
              "      <th>3</th>\n",
              "      <td>Special</td>\n",
              "      <td>0</td>\n",
              "      <td>0.000000</td>\n",
              "      <td>0</td>\n",
              "      <td>0</td>\n",
              "      <td>0.000000</td>\n",
              "      <td>0.0</td>\n",
              "      <td>0.000000</td>\n",
              "      <td>0.000000</td>\n",
              "    </tr>\n",
              "    <tr>\n",
              "      <th>4</th>\n",
              "      <td>Missing</td>\n",
              "      <td>0</td>\n",
              "      <td>0.000000</td>\n",
              "      <td>0</td>\n",
              "      <td>0</td>\n",
              "      <td>0.000000</td>\n",
              "      <td>0.0</td>\n",
              "      <td>0.000000</td>\n",
              "      <td>0.000000</td>\n",
              "    </tr>\n",
              "    <tr>\n",
              "      <th>Totals</th>\n",
              "      <td></td>\n",
              "      <td>1090</td>\n",
              "      <td>1.000000</td>\n",
              "      <td>935</td>\n",
              "      <td>155</td>\n",
              "      <td>0.142202</td>\n",
              "      <td></td>\n",
              "      <td>0.056993</td>\n",
              "      <td>0.007094</td>\n",
              "    </tr>\n",
              "  </tbody>\n",
              "</table>\n",
              "</div>"
            ],
            "text/plain": [
              "                           Bin  Count  Count (%)  ...       WoE        IV        JS\n",
              "0       [1-2 years, 2-5 years]     99   0.090826  ...   0.38893  0.011929  0.001482\n",
              "1          [More than 5 years]    270   0.247706  ...  0.359612  0.028114  0.003495\n",
              "2                   [0-1 year]    721   0.661468  ... -0.155721  0.016950  0.002117\n",
              "3                      Special      0   0.000000  ...       0.0  0.000000  0.000000\n",
              "4                      Missing      0   0.000000  ...       0.0  0.000000  0.000000\n",
              "Totals                           1090   1.000000  ...            0.056993  0.007094\n",
              "\n",
              "[6 rows x 9 columns]"
            ]
          },
          "metadata": {},
          "execution_count": 128
        }
      ]
    },
    {
      "cell_type": "code",
      "metadata": {
        "colab": {
          "base_uri": "https://localhost:8080/"
        },
        "id": "qjMXOHHb8N09",
        "outputId": "507d2a27-b5f9-43fb-bc0b-cb7c0a2e73c6"
      },
      "source": [
        "binning_table.plot(metric=\"woe\")"
      ],
      "execution_count": null,
      "outputs": [
        {
          "output_type": "display_data",
          "data": {
            "image/png": "[encoded data removed]",
            "text/plain": [
              "<Figure size 432x288 with 2 Axes>"
            ]
          },
          "metadata": {
            "needs_background": "light"
          }
        }
      ]
    },
    {
      "cell_type": "markdown",
      "metadata": {
        "id": "n2a_4BAn0UNl"
      },
      "source": [
        "## **No of jobs before**"
      ]
    },
    {
      "cell_type": "code",
      "metadata": {
        "colab": {
          "base_uri": "https://localhost:8080/"
        },
        "id": "OLXlG3LS9d2p",
        "outputId": "1043adf3-1af4-4f34-da8d-3b6c7e0e5a72"
      },
      "source": [
        "dataset[\"number_of_jobs_before\"].value_counts()"
      ],
      "execution_count": null,
      "outputs": [
        {
          "output_type": "execute_result",
          "data": {
            "text/plain": [
              "0-1 jobs            5159\n",
              "2-3 jobs             249\n",
              "More than 5 jobs      32\n",
              "4-5 jobs               7\n",
              "Name: number_of_jobs_before, dtype: int64"
            ]
          },
          "metadata": {},
          "execution_count": 130
        }
      ]
    },
    {
      "cell_type": "code",
      "metadata": {
        "id": "SG6zfL_X8UVN"
      },
      "source": [
        "variable = \"number_of_jobs_before\"\n",
        "x = df_inputs_test[variable].values\n",
        "y = df_targets_test"
      ],
      "execution_count": null,
      "outputs": []
    },
    {
      "cell_type": "code",
      "metadata": {
        "id": "VH1vQntA8UVP"
      },
      "source": [
        "optb = OptimalBinning(name=variable, dtype=\"categorical\", solver=\"cp\")"
      ],
      "execution_count": null,
      "outputs": []
    },
    {
      "cell_type": "code",
      "metadata": {
        "colab": {
          "base_uri": "https://localhost:8080/"
        },
        "id": "qbp9vOdI8UVP",
        "outputId": "e3c49ed4-58f7-44b2-c7ce-39a41361bc08"
      },
      "source": [
        "optb.fit(x, y)"
      ],
      "execution_count": null,
      "outputs": [
        {
          "output_type": "execute_result",
          "data": {
            "text/plain": [
              "OptimalBinning(cat_cutoff=None, class_weight=None, divergence='iv',\n",
              "               dtype='categorical', gamma=0, max_bin_n_event=None,\n",
              "               max_bin_n_nonevent=None, max_bin_size=None, max_n_bins=None,\n",
              "               max_n_prebins=20, max_pvalue=None,\n",
              "               max_pvalue_policy='consecutive', min_bin_n_event=None,\n",
              "               min_bin_n_nonevent=None, min_bin_size=None,\n",
              "               min_event_rate_diff=0, min_n_bins=None, min_prebin_size=0.05,\n",
              "               mip_solver='bop', monotonic_trend='auto',\n",
              "               name='number_of_jobs_before', outlier_detector=None,\n",
              "               outlier_params=None, prebinning_method='cart', solver='cp',\n",
              "               special_codes=None, split_digits=None, time_limit=100,\n",
              "               user_splits=None, user_splits_fixed=None, ...)"
            ]
          },
          "metadata": {},
          "execution_count": 133
        }
      ]
    },
    {
      "cell_type": "code",
      "metadata": {
        "colab": {
          "base_uri": "https://localhost:8080/"
        },
        "id": "ToHstP1-8UVQ",
        "outputId": "fccb1846-44b1-48d7-fc7c-1dad58fa4262"
      },
      "source": [
        "optb.status"
      ],
      "execution_count": null,
      "outputs": [
        {
          "output_type": "execute_result",
          "data": {
            "application/vnd.google.colaboratory.intrinsic+json": {
              "type": "string"
            },
            "text/plain": [
              "'OPTIMAL'"
            ]
          },
          "metadata": {},
          "execution_count": 134
        }
      ]
    },
    {
      "cell_type": "code",
      "metadata": {
        "colab": {
          "base_uri": "https://localhost:8080/"
        },
        "id": "UaCq1LX08UVR",
        "outputId": "91a0acef-7f1a-4e1f-9017-68cf8bbc9248"
      },
      "source": [
        "optb.splits"
      ],
      "execution_count": null,
      "outputs": [
        {
          "output_type": "execute_result",
          "data": {
            "text/plain": [
              "[array(['4-5 jobs', '2-3 jobs'], dtype=object),\n",
              " array(['0-1 jobs', 'More than 5 jobs'], dtype=object)]"
            ]
          },
          "metadata": {},
          "execution_count": 135
        }
      ]
    },
    {
      "cell_type": "code",
      "metadata": {
        "id": "FT5hUBND8UVS"
      },
      "source": [
        "binning_table = optb.binning_table"
      ],
      "execution_count": null,
      "outputs": []
    },
    {
      "cell_type": "code",
      "metadata": {
        "colab": {
          "base_uri": "https://localhost:8080/"
        },
        "id": "IaatmFjp8UVS",
        "outputId": "16fec9ef-f4c7-4bd7-cd64-01625bc3fc97"
      },
      "source": [
        "binning_table.build()"
      ],
      "execution_count": null,
      "outputs": [
        {
          "output_type": "execute_result",
          "data": {
            "text/html": [
              "<div>\n",
              "<style scoped>\n",
              "    .dataframe tbody tr th:only-of-type {\n",
              "        vertical-align: middle;\n",
              "    }\n",
              "\n",
              "    .dataframe tbody tr th {\n",
              "        vertical-align: top;\n",
              "    }\n",
              "\n",
              "    .dataframe thead th {\n",
              "        text-align: right;\n",
              "    }\n",
              "</style>\n",
              "<table border=\"1\" class=\"dataframe\">\n",
              "  <thead>\n",
              "    <tr style=\"text-align: right;\">\n",
              "      <th></th>\n",
              "      <th>Bin</th>\n",
              "      <th>Count</th>\n",
              "      <th>Count (%)</th>\n",
              "      <th>Non-event</th>\n",
              "      <th>Event</th>\n",
              "      <th>Event rate</th>\n",
              "      <th>WoE</th>\n",
              "      <th>IV</th>\n",
              "      <th>JS</th>\n",
              "    </tr>\n",
              "  </thead>\n",
              "  <tbody>\n",
              "    <tr>\n",
              "      <th>0</th>\n",
              "      <td>[4-5 jobs, 2-3 jobs]</td>\n",
              "      <td>60</td>\n",
              "      <td>0.055046</td>\n",
              "      <td>52</td>\n",
              "      <td>8</td>\n",
              "      <td>0.133333</td>\n",
              "      <td>0.074681</td>\n",
              "      <td>0.000299</td>\n",
              "      <td>0.000037</td>\n",
              "    </tr>\n",
              "    <tr>\n",
              "      <th>1</th>\n",
              "      <td>[0-1 jobs, More than 5 jobs]</td>\n",
              "      <td>1030</td>\n",
              "      <td>0.944954</td>\n",
              "      <td>883</td>\n",
              "      <td>147</td>\n",
              "      <td>0.142718</td>\n",
              "      <td>-0.004229</td>\n",
              "      <td>0.000017</td>\n",
              "      <td>0.000002</td>\n",
              "    </tr>\n",
              "    <tr>\n",
              "      <th>2</th>\n",
              "      <td>Special</td>\n",
              "      <td>0</td>\n",
              "      <td>0.000000</td>\n",
              "      <td>0</td>\n",
              "      <td>0</td>\n",
              "      <td>0.000000</td>\n",
              "      <td>0.0</td>\n",
              "      <td>0.000000</td>\n",
              "      <td>0.000000</td>\n",
              "    </tr>\n",
              "    <tr>\n",
              "      <th>3</th>\n",
              "      <td>Missing</td>\n",
              "      <td>0</td>\n",
              "      <td>0.000000</td>\n",
              "      <td>0</td>\n",
              "      <td>0</td>\n",
              "      <td>0.000000</td>\n",
              "      <td>0.0</td>\n",
              "      <td>0.000000</td>\n",
              "      <td>0.000000</td>\n",
              "    </tr>\n",
              "    <tr>\n",
              "      <th>Totals</th>\n",
              "      <td></td>\n",
              "      <td>1090</td>\n",
              "      <td>1.000000</td>\n",
              "      <td>935</td>\n",
              "      <td>155</td>\n",
              "      <td>0.142202</td>\n",
              "      <td></td>\n",
              "      <td>0.000316</td>\n",
              "      <td>0.000039</td>\n",
              "    </tr>\n",
              "  </tbody>\n",
              "</table>\n",
              "</div>"
            ],
            "text/plain": [
              "                                 Bin  Count  ...        IV        JS\n",
              "0               [4-5 jobs, 2-3 jobs]     60  ...  0.000299  0.000037\n",
              "1       [0-1 jobs, More than 5 jobs]   1030  ...  0.000017  0.000002\n",
              "2                            Special      0  ...  0.000000  0.000000\n",
              "3                            Missing      0  ...  0.000000  0.000000\n",
              "Totals                                 1090  ...  0.000316  0.000039\n",
              "\n",
              "[5 rows x 9 columns]"
            ]
          },
          "metadata": {},
          "execution_count": 137
        }
      ]
    },
    {
      "cell_type": "code",
      "metadata": {
        "colab": {
          "base_uri": "https://localhost:8080/"
        },
        "id": "8-7dFEpt8UVT",
        "outputId": "66f46b85-512b-4301-bcd3-c52d2cd5d762"
      },
      "source": [
        "binning_table.plot(metric=\"woe\")"
      ],
      "execution_count": null,
      "outputs": [
        {
          "output_type": "display_data",
          "data": {
            "image/png": "[encoded data removed]",
            "text/plain": [
              "<Figure size 432x288 with 2 Axes>"
            ]
          },
          "metadata": {
            "needs_background": "light"
          }
        }
      ]
    },
    {
      "cell_type": "markdown",
      "metadata": {
        "id": "yLwtfWXo0rmo"
      },
      "source": [
        "## **Tank capacity**"
      ]
    },
    {
      "cell_type": "code",
      "metadata": {
        "colab": {
          "base_uri": "https://localhost:8080/"
        },
        "id": "5MTR5RmdeNKV",
        "outputId": "f8fb3dd2-b93d-4e74-e20a-1d4ecdc2714e"
      },
      "source": [
        "dataset['tank_capacity'].value_counts()"
      ],
      "execution_count": null,
      "outputs": [
        {
          "output_type": "execute_result",
          "data": {
            "text/plain": [
              "0        2584\n",
              "5000      602\n",
              "3000      436\n",
              "10000     340\n",
              "1000      253\n",
              "         ... \n",
              "14000       1\n",
              "960         1\n",
              "10400       1\n",
              "410         1\n",
              "2100        1\n",
              "Name: tank_capacity, Length: 131, dtype: int64"
            ]
          },
          "metadata": {},
          "execution_count": 139
        }
      ]
    },
    {
      "cell_type": "code",
      "metadata": {
        "id": "kwjZaTGt8Vid"
      },
      "source": [
        "variable = \"tank_capacity\"\n",
        "x = df_inputs_test[variable].values\n",
        "y = df_targets_test"
      ],
      "execution_count": null,
      "outputs": []
    },
    {
      "cell_type": "code",
      "metadata": {
        "id": "qMwU5Pao8Vif"
      },
      "source": [
        "optb = OptimalBinning(name=variable, dtype=\"numerical\", solver=\"cp\")"
      ],
      "execution_count": null,
      "outputs": []
    },
    {
      "cell_type": "code",
      "metadata": {
        "colab": {
          "base_uri": "https://localhost:8080/"
        },
        "id": "S8HRVy9G8Vif",
        "outputId": "bf99440b-f5ad-45a8-f739-4fbde28ca23e"
      },
      "source": [
        "optb.fit(x, y)"
      ],
      "execution_count": null,
      "outputs": [
        {
          "output_type": "execute_result",
          "data": {
            "text/plain": [
              "OptimalBinning(cat_cutoff=None, class_weight=None, divergence='iv',\n",
              "               dtype='numerical', gamma=0, max_bin_n_event=None,\n",
              "               max_bin_n_nonevent=None, max_bin_size=None, max_n_bins=None,\n",
              "               max_n_prebins=20, max_pvalue=None,\n",
              "               max_pvalue_policy='consecutive', min_bin_n_event=None,\n",
              "               min_bin_n_nonevent=None, min_bin_size=None,\n",
              "               min_event_rate_diff=0, min_n_bins=None, min_prebin_size=0.05,\n",
              "               mip_solver='bop', monotonic_trend='auto', name='tank_capacity',\n",
              "               outlier_detector=None, outlier_params=None,\n",
              "               prebinning_method='cart', solver='cp', special_codes=None,\n",
              "               split_digits=None, time_limit=100, user_splits=None,\n",
              "               user_splits_fixed=None, ...)"
            ]
          },
          "metadata": {},
          "execution_count": 142
        }
      ]
    },
    {
      "cell_type": "code",
      "metadata": {
        "colab": {
          "base_uri": "https://localhost:8080/"
        },
        "id": "rXDLvlWR8Vig",
        "outputId": "260bc322-a730-408c-a6e7-cab9d500a705"
      },
      "source": [
        "optb.status"
      ],
      "execution_count": null,
      "outputs": [
        {
          "output_type": "execute_result",
          "data": {
            "application/vnd.google.colaboratory.intrinsic+json": {
              "type": "string"
            },
            "text/plain": [
              "'OPTIMAL'"
            ]
          },
          "metadata": {},
          "execution_count": 143
        }
      ]
    },
    {
      "cell_type": "code",
      "metadata": {
        "colab": {
          "base_uri": "https://localhost:8080/"
        },
        "id": "PooxDy3r8Vih",
        "outputId": "f25f4071-0817-40ca-aee2-d93d95339dd3"
      },
      "source": [
        "optb.splits"
      ],
      "execution_count": null,
      "outputs": [
        {
          "output_type": "execute_result",
          "data": {
            "text/plain": [
              "array([ 700., 1025., 2600.])"
            ]
          },
          "metadata": {},
          "execution_count": 144
        }
      ]
    },
    {
      "cell_type": "code",
      "metadata": {
        "id": "MDgOQoPt8Vih"
      },
      "source": [
        "binning_table = optb.binning_table"
      ],
      "execution_count": null,
      "outputs": []
    },
    {
      "cell_type": "code",
      "metadata": {
        "colab": {
          "base_uri": "https://localhost:8080/"
        },
        "id": "Z99MIo6K8Vii",
        "outputId": "fa8b359e-8223-4354-ff58-42ee9f9695f8"
      },
      "source": [
        "binning_table.build()"
      ],
      "execution_count": null,
      "outputs": [
        {
          "output_type": "execute_result",
          "data": {
            "text/html": [
              "<div>\n",
              "<style scoped>\n",
              "    .dataframe tbody tr th:only-of-type {\n",
              "        vertical-align: middle;\n",
              "    }\n",
              "\n",
              "    .dataframe tbody tr th {\n",
              "        vertical-align: top;\n",
              "    }\n",
              "\n",
              "    .dataframe thead th {\n",
              "        text-align: right;\n",
              "    }\n",
              "</style>\n",
              "<table border=\"1\" class=\"dataframe\">\n",
              "  <thead>\n",
              "    <tr style=\"text-align: right;\">\n",
              "      <th></th>\n",
              "      <th>Bin</th>\n",
              "      <th>Count</th>\n",
              "      <th>Count (%)</th>\n",
              "      <th>Non-event</th>\n",
              "      <th>Event</th>\n",
              "      <th>Event rate</th>\n",
              "      <th>WoE</th>\n",
              "      <th>IV</th>\n",
              "      <th>JS</th>\n",
              "    </tr>\n",
              "  </thead>\n",
              "  <tbody>\n",
              "    <tr>\n",
              "      <th>0</th>\n",
              "      <td>(-inf, 700.00)</td>\n",
              "      <td>497</td>\n",
              "      <td>0.455963</td>\n",
              "      <td>410</td>\n",
              "      <td>87</td>\n",
              "      <td>0.175050</td>\n",
              "      <td>-0.246872</td>\n",
              "      <td>0.030313</td>\n",
              "      <td>0.003780</td>\n",
              "    </tr>\n",
              "    <tr>\n",
              "      <th>1</th>\n",
              "      <td>[700.00, 1025.00)</td>\n",
              "      <td>67</td>\n",
              "      <td>0.061468</td>\n",
              "      <td>58</td>\n",
              "      <td>9</td>\n",
              "      <td>0.134328</td>\n",
              "      <td>0.066097</td>\n",
              "      <td>0.000262</td>\n",
              "      <td>0.000033</td>\n",
              "    </tr>\n",
              "    <tr>\n",
              "      <th>2</th>\n",
              "      <td>[1025.00, 2600.00)</td>\n",
              "      <td>107</td>\n",
              "      <td>0.098165</td>\n",
              "      <td>99</td>\n",
              "      <td>8</td>\n",
              "      <td>0.074766</td>\n",
              "      <td>0.718557</td>\n",
              "      <td>0.038996</td>\n",
              "      <td>0.004772</td>\n",
              "    </tr>\n",
              "    <tr>\n",
              "      <th>3</th>\n",
              "      <td>[2600.00, inf)</td>\n",
              "      <td>419</td>\n",
              "      <td>0.384404</td>\n",
              "      <td>368</td>\n",
              "      <td>51</td>\n",
              "      <td>0.121718</td>\n",
              "      <td>0.179136</td>\n",
              "      <td>0.011563</td>\n",
              "      <td>0.001443</td>\n",
              "    </tr>\n",
              "    <tr>\n",
              "      <th>4</th>\n",
              "      <td>Special</td>\n",
              "      <td>0</td>\n",
              "      <td>0.000000</td>\n",
              "      <td>0</td>\n",
              "      <td>0</td>\n",
              "      <td>0.000000</td>\n",
              "      <td>0.0</td>\n",
              "      <td>0.000000</td>\n",
              "      <td>0.000000</td>\n",
              "    </tr>\n",
              "    <tr>\n",
              "      <th>5</th>\n",
              "      <td>Missing</td>\n",
              "      <td>0</td>\n",
              "      <td>0.000000</td>\n",
              "      <td>0</td>\n",
              "      <td>0</td>\n",
              "      <td>0.000000</td>\n",
              "      <td>0.0</td>\n",
              "      <td>0.000000</td>\n",
              "      <td>0.000000</td>\n",
              "    </tr>\n",
              "    <tr>\n",
              "      <th>Totals</th>\n",
              "      <td></td>\n",
              "      <td>1090</td>\n",
              "      <td>1.000000</td>\n",
              "      <td>935</td>\n",
              "      <td>155</td>\n",
              "      <td>0.142202</td>\n",
              "      <td></td>\n",
              "      <td>0.081134</td>\n",
              "      <td>0.010028</td>\n",
              "    </tr>\n",
              "  </tbody>\n",
              "</table>\n",
              "</div>"
            ],
            "text/plain": [
              "                       Bin  Count  Count (%)  ...       WoE        IV        JS\n",
              "0           (-inf, 700.00)    497   0.455963  ... -0.246872  0.030313  0.003780\n",
              "1        [700.00, 1025.00)     67   0.061468  ...  0.066097  0.000262  0.000033\n",
              "2       [1025.00, 2600.00)    107   0.098165  ...  0.718557  0.038996  0.004772\n",
              "3           [2600.00, inf)    419   0.384404  ...  0.179136  0.011563  0.001443\n",
              "4                  Special      0   0.000000  ...       0.0  0.000000  0.000000\n",
              "5                  Missing      0   0.000000  ...       0.0  0.000000  0.000000\n",
              "Totals                       1090   1.000000  ...            0.081134  0.010028\n",
              "\n",
              "[7 rows x 9 columns]"
            ]
          },
          "metadata": {},
          "execution_count": 146
        }
      ]
    },
    {
      "cell_type": "code",
      "metadata": {
        "colab": {
          "base_uri": "https://localhost:8080/"
        },
        "id": "jAz46klD8Vij",
        "outputId": "e48c7eac-16a4-45fb-b911-fec712a73ab3"
      },
      "source": [
        "binning_table.plot(metric=\"woe\")"
      ],
      "execution_count": null,
      "outputs": [
        {
          "output_type": "display_data",
          "data": {
            "image/png": "[encoded data removed]",
            "text/plain": [
              "<Figure size 432x288 with 2 Axes>"
            ]
          },
          "metadata": {
            "needs_background": "light"
          }
        }
      ]
    },
    {
      "cell_type": "markdown",
      "metadata": {
        "id": "Oq7fVJx2046S"
      },
      "source": [
        "## **Number of loans**"
      ]
    },
    {
      "cell_type": "code",
      "metadata": {
        "id": "egxilGZOPfPw"
      },
      "source": [
        "variable = \"number_of_loans\"\n",
        "x = df_inputs_test[variable].values\n",
        "y = df_targets_test"
      ],
      "execution_count": null,
      "outputs": []
    },
    {
      "cell_type": "code",
      "metadata": {
        "id": "5PVG4dkoPfPw"
      },
      "source": [
        "optb = OptimalBinning(name=variable, dtype=\"categorical\", solver=\"cp\")"
      ],
      "execution_count": null,
      "outputs": []
    },
    {
      "cell_type": "code",
      "metadata": {
        "colab": {
          "base_uri": "https://localhost:8080/"
        },
        "id": "7E9Dqe7oPfPx",
        "outputId": "5d6b90c5-6cbb-4d1a-ab4b-5c0764e8f629"
      },
      "source": [
        "optb.fit(x, y)"
      ],
      "execution_count": null,
      "outputs": [
        {
          "output_type": "execute_result",
          "data": {
            "text/plain": [
              "OptimalBinning(cat_cutoff=None, class_weight=None, divergence='iv',\n",
              "               dtype='categorical', gamma=0, max_bin_n_event=None,\n",
              "               max_bin_n_nonevent=None, max_bin_size=None, max_n_bins=None,\n",
              "               max_n_prebins=20, max_pvalue=None,\n",
              "               max_pvalue_policy='consecutive', min_bin_n_event=None,\n",
              "               min_bin_n_nonevent=None, min_bin_size=None,\n",
              "               min_event_rate_diff=0, min_n_bins=None, min_prebin_size=0.05,\n",
              "               mip_solver='bop', monotonic_trend='auto', name='number_of_loans',\n",
              "               outlier_detector=None, outlier_params=None,\n",
              "               prebinning_method='cart', solver='cp', special_codes=None,\n",
              "               split_digits=None, time_limit=100, user_splits=None,\n",
              "               user_splits_fixed=None, ...)"
            ]
          },
          "metadata": {},
          "execution_count": 150
        }
      ]
    },
    {
      "cell_type": "code",
      "metadata": {
        "colab": {
          "base_uri": "https://localhost:8080/"
        },
        "id": "RSTYqRfnPfPx",
        "outputId": "77e0d8e7-c685-4dea-e249-13f37df41d60"
      },
      "source": [
        "optb.status"
      ],
      "execution_count": null,
      "outputs": [
        {
          "output_type": "execute_result",
          "data": {
            "application/vnd.google.colaboratory.intrinsic+json": {
              "type": "string"
            },
            "text/plain": [
              "'OPTIMAL'"
            ]
          },
          "metadata": {},
          "execution_count": 151
        }
      ]
    },
    {
      "cell_type": "code",
      "metadata": {
        "colab": {
          "base_uri": "https://localhost:8080/"
        },
        "id": "3aWEUCuCPfPx",
        "outputId": "771bf21b-64c6-4c01-fe18-d9a3af0360b2"
      },
      "source": [
        "optb.splits"
      ],
      "execution_count": null,
      "outputs": [
        {
          "output_type": "execute_result",
          "data": {
            "text/plain": [
              "[array(['2-3 loans'], dtype=object),\n",
              " array(['1 loan'], dtype=object),\n",
              " array(['0 loans', 'More than 4 loans'], dtype=object)]"
            ]
          },
          "metadata": {},
          "execution_count": 152
        }
      ]
    },
    {
      "cell_type": "code",
      "metadata": {
        "id": "vsKtwQnNPfPx"
      },
      "source": [
        "binning_table = optb.binning_table"
      ],
      "execution_count": null,
      "outputs": []
    },
    {
      "cell_type": "code",
      "metadata": {
        "colab": {
          "base_uri": "https://localhost:8080/"
        },
        "id": "v9uZbEETPfPy",
        "outputId": "d96550c7-4587-4e0f-f7dd-9e03939bec2b"
      },
      "source": [
        "binning_table.build()"
      ],
      "execution_count": null,
      "outputs": [
        {
          "output_type": "execute_result",
          "data": {
            "text/html": [
              "<div>\n",
              "<style scoped>\n",
              "    .dataframe tbody tr th:only-of-type {\n",
              "        vertical-align: middle;\n",
              "    }\n",
              "\n",
              "    .dataframe tbody tr th {\n",
              "        vertical-align: top;\n",
              "    }\n",
              "\n",
              "    .dataframe thead th {\n",
              "        text-align: right;\n",
              "    }\n",
              "</style>\n",
              "<table border=\"1\" class=\"dataframe\">\n",
              "  <thead>\n",
              "    <tr style=\"text-align: right;\">\n",
              "      <th></th>\n",
              "      <th>Bin</th>\n",
              "      <th>Count</th>\n",
              "      <th>Count (%)</th>\n",
              "      <th>Non-event</th>\n",
              "      <th>Event</th>\n",
              "      <th>Event rate</th>\n",
              "      <th>WoE</th>\n",
              "      <th>IV</th>\n",
              "      <th>JS</th>\n",
              "    </tr>\n",
              "  </thead>\n",
              "  <tbody>\n",
              "    <tr>\n",
              "      <th>0</th>\n",
              "      <td>[2-3 loans]</td>\n",
              "      <td>101</td>\n",
              "      <td>0.092661</td>\n",
              "      <td>91</td>\n",
              "      <td>10</td>\n",
              "      <td>0.099010</td>\n",
              "      <td>0.411153</td>\n",
              "      <td>0.013490</td>\n",
              "      <td>0.001674</td>\n",
              "    </tr>\n",
              "    <tr>\n",
              "      <th>1</th>\n",
              "      <td>[1 loan]</td>\n",
              "      <td>357</td>\n",
              "      <td>0.327523</td>\n",
              "      <td>306</td>\n",
              "      <td>51</td>\n",
              "      <td>0.142857</td>\n",
              "      <td>-0.005362</td>\n",
              "      <td>0.000009</td>\n",
              "      <td>0.000001</td>\n",
              "    </tr>\n",
              "    <tr>\n",
              "      <th>2</th>\n",
              "      <td>[0 loans, More than 4 loans]</td>\n",
              "      <td>632</td>\n",
              "      <td>0.579817</td>\n",
              "      <td>538</td>\n",
              "      <td>94</td>\n",
              "      <td>0.148734</td>\n",
              "      <td>-0.052558</td>\n",
              "      <td>0.001632</td>\n",
              "      <td>0.000204</td>\n",
              "    </tr>\n",
              "    <tr>\n",
              "      <th>3</th>\n",
              "      <td>Special</td>\n",
              "      <td>0</td>\n",
              "      <td>0.000000</td>\n",
              "      <td>0</td>\n",
              "      <td>0</td>\n",
              "      <td>0.000000</td>\n",
              "      <td>0.0</td>\n",
              "      <td>0.000000</td>\n",
              "      <td>0.000000</td>\n",
              "    </tr>\n",
              "    <tr>\n",
              "      <th>4</th>\n",
              "      <td>Missing</td>\n",
              "      <td>0</td>\n",
              "      <td>0.000000</td>\n",
              "      <td>0</td>\n",
              "      <td>0</td>\n",
              "      <td>0.000000</td>\n",
              "      <td>0.0</td>\n",
              "      <td>0.000000</td>\n",
              "      <td>0.000000</td>\n",
              "    </tr>\n",
              "    <tr>\n",
              "      <th>Totals</th>\n",
              "      <td></td>\n",
              "      <td>1090</td>\n",
              "      <td>1.000000</td>\n",
              "      <td>935</td>\n",
              "      <td>155</td>\n",
              "      <td>0.142202</td>\n",
              "      <td></td>\n",
              "      <td>0.015131</td>\n",
              "      <td>0.001880</td>\n",
              "    </tr>\n",
              "  </tbody>\n",
              "</table>\n",
              "</div>"
            ],
            "text/plain": [
              "                                 Bin  Count  ...        IV        JS\n",
              "0                        [2-3 loans]    101  ...  0.013490  0.001674\n",
              "1                           [1 loan]    357  ...  0.000009  0.000001\n",
              "2       [0 loans, More than 4 loans]    632  ...  0.001632  0.000204\n",
              "3                            Special      0  ...  0.000000  0.000000\n",
              "4                            Missing      0  ...  0.000000  0.000000\n",
              "Totals                                 1090  ...  0.015131  0.001880\n",
              "\n",
              "[6 rows x 9 columns]"
            ]
          },
          "metadata": {},
          "execution_count": 154
        }
      ]
    },
    {
      "cell_type": "code",
      "metadata": {
        "colab": {
          "base_uri": "https://localhost:8080/"
        },
        "id": "eYrx8HGv8aa6",
        "outputId": "6dee47b2-25f0-40d1-8293-5940eca2142e"
      },
      "source": [
        "binning_table.plot(metric=\"woe\")"
      ],
      "execution_count": null,
      "outputs": [
        {
          "output_type": "display_data",
          "data": {
            "image/png": "[encoded data removed]",
            "text/plain": [
              "<Figure size 432x288 with 2 Axes>"
            ]
          },
          "metadata": {
            "needs_background": "light"
          }
        }
      ]
    },
    {
      "cell_type": "markdown",
      "metadata": {
        "id": "0jSXfRar08Ov"
      },
      "source": [
        "## **Number of Outstanding loans**"
      ]
    },
    {
      "cell_type": "code",
      "metadata": {
        "colab": {
          "base_uri": "https://localhost:8080/"
        },
        "id": "7HsgOHjC-Cd5",
        "outputId": "23c13b13-a5ac-4d95-bd32-ff80e8236af8"
      },
      "source": [
        "dataset[\"number_of_outstanding_loans\"].value_counts()"
      ],
      "execution_count": null,
      "outputs": [
        {
          "output_type": "execute_result",
          "data": {
            "text/plain": [
              "0 loans              3674\n",
              "1 loan               1640\n",
              "2-3 loans             129\n",
              "More than 4 loans       4\n",
              "Name: number_of_outstanding_loans, dtype: int64"
            ]
          },
          "metadata": {},
          "execution_count": 156
        }
      ]
    },
    {
      "cell_type": "code",
      "metadata": {
        "id": "lFNUwyLHQhIw"
      },
      "source": [
        "variable = \"number_of_outstanding_loans\"\n",
        "x = df_inputs_test[variable].values\n",
        "y = df_targets_test"
      ],
      "execution_count": null,
      "outputs": []
    },
    {
      "cell_type": "code",
      "metadata": {
        "id": "mlySkgjPQhIx"
      },
      "source": [
        "optb = OptimalBinning(name=variable, dtype=\"categorical\", solver=\"cp\")"
      ],
      "execution_count": null,
      "outputs": []
    },
    {
      "cell_type": "code",
      "metadata": {
        "colab": {
          "base_uri": "https://localhost:8080/"
        },
        "id": "9HkJLw6kQhIx",
        "outputId": "1d73ebc4-df8e-4cc5-e94c-6eb4b9347748"
      },
      "source": [
        "optb.fit(x, y)"
      ],
      "execution_count": null,
      "outputs": [
        {
          "output_type": "execute_result",
          "data": {
            "text/plain": [
              "OptimalBinning(cat_cutoff=None, class_weight=None, divergence='iv',\n",
              "               dtype='categorical', gamma=0, max_bin_n_event=None,\n",
              "               max_bin_n_nonevent=None, max_bin_size=None, max_n_bins=None,\n",
              "               max_n_prebins=20, max_pvalue=None,\n",
              "               max_pvalue_policy='consecutive', min_bin_n_event=None,\n",
              "               min_bin_n_nonevent=None, min_bin_size=None,\n",
              "               min_event_rate_diff=0, min_n_bins=None, min_prebin_size=0.05,\n",
              "               mip_solver='bop', monotonic_trend='auto',\n",
              "               name='number_of_outstanding_loans', outlier_detector=None,\n",
              "               outlier_params=None, prebinning_method='cart', solver='cp',\n",
              "               special_codes=None, split_digits=None, time_limit=100,\n",
              "               user_splits=None, user_splits_fixed=None, ...)"
            ]
          },
          "metadata": {},
          "execution_count": 159
        }
      ]
    },
    {
      "cell_type": "code",
      "metadata": {
        "colab": {
          "base_uri": "https://localhost:8080/"
        },
        "id": "LxepvnoWQhIy",
        "outputId": "14a59386-610a-4c6b-cefe-5532e5cc7218"
      },
      "source": [
        "optb.status"
      ],
      "execution_count": null,
      "outputs": [
        {
          "output_type": "execute_result",
          "data": {
            "application/vnd.google.colaboratory.intrinsic+json": {
              "type": "string"
            },
            "text/plain": [
              "'OPTIMAL'"
            ]
          },
          "metadata": {},
          "execution_count": 160
        }
      ]
    },
    {
      "cell_type": "code",
      "metadata": {
        "colab": {
          "base_uri": "https://localhost:8080/"
        },
        "id": "44J6JlumQhIy",
        "outputId": "a0ed412a-854d-4946-a4a0-6853af047ba0"
      },
      "source": [
        "optb.splits"
      ],
      "execution_count": null,
      "outputs": [
        {
          "output_type": "execute_result",
          "data": {
            "text/plain": [
              "[array(['2-3 loans', '1 loan'], dtype=object),\n",
              " array(['0 loans'], dtype=object)]"
            ]
          },
          "metadata": {},
          "execution_count": 161
        }
      ]
    },
    {
      "cell_type": "code",
      "metadata": {
        "id": "Xnt2dZD3QhIy"
      },
      "source": [
        "binning_table = optb.binning_table"
      ],
      "execution_count": null,
      "outputs": []
    },
    {
      "cell_type": "code",
      "metadata": {
        "colab": {
          "base_uri": "https://localhost:8080/"
        },
        "id": "jtTD0AgTQhIy",
        "outputId": "4529f590-6572-40f3-fb90-e87a77bcaa5f"
      },
      "source": [
        "binning_table.build()"
      ],
      "execution_count": null,
      "outputs": [
        {
          "output_type": "execute_result",
          "data": {
            "text/html": [
              "<div>\n",
              "<style scoped>\n",
              "    .dataframe tbody tr th:only-of-type {\n",
              "        vertical-align: middle;\n",
              "    }\n",
              "\n",
              "    .dataframe tbody tr th {\n",
              "        vertical-align: top;\n",
              "    }\n",
              "\n",
              "    .dataframe thead th {\n",
              "        text-align: right;\n",
              "    }\n",
              "</style>\n",
              "<table border=\"1\" class=\"dataframe\">\n",
              "  <thead>\n",
              "    <tr style=\"text-align: right;\">\n",
              "      <th></th>\n",
              "      <th>Bin</th>\n",
              "      <th>Count</th>\n",
              "      <th>Count (%)</th>\n",
              "      <th>Non-event</th>\n",
              "      <th>Event</th>\n",
              "      <th>Event rate</th>\n",
              "      <th>WoE</th>\n",
              "      <th>IV</th>\n",
              "      <th>JS</th>\n",
              "    </tr>\n",
              "  </thead>\n",
              "  <tbody>\n",
              "    <tr>\n",
              "      <th>0</th>\n",
              "      <td>[2-3 loans, 1 loan]</td>\n",
              "      <td>359</td>\n",
              "      <td>0.329358</td>\n",
              "      <td>314</td>\n",
              "      <td>45</td>\n",
              "      <td>0.125348</td>\n",
              "      <td>0.145609</td>\n",
              "      <td>0.006626</td>\n",
              "      <td>0.000828</td>\n",
              "    </tr>\n",
              "    <tr>\n",
              "      <th>1</th>\n",
              "      <td>[0 loans]</td>\n",
              "      <td>731</td>\n",
              "      <td>0.670642</td>\n",
              "      <td>621</td>\n",
              "      <td>110</td>\n",
              "      <td>0.150479</td>\n",
              "      <td>-0.066271</td>\n",
              "      <td>0.003016</td>\n",
              "      <td>0.000377</td>\n",
              "    </tr>\n",
              "    <tr>\n",
              "      <th>2</th>\n",
              "      <td>Special</td>\n",
              "      <td>0</td>\n",
              "      <td>0.000000</td>\n",
              "      <td>0</td>\n",
              "      <td>0</td>\n",
              "      <td>0.000000</td>\n",
              "      <td>0.0</td>\n",
              "      <td>0.000000</td>\n",
              "      <td>0.000000</td>\n",
              "    </tr>\n",
              "    <tr>\n",
              "      <th>3</th>\n",
              "      <td>Missing</td>\n",
              "      <td>0</td>\n",
              "      <td>0.000000</td>\n",
              "      <td>0</td>\n",
              "      <td>0</td>\n",
              "      <td>0.000000</td>\n",
              "      <td>0.0</td>\n",
              "      <td>0.000000</td>\n",
              "      <td>0.000000</td>\n",
              "    </tr>\n",
              "    <tr>\n",
              "      <th>Totals</th>\n",
              "      <td></td>\n",
              "      <td>1090</td>\n",
              "      <td>1.000000</td>\n",
              "      <td>935</td>\n",
              "      <td>155</td>\n",
              "      <td>0.142202</td>\n",
              "      <td></td>\n",
              "      <td>0.009642</td>\n",
              "      <td>0.001204</td>\n",
              "    </tr>\n",
              "  </tbody>\n",
              "</table>\n",
              "</div>"
            ],
            "text/plain": [
              "                        Bin  Count  Count (%)  ...       WoE        IV        JS\n",
              "0       [2-3 loans, 1 loan]    359   0.329358  ...  0.145609  0.006626  0.000828\n",
              "1                 [0 loans]    731   0.670642  ... -0.066271  0.003016  0.000377\n",
              "2                   Special      0   0.000000  ...       0.0  0.000000  0.000000\n",
              "3                   Missing      0   0.000000  ...       0.0  0.000000  0.000000\n",
              "Totals                        1090   1.000000  ...            0.009642  0.001204\n",
              "\n",
              "[5 rows x 9 columns]"
            ]
          },
          "metadata": {},
          "execution_count": 163
        }
      ]
    },
    {
      "cell_type": "code",
      "metadata": {
        "colab": {
          "base_uri": "https://localhost:8080/"
        },
        "id": "hV4450rP8dB1",
        "outputId": "0c84b382-7956-4c98-d708-6228e8f688a2"
      },
      "source": [
        "binning_table.plot(metric=\"woe\")"
      ],
      "execution_count": null,
      "outputs": [
        {
          "output_type": "display_data",
          "data": {
            "image/png": "[encoded data removed]",
            "text/plain": [
              "<Figure size 432x288 with 2 Axes>"
            ]
          },
          "metadata": {
            "needs_background": "light"
          }
        }
      ]
    },
    {
      "cell_type": "markdown",
      "metadata": {
        "id": "66tnMKdl0uEE"
      },
      "source": [
        "## **Remaining payment months**"
      ]
    },
    {
      "cell_type": "code",
      "metadata": {
        "id": "OZo6t7EAQ1Mf"
      },
      "source": [
        "variable = \"remaining_payment_months\"\n",
        "x = df_inputs_test[variable].values\n",
        "y = df_targets_test"
      ],
      "execution_count": null,
      "outputs": []
    },
    {
      "cell_type": "code",
      "metadata": {
        "id": "WtkZ6xrYQ1Mf"
      },
      "source": [
        "optb = OptimalBinning(name=variable, dtype=\"numerical\", solver=\"cp\")"
      ],
      "execution_count": null,
      "outputs": []
    },
    {
      "cell_type": "code",
      "metadata": {
        "colab": {
          "base_uri": "https://localhost:8080/"
        },
        "id": "rruN5CgOQ1Mg",
        "outputId": "0e237ef3-e235-4424-9f27-7fd3ee797cdb"
      },
      "source": [
        "optb.fit(x, y)"
      ],
      "execution_count": null,
      "outputs": [
        {
          "output_type": "execute_result",
          "data": {
            "text/plain": [
              "OptimalBinning(cat_cutoff=None, class_weight=None, divergence='iv',\n",
              "               dtype='numerical', gamma=0, max_bin_n_event=None,\n",
              "               max_bin_n_nonevent=None, max_bin_size=None, max_n_bins=None,\n",
              "               max_n_prebins=20, max_pvalue=None,\n",
              "               max_pvalue_policy='consecutive', min_bin_n_event=None,\n",
              "               min_bin_n_nonevent=None, min_bin_size=None,\n",
              "               min_event_rate_diff=0, min_n_bins=None, min_prebin_size=0.05,\n",
              "               mip_solver='bop', monotonic_trend='auto',\n",
              "               name='remaining_payment_months', outlier_detector=None,\n",
              "               outlier_params=None, prebinning_method='cart', solver='cp',\n",
              "               special_codes=None, split_digits=None, time_limit=100,\n",
              "               user_splits=None, user_splits_fixed=None, ...)"
            ]
          },
          "metadata": {},
          "execution_count": 167
        }
      ]
    },
    {
      "cell_type": "code",
      "metadata": {
        "colab": {
          "base_uri": "https://localhost:8080/"
        },
        "id": "zTsb5XkKQ1Mg",
        "outputId": "1eca9fc8-b180-4175-e5d4-fd15c53e3e5d"
      },
      "source": [
        "optb.status"
      ],
      "execution_count": null,
      "outputs": [
        {
          "output_type": "execute_result",
          "data": {
            "application/vnd.google.colaboratory.intrinsic+json": {
              "type": "string"
            },
            "text/plain": [
              "'OPTIMAL'"
            ]
          },
          "metadata": {},
          "execution_count": 168
        }
      ]
    },
    {
      "cell_type": "code",
      "metadata": {
        "colab": {
          "base_uri": "https://localhost:8080/"
        },
        "id": "bYZDwGBjQ1Mg",
        "outputId": "0b28a992-1e09-4900-be94-9e2861fcbc21"
      },
      "source": [
        "optb.splits"
      ],
      "execution_count": null,
      "outputs": [
        {
          "output_type": "execute_result",
          "data": {
            "text/plain": [
              "array([ 0.5,  5.5, 12.5])"
            ]
          },
          "metadata": {},
          "execution_count": 169
        }
      ]
    },
    {
      "cell_type": "code",
      "metadata": {
        "id": "sarFqPgqQ1Mg"
      },
      "source": [
        "binning_table = optb.binning_table"
      ],
      "execution_count": null,
      "outputs": []
    },
    {
      "cell_type": "code",
      "metadata": {
        "colab": {
          "base_uri": "https://localhost:8080/"
        },
        "id": "xtrNC4IsQ1Mg",
        "outputId": "d9e33f1a-8d6f-4668-8963-3498166ea8bc"
      },
      "source": [
        "binning_table.build()"
      ],
      "execution_count": null,
      "outputs": [
        {
          "output_type": "execute_result",
          "data": {
            "text/html": [
              "<div>\n",
              "<style scoped>\n",
              "    .dataframe tbody tr th:only-of-type {\n",
              "        vertical-align: middle;\n",
              "    }\n",
              "\n",
              "    .dataframe tbody tr th {\n",
              "        vertical-align: top;\n",
              "    }\n",
              "\n",
              "    .dataframe thead th {\n",
              "        text-align: right;\n",
              "    }\n",
              "</style>\n",
              "<table border=\"1\" class=\"dataframe\">\n",
              "  <thead>\n",
              "    <tr style=\"text-align: right;\">\n",
              "      <th></th>\n",
              "      <th>Bin</th>\n",
              "      <th>Count</th>\n",
              "      <th>Count (%)</th>\n",
              "      <th>Non-event</th>\n",
              "      <th>Event</th>\n",
              "      <th>Event rate</th>\n",
              "      <th>WoE</th>\n",
              "      <th>IV</th>\n",
              "      <th>JS</th>\n",
              "    </tr>\n",
              "  </thead>\n",
              "  <tbody>\n",
              "    <tr>\n",
              "      <th>0</th>\n",
              "      <td>(-inf, 0.50)</td>\n",
              "      <td>749</td>\n",
              "      <td>0.687156</td>\n",
              "      <td>636</td>\n",
              "      <td>113</td>\n",
              "      <td>0.150868</td>\n",
              "      <td>-0.069311</td>\n",
              "      <td>0.003384</td>\n",
              "      <td>0.000423</td>\n",
              "    </tr>\n",
              "    <tr>\n",
              "      <th>1</th>\n",
              "      <td>[0.50, 5.50)</td>\n",
              "      <td>82</td>\n",
              "      <td>0.075229</td>\n",
              "      <td>67</td>\n",
              "      <td>15</td>\n",
              "      <td>0.182927</td>\n",
              "      <td>-0.300479</td>\n",
              "      <td>0.007547</td>\n",
              "      <td>0.000940</td>\n",
              "    </tr>\n",
              "    <tr>\n",
              "      <th>2</th>\n",
              "      <td>[5.50, 12.50)</td>\n",
              "      <td>82</td>\n",
              "      <td>0.075229</td>\n",
              "      <td>73</td>\n",
              "      <td>9</td>\n",
              "      <td>0.109756</td>\n",
              "      <td>0.296113</td>\n",
              "      <td>0.005925</td>\n",
              "      <td>0.000738</td>\n",
              "    </tr>\n",
              "    <tr>\n",
              "      <th>3</th>\n",
              "      <td>[12.50, inf)</td>\n",
              "      <td>177</td>\n",
              "      <td>0.162385</td>\n",
              "      <td>159</td>\n",
              "      <td>18</td>\n",
              "      <td>0.101695</td>\n",
              "      <td>0.381411</td>\n",
              "      <td>0.020567</td>\n",
              "      <td>0.002555</td>\n",
              "    </tr>\n",
              "    <tr>\n",
              "      <th>4</th>\n",
              "      <td>Special</td>\n",
              "      <td>0</td>\n",
              "      <td>0.000000</td>\n",
              "      <td>0</td>\n",
              "      <td>0</td>\n",
              "      <td>0.000000</td>\n",
              "      <td>0.0</td>\n",
              "      <td>0.000000</td>\n",
              "      <td>0.000000</td>\n",
              "    </tr>\n",
              "    <tr>\n",
              "      <th>5</th>\n",
              "      <td>Missing</td>\n",
              "      <td>0</td>\n",
              "      <td>0.000000</td>\n",
              "      <td>0</td>\n",
              "      <td>0</td>\n",
              "      <td>0.000000</td>\n",
              "      <td>0.0</td>\n",
              "      <td>0.000000</td>\n",
              "      <td>0.000000</td>\n",
              "    </tr>\n",
              "    <tr>\n",
              "      <th>Totals</th>\n",
              "      <td></td>\n",
              "      <td>1090</td>\n",
              "      <td>1.000000</td>\n",
              "      <td>935</td>\n",
              "      <td>155</td>\n",
              "      <td>0.142202</td>\n",
              "      <td></td>\n",
              "      <td>0.037423</td>\n",
              "      <td>0.004656</td>\n",
              "    </tr>\n",
              "  </tbody>\n",
              "</table>\n",
              "</div>"
            ],
            "text/plain": [
              "                  Bin  Count  Count (%)  ...       WoE        IV        JS\n",
              "0        (-inf, 0.50)    749   0.687156  ... -0.069311  0.003384  0.000423\n",
              "1        [0.50, 5.50)     82   0.075229  ... -0.300479  0.007547  0.000940\n",
              "2       [5.50, 12.50)     82   0.075229  ...  0.296113  0.005925  0.000738\n",
              "3        [12.50, inf)    177   0.162385  ...  0.381411  0.020567  0.002555\n",
              "4             Special      0   0.000000  ...       0.0  0.000000  0.000000\n",
              "5             Missing      0   0.000000  ...       0.0  0.000000  0.000000\n",
              "Totals                  1090   1.000000  ...            0.037423  0.004656\n",
              "\n",
              "[7 rows x 9 columns]"
            ]
          },
          "metadata": {},
          "execution_count": 171
        }
      ]
    },
    {
      "cell_type": "code",
      "metadata": {
        "colab": {
          "base_uri": "https://localhost:8080/"
        },
        "id": "Ek4NAYw28emC",
        "outputId": "74e9df0f-d20e-4180-fcfc-b4b985f8a241"
      },
      "source": [
        "binning_table.plot(metric=\"woe\")"
      ],
      "execution_count": null,
      "outputs": [
        {
          "output_type": "display_data",
          "data": {
            "image/png": "[encoded data removed]",
            "text/plain": [
              "<Figure size 432x288 with 2 Axes>"
            ]
          },
          "metadata": {
            "needs_background": "light"
          }
        }
      ]
    },
    {
      "cell_type": "markdown",
      "metadata": {
        "id": "PIcOCF6PQBA5"
      },
      "source": [
        "## **Income_sum**"
      ]
    },
    {
      "cell_type": "code",
      "metadata": {
        "id": "DxNEqRFRQBA6"
      },
      "source": [
        "variable = \"income_sum\"\n",
        "x = df_inputs_test[variable].values\n",
        "y = df_targets_test"
      ],
      "execution_count": null,
      "outputs": []
    },
    {
      "cell_type": "code",
      "metadata": {
        "id": "ft8K6mQeQBA6"
      },
      "source": [
        "optb = OptimalBinning(name=variable, dtype=\"numerical\", solver=\"cp\")"
      ],
      "execution_count": null,
      "outputs": []
    },
    {
      "cell_type": "code",
      "metadata": {
        "colab": {
          "base_uri": "https://localhost:8080/"
        },
        "id": "Yq5oLq_HQBA6",
        "outputId": "4cc9e0c8-637b-44f4-a9c7-86f51ae3f4ea"
      },
      "source": [
        "optb.fit(x, y)"
      ],
      "execution_count": null,
      "outputs": [
        {
          "output_type": "execute_result",
          "data": {
            "text/plain": [
              "OptimalBinning(cat_cutoff=None, class_weight=None, divergence='iv',\n",
              "               dtype='numerical', gamma=0, max_bin_n_event=None,\n",
              "               max_bin_n_nonevent=None, max_bin_size=None, max_n_bins=None,\n",
              "               max_n_prebins=20, max_pvalue=None,\n",
              "               max_pvalue_policy='consecutive', min_bin_n_event=None,\n",
              "               min_bin_n_nonevent=None, min_bin_size=None,\n",
              "               min_event_rate_diff=0, min_n_bins=None, min_prebin_size=0.05,\n",
              "               mip_solver='bop', monotonic_trend='auto', name='income_sum',\n",
              "               outlier_detector=None, outlier_params=None,\n",
              "               prebinning_method='cart', solver='cp', special_codes=None,\n",
              "               split_digits=None, time_limit=100, user_splits=None,\n",
              "               user_splits_fixed=None, ...)"
            ]
          },
          "metadata": {},
          "execution_count": 175
        }
      ]
    },
    {
      "cell_type": "code",
      "metadata": {
        "colab": {
          "base_uri": "https://localhost:8080/"
        },
        "id": "ntJE3YOnQBA8",
        "outputId": "3b1820bc-19c5-4768-b5f6-376f62e064ff"
      },
      "source": [
        "optb.status"
      ],
      "execution_count": null,
      "outputs": [
        {
          "output_type": "execute_result",
          "data": {
            "application/vnd.google.colaboratory.intrinsic+json": {
              "type": "string"
            },
            "text/plain": [
              "'OPTIMAL'"
            ]
          },
          "metadata": {},
          "execution_count": 176
        }
      ]
    },
    {
      "cell_type": "code",
      "metadata": {
        "colab": {
          "base_uri": "https://localhost:8080/"
        },
        "id": "icss25xjQBA8",
        "outputId": "5597432b-9ace-4eed-bbce-d0bf8e14eb1b"
      },
      "source": [
        "optb.splits"
      ],
      "execution_count": null,
      "outputs": [
        {
          "output_type": "execute_result",
          "data": {
            "text/plain": [
              "array([ 6500., 20500.])"
            ]
          },
          "metadata": {},
          "execution_count": 177
        }
      ]
    },
    {
      "cell_type": "code",
      "metadata": {
        "id": "V7ws_TmpQBA8"
      },
      "source": [
        "binning_table = optb.binning_table"
      ],
      "execution_count": null,
      "outputs": []
    },
    {
      "cell_type": "code",
      "metadata": {
        "colab": {
          "base_uri": "https://localhost:8080/"
        },
        "id": "RP4KVbghQBA8",
        "outputId": "c3aa5ea9-f4cb-4b4a-f85a-a450d9d00c62"
      },
      "source": [
        "binning_table.build()"
      ],
      "execution_count": null,
      "outputs": [
        {
          "output_type": "execute_result",
          "data": {
            "text/html": [
              "<div>\n",
              "<style scoped>\n",
              "    .dataframe tbody tr th:only-of-type {\n",
              "        vertical-align: middle;\n",
              "    }\n",
              "\n",
              "    .dataframe tbody tr th {\n",
              "        vertical-align: top;\n",
              "    }\n",
              "\n",
              "    .dataframe thead th {\n",
              "        text-align: right;\n",
              "    }\n",
              "</style>\n",
              "<table border=\"1\" class=\"dataframe\">\n",
              "  <thead>\n",
              "    <tr style=\"text-align: right;\">\n",
              "      <th></th>\n",
              "      <th>Bin</th>\n",
              "      <th>Count</th>\n",
              "      <th>Count (%)</th>\n",
              "      <th>Non-event</th>\n",
              "      <th>Event</th>\n",
              "      <th>Event rate</th>\n",
              "      <th>WoE</th>\n",
              "      <th>IV</th>\n",
              "      <th>JS</th>\n",
              "    </tr>\n",
              "  </thead>\n",
              "  <tbody>\n",
              "    <tr>\n",
              "      <th>0</th>\n",
              "      <td>(-inf, 6500.00)</td>\n",
              "      <td>883</td>\n",
              "      <td>0.810092</td>\n",
              "      <td>763</td>\n",
              "      <td>120</td>\n",
              "      <td>0.135900</td>\n",
              "      <td>0.052645</td>\n",
              "      <td>0.002203</td>\n",
              "      <td>0.000275</td>\n",
              "    </tr>\n",
              "    <tr>\n",
              "      <th>1</th>\n",
              "      <td>[6500.00, 20500.00)</td>\n",
              "      <td>100</td>\n",
              "      <td>0.091743</td>\n",
              "      <td>77</td>\n",
              "      <td>23</td>\n",
              "      <td>0.230000</td>\n",
              "      <td>-0.58881</td>\n",
              "      <td>0.038882</td>\n",
              "      <td>0.004791</td>\n",
              "    </tr>\n",
              "    <tr>\n",
              "      <th>2</th>\n",
              "      <td>[20500.00, inf)</td>\n",
              "      <td>107</td>\n",
              "      <td>0.098165</td>\n",
              "      <td>95</td>\n",
              "      <td>12</td>\n",
              "      <td>0.112150</td>\n",
              "      <td>0.271849</td>\n",
              "      <td>0.006575</td>\n",
              "      <td>0.000819</td>\n",
              "    </tr>\n",
              "    <tr>\n",
              "      <th>3</th>\n",
              "      <td>Special</td>\n",
              "      <td>0</td>\n",
              "      <td>0.000000</td>\n",
              "      <td>0</td>\n",
              "      <td>0</td>\n",
              "      <td>0.000000</td>\n",
              "      <td>0.0</td>\n",
              "      <td>0.000000</td>\n",
              "      <td>0.000000</td>\n",
              "    </tr>\n",
              "    <tr>\n",
              "      <th>4</th>\n",
              "      <td>Missing</td>\n",
              "      <td>0</td>\n",
              "      <td>0.000000</td>\n",
              "      <td>0</td>\n",
              "      <td>0</td>\n",
              "      <td>0.000000</td>\n",
              "      <td>0.0</td>\n",
              "      <td>0.000000</td>\n",
              "      <td>0.000000</td>\n",
              "    </tr>\n",
              "    <tr>\n",
              "      <th>Totals</th>\n",
              "      <td></td>\n",
              "      <td>1090</td>\n",
              "      <td>1.000000</td>\n",
              "      <td>935</td>\n",
              "      <td>155</td>\n",
              "      <td>0.142202</td>\n",
              "      <td></td>\n",
              "      <td>0.047659</td>\n",
              "      <td>0.005886</td>\n",
              "    </tr>\n",
              "  </tbody>\n",
              "</table>\n",
              "</div>"
            ],
            "text/plain": [
              "                        Bin  Count  Count (%)  ...       WoE        IV        JS\n",
              "0           (-inf, 6500.00)    883   0.810092  ...  0.052645  0.002203  0.000275\n",
              "1       [6500.00, 20500.00)    100   0.091743  ...  -0.58881  0.038882  0.004791\n",
              "2           [20500.00, inf)    107   0.098165  ...  0.271849  0.006575  0.000819\n",
              "3                   Special      0   0.000000  ...       0.0  0.000000  0.000000\n",
              "4                   Missing      0   0.000000  ...       0.0  0.000000  0.000000\n",
              "Totals                        1090   1.000000  ...            0.047659  0.005886\n",
              "\n",
              "[6 rows x 9 columns]"
            ]
          },
          "metadata": {},
          "execution_count": 179
        }
      ]
    },
    {
      "cell_type": "code",
      "metadata": {
        "colab": {
          "base_uri": "https://localhost:8080/"
        },
        "id": "xGtoEqFSQBA8",
        "outputId": "3b735fd2-e7aa-4369-af58-98a5eb62a1c7"
      },
      "source": [
        "binning_table.plot(metric=\"woe\")"
      ],
      "execution_count": null,
      "outputs": [
        {
          "output_type": "display_data",
          "data": {
            "image/png": "[encoded data removed]",
            "text/plain": [
              "<Figure size 432x288 with 2 Axes>"
            ]
          },
          "metadata": {
            "needs_background": "light"
          }
        }
      ]
    },
    {
      "cell_type": "markdown",
      "metadata": {
        "id": "yAmPoxsCWEKi"
      },
      "source": [
        "## **Crops Grown**"
      ]
    },
    {
      "cell_type": "code",
      "metadata": {
        "colab": {
          "base_uri": "https://localhost:8080/"
        },
        "id": "3mk6AcntWEKj",
        "outputId": "ab63594f-2049-4b07-ac07-e104f21f7a7e"
      },
      "source": [
        "dataset[\"crops_grown\"].value_counts()"
      ],
      "execution_count": null,
      "outputs": [
        {
          "output_type": "execute_result",
          "data": {
            "text/plain": [
              "3 type of crops               1534\n",
              "2 type of crops               1213\n",
              "More than 4 types of crops    1157\n",
              "4 type of crops                722\n",
              "1 type of crop                 482\n",
              "0 type of crops                339\n",
              "Name: crops_grown, dtype: int64"
            ]
          },
          "metadata": {},
          "execution_count": 181
        }
      ]
    },
    {
      "cell_type": "code",
      "metadata": {
        "id": "a9LmtlGAWEKk"
      },
      "source": [
        "variable = \"crops_grown\"\n",
        "x = df_inputs_test[variable].values\n",
        "y = df_targets_test"
      ],
      "execution_count": null,
      "outputs": []
    },
    {
      "cell_type": "code",
      "metadata": {
        "id": "2tVEIQH6WEKk"
      },
      "source": [
        "optb = OptimalBinning(name=variable, dtype=\"categorical\", solver=\"cp\")"
      ],
      "execution_count": null,
      "outputs": []
    },
    {
      "cell_type": "code",
      "metadata": {
        "colab": {
          "base_uri": "https://localhost:8080/"
        },
        "id": "0OzMjZpDWEKk",
        "outputId": "2975dd36-02ad-4ef2-b9ac-d40fc64301cb"
      },
      "source": [
        "optb.fit(x, y)"
      ],
      "execution_count": null,
      "outputs": [
        {
          "output_type": "execute_result",
          "data": {
            "text/plain": [
              "OptimalBinning(cat_cutoff=None, class_weight=None, divergence='iv',\n",
              "               dtype='categorical', gamma=0, max_bin_n_event=None,\n",
              "               max_bin_n_nonevent=None, max_bin_size=None, max_n_bins=None,\n",
              "               max_n_prebins=20, max_pvalue=None,\n",
              "               max_pvalue_policy='consecutive', min_bin_n_event=None,\n",
              "               min_bin_n_nonevent=None, min_bin_size=None,\n",
              "               min_event_rate_diff=0, min_n_bins=None, min_prebin_size=0.05,\n",
              "               mip_solver='bop', monotonic_trend='auto', name='crops_grown',\n",
              "               outlier_detector=None, outlier_params=None,\n",
              "               prebinning_method='cart', solver='cp', special_codes=None,\n",
              "               split_digits=None, time_limit=100, user_splits=None,\n",
              "               user_splits_fixed=None, ...)"
            ]
          },
          "metadata": {},
          "execution_count": 184
        }
      ]
    },
    {
      "cell_type": "code",
      "metadata": {
        "colab": {
          "base_uri": "https://localhost:8080/"
        },
        "id": "rPUMX2YbWEKl",
        "outputId": "9a38d9da-6f9a-45c7-da3f-b09f23ceab41"
      },
      "source": [
        "optb.status"
      ],
      "execution_count": null,
      "outputs": [
        {
          "output_type": "execute_result",
          "data": {
            "application/vnd.google.colaboratory.intrinsic+json": {
              "type": "string"
            },
            "text/plain": [
              "'OPTIMAL'"
            ]
          },
          "metadata": {},
          "execution_count": 185
        }
      ]
    },
    {
      "cell_type": "code",
      "metadata": {
        "colab": {
          "base_uri": "https://localhost:8080/"
        },
        "id": "umyxwFJUWEKl",
        "outputId": "59c78e8d-1a64-4de7-c2e1-fb28d515c03f"
      },
      "source": [
        "optb.splits"
      ],
      "execution_count": null,
      "outputs": [
        {
          "output_type": "execute_result",
          "data": {
            "text/plain": [
              "[array(['1 type of crop'], dtype=object),\n",
              " array(['0 type of crops'], dtype=object),\n",
              " array(['4 type of crops'], dtype=object),\n",
              " array(['2 type of crops'], dtype=object),\n",
              " array(['More than 4 types of crops'], dtype=object),\n",
              " array(['3 type of crops'], dtype=object)]"
            ]
          },
          "metadata": {},
          "execution_count": 186
        }
      ]
    },
    {
      "cell_type": "code",
      "metadata": {
        "id": "kD_UTyB-WEKl"
      },
      "source": [
        "binning_table = optb.binning_table"
      ],
      "execution_count": null,
      "outputs": []
    },
    {
      "cell_type": "code",
      "metadata": {
        "colab": {
          "base_uri": "https://localhost:8080/"
        },
        "id": "Zd1ZTFgsWEKl",
        "outputId": "6d918bae-10f5-41c6-d4a6-37b2e23f26e4"
      },
      "source": [
        "binning_table.build()"
      ],
      "execution_count": null,
      "outputs": [
        {
          "output_type": "execute_result",
          "data": {
            "text/html": [
              "<div>\n",
              "<style scoped>\n",
              "    .dataframe tbody tr th:only-of-type {\n",
              "        vertical-align: middle;\n",
              "    }\n",
              "\n",
              "    .dataframe tbody tr th {\n",
              "        vertical-align: top;\n",
              "    }\n",
              "\n",
              "    .dataframe thead th {\n",
              "        text-align: right;\n",
              "    }\n",
              "</style>\n",
              "<table border=\"1\" class=\"dataframe\">\n",
              "  <thead>\n",
              "    <tr style=\"text-align: right;\">\n",
              "      <th></th>\n",
              "      <th>Bin</th>\n",
              "      <th>Count</th>\n",
              "      <th>Count (%)</th>\n",
              "      <th>Non-event</th>\n",
              "      <th>Event</th>\n",
              "      <th>Event rate</th>\n",
              "      <th>WoE</th>\n",
              "      <th>IV</th>\n",
              "      <th>JS</th>\n",
              "    </tr>\n",
              "  </thead>\n",
              "  <tbody>\n",
              "    <tr>\n",
              "      <th>0</th>\n",
              "      <td>[1 type of crop]</td>\n",
              "      <td>102</td>\n",
              "      <td>0.093578</td>\n",
              "      <td>96</td>\n",
              "      <td>6</td>\n",
              "      <td>0.058824</td>\n",
              "      <td>0.975467</td>\n",
              "      <td>0.062395</td>\n",
              "      <td>0.007504</td>\n",
              "    </tr>\n",
              "    <tr>\n",
              "      <th>1</th>\n",
              "      <td>[0 type of crops]</td>\n",
              "      <td>68</td>\n",
              "      <td>0.062385</td>\n",
              "      <td>62</td>\n",
              "      <td>6</td>\n",
              "      <td>0.088235</td>\n",
              "      <td>0.538254</td>\n",
              "      <td>0.014856</td>\n",
              "      <td>0.001835</td>\n",
              "    </tr>\n",
              "    <tr>\n",
              "      <th>2</th>\n",
              "      <td>[4 type of crops]</td>\n",
              "      <td>146</td>\n",
              "      <td>0.133945</td>\n",
              "      <td>125</td>\n",
              "      <td>21</td>\n",
              "      <td>0.143836</td>\n",
              "      <td>-0.01333</td>\n",
              "      <td>0.000024</td>\n",
              "      <td>0.000003</td>\n",
              "    </tr>\n",
              "    <tr>\n",
              "      <th>3</th>\n",
              "      <td>[2 type of crops]</td>\n",
              "      <td>252</td>\n",
              "      <td>0.231193</td>\n",
              "      <td>213</td>\n",
              "      <td>39</td>\n",
              "      <td>0.154762</td>\n",
              "      <td>-0.099391</td>\n",
              "      <td>0.002366</td>\n",
              "      <td>0.000296</td>\n",
              "    </tr>\n",
              "    <tr>\n",
              "      <th>4</th>\n",
              "      <td>[More than 4 types of crops]</td>\n",
              "      <td>236</td>\n",
              "      <td>0.216514</td>\n",
              "      <td>199</td>\n",
              "      <td>37</td>\n",
              "      <td>0.156780</td>\n",
              "      <td>-0.114735</td>\n",
              "      <td>0.002969</td>\n",
              "      <td>0.000371</td>\n",
              "    </tr>\n",
              "    <tr>\n",
              "      <th>5</th>\n",
              "      <td>[3 type of crops]</td>\n",
              "      <td>286</td>\n",
              "      <td>0.262385</td>\n",
              "      <td>240</td>\n",
              "      <td>46</td>\n",
              "      <td>0.160839</td>\n",
              "      <td>-0.145124</td>\n",
              "      <td>0.005818</td>\n",
              "      <td>0.000727</td>\n",
              "    </tr>\n",
              "    <tr>\n",
              "      <th>6</th>\n",
              "      <td>Special</td>\n",
              "      <td>0</td>\n",
              "      <td>0.000000</td>\n",
              "      <td>0</td>\n",
              "      <td>0</td>\n",
              "      <td>0.000000</td>\n",
              "      <td>0.0</td>\n",
              "      <td>0.000000</td>\n",
              "      <td>0.000000</td>\n",
              "    </tr>\n",
              "    <tr>\n",
              "      <th>7</th>\n",
              "      <td>Missing</td>\n",
              "      <td>0</td>\n",
              "      <td>0.000000</td>\n",
              "      <td>0</td>\n",
              "      <td>0</td>\n",
              "      <td>0.000000</td>\n",
              "      <td>0.0</td>\n",
              "      <td>0.000000</td>\n",
              "      <td>0.000000</td>\n",
              "    </tr>\n",
              "    <tr>\n",
              "      <th>Totals</th>\n",
              "      <td></td>\n",
              "      <td>1090</td>\n",
              "      <td>1.000000</td>\n",
              "      <td>935</td>\n",
              "      <td>155</td>\n",
              "      <td>0.142202</td>\n",
              "      <td></td>\n",
              "      <td>0.088428</td>\n",
              "      <td>0.010735</td>\n",
              "    </tr>\n",
              "  </tbody>\n",
              "</table>\n",
              "</div>"
            ],
            "text/plain": [
              "                                 Bin  Count  ...        IV        JS\n",
              "0                   [1 type of crop]    102  ...  0.062395  0.007504\n",
              "1                  [0 type of crops]     68  ...  0.014856  0.001835\n",
              "2                  [4 type of crops]    146  ...  0.000024  0.000003\n",
              "3                  [2 type of crops]    252  ...  0.002366  0.000296\n",
              "4       [More than 4 types of crops]    236  ...  0.002969  0.000371\n",
              "5                  [3 type of crops]    286  ...  0.005818  0.000727\n",
              "6                            Special      0  ...  0.000000  0.000000\n",
              "7                            Missing      0  ...  0.000000  0.000000\n",
              "Totals                                 1090  ...  0.088428  0.010735\n",
              "\n",
              "[9 rows x 9 columns]"
            ]
          },
          "metadata": {},
          "execution_count": 188
        }
      ]
    },
    {
      "cell_type": "code",
      "metadata": {
        "colab": {
          "base_uri": "https://localhost:8080/"
        },
        "id": "X39uPB0OWEKm",
        "outputId": "b9898f7c-8eaf-4bbb-8c2d-fd1842ebc863"
      },
      "source": [
        "binning_table.plot(metric=\"woe\")"
      ],
      "execution_count": null,
      "outputs": [
        {
          "output_type": "display_data",
          "data": {
            "image/png": "[encoded data removed]",
            "text/plain": [
              "<Figure size 432x288 with 2 Axes>"
            ]
          },
          "metadata": {
            "needs_background": "light"
          }
        }
      ]
    },
    {
      "cell_type": "markdown",
      "metadata": {
        "id": "L2sKx_cJS6hq"
      },
      "source": [
        "# **Dummies**"
      ]
    },
    {
      "cell_type": "markdown",
      "metadata": {
        "id": "skmZdW5zTBBG"
      },
      "source": [
        "Columns: crops_grown, tank capacity, duration with same employer, remaining_payment_months"
      ]
    },
    {
      "cell_type": "markdown",
      "metadata": {
        "id": "RnejijgQTY08"
      },
      "source": [
        "## **Crops_grown**"
      ]
    },
    {
      "cell_type": "code",
      "metadata": {
        "colab": {
          "base_uri": "https://localhost:8080/"
        },
        "id": "JzwmqGm0TWQ0",
        "outputId": "10444001-8bf8-450d-f77d-2871630aaa85"
      },
      "source": [
        "df_inputs_test['crops_grown'].unique()"
      ],
      "execution_count": null,
      "outputs": [
        {
          "output_type": "execute_result",
          "data": {
            "text/plain": [
              "array(['2 type of crops', '1 type of crop', 'More than 4 types of crops',\n",
              "       '3 type of crops', '4 type of crops', '0 type of crops'],\n",
              "      dtype=object)"
            ]
          },
          "metadata": {},
          "execution_count": 190
        }
      ]
    },
    {
      "cell_type": "code",
      "metadata": {
        "colab": {
          "base_uri": "https://localhost:8080/"
        },
        "id": "Mr2nM-NET4Cp",
        "outputId": "c330ba06-caf1-409b-a3e6-6f3bec8a458f"
      },
      "source": [
        "crops_dummies = pd.get_dummies(df_inputs_test['crops_grown'], prefix='crops_grown', prefix_sep=':')\n",
        "crops_dummies.columns"
      ],
      "execution_count": null,
      "outputs": [
        {
          "output_type": "execute_result",
          "data": {
            "text/plain": [
              "Index(['crops_grown:0 type of crops', 'crops_grown:1 type of crop',\n",
              "       'crops_grown:2 type of crops', 'crops_grown:3 type of crops',\n",
              "       'crops_grown:4 type of crops',\n",
              "       'crops_grown:More than 4 types of crops'],\n",
              "      dtype='object')"
            ]
          },
          "metadata": {},
          "execution_count": 191
        }
      ]
    },
    {
      "cell_type": "code",
      "metadata": {
        "id": "2yfR8GfYZ1TC"
      },
      "source": [
        "# concatenate\n",
        "\n",
        "df_inputs_test = pd.concat([df_inputs_test, crops_dummies], axis=1)"
      ],
      "execution_count": null,
      "outputs": []
    },
    {
      "cell_type": "markdown",
      "metadata": {
        "id": "pFl0zfgbYD-n"
      },
      "source": [
        "## **Duration with same employer**"
      ]
    },
    {
      "cell_type": "code",
      "metadata": {
        "colab": {
          "base_uri": "https://localhost:8080/"
        },
        "id": "JRrShYvUUqCH",
        "outputId": "fce84160-a794-4ac0-dfbd-daca5e7c3702"
      },
      "source": [
        "duration_with_same_employer_dummies = pd.get_dummies(df_inputs_test['duration_with_same_employer'], prefix='duration_with_same_employer', prefix_sep=':')\n",
        "duration_with_same_employer_dummies.columns\n"
      ],
      "execution_count": null,
      "outputs": [
        {
          "output_type": "execute_result",
          "data": {
            "text/plain": [
              "Index(['duration_with_same_employer:0-1 year',\n",
              "       'duration_with_same_employer:1-2 years',\n",
              "       'duration_with_same_employer:2-5 years',\n",
              "       'duration_with_same_employer:More than 5 years'],\n",
              "      dtype='object')"
            ]
          },
          "metadata": {},
          "execution_count": 193
        }
      ]
    },
    {
      "cell_type": "code",
      "metadata": {
        "id": "3Q8m3zySZ7KH"
      },
      "source": [
        "# concatenate\n",
        "df_inputs_test = pd.concat([df_inputs_test, duration_with_same_employer_dummies], axis=1)"
      ],
      "execution_count": null,
      "outputs": []
    },
    {
      "cell_type": "code",
      "metadata": {
        "id": "jgASaqNgZLjx"
      },
      "source": [
        "# coarse classing\n",
        "df_inputs_test['duration_with_same_employer:1-5 years'] = sum([df_inputs_test['duration_with_same_employer:1-2 years'],\n",
        "                                                df_inputs_test['duration_with_same_employer:2-5 years']])"
      ],
      "execution_count": null,
      "outputs": []
    },
    {
      "cell_type": "markdown",
      "metadata": {
        "id": "6fy0ORpxUZRx"
      },
      "source": [
        "## **Tank_capacity**"
      ]
    },
    {
      "cell_type": "code",
      "metadata": {
        "id": "-9aZb2F7aPp2"
      },
      "source": [
        "df_inputs_test['tank_capacity:<= 1100'] =np.where((df_inputs_test['tank_capacity'] <= 1100),1,0)\n",
        "\n",
        "df_inputs_test['tank_capacity:1100-2450'] = np.where(((df_inputs_test['tank_capacity'] > 1100) &\n",
        "                                                               (df_inputs_test['tank_capacity'] <= 2450)),1,0)\n",
        "\n",
        "df_inputs_test['tank_capacity:2450-3400'] = np.where(((df_inputs_test['tank_capacity'] > 2450) &\n",
        "                                                               (df_inputs_test['tank_capacity'] <= 3400)),1,0)\n",
        "\n",
        "df_inputs_test['tank_capacity:3400-5400'] = np.where(((df_inputs_test['tank_capacity'] > 3400) &\n",
        "                                                              (df_inputs_test['tank_capacity'] <= 5400)),1,0)\n",
        "\n",
        "df_inputs_test['tank_capacity:>5400'] = np.where((df_inputs_test['tank_capacity'] > 5400),1,0)"
      ],
      "execution_count": null,
      "outputs": []
    },
    {
      "cell_type": "markdown",
      "metadata": {
        "id": "SoweYsbAYNfv"
      },
      "source": [
        "## **Remaining_payment_months**"
      ]
    },
    {
      "cell_type": "code",
      "metadata": {
        "id": "eCPqdojqaRBE"
      },
      "source": [
        "df_inputs_test['remaining_payment_months:<=1.5'] = np.where((df_inputs_test['remaining_payment_months'] <= 1.5),1,0)\n",
        "\n",
        "df_inputs_test['remaining_payment_months:1.5-7.5'] = np.where(((df_inputs_test['remaining_payment_months'] > 1.5) &\n",
        "                                                              (df_inputs_test['remaining_payment_months'] <= 7.5)),1,0)\n",
        "\n",
        "df_inputs_test['remaining_payment_months:7.5-17.50'] = np.where(((df_inputs_test['remaining_payment_months'] > 7.5) &\n",
        "                                                               (df_inputs_test['remaining_payment_months'] <= 17.50)),1,0)\n",
        "\n",
        "df_inputs_test['remaining_payment_months:>17.50'] = np.where((df_inputs_test['remaining_payment_months'] > 17.50),1,0)"
      ],
      "execution_count": null,
      "outputs": []
    },
    {
      "cell_type": "markdown",
      "metadata": {
        "id": "hvzmlMOD65lz"
      },
      "source": [
        "## **Income_sum**"
      ]
    },
    {
      "cell_type": "code",
      "metadata": {
        "id": "h8_demzn65l0"
      },
      "source": [
        "df_inputs_test['income_sum:<=1270'] = np.where((df_inputs_test['income_sum'] <= 1270),1,0)\n",
        "\n",
        "df_inputs_test['income_sum:1270-14200'] = np.where(((df_inputs_test['income_sum'] > 1270) &\n",
        "                                                              (df_inputs_test['income_sum'] <= 14200)),1,0)\n",
        "\n",
        "df_inputs_test['income_sum:>14200'] = np.where((df_inputs_test['income_sum'] > 14200),1,0)"
      ],
      "execution_count": null,
      "outputs": []
    },
    {
      "cell_type": "markdown",
      "metadata": {
        "id": "qDhx7SBvZQb_"
      },
      "source": [
        "## **Number_of_businesses_before**"
      ]
    },
    {
      "cell_type": "code",
      "metadata": {
        "colab": {
          "base_uri": "https://localhost:8080/"
        },
        "id": "vYO2exUKZQb_",
        "outputId": "349449d7-dca5-445f-ff35-96ef0c9e2fea"
      },
      "source": [
        "number_of_businesses_before_dummies = pd.get_dummies(df_inputs_test['number_of_businesses_before'], prefix='number_of_businesses_before', prefix_sep=':')\n",
        "number_of_businesses_before_dummies.columns\n"
      ],
      "execution_count": null,
      "outputs": [
        {
          "output_type": "execute_result",
          "data": {
            "text/plain": [
              "Index(['number_of_businesses_before:0 businesses',\n",
              "       'number_of_businesses_before:1 business',\n",
              "       'number_of_businesses_before:2 businesses',\n",
              "       'number_of_businesses_before:3-5 businesses',\n",
              "       'number_of_businesses_before:More than 5 businesses'],\n",
              "      dtype='object')"
            ]
          },
          "metadata": {},
          "execution_count": 199
        }
      ]
    },
    {
      "cell_type": "code",
      "metadata": {
        "id": "NhUwQvFmZQcA"
      },
      "source": [
        "# concatenate\n",
        "df_inputs_test = pd.concat([df_inputs_test, number_of_businesses_before_dummies], axis=1)"
      ],
      "execution_count": null,
      "outputs": []
    },
    {
      "cell_type": "code",
      "metadata": {
        "id": "44Vd5bJZZQcA"
      },
      "source": [
        "# coarse classing\n",
        "df_inputs_test['number_of_businesses_before:2-5 businesses'] = sum([df_inputs_test['number_of_businesses_before:2 businesses'],\n",
        "                                                df_inputs_test['number_of_businesses_before:3-5 businesses']])\n",
        "\n",
        "df_inputs_test['number_of_businesses_before:0 & More than 5 businesses'] = sum([df_inputs_test['number_of_businesses_before:0 businesses'],\n",
        "                                                df_inputs_test['number_of_businesses_before:More than 5 businesses']])"
      ],
      "execution_count": null,
      "outputs": []
    },
    {
      "cell_type": "markdown",
      "metadata": {
        "id": "icUOFdeReB3P"
      },
      "source": [
        "## **Family_descision_maker**"
      ]
    },
    {
      "cell_type": "code",
      "metadata": {
        "colab": {
          "base_uri": "https://localhost:8080/"
        },
        "id": "VNNGPp0meB3Q",
        "outputId": "95ba4e5b-22e0-4f5b-e8de-552df2f66a03"
      },
      "source": [
        "df_inputs_test['family_descision_maker'].unique()"
      ],
      "execution_count": null,
      "outputs": [
        {
          "output_type": "execute_result",
          "data": {
            "text/plain": [
              "array(['Child (son/daughter)', 'Husband', 'Wife',\n",
              "       'Everyone in the household'], dtype=object)"
            ]
          },
          "metadata": {},
          "execution_count": 202
        }
      ]
    },
    {
      "cell_type": "code",
      "metadata": {
        "colab": {
          "base_uri": "https://localhost:8080/"
        },
        "id": "o77f4BjQeB3Q",
        "outputId": "638ee0c0-3bea-44e0-b34f-ec8a97a1ef53"
      },
      "source": [
        "family_descision_maker_dummies = pd.get_dummies(df_inputs_test['family_descision_maker'], prefix='family_descision_maker', prefix_sep=':')\n",
        "family_descision_maker_dummies.columns"
      ],
      "execution_count": null,
      "outputs": [
        {
          "output_type": "execute_result",
          "data": {
            "text/plain": [
              "Index(['family_descision_maker:Child (son/daughter)',\n",
              "       'family_descision_maker:Everyone in the household',\n",
              "       'family_descision_maker:Husband', 'family_descision_maker:Wife'],\n",
              "      dtype='object')"
            ]
          },
          "metadata": {},
          "execution_count": 203
        }
      ]
    },
    {
      "cell_type": "code",
      "metadata": {
        "id": "Q4SH18OJeB3S"
      },
      "source": [
        "# concatenate\n",
        "\n",
        "df_inputs_test = pd.concat([df_inputs_test, family_descision_maker_dummies], axis=1)"
      ],
      "execution_count": null,
      "outputs": []
    },
    {
      "cell_type": "code",
      "metadata": {
        "id": "2f4WqrLIeZL7"
      },
      "source": [
        "# coarse classing\n",
        "df_inputs_test['family_descision_maker:Husband_Child(son/daughter)'] = sum([df_inputs_test['family_descision_maker:Husband'],\n",
        "                                                df_inputs_test['family_descision_maker:Child (son/daughter)']])"
      ],
      "execution_count": null,
      "outputs": []
    },
    {
      "cell_type": "markdown",
      "metadata": {
        "id": "8xn0YlPChGHA"
      },
      "source": [
        "## **Netincome1_business**"
      ]
    },
    {
      "cell_type": "code",
      "metadata": {
        "id": "SyRzCyEfhT18"
      },
      "source": [
        "df_inputs_test['netincome1_business:<= 15.84'] =np.where((df_inputs_test['netincome1_business'] <15.84),1,0)\n",
        "\n",
        "df_inputs_test['netincome1_business:15.84-40.85'] = np.where(((df_inputs_test['netincome1_business'] > 15.84) &\n",
        "                                                               (df_inputs_test['netincome1_business'] <= 40.85)),1,0)\n",
        "\n",
        "df_inputs_test['netincome1_business:40.85-75.04'] = np.where(((df_inputs_test['netincome1_business'] > 40.85) &\n",
        "                                                               (df_inputs_test['netincome1_business'] <= 75.04)),1,0)\n",
        "\n",
        "df_inputs_test['netincome1_business:>75.04'] = np.where((df_inputs_test['netincome1_business'] > 75.04),1,0)"
      ],
      "execution_count": null,
      "outputs": []
    },
    {
      "cell_type": "markdown",
      "metadata": {
        "id": "m97f01OwjqQB"
      },
      "source": [
        "## **Netincome2_business**"
      ]
    },
    {
      "cell_type": "code",
      "metadata": {
        "id": "Ti7mTlKmjqQB"
      },
      "source": [
        "df_inputs_test['netincome2_business:<= 23.90'] =np.where((df_inputs_test['netincome2_business'] <23.90),1,0)\n",
        "\n",
        "df_inputs_test['netincome2_business:23.90-40.17'] = np.where(((df_inputs_test['netincome2_business'] > 23.90) &\n",
        "                                                               (df_inputs_test['netincome2_business'] <= 40.17)),1,0)\n",
        "\n",
        "df_inputs_test['netincome2_business:40.17-81.60'] = np.where(((df_inputs_test['netincome2_business'] > 40.17) &\n",
        "                                                               (df_inputs_test['netincome2_business'] <= 81.60)),1,0)\n",
        "\n",
        "df_inputs_test['netincome2_business:>81.60'] = np.where((df_inputs_test['netincome2_business'] > 81.60),1,0)"
      ],
      "execution_count": null,
      "outputs": []
    },
    {
      "cell_type": "markdown",
      "metadata": {
        "id": "xusnYAYtThIu"
      },
      "source": [
        "## **House_hold_number**"
      ]
    },
    {
      "cell_type": "code",
      "metadata": {
        "colab": {
          "base_uri": "https://localhost:8080/"
        },
        "id": "AW97lU4OThIu",
        "outputId": "10c6f1ef-3cc0-4730-b023-7c5294d4a9d0"
      },
      "source": [
        "df_inputs_test['house_hold_number'].unique()"
      ],
      "execution_count": null,
      "outputs": [
        {
          "output_type": "execute_result",
          "data": {
            "text/plain": [
              "array(['04-Jul', 'More than 7', '02-Mar', '1'], dtype=object)"
            ]
          },
          "metadata": {},
          "execution_count": 208
        }
      ]
    },
    {
      "cell_type": "code",
      "metadata": {
        "colab": {
          "base_uri": "https://localhost:8080/"
        },
        "id": "odUfpo3aThIu",
        "outputId": "53b862c9-20f5-461e-fba4-001f12e3d920"
      },
      "source": [
        "crops_dummies = pd.get_dummies(df_inputs_test['house_hold_number'], prefix='house_hold_number', prefix_sep=':')\n",
        "crops_dummies.columns"
      ],
      "execution_count": null,
      "outputs": [
        {
          "output_type": "execute_result",
          "data": {
            "text/plain": [
              "Index(['house_hold_number:02-Mar', 'house_hold_number:04-Jul',\n",
              "       'house_hold_number:1', 'house_hold_number:More than 7'],\n",
              "      dtype='object')"
            ]
          },
          "metadata": {},
          "execution_count": 209
        }
      ]
    },
    {
      "cell_type": "code",
      "metadata": {
        "id": "EXzuS5XZThIv"
      },
      "source": [
        "# concatenate\n",
        "\n",
        "df_inputs_test = pd.concat([df_inputs_test, crops_dummies], axis=1)"
      ],
      "execution_count": null,
      "outputs": []
    },
    {
      "cell_type": "code",
      "metadata": {
        "id": "TdSrvWRMT_O9"
      },
      "source": [
        "# coarse classing\n",
        "df_inputs_test['house_hold_number:1-02-3'] = sum([df_inputs_test['house_hold_number:1'],\n",
        "                                                df_inputs_test['house_hold_number:02-Mar']])\n"
      ],
      "execution_count": null,
      "outputs": []
    },
    {
      "cell_type": "code",
      "metadata": {
        "id": "fg5FOaBGUpwr"
      },
      "source": [
        "df_inputs_test['house_hold_number:4-7'] = df_inputs_test['house_hold_number:04-Jul']\n"
      ],
      "execution_count": null,
      "outputs": []
    },
    {
      "cell_type": "markdown",
      "metadata": {
        "id": "o149B8tLn3Iw"
      },
      "source": [
        "## **Farming_duration**"
      ]
    },
    {
      "cell_type": "code",
      "metadata": {
        "colab": {
          "base_uri": "https://localhost:8080/"
        },
        "id": "xoMrbbTun3Iw",
        "outputId": "ee4f1d7f-7cd8-475a-b9fa-e17d0daf9a97"
      },
      "source": [
        "farming_duration_dummies = pd.get_dummies(df_inputs_test['farming_duration'], prefix='farming_duration', prefix_sep=':')\n",
        "farming_duration_dummies.columns\n"
      ],
      "execution_count": null,
      "outputs": [
        {
          "output_type": "execute_result",
          "data": {
            "text/plain": [
              "Index(['farming_duration:0-1 year', 'farming_duration:1-2 years',\n",
              "       'farming_duration:2-5 years', 'farming_duration:More than 5 years'],\n",
              "      dtype='object')"
            ]
          },
          "metadata": {},
          "execution_count": 213
        }
      ]
    },
    {
      "cell_type": "code",
      "metadata": {
        "id": "eqoJ8vDCn3Iw"
      },
      "source": [
        "# concatenate\n",
        "df_inputs_test = pd.concat([df_inputs_test, farming_duration_dummies], axis=1)"
      ],
      "execution_count": null,
      "outputs": []
    },
    {
      "cell_type": "code",
      "metadata": {
        "id": "H2Ydpe9Xn3Iw"
      },
      "source": [
        "# coarse classing\n",
        "df_inputs_test['farming_duration:more_than_5_years_&_1-2'] = sum([df_inputs_test['farming_duration:More than 5 years'],\n",
        "                                                df_inputs_test['farming_duration:1-2 years']])"
      ],
      "execution_count": null,
      "outputs": []
    },
    {
      "cell_type": "markdown",
      "metadata": {
        "id": "j7MPhZVhpsCV"
      },
      "source": [
        "## **Rent**"
      ]
    },
    {
      "cell_type": "code",
      "metadata": {
        "id": "_pnmTKAtprSC"
      },
      "source": [
        "df_inputs_test['rent:<=300'] = np.where((df_inputs_test['rent'] <= 300),1,0)\n",
        "\n",
        "df_inputs_test['rent:>300'] = np.where((df_inputs_test['rent'] > 300),1,0)"
      ],
      "execution_count": null,
      "outputs": []
    },
    {
      "cell_type": "markdown",
      "metadata": {
        "id": "dqOV3LberNtf"
      },
      "source": [
        "## **Loans**"
      ]
    },
    {
      "cell_type": "code",
      "metadata": {
        "id": "WPQXLITJrPw_"
      },
      "source": [
        "df_inputs_test['loans:<=6800'] = np.where((df_inputs_test['loans'] <= 6800),1,0)\n",
        "\n",
        "df_inputs_test['loans:>6800'] = np.where((df_inputs_test['loans'] > 6800),1,0)"
      ],
      "execution_count": null,
      "outputs": []
    },
    {
      "cell_type": "markdown",
      "metadata": {
        "id": "UXz-FxbD7hhu"
      },
      "source": [
        "# **Final Cols**"
      ]
    },
    {
      "cell_type": "code",
      "metadata": {
        "id": "dPbkHTzu7hhu"
      },
      "source": [
        "final_cols = ['crops_grown:0 type of crops', 'crops_grown:1 type of crop', 'crops_grown:2 type of crops','crops_grown:3 type of crops','crops_grown:4 type of crops',\n",
        "            'crops_grown:More than 4 types of crops','duration_with_same_employer:0-1 year', 'duration_with_same_employer:1-5 years','duration_with_same_employer:More than 5 years',\n",
        "            'remaining_payment_months:<=1.5','remaining_payment_months:1.5-7.5','remaining_payment_months:7.5-17.50','remaining_payment_months:>17.50','tank_capacity:<= 1100',\n",
        "            'tank_capacity:1100-2450','tank_capacity:2450-3400','tank_capacity:3400-5400','tank_capacity:>5400',\n",
        "            'number_of_businesses_before:1 business','number_of_businesses_before:2-5 businesses','number_of_businesses_before:0 & More than 5 businesses',\n",
        "            'income_sum:<=1270','income_sum:1270-14200','income_sum:>14200','family_descision_maker:Everyone in the household','family_descision_maker:Wife',\n",
        "            'family_descision_maker:Husband_Child(son/daughter)','netincome1_business:<= 15.84','netincome1_business:15.84-40.85','netincome1_business:40.85-75.04',\n",
        "            'netincome1_business:>75.04','netincome2_business:<= 23.90','netincome2_business:23.90-40.17','netincome2_business:40.17-81.60','netincome2_business:>81.60',\n",
        "            'house_hold_number:1-02-3','house_hold_number:4-7','house_hold_number:More than 7','farming_duration:more_than_5_years_&_1-2','farming_duration:0-1 year','farming_duration:2-5 years',\n",
        "            'rent:<=300','rent:>300' ]\n",
        "\n",
        "final_inputs_df = df_inputs_test[final_cols]\n"
      ],
      "execution_count": null,
      "outputs": []
    },
    {
      "cell_type": "code",
      "metadata": {
        "colab": {
          "base_uri": "https://localhost:8080/"
        },
        "id": "DTiBF8XP7hhv",
        "outputId": "24bf72a1-3f8b-4a9d-c6b5-f444991c5976"
      },
      "source": [
        "final_inputs_df.shape"
      ],
      "execution_count": null,
      "outputs": [
        {
          "output_type": "execute_result",
          "data": {
            "text/plain": [
              "(1090, 43)"
            ]
          },
          "metadata": {},
          "execution_count": 220
        }
      ]
    },
    {
      "cell_type": "code",
      "metadata": {
        "colab": {
          "base_uri": "https://localhost:8080/",
          "height": 261
        },
        "id": "qaY-Cv9u7hhw",
        "outputId": "b57668d5-3f20-488a-9d00-c2b23ae52e99"
      },
      "source": [
        "final_inputs_df.head()"
      ],
      "execution_count": null,
      "outputs": [
        {
          "output_type": "execute_result",
          "data": {
            "text/html": [
              "<div>\n",
              "<style scoped>\n",
              "    .dataframe tbody tr th:only-of-type {\n",
              "        vertical-align: middle;\n",
              "    }\n",
              "\n",
              "    .dataframe tbody tr th {\n",
              "        vertical-align: top;\n",
              "    }\n",
              "\n",
              "    .dataframe thead th {\n",
              "        text-align: right;\n",
              "    }\n",
              "</style>\n",
              "<table border=\"1\" class=\"dataframe\">\n",
              "  <thead>\n",
              "    <tr style=\"text-align: right;\">\n",
              "      <th></th>\n",
              "      <th>crops_grown:0 type of crops</th>\n",
              "      <th>crops_grown:1 type of crop</th>\n",
              "      <th>crops_grown:2 type of crops</th>\n",
              "      <th>crops_grown:3 type of crops</th>\n",
              "      <th>crops_grown:4 type of crops</th>\n",
              "      <th>crops_grown:More than 4 types of crops</th>\n",
              "      <th>duration_with_same_employer:0-1 year</th>\n",
              "      <th>duration_with_same_employer:1-5 years</th>\n",
              "      <th>duration_with_same_employer:More than 5 years</th>\n",
              "      <th>remaining_payment_months:&lt;=1.5</th>\n",
              "      <th>remaining_payment_months:1.5-7.5</th>\n",
              "      <th>remaining_payment_months:7.5-17.50</th>\n",
              "      <th>remaining_payment_months:&gt;17.50</th>\n",
              "      <th>tank_capacity:&lt;= 1100</th>\n",
              "      <th>tank_capacity:1100-2450</th>\n",
              "      <th>tank_capacity:2450-3400</th>\n",
              "      <th>tank_capacity:3400-5400</th>\n",
              "      <th>tank_capacity:&gt;5400</th>\n",
              "      <th>number_of_businesses_before:1 business</th>\n",
              "      <th>number_of_businesses_before:2-5 businesses</th>\n",
              "      <th>number_of_businesses_before:0 &amp; More than 5 businesses</th>\n",
              "      <th>income_sum:&lt;=1270</th>\n",
              "      <th>income_sum:1270-14200</th>\n",
              "      <th>income_sum:&gt;14200</th>\n",
              "      <th>family_descision_maker:Everyone in the household</th>\n",
              "      <th>family_descision_maker:Wife</th>\n",
              "      <th>family_descision_maker:Husband_Child(son/daughter)</th>\n",
              "      <th>netincome1_business:&lt;= 15.84</th>\n",
              "      <th>netincome1_business:15.84-40.85</th>\n",
              "      <th>netincome1_business:40.85-75.04</th>\n",
              "      <th>netincome1_business:&gt;75.04</th>\n",
              "      <th>netincome2_business:&lt;= 23.90</th>\n",
              "      <th>netincome2_business:23.90-40.17</th>\n",
              "      <th>netincome2_business:40.17-81.60</th>\n",
              "      <th>netincome2_business:&gt;81.60</th>\n",
              "      <th>house_hold_number:1-02-3</th>\n",
              "      <th>house_hold_number:4-7</th>\n",
              "      <th>house_hold_number:More than 7</th>\n",
              "      <th>farming_duration:more_than_5_years_&amp;_1-2</th>\n",
              "      <th>farming_duration:0-1 year</th>\n",
              "      <th>farming_duration:2-5 years</th>\n",
              "      <th>rent:&lt;=300</th>\n",
              "      <th>rent:&gt;300</th>\n",
              "    </tr>\n",
              "  </thead>\n",
              "  <tbody>\n",
              "    <tr>\n",
              "      <th>1862</th>\n",
              "      <td>0</td>\n",
              "      <td>0</td>\n",
              "      <td>1</td>\n",
              "      <td>0</td>\n",
              "      <td>0</td>\n",
              "      <td>0</td>\n",
              "      <td>0</td>\n",
              "      <td>1</td>\n",
              "      <td>0</td>\n",
              "      <td>1</td>\n",
              "      <td>0</td>\n",
              "      <td>0</td>\n",
              "      <td>0</td>\n",
              "      <td>1</td>\n",
              "      <td>0</td>\n",
              "      <td>0</td>\n",
              "      <td>0</td>\n",
              "      <td>0</td>\n",
              "      <td>0</td>\n",
              "      <td>0</td>\n",
              "      <td>1</td>\n",
              "      <td>1</td>\n",
              "      <td>0</td>\n",
              "      <td>0</td>\n",
              "      <td>0</td>\n",
              "      <td>0</td>\n",
              "      <td>1</td>\n",
              "      <td>1</td>\n",
              "      <td>0</td>\n",
              "      <td>0</td>\n",
              "      <td>0</td>\n",
              "      <td>1</td>\n",
              "      <td>0</td>\n",
              "      <td>0</td>\n",
              "      <td>0</td>\n",
              "      <td>0</td>\n",
              "      <td>1</td>\n",
              "      <td>0</td>\n",
              "      <td>0</td>\n",
              "      <td>0</td>\n",
              "      <td>1</td>\n",
              "      <td>1</td>\n",
              "      <td>0</td>\n",
              "    </tr>\n",
              "    <tr>\n",
              "      <th>4710</th>\n",
              "      <td>0</td>\n",
              "      <td>1</td>\n",
              "      <td>0</td>\n",
              "      <td>0</td>\n",
              "      <td>0</td>\n",
              "      <td>0</td>\n",
              "      <td>0</td>\n",
              "      <td>0</td>\n",
              "      <td>1</td>\n",
              "      <td>0</td>\n",
              "      <td>0</td>\n",
              "      <td>0</td>\n",
              "      <td>1</td>\n",
              "      <td>0</td>\n",
              "      <td>0</td>\n",
              "      <td>1</td>\n",
              "      <td>0</td>\n",
              "      <td>0</td>\n",
              "      <td>0</td>\n",
              "      <td>0</td>\n",
              "      <td>1</td>\n",
              "      <td>1</td>\n",
              "      <td>0</td>\n",
              "      <td>0</td>\n",
              "      <td>0</td>\n",
              "      <td>0</td>\n",
              "      <td>1</td>\n",
              "      <td>1</td>\n",
              "      <td>0</td>\n",
              "      <td>0</td>\n",
              "      <td>0</td>\n",
              "      <td>1</td>\n",
              "      <td>0</td>\n",
              "      <td>0</td>\n",
              "      <td>0</td>\n",
              "      <td>0</td>\n",
              "      <td>0</td>\n",
              "      <td>1</td>\n",
              "      <td>1</td>\n",
              "      <td>0</td>\n",
              "      <td>0</td>\n",
              "      <td>1</td>\n",
              "      <td>0</td>\n",
              "    </tr>\n",
              "    <tr>\n",
              "      <th>3527</th>\n",
              "      <td>0</td>\n",
              "      <td>0</td>\n",
              "      <td>0</td>\n",
              "      <td>0</td>\n",
              "      <td>0</td>\n",
              "      <td>1</td>\n",
              "      <td>1</td>\n",
              "      <td>0</td>\n",
              "      <td>0</td>\n",
              "      <td>1</td>\n",
              "      <td>0</td>\n",
              "      <td>0</td>\n",
              "      <td>0</td>\n",
              "      <td>0</td>\n",
              "      <td>1</td>\n",
              "      <td>0</td>\n",
              "      <td>0</td>\n",
              "      <td>0</td>\n",
              "      <td>1</td>\n",
              "      <td>0</td>\n",
              "      <td>0</td>\n",
              "      <td>1</td>\n",
              "      <td>0</td>\n",
              "      <td>0</td>\n",
              "      <td>0</td>\n",
              "      <td>0</td>\n",
              "      <td>1</td>\n",
              "      <td>1</td>\n",
              "      <td>0</td>\n",
              "      <td>0</td>\n",
              "      <td>0</td>\n",
              "      <td>1</td>\n",
              "      <td>0</td>\n",
              "      <td>0</td>\n",
              "      <td>0</td>\n",
              "      <td>0</td>\n",
              "      <td>1</td>\n",
              "      <td>0</td>\n",
              "      <td>1</td>\n",
              "      <td>0</td>\n",
              "      <td>0</td>\n",
              "      <td>1</td>\n",
              "      <td>0</td>\n",
              "    </tr>\n",
              "    <tr>\n",
              "      <th>1055</th>\n",
              "      <td>0</td>\n",
              "      <td>0</td>\n",
              "      <td>1</td>\n",
              "      <td>0</td>\n",
              "      <td>0</td>\n",
              "      <td>0</td>\n",
              "      <td>1</td>\n",
              "      <td>0</td>\n",
              "      <td>0</td>\n",
              "      <td>0</td>\n",
              "      <td>0</td>\n",
              "      <td>0</td>\n",
              "      <td>1</td>\n",
              "      <td>0</td>\n",
              "      <td>0</td>\n",
              "      <td>1</td>\n",
              "      <td>0</td>\n",
              "      <td>0</td>\n",
              "      <td>0</td>\n",
              "      <td>0</td>\n",
              "      <td>1</td>\n",
              "      <td>0</td>\n",
              "      <td>0</td>\n",
              "      <td>1</td>\n",
              "      <td>0</td>\n",
              "      <td>0</td>\n",
              "      <td>1</td>\n",
              "      <td>1</td>\n",
              "      <td>0</td>\n",
              "      <td>0</td>\n",
              "      <td>0</td>\n",
              "      <td>0</td>\n",
              "      <td>0</td>\n",
              "      <td>0</td>\n",
              "      <td>1</td>\n",
              "      <td>0</td>\n",
              "      <td>1</td>\n",
              "      <td>0</td>\n",
              "      <td>1</td>\n",
              "      <td>0</td>\n",
              "      <td>0</td>\n",
              "      <td>1</td>\n",
              "      <td>0</td>\n",
              "    </tr>\n",
              "    <tr>\n",
              "      <th>4342</th>\n",
              "      <td>0</td>\n",
              "      <td>0</td>\n",
              "      <td>0</td>\n",
              "      <td>1</td>\n",
              "      <td>0</td>\n",
              "      <td>0</td>\n",
              "      <td>1</td>\n",
              "      <td>0</td>\n",
              "      <td>0</td>\n",
              "      <td>1</td>\n",
              "      <td>0</td>\n",
              "      <td>0</td>\n",
              "      <td>0</td>\n",
              "      <td>0</td>\n",
              "      <td>0</td>\n",
              "      <td>0</td>\n",
              "      <td>0</td>\n",
              "      <td>1</td>\n",
              "      <td>1</td>\n",
              "      <td>0</td>\n",
              "      <td>0</td>\n",
              "      <td>1</td>\n",
              "      <td>0</td>\n",
              "      <td>0</td>\n",
              "      <td>0</td>\n",
              "      <td>0</td>\n",
              "      <td>1</td>\n",
              "      <td>1</td>\n",
              "      <td>0</td>\n",
              "      <td>0</td>\n",
              "      <td>0</td>\n",
              "      <td>1</td>\n",
              "      <td>0</td>\n",
              "      <td>0</td>\n",
              "      <td>0</td>\n",
              "      <td>1</td>\n",
              "      <td>0</td>\n",
              "      <td>0</td>\n",
              "      <td>1</td>\n",
              "      <td>0</td>\n",
              "      <td>0</td>\n",
              "      <td>1</td>\n",
              "      <td>0</td>\n",
              "    </tr>\n",
              "  </tbody>\n",
              "</table>\n",
              "</div>"
            ],
            "text/plain": [
              "      crops_grown:0 type of crops  ...  rent:>300\n",
              "1862                            0  ...          0\n",
              "4710                            0  ...          0\n",
              "3527                            0  ...          0\n",
              "1055                            0  ...          0\n",
              "4342                            0  ...          0\n",
              "\n",
              "[5 rows x 43 columns]"
            ]
          },
          "metadata": {},
          "execution_count": 221
        }
      ]
    },
    {
      "cell_type": "code",
      "metadata": {
        "colab": {
          "base_uri": "https://localhost:8080/"
        },
        "id": "s_roDiJE7hhx",
        "outputId": "b3823c43-f5f9-4f73-9c73-d97ed23c052b"
      },
      "source": [
        "final_inputs_df.info()\n"
      ],
      "execution_count": null,
      "outputs": [
        {
          "output_type": "stream",
          "name": "stdout",
          "text": [
            "<class 'pandas.core.frame.DataFrame'>\n",
            "Int64Index: 1090 entries, 1862 to 2990\n",
            "Data columns (total 43 columns):\n",
            " #   Column                                                  Non-Null Count  Dtype\n",
            "---  ------                                                  --------------  -----\n",
            " 0   crops_grown:0 type of crops                             1090 non-null   uint8\n",
            " 1   crops_grown:1 type of crop                              1090 non-null   uint8\n",
            " 2   crops_grown:2 type of crops                             1090 non-null   uint8\n",
            " 3   crops_grown:3 type of crops                             1090 non-null   uint8\n",
            " 4   crops_grown:4 type of crops                             1090 non-null   uint8\n",
            " 5   crops_grown:More than 4 types of crops                  1090 non-null   uint8\n",
            " 6   duration_with_same_employer:0-1 year                    1090 non-null   uint8\n",
            " 7   duration_with_same_employer:1-5 years                   1090 non-null   uint8\n",
            " 8   duration_with_same_employer:More than 5 years           1090 non-null   uint8\n",
            " 9   remaining_payment_months:<=1.5                          1090 non-null   int64\n",
            " 10  remaining_payment_months:1.5-7.5                        1090 non-null   int64\n",
            " 11  remaining_payment_months:7.5-17.50                      1090 non-null   int64\n",
            " 12  remaining_payment_months:>17.50                         1090 non-null   int64\n",
            " 13  tank_capacity:<= 1100                                   1090 non-null   int64\n",
            " 14  tank_capacity:1100-2450                                 1090 non-null   int64\n",
            " 15  tank_capacity:2450-3400                                 1090 non-null   int64\n",
            " 16  tank_capacity:3400-5400                                 1090 non-null   int64\n",
            " 17  tank_capacity:>5400                                     1090 non-null   int64\n",
            " 18  number_of_businesses_before:1 business                  1090 non-null   uint8\n",
            " 19  number_of_businesses_before:2-5 businesses              1090 non-null   uint8\n",
            " 20  number_of_businesses_before:0 & More than 5 businesses  1090 non-null   uint8\n",
            " 21  income_sum:<=1270                                       1090 non-null   int64\n",
            " 22  income_sum:1270-14200                                   1090 non-null   int64\n",
            " 23  income_sum:>14200                                       1090 non-null   int64\n",
            " 24  family_descision_maker:Everyone in the household        1090 non-null   uint8\n",
            " 25  family_descision_maker:Wife                             1090 non-null   uint8\n",
            " 26  family_descision_maker:Husband_Child(son/daughter)      1090 non-null   uint8\n",
            " 27  netincome1_business:<= 15.84                            1090 non-null   int64\n",
            " 28  netincome1_business:15.84-40.85                         1090 non-null   int64\n",
            " 29  netincome1_business:40.85-75.04                         1090 non-null   int64\n",
            " 30  netincome1_business:>75.04                              1090 non-null   int64\n",
            " 31  netincome2_business:<= 23.90                            1090 non-null   int64\n",
            " 32  netincome2_business:23.90-40.17                         1090 non-null   int64\n",
            " 33  netincome2_business:40.17-81.60                         1090 non-null   int64\n",
            " 34  netincome2_business:>81.60                              1090 non-null   int64\n",
            " 35  house_hold_number:1-02-3                                1090 non-null   uint8\n",
            " 36  house_hold_number:4-7                                   1090 non-null   uint8\n",
            " 37  house_hold_number:More than 7                           1090 non-null   uint8\n",
            " 38  farming_duration:more_than_5_years_&_1-2                1090 non-null   uint8\n",
            " 39  farming_duration:0-1 year                               1090 non-null   uint8\n",
            " 40  farming_duration:2-5 years                              1090 non-null   uint8\n",
            " 41  rent:<=300                                              1090 non-null   int64\n",
            " 42  rent:>300                                               1090 non-null   int64\n",
            "dtypes: int64(22), uint8(21)\n",
            "memory usage: 218.2 KB\n"
          ]
        }
      ]
    },
    {
      "cell_type": "code",
      "metadata": {
        "id": "WWL92bW47hhx"
      },
      "source": [
        "# save\n",
        "\n",
        "final_inputs_df.to_csv('/content/drive/My Drive/AICE/Precredit/test_inputs.csv',index=False)"
      ],
      "execution_count": null,
      "outputs": []
    }
  ]
}