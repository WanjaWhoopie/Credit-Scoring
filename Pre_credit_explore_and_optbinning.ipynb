{
  "nbformat": 4,
  "nbformat_minor": 0,
  "metadata": {
    "colab": {
      "provenance": [],
      "collapsed_sections": [
        "kmif5u1fvQH5",
        "tko4N-YjvckD",
        "dV5G9Tqty_3F",
        "ISuVIpm6JF80",
        "SO-nhA5QJ3V5",
        "1XgUekTsJ-qE",
        "yIXeUYz-LVJY",
        "ds8MPlVZKH7E",
        "WaJUCFvkKYEm",
        "d-aOKWAWKgFs",
        "sGgHenI4KstP",
        "EprEW_byK4s1",
        "03UrPc5JLDXm",
        "SkRTkrKm0DD5",
        "FY3Q4PAv0Mpy",
        "n2a_4BAn0UNl",
        "yLwtfWXo0rmo",
        "Oq7fVJx2046S",
        "0jSXfRar08Ov",
        "66tnMKdl0uEE",
        "PIcOCF6PQBA5",
        "yAmPoxsCWEKi",
        "AC3yEn0b9lGb",
        "NE9NSVcLdvNW",
        "vdVPEpUIgRrv",
        "y4lAXudFjM6_",
        "RnejijgQTY08",
        "pFl0zfgbYD-n",
        "6fy0ORpxUZRx",
        "SoweYsbAYNfv",
        "hvzmlMOD65lz",
        "qDhx7SBvZQb_",
        "icUOFdeReB3P",
        "8xn0YlPChGHA",
        "m97f01OwjqQB",
        "B22Jwtr-j4x4",
        "tTxissqwm-cq"
      ],
      "mount_file_id": "1lZCWgiLI60L9i4eG9pczJeg8kDIIV7cX",
      "authorship_tag": "ABX9TyMaVLEQvN1yttU53rf54++U",
      "include_colab_link": true
    },
    "kernelspec": {
      "name": "python3",
      "display_name": "Python 3"
    },
    "language_info": {
      "name": "python"
    }
  },
  "cells": [
    {
      "cell_type": "markdown",
      "metadata": {
        "id": "view-in-github",
        "colab_type": "text"
      },
      "source": [
        "<a href=\"https://colab.research.google.com/github/WanjaWhoopie/Credit-Scoring/blob/main/Pre_credit_explore_and_optbinning.ipynb\" target=\"_parent\"><img src=\"https://colab.research.google.com/assets/colab-badge.svg\" alt=\"Open In Colab\"/></a>"
      ]
    },
    {
      "cell_type": "markdown",
      "metadata": {
        "id": "kmif5u1fvQH5"
      },
      "source": [
        "# **Import**"
      ]
    },
    {
      "cell_type": "code",
      "metadata": {
        "id": "dABK3iaQyfMI"
      },
      "source": [
        "import numpy as np\n",
        "import pandas as pd\n",
        "\n",
        "import matplotlib.pyplot as plt\n",
        "import seaborn as sns"
      ],
      "execution_count": null,
      "outputs": []
    },
    {
      "cell_type": "code",
      "metadata": {
        "colab": {
          "base_uri": "https://localhost:8080/"
        },
        "id": "Q2fxBFTAACsP",
        "outputId": "ce2f9916-bf1b-4649-ffc1-031bc904f0bb"
      },
      "source": [
        "!pip install optbinning\n",
        "\n",
        "from optbinning import OptimalBinning"
      ],
      "execution_count": null,
      "outputs": [
        {
          "output_type": "stream",
          "name": "stdout",
          "text": [
            "Requirement already satisfied: optbinning in /usr/local/lib/python3.7/dist-packages (0.12.2)\n",
            "Requirement already satisfied: pandas in /usr/local/lib/python3.7/dist-packages (from optbinning) (1.3.4)\n",
            "Requirement already satisfied: pympler in /usr/local/lib/python3.7/dist-packages (from optbinning) (0.9)\n",
            "Requirement already satisfied: dill in /usr/local/lib/python3.7/dist-packages (from optbinning) (0.3.4)\n",
            "Requirement already satisfied: ortools>=7.2 in /usr/local/lib/python3.7/dist-packages (from optbinning) (9.1.9490)\n",
            "Requirement already satisfied: scipy>=1.6.0 in /usr/local/lib/python3.7/dist-packages (from optbinning) (1.7.1)\n",
            "Requirement already satisfied: tdigest in /usr/local/lib/python3.7/dist-packages (from optbinning) (0.5.2.2)\n",
            "Requirement already satisfied: numpy>=1.16.1 in /usr/local/lib/python3.7/dist-packages (from optbinning) (1.19.5)\n",
            "Requirement already satisfied: scikit-learn>=0.22.0 in /usr/local/lib/python3.7/dist-packages (from optbinning) (0.22.2.post1)\n",
            "Requirement already satisfied: ropwr>=0.2.0 in /usr/local/lib/python3.7/dist-packages (from optbinning) (0.2.0)\n",
            "Requirement already satisfied: matplotlib in /usr/local/lib/python3.7/dist-packages (from optbinning) (3.2.2)\n",
            "Requirement already satisfied: protobuf>=3.18.0 in /usr/local/lib/python3.7/dist-packages (from ortools>=7.2->optbinning) (3.19.0)\n",
            "Requirement already satisfied: absl-py>=0.13 in /usr/local/lib/python3.7/dist-packages (from ortools>=7.2->optbinning) (0.15.0)\n",
            "Requirement already satisfied: six in /usr/local/lib/python3.7/dist-packages (from absl-py>=0.13->ortools>=7.2->optbinning) (1.15.0)\n",
            "Requirement already satisfied: cvxpy>=1.0 in /usr/local/lib/python3.7/dist-packages (from ropwr>=0.2.0->optbinning) (1.0.31)\n",
            "Requirement already satisfied: scs>=1.1.3 in /usr/local/lib/python3.7/dist-packages (from cvxpy>=1.0->ropwr>=0.2.0->optbinning) (2.1.4)\n",
            "Requirement already satisfied: osqp>=0.4.1 in /usr/local/lib/python3.7/dist-packages (from cvxpy>=1.0->ropwr>=0.2.0->optbinning) (0.6.2.post0)\n",
            "Requirement already satisfied: ecos>=2 in /usr/local/lib/python3.7/dist-packages (from cvxpy>=1.0->ropwr>=0.2.0->optbinning) (2.0.7.post1)\n",
            "Requirement already satisfied: multiprocess in /usr/local/lib/python3.7/dist-packages (from cvxpy>=1.0->ropwr>=0.2.0->optbinning) (0.70.12.2)\n",
            "Requirement already satisfied: qdldl in /usr/local/lib/python3.7/dist-packages (from osqp>=0.4.1->cvxpy>=1.0->ropwr>=0.2.0->optbinning) (0.1.5.post0)\n",
            "Requirement already satisfied: joblib>=0.11 in /usr/local/lib/python3.7/dist-packages (from scikit-learn>=0.22.0->optbinning) (1.0.1)\n",
            "Requirement already satisfied: kiwisolver>=1.0.1 in /usr/local/lib/python3.7/dist-packages (from matplotlib->optbinning) (1.3.2)\n",
            "Requirement already satisfied: python-dateutil>=2.1 in /usr/local/lib/python3.7/dist-packages (from matplotlib->optbinning) (2.8.2)\n",
            "Requirement already satisfied: cycler>=0.10 in /usr/local/lib/python3.7/dist-packages (from matplotlib->optbinning) (0.10.0)\n",
            "Requirement already satisfied: pyparsing!=2.0.4,!=2.1.2,!=2.1.6,>=2.0.1 in /usr/local/lib/python3.7/dist-packages (from matplotlib->optbinning) (2.4.7)\n",
            "Requirement already satisfied: pytz>=2017.3 in /usr/local/lib/python3.7/dist-packages (from pandas->optbinning) (2018.9)\n",
            "Requirement already satisfied: accumulation-tree in /usr/local/lib/python3.7/dist-packages (from tdigest->optbinning) (0.6.2)\n",
            "Requirement already satisfied: pyudorandom in /usr/local/lib/python3.7/dist-packages (from tdigest->optbinning) (1.0.0)\n"
          ]
        }
      ]
    },
    {
      "cell_type": "code",
      "metadata": {
        "id": "_t0hRocYuPyr"
      },
      "source": [
        "# !pip install featuretools\n",
        "# import featuretools as ft\n"
      ],
      "execution_count": null,
      "outputs": []
    },
    {
      "cell_type": "code",
      "metadata": {
        "colab": {
          "base_uri": "https://localhost:8080/"
        },
        "id": "Icmxsov2KnKn",
        "outputId": "285cc8f4-0ba2-4e1b-8182-5c183d03d968"
      },
      "source": [
        "pip install pandas --upgrade"
      ],
      "execution_count": null,
      "outputs": [
        {
          "output_type": "stream",
          "name": "stdout",
          "text": [
            "Requirement already satisfied: pandas in /usr/local/lib/python3.7/dist-packages (1.3.4)\n",
            "Requirement already satisfied: numpy>=1.17.3 in /usr/local/lib/python3.7/dist-packages (from pandas) (1.19.5)\n",
            "Requirement already satisfied: python-dateutil>=2.7.3 in /usr/local/lib/python3.7/dist-packages (from pandas) (2.8.2)\n",
            "Requirement already satisfied: pytz>=2017.3 in /usr/local/lib/python3.7/dist-packages (from pandas) (2018.9)\n",
            "Requirement already satisfied: six>=1.5 in /usr/local/lib/python3.7/dist-packages (from python-dateutil>=2.7.3->pandas) (1.15.0)\n"
          ]
        }
      ]
    },
    {
      "cell_type": "markdown",
      "metadata": {
        "id": "tko4N-YjvckD"
      },
      "source": [
        "# **Load Data and Split**"
      ]
    },
    {
      "cell_type": "code",
      "metadata": {
        "colab": {
          "base_uri": "https://localhost:8080/"
        },
        "id": "uF31WabNvbmL",
        "outputId": "10dbce1c-5390-4067-989f-7500003efdb5"
      },
      "source": [
        "#mount drive\n",
        "from google.colab import drive\n",
        "drive.mount('/content/drive')"
      ],
      "execution_count": null,
      "outputs": [
        {
          "output_type": "stream",
          "name": "stdout",
          "text": [
            "Drive already mounted at /content/drive; to attempt to forcibly remount, call drive.mount(\"/content/drive\", force_remount=True).\n"
          ]
        }
      ]
    },
    {
      "cell_type": "code",
      "metadata": {
        "colab": {
          "base_uri": "https://localhost:8080/"
        },
        "id": "TZSa2tdev-3_",
        "outputId": "d9da77ff-32a7-4149-d919-19e0dd23e826"
      },
      "source": [
        "dataset =  pd.read_csv(\"/content/drive/My Drive/AICE/scData.csv\")"
      ],
      "execution_count": null,
      "outputs": [
        {
          "output_type": "stream",
          "name": "stderr",
          "text": [
            "/usr/local/lib/python3.7/dist-packages/IPython/core/interactiveshell.py:2882: DtypeWarning: Columns (11,35,37,44,46,47,48,49) have mixed types.Specify dtype option on import or set low_memory=False.\n",
            "  exec(code_obj, self.user_global_ns, self.user_ns)\n"
          ]
        }
      ]
    },
    {
      "cell_type": "code",
      "metadata": {
        "colab": {
          "base_uri": "https://localhost:8080/"
        },
        "id": "TZC2y9slxzUC",
        "outputId": "faa9a199-6fff-460c-c2ee-395ba88f492d"
      },
      "source": [
        "dataset.shape"
      ],
      "execution_count": null,
      "outputs": [
        {
          "output_type": "execute_result",
          "data": {
            "text/plain": [
              "(5447, 151)"
            ]
          },
          "metadata": {},
          "execution_count": 7
        }
      ]
    },
    {
      "cell_type": "code",
      "metadata": {
        "id": "xEeKZ-Qjx1S8"
      },
      "source": [
        "precred_cols =['government_institution_income', 'private_institution_income', 'remittance_income', 'agricutural_income',\n",
        "               'commericial_trade_income', 'service_provision_income', 'commericial_trade_income', 'frequent_monthly_expense',\n",
        "               'number of loans', 'number of outstanding loans', 'remaining_payment_months', 'sum_otherincome']"
      ],
      "execution_count": null,
      "outputs": []
    },
    {
      "cell_type": "code",
      "metadata": {
        "id": "EDLApai-5np_"
      },
      "source": [
        "# changing the labeling of the target variable\n",
        "dataset['good_bad'] = np.where(dataset['Bad90'].isin([1]), 0, 1)"
      ],
      "execution_count": null,
      "outputs": []
    },
    {
      "cell_type": "code",
      "metadata": {
        "id": "C3aGS07Ys-iL",
        "colab": {
          "base_uri": "https://localhost:8080/"
        },
        "outputId": "c2fa4975-509b-4e24-a2e1-a915fadea879"
      },
      "source": [
        "# add the values of other income columns\n",
        "other_income_cols = ['pension_income',\n",
        "       'government_institution_income', 'private_institution_income',\n",
        "       'remittance_income', 'commericial_trade_income',\n",
        "       'service_provision_income']\n",
        "\n",
        "dataset['income_sum'] = dataset[other_income_cols].sum(axis=1)\n",
        "dataset['income_sum'].head()"
      ],
      "execution_count": null,
      "outputs": [
        {
          "output_type": "execute_result",
          "data": {
            "text/plain": [
              "0       0\n",
              "1       0\n",
              "2       0\n",
              "3       0\n",
              "4    7000\n",
              "Name: income_sum, dtype: int64"
            ]
          },
          "metadata": {},
          "execution_count": 10
        }
      ]
    },
    {
      "cell_type": "code",
      "metadata": {
        "id": "3kKbKYPuHOS_"
      },
      "source": [
        "from sklearn.model_selection import train_test_split\n",
        "data_inputs_train, data_inputs_test, data_targets_train, data_targets_test = train_test_split(dataset.drop('Bad90', axis = 1), dataset['Bad90'], test_size = 0.2, random_state = 42)"
      ],
      "execution_count": null,
      "outputs": []
    },
    {
      "cell_type": "code",
      "metadata": {
        "id": "0a_-XzHiHzra"
      },
      "source": [
        "df_inputs = data_inputs_train\n",
        "df_targets = data_targets_train"
      ],
      "execution_count": null,
      "outputs": []
    },
    {
      "cell_type": "markdown",
      "metadata": {
        "id": "dV5G9Tqty_3F"
      },
      "source": [
        "# **1. Government_institution_income**"
      ]
    },
    {
      "cell_type": "code",
      "metadata": {
        "colab": {
          "base_uri": "https://localhost:8080/"
        },
        "id": "m4BPgbOnzH--",
        "outputId": "7856d252-6b2a-4296-b929-9bbe9d75cb61"
      },
      "source": [
        "dataset['government_institution_income'].unique()"
      ],
      "execution_count": null,
      "outputs": [
        {
          "output_type": "execute_result",
          "data": {
            "text/plain": [
              "array([     0,  41000,  25000,  30000,  55000,  38000,  20000,  42000,\n",
              "        33000, 100000,  18000,  60000,  44000,  54000,  47000,  15000,\n",
              "        50000,  40000,   8000,  80000,  10000,  90000, 123000,  24000,\n",
              "       500000,  21000, 250000,  23000, 200000,  32000,  75000,  89000,\n",
              "        12000,  35000,  70000,  22000,  45000,  52000, 120000, 125000])"
            ]
          },
          "metadata": {},
          "execution_count": 13
        }
      ]
    },
    {
      "cell_type": "code",
      "metadata": {
        "colab": {
          "base_uri": "https://localhost:8080/"
        },
        "id": "Ah5KKtzl-tXh",
        "outputId": "0981220c-99ab-44b8-c225-4c46585b3829"
      },
      "source": [
        "dataset['government_institution_income'].describe()"
      ],
      "execution_count": null,
      "outputs": [
        {
          "output_type": "execute_result",
          "data": {
            "text/plain": [
              "count      5447.000000\n",
              "mean        886.543051\n",
              "std       10725.602036\n",
              "min           0.000000\n",
              "25%           0.000000\n",
              "50%           0.000000\n",
              "75%           0.000000\n",
              "max      500000.000000\n",
              "Name: government_institution_income, dtype: float64"
            ]
          },
          "metadata": {},
          "execution_count": 14
        }
      ]
    },
    {
      "cell_type": "markdown",
      "metadata": {
        "id": "KS2qkrre72v0"
      },
      "source": [
        "5362 are zeros"
      ]
    },
    {
      "cell_type": "code",
      "metadata": {
        "colab": {
          "base_uri": "https://localhost:8080/"
        },
        "id": "06lU4ySV7VtU",
        "outputId": "51d04ae7-fb37-416e-d79b-e434e55b1f8c"
      },
      "source": [
        "#visualise ditribution\n",
        "sns.distplot(dataset['government_institution_income'])"
      ],
      "execution_count": null,
      "outputs": [
        {
          "output_type": "stream",
          "name": "stderr",
          "text": [
            "/usr/local/lib/python3.7/dist-packages/seaborn/distributions.py:2619: FutureWarning: `distplot` is a deprecated function and will be removed in a future version. Please adapt your code to use either `displot` (a figure-level function with similar flexibility) or `histplot` (an axes-level function for histograms).\n",
            "  warnings.warn(msg, FutureWarning)\n"
          ]
        },
        {
          "output_type": "execute_result",
          "data": {
            "text/plain": [
              "<matplotlib.axes._subplots.AxesSubplot at 0x7f2f74cdc850>"
            ]
          },
          "metadata": {},
          "execution_count": 15
        },
        {
          "output_type": "display_data",
          "data": {
            "image/png": "[encoded data removed]",
            "text/plain": [
              "<Figure size 432x288 with 1 Axes>"
            ]
          },
          "metadata": {
            "needs_background": "light"
          }
        }
      ]
    },
    {
      "cell_type": "code",
      "metadata": {
        "id": "Xcjyq2BP_LWp",
        "colab": {
          "base_uri": "https://localhost:8080/"
        },
        "outputId": "e4ff7265-066a-4017-f775-0c010a181445"
      },
      "source": [
        "sns.countplot(x= 'government_institution_income', data=dataset, hue= 'good_bad')"
      ],
      "execution_count": null,
      "outputs": [
        {
          "output_type": "execute_result",
          "data": {
            "text/plain": [
              "<matplotlib.axes._subplots.AxesSubplot at 0x7f2f7462a650>"
            ]
          },
          "metadata": {},
          "execution_count": 16
        },
        {
          "output_type": "display_data",
          "data": {
            "image/png": "[encoded data removed]",
            "text/plain": [
              "<Figure size 432x288 with 1 Axes>"
            ]
          },
          "metadata": {
            "needs_background": "light"
          }
        }
      ]
    },
    {
      "cell_type": "markdown",
      "metadata": {
        "id": "ISuVIpm6JF80"
      },
      "source": [
        "# **2. Private_institution_income**"
      ]
    },
    {
      "cell_type": "code",
      "metadata": {
        "colab": {
          "base_uri": "https://localhost:8080/"
        },
        "id": "AM_2KXSeJRxq",
        "outputId": "3bea12b2-9929-4074-869f-861e07ade468"
      },
      "source": [
        "dataset['private_institution_income'].unique()"
      ],
      "execution_count": null,
      "outputs": [
        {
          "output_type": "execute_result",
          "data": {
            "text/plain": [
              "array([     0,  31000,  35000, 150000,  30000,  25000,   7000,  20000,\n",
              "        70000,  15000,  12000,  18000,  60000,  90000, 120000,  80000,\n",
              "        10000,   4500,   6000,  72200, 110000,  12800,  45000,   7500,\n",
              "        50000,  55000, 140000,  65000, 570000,      1, 100000,  24000,\n",
              "        27000,  40000,  32000, 900000, 350000,  14400,  46000,  13000,\n",
              "        48000,  23000,   9000,   5000])"
            ]
          },
          "metadata": {},
          "execution_count": 17
        }
      ]
    },
    {
      "cell_type": "code",
      "metadata": {
        "colab": {
          "base_uri": "https://localhost:8080/"
        },
        "id": "crsiI--6JRxr",
        "outputId": "f8ea3de7-b95f-45a1-ead6-2cb740b48c1f"
      },
      "source": [
        "dataset['private_institution_income'].describe()"
      ],
      "execution_count": null,
      "outputs": [
        {
          "output_type": "execute_result",
          "data": {
            "text/plain": [
              "count      5447.000000\n",
              "mean       1043.950982\n",
              "std       16859.452365\n",
              "min           0.000000\n",
              "25%           0.000000\n",
              "50%           0.000000\n",
              "75%           0.000000\n",
              "max      900000.000000\n",
              "Name: private_institution_income, dtype: float64"
            ]
          },
          "metadata": {},
          "execution_count": 18
        }
      ]
    },
    {
      "cell_type": "markdown",
      "metadata": {
        "id": "3j2PFmGDJRxs"
      },
      "source": [
        "5448 are zeros"
      ]
    },
    {
      "cell_type": "code",
      "metadata": {
        "colab": {
          "base_uri": "https://localhost:8080/"
        },
        "id": "0_PC3syXJRxt",
        "outputId": "7d463197-d023-4656-b0e9-4cccb94626aa"
      },
      "source": [
        "#visualise ditribution\n",
        "sns.distplot(dataset['private_institution_income'])"
      ],
      "execution_count": null,
      "outputs": [
        {
          "output_type": "stream",
          "name": "stderr",
          "text": [
            "/usr/local/lib/python3.7/dist-packages/seaborn/distributions.py:2619: FutureWarning: `distplot` is a deprecated function and will be removed in a future version. Please adapt your code to use either `displot` (a figure-level function with similar flexibility) or `histplot` (an axes-level function for histograms).\n",
            "  warnings.warn(msg, FutureWarning)\n"
          ]
        },
        {
          "output_type": "execute_result",
          "data": {
            "text/plain": [
              "<matplotlib.axes._subplots.AxesSubplot at 0x7f2f74462390>"
            ]
          },
          "metadata": {},
          "execution_count": 19
        },
        {
          "output_type": "display_data",
          "data": {
            "image/png": "[encoded data removed]",
            "text/plain": [
              "<Figure size 432x288 with 1 Axes>"
            ]
          },
          "metadata": {
            "needs_background": "light"
          }
        }
      ]
    },
    {
      "cell_type": "code",
      "metadata": {
        "colab": {
          "base_uri": "https://localhost:8080/"
        },
        "id": "TGTa8ZKUJRxt",
        "outputId": "e8a5bcae-c228-46c4-872e-1f56024feefb"
      },
      "source": [
        "sns.countplot(x= 'private_institution_income', data=dataset, hue= 'good_bad')"
      ],
      "execution_count": null,
      "outputs": [
        {
          "output_type": "execute_result",
          "data": {
            "text/plain": [
              "<matplotlib.axes._subplots.AxesSubplot at 0x7f2f74381fd0>"
            ]
          },
          "metadata": {},
          "execution_count": 20
        },
        {
          "output_type": "display_data",
          "data": {
            "image/png": "[encoded data removed]",
            "text/plain": [
              "<Figure size 432x288 with 1 Axes>"
            ]
          },
          "metadata": {
            "needs_background": "light"
          }
        }
      ]
    },
    {
      "cell_type": "markdown",
      "metadata": {
        "id": "SO-nhA5QJ3V5"
      },
      "source": [
        "# **3. Remittance_income**"
      ]
    },
    {
      "cell_type": "code",
      "metadata": {
        "colab": {
          "base_uri": "https://localhost:8080/"
        },
        "id": "Y14Nm-fbMHch",
        "outputId": "e3faa108-f1cb-41f4-aa2d-69bf88cfc667"
      },
      "source": [
        "dataset['remittance_income'].unique()"
      ],
      "execution_count": null,
      "outputs": [
        {
          "output_type": "execute_result",
          "data": {
            "text/plain": [
              "array([      0,   50000,   11200,   70000,   33000,   13500,    4500,\n",
              "        300000,    5000,   16300,   18000,  100000,   20000,   25000,\n",
              "         23000,   19000,   30000,   15000,   11400,    7000,  160000,\n",
              "        260000,   68100,   24000,   60000,   40000,   90000,   80000,\n",
              "         75000,    9000,   19500,   35000,   10000,    6000,  200000,\n",
              "       1000000,   53000,   11250,    1040,    4000,   52000,   10500,\n",
              "        118000,   41500,   21600,   32000,  127000,   46000])"
            ]
          },
          "metadata": {},
          "execution_count": 21
        }
      ]
    },
    {
      "cell_type": "code",
      "metadata": {
        "colab": {
          "base_uri": "https://localhost:8080/"
        },
        "id": "s_g0e8pxMHci",
        "outputId": "fd53c884-0411-4128-bd08-56ebc842708e"
      },
      "source": [
        "dataset['remittance_income'].describe()"
      ],
      "execution_count": null,
      "outputs": [
        {
          "output_type": "execute_result",
          "data": {
            "text/plain": [
              "count       5447.000000\n",
              "mean         772.882321\n",
              "std        15761.282993\n",
              "min            0.000000\n",
              "25%            0.000000\n",
              "50%            0.000000\n",
              "75%            0.000000\n",
              "max      1000000.000000\n",
              "Name: remittance_income, dtype: float64"
            ]
          },
          "metadata": {},
          "execution_count": 22
        }
      ]
    },
    {
      "cell_type": "markdown",
      "metadata": {
        "id": "hRssPJBEMHci"
      },
      "source": [
        "5373 are zeros"
      ]
    },
    {
      "cell_type": "code",
      "metadata": {
        "colab": {
          "base_uri": "https://localhost:8080/"
        },
        "id": "6MjD-fvQMHcj",
        "outputId": "e7aec36d-4eb4-4ddb-8183-4dc9a5a1a543"
      },
      "source": [
        "#visualise ditribution\n",
        "sns.distplot(dataset['remittance_income'])"
      ],
      "execution_count": null,
      "outputs": [
        {
          "output_type": "stream",
          "name": "stderr",
          "text": [
            "/usr/local/lib/python3.7/dist-packages/seaborn/distributions.py:2619: FutureWarning: `distplot` is a deprecated function and will be removed in a future version. Please adapt your code to use either `displot` (a figure-level function with similar flexibility) or `histplot` (an axes-level function for histograms).\n",
            "  warnings.warn(msg, FutureWarning)\n"
          ]
        },
        {
          "output_type": "execute_result",
          "data": {
            "text/plain": [
              "<matplotlib.axes._subplots.AxesSubplot at 0x7f2f741587d0>"
            ]
          },
          "metadata": {},
          "execution_count": 23
        },
        {
          "output_type": "display_data",
          "data": {
            "image/png": "[encoded data removed]",
            "text/plain": [
              "<Figure size 432x288 with 1 Axes>"
            ]
          },
          "metadata": {
            "needs_background": "light"
          }
        }
      ]
    },
    {
      "cell_type": "code",
      "metadata": {
        "colab": {
          "base_uri": "https://localhost:8080/"
        },
        "id": "2fk2JsZYMHcj",
        "outputId": "12847fb6-0f84-4f8e-f142-f5d64a32bef7"
      },
      "source": [
        "sns.countplot(x= 'remittance_income', data=dataset, hue= 'good_bad')"
      ],
      "execution_count": null,
      "outputs": [
        {
          "output_type": "execute_result",
          "data": {
            "text/plain": [
              "<matplotlib.axes._subplots.AxesSubplot at 0x7f2f74553890>"
            ]
          },
          "metadata": {},
          "execution_count": 24
        },
        {
          "output_type": "display_data",
          "data": {
            "image/png": "[encoded data removed]",
            "text/plain": [
              "<Figure size 432x288 with 1 Axes>"
            ]
          },
          "metadata": {
            "needs_background": "light"
          }
        }
      ]
    },
    {
      "cell_type": "markdown",
      "metadata": {
        "id": "1XgUekTsJ-qE"
      },
      "source": [
        "# **4. Agricutural_income**"
      ]
    },
    {
      "cell_type": "code",
      "metadata": {
        "colab": {
          "base_uri": "https://localhost:8080/"
        },
        "id": "CbXgbbrDMm8p",
        "outputId": "b24dc5e9-62cf-47c3-905d-788c7530b4b8"
      },
      "source": [
        "dataset['agricultural_income'].unique()"
      ],
      "execution_count": null,
      "outputs": [
        {
          "output_type": "execute_result",
          "data": {
            "text/plain": [
              "array([0])"
            ]
          },
          "metadata": {},
          "execution_count": 25
        }
      ]
    },
    {
      "cell_type": "code",
      "metadata": {
        "colab": {
          "base_uri": "https://localhost:8080/"
        },
        "id": "br_7hxCtMm8q",
        "outputId": "34cdfe31-772f-4a24-fd09-c46457cf9b9f"
      },
      "source": [
        "dataset['agricultural_income'].describe()"
      ],
      "execution_count": null,
      "outputs": [
        {
          "output_type": "execute_result",
          "data": {
            "text/plain": [
              "count    5447.0\n",
              "mean        0.0\n",
              "std         0.0\n",
              "min         0.0\n",
              "25%         0.0\n",
              "50%         0.0\n",
              "75%         0.0\n",
              "max         0.0\n",
              "Name: agricultural_income, dtype: float64"
            ]
          },
          "metadata": {},
          "execution_count": 26
        }
      ]
    },
    {
      "cell_type": "markdown",
      "metadata": {
        "id": "qcEb_i5xMm8q"
      },
      "source": [
        "5447 are zeros"
      ]
    },
    {
      "cell_type": "code",
      "metadata": {
        "colab": {
          "base_uri": "https://localhost:8080/"
        },
        "id": "ILJwOAKSMm8r",
        "outputId": "7587cb68-d0a9-4cbb-b476-088debc1b284"
      },
      "source": [
        "#visualise ditribution\n",
        "sns.distplot(dataset['agricultural_income'])"
      ],
      "execution_count": null,
      "outputs": [
        {
          "output_type": "stream",
          "name": "stderr",
          "text": [
            "/usr/local/lib/python3.7/dist-packages/seaborn/distributions.py:2619: FutureWarning: `distplot` is a deprecated function and will be removed in a future version. Please adapt your code to use either `displot` (a figure-level function with similar flexibility) or `histplot` (an axes-level function for histograms).\n",
            "  warnings.warn(msg, FutureWarning)\n",
            "/usr/local/lib/python3.7/dist-packages/seaborn/distributions.py:316: UserWarning: Dataset has 0 variance; skipping density estimate. Pass `warn_singular=False` to disable this warning.\n",
            "  warnings.warn(msg, UserWarning)\n"
          ]
        },
        {
          "output_type": "execute_result",
          "data": {
            "text/plain": [
              "<matplotlib.axes._subplots.AxesSubplot at 0x7f2f7414dd90>"
            ]
          },
          "metadata": {},
          "execution_count": 27
        },
        {
          "output_type": "display_data",
          "data": {
            "image/png": "[encoded data removed]",
            "text/plain": [
              "<Figure size 432x288 with 1 Axes>"
            ]
          },
          "metadata": {
            "needs_background": "light"
          }
        }
      ]
    },
    {
      "cell_type": "code",
      "metadata": {
        "colab": {
          "base_uri": "https://localhost:8080/"
        },
        "id": "od1i9-RxMm8r",
        "outputId": "113466e7-648e-49b2-8430-f3f8c9e97ba9"
      },
      "source": [
        "sns.countplot(x= 'agricultural_income', data=dataset, hue= 'good_bad')"
      ],
      "execution_count": null,
      "outputs": [
        {
          "output_type": "execute_result",
          "data": {
            "text/plain": [
              "<matplotlib.axes._subplots.AxesSubplot at 0x7f2f73da6a50>"
            ]
          },
          "metadata": {},
          "execution_count": 28
        },
        {
          "output_type": "display_data",
          "data": {
            "image/png": "[encoded data removed]",
            "text/plain": [
              "<Figure size 432x288 with 1 Axes>"
            ]
          },
          "metadata": {
            "needs_background": "light"
          }
        }
      ]
    },
    {
      "cell_type": "markdown",
      "metadata": {
        "id": "yIXeUYz-LVJY"
      },
      "source": [
        "# **5. Service_provision_income**"
      ]
    },
    {
      "cell_type": "code",
      "metadata": {
        "colab": {
          "base_uri": "https://localhost:8080/"
        },
        "id": "o5W-v1WANmWB",
        "outputId": "8450c51c-e806-4440-dd7c-6a901c6cd927"
      },
      "source": [
        "dataset['service_provision_income'].unique()"
      ],
      "execution_count": null,
      "outputs": [
        {
          "output_type": "execute_result",
          "data": {
            "text/plain": [
              "array([     0,   7000,  15000,  30000,   2000,  24000,   5000, 180000,\n",
              "        21000,  90000, 100000,  36000,   6000,  50000,  10000,  12000,\n",
              "        60000,  20000,  70000,  40000,  18000,  25000,   9000,   3000,\n",
              "        11000,  14000,   4000,  80000,  16800,   3500,  13000,  45000,\n",
              "        19200,   7200, 450000,  67500, 300000, 133500,  32000,   8000])"
            ]
          },
          "metadata": {},
          "execution_count": 29
        }
      ]
    },
    {
      "cell_type": "code",
      "metadata": {
        "colab": {
          "base_uri": "https://localhost:8080/"
        },
        "id": "zSoVMIcSNmWB",
        "outputId": "6e62fc28-a08c-4519-d71f-0234422877f5"
      },
      "source": [
        "dataset['service_provision_income'].describe()"
      ],
      "execution_count": null,
      "outputs": [
        {
          "output_type": "execute_result",
          "data": {
            "text/plain": [
              "count      5447.000000\n",
              "mean        752.689554\n",
              "std        9828.574347\n",
              "min           0.000000\n",
              "25%           0.000000\n",
              "50%           0.000000\n",
              "75%           0.000000\n",
              "max      450000.000000\n",
              "Name: service_provision_income, dtype: float64"
            ]
          },
          "metadata": {},
          "execution_count": 30
        }
      ]
    },
    {
      "cell_type": "markdown",
      "metadata": {
        "id": "YIwb8mXNNmWB"
      },
      "source": [
        "5348 are zeros"
      ]
    },
    {
      "cell_type": "code",
      "metadata": {
        "colab": {
          "base_uri": "https://localhost:8080/"
        },
        "id": "Xi3xf6j6NmWB",
        "outputId": "6591ea21-666f-42cf-ce0f-1dad86d00bf5"
      },
      "source": [
        "#visualise ditribution\n",
        "sns.distplot(dataset['service_provision_income'])"
      ],
      "execution_count": null,
      "outputs": [
        {
          "output_type": "stream",
          "name": "stderr",
          "text": [
            "/usr/local/lib/python3.7/dist-packages/seaborn/distributions.py:2619: FutureWarning: `distplot` is a deprecated function and will be removed in a future version. Please adapt your code to use either `displot` (a figure-level function with similar flexibility) or `histplot` (an axes-level function for histograms).\n",
            "  warnings.warn(msg, FutureWarning)\n"
          ]
        },
        {
          "output_type": "execute_result",
          "data": {
            "text/plain": [
              "<matplotlib.axes._subplots.AxesSubplot at 0x7f2f73d78290>"
            ]
          },
          "metadata": {},
          "execution_count": 31
        },
        {
          "output_type": "display_data",
          "data": {
            "image/png": "[encoded data removed]",
            "text/plain": [
              "<Figure size 432x288 with 1 Axes>"
            ]
          },
          "metadata": {
            "needs_background": "light"
          }
        }
      ]
    },
    {
      "cell_type": "code",
      "metadata": {
        "colab": {
          "base_uri": "https://localhost:8080/"
        },
        "id": "A34-nHgPNmWC",
        "outputId": "a7028269-bd5a-41f2-90ec-dd81c3c4cf88"
      },
      "source": [
        "sns.countplot(x= 'service_provision_income', data=dataset, hue= 'good_bad')"
      ],
      "execution_count": null,
      "outputs": [
        {
          "output_type": "execute_result",
          "data": {
            "text/plain": [
              "<matplotlib.axes._subplots.AxesSubplot at 0x7f2f73c31150>"
            ]
          },
          "metadata": {},
          "execution_count": 32
        },
        {
          "output_type": "display_data",
          "data": {
            "image/png": "[encoded data removed]",
            "text/plain": [
              "<Figure size 432x288 with 1 Axes>"
            ]
          },
          "metadata": {
            "needs_background": "light"
          }
        }
      ]
    },
    {
      "cell_type": "markdown",
      "metadata": {
        "id": "ds8MPlVZKH7E"
      },
      "source": [
        "# **6. Commercial_trade_income**"
      ]
    },
    {
      "cell_type": "code",
      "metadata": {
        "colab": {
          "base_uri": "https://localhost:8080/"
        },
        "id": "GiPbwRhNN-DY",
        "outputId": "aec1bf0c-ca43-4e66-e9d4-f2098f0f161d"
      },
      "source": [
        "dataset['commericial_trade_income'].unique()"
      ],
      "execution_count": null,
      "outputs": [
        {
          "output_type": "execute_result",
          "data": {
            "text/plain": [
              "array([       0,     9000,    50000,    21000,    42000,       40,\n",
              "         200000,    12500,    52000,    60000,   100000,    10000,\n",
              "          30000,   170000,    26000,    95000,    15000,    80000,\n",
              "          20000,    33400,     5250,     9600,   120000,     5000,\n",
              "          40000,     6600,    73500,    18000,    22000,    25000,\n",
              "          58900,     5800,     6000,    16000,     4000,     8000,\n",
              "          70000,   340000,     3000,    27000,    24000,    12000,\n",
              "          14400,     7000,    48000,     4700,   210500,   500000,\n",
              "         850500,    14000,    45000,     2000,    56750,    51000,\n",
              "         360000,   160000,    72000,    36000,    45600,    17000,\n",
              "          21300,     7200,    32000,    13500,    55000,    35000,\n",
              "          24800,     1000,   870000,    42500,    40335,    13000,\n",
              "         150000,     1500,    12660,   110000,   450000, 20000000,\n",
              "           5400,    11000,   300000,     8050,    46000,    61500,\n",
              "          87500,   105000,    56000,    39000,    27200,    38000,\n",
              "          22500,    65000,     3600,    14800,    90000,    59000,\n",
              "        1000000,   135000,    19200,     7500,     8400,   167000,\n",
              "           4800,   700000,    45900,    10500,    19998,    75000,\n",
              "        2000000,    58000,    89000])"
            ]
          },
          "metadata": {},
          "execution_count": 33
        }
      ]
    },
    {
      "cell_type": "code",
      "metadata": {
        "colab": {
          "base_uri": "https://localhost:8080/"
        },
        "id": "K9mOPVTyzw8z",
        "outputId": "9e1eb771-f88a-40cb-fe43-973a52a5d146"
      },
      "source": [
        "# check value count for the unique values\n",
        "pension_df = pd.DataFrame(dataset['commericial_trade_income'].value_counts().reset_index().values, columns=['Categories','Aggregate Sum'])\n",
        "pension_df['% of Total'] = pension_df['Aggregate Sum'] / len(dataset) * 100\n",
        "pension_df.head(10)"
      ],
      "execution_count": null,
      "outputs": [
        {
          "output_type": "execute_result",
          "data": {
            "text/html": [
              "<div>\n",
              "<style scoped>\n",
              "    .dataframe tbody tr th:only-of-type {\n",
              "        vertical-align: middle;\n",
              "    }\n",
              "\n",
              "    .dataframe tbody tr th {\n",
              "        vertical-align: top;\n",
              "    }\n",
              "\n",
              "    .dataframe thead th {\n",
              "        text-align: right;\n",
              "    }\n",
              "</style>\n",
              "<table border=\"1\" class=\"dataframe\">\n",
              "  <thead>\n",
              "    <tr style=\"text-align: right;\">\n",
              "      <th></th>\n",
              "      <th>Categories</th>\n",
              "      <th>Aggregate Sum</th>\n",
              "      <th>% of Total</th>\n",
              "    </tr>\n",
              "  </thead>\n",
              "  <tbody>\n",
              "    <tr>\n",
              "      <th>0</th>\n",
              "      <td>0</td>\n",
              "      <td>4823</td>\n",
              "      <td>88.544153</td>\n",
              "    </tr>\n",
              "    <tr>\n",
              "      <th>1</th>\n",
              "      <td>20000</td>\n",
              "      <td>62</td>\n",
              "      <td>1.138241</td>\n",
              "    </tr>\n",
              "    <tr>\n",
              "      <th>2</th>\n",
              "      <td>15000</td>\n",
              "      <td>60</td>\n",
              "      <td>1.101524</td>\n",
              "    </tr>\n",
              "    <tr>\n",
              "      <th>3</th>\n",
              "      <td>10000</td>\n",
              "      <td>53</td>\n",
              "      <td>0.973013</td>\n",
              "    </tr>\n",
              "    <tr>\n",
              "      <th>4</th>\n",
              "      <td>30000</td>\n",
              "      <td>47</td>\n",
              "      <td>0.862860</td>\n",
              "    </tr>\n",
              "    <tr>\n",
              "      <th>5</th>\n",
              "      <td>50000</td>\n",
              "      <td>35</td>\n",
              "      <td>0.642556</td>\n",
              "    </tr>\n",
              "    <tr>\n",
              "      <th>6</th>\n",
              "      <td>40000</td>\n",
              "      <td>20</td>\n",
              "      <td>0.367175</td>\n",
              "    </tr>\n",
              "    <tr>\n",
              "      <th>7</th>\n",
              "      <td>9000</td>\n",
              "      <td>20</td>\n",
              "      <td>0.367175</td>\n",
              "    </tr>\n",
              "    <tr>\n",
              "      <th>8</th>\n",
              "      <td>60000</td>\n",
              "      <td>20</td>\n",
              "      <td>0.367175</td>\n",
              "    </tr>\n",
              "    <tr>\n",
              "      <th>9</th>\n",
              "      <td>6000</td>\n",
              "      <td>19</td>\n",
              "      <td>0.348816</td>\n",
              "    </tr>\n",
              "  </tbody>\n",
              "</table>\n",
              "</div>"
            ],
            "text/plain": [
              "   Categories  Aggregate Sum  % of Total\n",
              "0           0           4823   88.544153\n",
              "1       20000             62    1.138241\n",
              "2       15000             60    1.101524\n",
              "3       10000             53    0.973013\n",
              "4       30000             47    0.862860\n",
              "5       50000             35    0.642556\n",
              "6       40000             20    0.367175\n",
              "7        9000             20    0.367175\n",
              "8       60000             20    0.367175\n",
              "9        6000             19    0.348816"
            ]
          },
          "metadata": {},
          "execution_count": 34
        }
      ]
    },
    {
      "cell_type": "code",
      "metadata": {
        "colab": {
          "base_uri": "https://localhost:8080/"
        },
        "id": "UdpTZrYnN-DZ",
        "outputId": "c4b7ac06-8d8f-4209-85d5-488406e01273"
      },
      "source": [
        "dataset['commericial_trade_income'].describe()"
      ],
      "execution_count": null,
      "outputs": [
        {
          "output_type": "execute_result",
          "data": {
            "text/plain": [
              "count    5.447000e+03\n",
              "mean     8.917851e+03\n",
              "std      2.743317e+05\n",
              "min      0.000000e+00\n",
              "25%      0.000000e+00\n",
              "50%      0.000000e+00\n",
              "75%      0.000000e+00\n",
              "max      2.000000e+07\n",
              "Name: commericial_trade_income, dtype: float64"
            ]
          },
          "metadata": {},
          "execution_count": 35
        }
      ]
    },
    {
      "cell_type": "markdown",
      "metadata": {
        "id": "SBpmtCr_N-DZ"
      },
      "source": [
        "4823 are zeros"
      ]
    },
    {
      "cell_type": "code",
      "metadata": {
        "colab": {
          "base_uri": "https://localhost:8080/"
        },
        "id": "rw9txIMtN-DZ",
        "outputId": "63b56939-b1c6-4c4e-851e-250be21d4e00"
      },
      "source": [
        "#visualise ditribution\n",
        "sns.distplot(dataset['commericial_trade_income'])"
      ],
      "execution_count": null,
      "outputs": [
        {
          "output_type": "stream",
          "name": "stderr",
          "text": [
            "/usr/local/lib/python3.7/dist-packages/seaborn/distributions.py:2619: FutureWarning: `distplot` is a deprecated function and will be removed in a future version. Please adapt your code to use either `displot` (a figure-level function with similar flexibility) or `histplot` (an axes-level function for histograms).\n",
            "  warnings.warn(msg, FutureWarning)\n"
          ]
        },
        {
          "output_type": "execute_result",
          "data": {
            "text/plain": [
              "<matplotlib.axes._subplots.AxesSubplot at 0x7f2f73a6f6d0>"
            ]
          },
          "metadata": {},
          "execution_count": 36
        },
        {
          "output_type": "display_data",
          "data": {
            "image/png": "[encoded data removed]",
            "text/plain": [
              "<Figure size 432x288 with 1 Axes>"
            ]
          },
          "metadata": {
            "needs_background": "light"
          }
        }
      ]
    },
    {
      "cell_type": "code",
      "metadata": {
        "colab": {
          "base_uri": "https://localhost:8080/"
        },
        "id": "KOe9aNsJN-DZ",
        "outputId": "335be59a-a0c9-40fe-e4c9-a2e8a57774db"
      },
      "source": [
        "sns.countplot(x= 'commericial_trade_income', data=dataset, hue= 'good_bad')"
      ],
      "execution_count": null,
      "outputs": [
        {
          "output_type": "execute_result",
          "data": {
            "text/plain": [
              "<matplotlib.axes._subplots.AxesSubplot at 0x7f2f738e3d90>"
            ]
          },
          "metadata": {},
          "execution_count": 37
        },
        {
          "output_type": "display_data",
          "data": {
            "image/png": "[encoded data removed]",
            "text/plain": [
              "<Figure size 432x288 with 1 Axes>"
            ]
          },
          "metadata": {
            "needs_background": "light"
          }
        }
      ]
    },
    {
      "cell_type": "markdown",
      "metadata": {
        "id": "WaJUCFvkKYEm"
      },
      "source": [
        "# **7. Frequent_monthly_expense**"
      ]
    },
    {
      "cell_type": "code",
      "metadata": {
        "colab": {
          "base_uri": "https://localhost:8080/"
        },
        "id": "29cSwZqcOm4Z",
        "outputId": "82364210-f074-420c-97a7-2e50939c1051"
      },
      "source": [
        "dataset['frequent_monthly_expense'].unique()"
      ],
      "execution_count": null,
      "outputs": [
        {
          "output_type": "execute_result",
          "data": {
            "text/plain": [
              "array(['Food , Other', 'Other', 'Food , Farm inputs',\n",
              "       'School fees , Food', 'Food', 'Food , Loans , Other',\n",
              "       'Food , Farm inputs , Rent', 'Farm inputs', 'Food , Loans',\n",
              "       'Food , Farm inputs , Loans', 'School fees , Food , Loans',\n",
              "       'School fees', 'School fees , Food , Farm inputs',\n",
              "       'Food , Farm inputs , Other',\n",
              "       'School fees , Food , Clothing , Farm inputs',\n",
              "       'School fees , Food , Rent , Other', 'Rent',\n",
              "       'Food , Clothing , Farm inputs , Other',\n",
              "       'School fees , Food , Other', 'School fees , Loans',\n",
              "       'School fees , Food , Farm inputs , Rent , Loans', 'Food , Rent',\n",
              "       'Food , Rent , Loans , Other', 'School fees , Other',\n",
              "       'Rent , Other', 'Farm inputs , Other',\n",
              "       'School fees , Food , Loans , Other',\n",
              "       'School fees , Food , Farm inputs , Rent', 'Food , Rent , Other',\n",
              "       'School fees , Food , Rent', 'School fees , Farm inputs',\n",
              "       'School fees , Food , Farm inputs , Loans',\n",
              "       'School fees , Food , Clothing , Loans',\n",
              "       'Farm inputs , Rent , Other', 'Loans , Other',\n",
              "       'School fees , Farm inputs , Loans , Other',\n",
              "       'Food , Clothing , Other', '0', 'Farm inputs , Loans',\n",
              "       'Farm inputs , Rent', 'Loans', 'Food , Clothing , Rent',\n",
              "       'School fees , Food , Clothing , Farm inputs , Loans',\n",
              "       'Food , Clothing', 'Food , Rent , Loans',\n",
              "       'Food , Farm inputs , Rent , Loans',\n",
              "       'School fees , Food , Farm inputs , Other',\n",
              "       'Food , Farm inputs , Rent , Other',\n",
              "       'Food , Farm inputs , Rent , Loans , Other',\n",
              "       'School fees , Food , Clothing , Other',\n",
              "       'School fees , Food , Other  , Other',\n",
              "       'Food , Farm inputs , Loans , Other',\n",
              "       'School fees , Farm inputs , Loans',\n",
              "       'School fees , Food , Rent , Loans',\n",
              "       'School fees , Food , Farm inputs , Rent , Other',\n",
              "       'School fees , Clothing , Other', 'School fees , Rent',\n",
              "       'Food , Other  , Other',\n",
              "       'School fees , Farm inputs , Rent , Loans',\n",
              "       'Food , Farm inputs , Loans , Other  , Other',\n",
              "       'Food , Clothing , Farm inputs',\n",
              "       'School fees , Food , Rent , Loans , Other',\n",
              "       'School fees , Food , Clothing , Farm inputs , Other',\n",
              "       'School fees , Food , Farm inputs , Loans , Other',\n",
              "       'School fees , Farm inputs , Other',\n",
              "       'School fees , Farm inputs , Rent',\n",
              "       'School fees , Food , Clothing , Rent , Other',\n",
              "       'Farm inputs , Rent , Loans', 'Rent , Loans , Other',\n",
              "       'School fees , Food , Clothing , Farm inputs , Rent',\n",
              "       'School fees , Rent , Other', 'Food , Clothing , Loans',\n",
              "       'Food , Clothing , Rent , Other', 'Farm inputs , Loans , Other',\n",
              "       'Clothing , Other', 'School fees , Food , Clothing',\n",
              "       'Food , Clothing , Farm inputs , Loans , Other'], dtype=object)"
            ]
          },
          "metadata": {},
          "execution_count": 38
        }
      ]
    },
    {
      "cell_type": "code",
      "metadata": {
        "colab": {
          "base_uri": "https://localhost:8080/"
        },
        "id": "T1iXu2BgOm4a",
        "outputId": "5d347df8-20ab-4d84-c318-d3411399e05e"
      },
      "source": [
        "dataset['frequent_monthly_expense'].describe()"
      ],
      "execution_count": null,
      "outputs": [
        {
          "output_type": "execute_result",
          "data": {
            "text/plain": [
              "count      5447\n",
              "unique       77\n",
              "top       Other\n",
              "freq       1466\n",
              "Name: frequent_monthly_expense, dtype: object"
            ]
          },
          "metadata": {},
          "execution_count": 39
        }
      ]
    },
    {
      "cell_type": "code",
      "metadata": {
        "id": "AS69o3EoOm4a"
      },
      "source": [
        "#visualise ditribution\n",
        "#sns.distplot(dataset['frequent_monthly_expense'])"
      ],
      "execution_count": null,
      "outputs": []
    },
    {
      "cell_type": "code",
      "metadata": {
        "colab": {
          "base_uri": "https://localhost:8080/"
        },
        "id": "YiMisoHgOm4b",
        "outputId": "c2bfa90f-884a-4b9b-a9a1-bc4301642126"
      },
      "source": [
        "sns.countplot(x= 'frequent_monthly_expense', data=dataset, hue= 'good_bad')"
      ],
      "execution_count": null,
      "outputs": [
        {
          "output_type": "execute_result",
          "data": {
            "text/plain": [
              "<matplotlib.axes._subplots.AxesSubplot at 0x7f2f734f9e10>"
            ]
          },
          "metadata": {},
          "execution_count": 41
        },
        {
          "output_type": "display_data",
          "data": {
            "image/png": "[encoded data removed]",
            "text/plain": [
              "<Figure size 432x288 with 1 Axes>"
            ]
          },
          "metadata": {
            "needs_background": "light"
          }
        }
      ]
    },
    {
      "cell_type": "markdown",
      "metadata": {
        "id": "d-aOKWAWKgFs"
      },
      "source": [
        "# **8. Number of loans**"
      ]
    },
    {
      "cell_type": "code",
      "metadata": {
        "colab": {
          "base_uri": "https://localhost:8080/"
        },
        "id": "lL3LsejKPfPu",
        "outputId": "ceec6feb-1b33-4d41-982b-fe4663b24d0b"
      },
      "source": [
        "dataset['number_of_loans'].unique()"
      ],
      "execution_count": null,
      "outputs": [
        {
          "output_type": "execute_result",
          "data": {
            "text/plain": [
              "array(['0 loans', '1 loan', '2-3 loans', 'More than 4 loans'],\n",
              "      dtype=object)"
            ]
          },
          "metadata": {},
          "execution_count": 42
        }
      ]
    },
    {
      "cell_type": "code",
      "metadata": {
        "colab": {
          "base_uri": "https://localhost:8080/"
        },
        "id": "jsWTgBNtPfPv",
        "outputId": "1c95a145-c3d2-4e6c-8f5f-971ee9e0491c"
      },
      "source": [
        "dataset['number_of_loans'].describe()"
      ],
      "execution_count": null,
      "outputs": [
        {
          "output_type": "execute_result",
          "data": {
            "text/plain": [
              "count        5447\n",
              "unique          4\n",
              "top       0 loans\n",
              "freq         3115\n",
              "Name: number_of_loans, dtype: object"
            ]
          },
          "metadata": {},
          "execution_count": 43
        }
      ]
    },
    {
      "cell_type": "code",
      "metadata": {
        "colab": {
          "base_uri": "https://localhost:8080/"
        },
        "id": "zyxXhG1z5QSA",
        "outputId": "9dec3f89-a044-4276-8b08-78c0c7d7672f"
      },
      "source": [
        "dataset['number_of_loans'].value_counts()"
      ],
      "execution_count": null,
      "outputs": [
        {
          "output_type": "execute_result",
          "data": {
            "text/plain": [
              "0 loans              3115\n",
              "1 loan               1763\n",
              "2-3 loans             537\n",
              "More than 4 loans      32\n",
              "Name: number_of_loans, dtype: int64"
            ]
          },
          "metadata": {},
          "execution_count": 44
        }
      ]
    },
    {
      "cell_type": "markdown",
      "metadata": {
        "id": "OMsoi5hqPfPv"
      },
      "source": [
        "3674 are 0-loans"
      ]
    },
    {
      "cell_type": "code",
      "metadata": {
        "id": "Z-k8nR0KPfPv"
      },
      "source": [
        "#visualise ditribution\n",
        "#sns.distplot(dataset['number_of_loans'])"
      ],
      "execution_count": null,
      "outputs": []
    },
    {
      "cell_type": "code",
      "metadata": {
        "colab": {
          "base_uri": "https://localhost:8080/"
        },
        "id": "_IZq_WI5PfPw",
        "outputId": "abecf157-3464-4fbb-f9de-46001fc78d34"
      },
      "source": [
        "sns.countplot(x= 'number_of_loans', data=dataset, hue= 'good_bad')"
      ],
      "execution_count": null,
      "outputs": [
        {
          "output_type": "execute_result",
          "data": {
            "text/plain": [
              "<matplotlib.axes._subplots.AxesSubplot at 0x7f2f734f96d0>"
            ]
          },
          "metadata": {},
          "execution_count": 46
        },
        {
          "output_type": "display_data",
          "data": {
            "image/png": "[encoded data removed]",
            "text/plain": [
              "<Figure size 432x288 with 1 Axes>"
            ]
          },
          "metadata": {
            "needs_background": "light"
          }
        }
      ]
    },
    {
      "cell_type": "markdown",
      "metadata": {
        "id": "sGgHenI4KstP"
      },
      "source": [
        "# **9. Number of outstanding loans**"
      ]
    },
    {
      "cell_type": "code",
      "metadata": {
        "colab": {
          "base_uri": "https://localhost:8080/"
        },
        "id": "SGu4eK3ZQhIv",
        "outputId": "9a6c6ce7-91e4-47be-ec55-1f8bcbed4809"
      },
      "source": [
        "dataset['number_of_outstanding_loans'].unique()"
      ],
      "execution_count": null,
      "outputs": [
        {
          "output_type": "execute_result",
          "data": {
            "text/plain": [
              "array(['0 loans', '1 loan', '2-3 loans', 'More than 4 loans'],\n",
              "      dtype=object)"
            ]
          },
          "metadata": {},
          "execution_count": 47
        }
      ]
    },
    {
      "cell_type": "code",
      "metadata": {
        "colab": {
          "base_uri": "https://localhost:8080/"
        },
        "id": "1R_fmYohQhIw",
        "outputId": "aced0092-f2b1-4fb9-e7f4-f8365c745956"
      },
      "source": [
        "dataset['number_of_outstanding_loans'].describe()"
      ],
      "execution_count": null,
      "outputs": [
        {
          "output_type": "execute_result",
          "data": {
            "text/plain": [
              "count        5447\n",
              "unique          4\n",
              "top       0 loans\n",
              "freq         3674\n",
              "Name: number_of_outstanding_loans, dtype: object"
            ]
          },
          "metadata": {},
          "execution_count": 48
        }
      ]
    },
    {
      "cell_type": "markdown",
      "metadata": {
        "id": "CjiosLBYQhIw"
      },
      "source": [
        "3674 are 0-loans"
      ]
    },
    {
      "cell_type": "code",
      "metadata": {
        "id": "B1Pg8bjjQhIw"
      },
      "source": [
        "#visualise ditribution\n",
        "#sns.distplot(dataset['number_of_loans'])"
      ],
      "execution_count": null,
      "outputs": []
    },
    {
      "cell_type": "code",
      "metadata": {
        "colab": {
          "base_uri": "https://localhost:8080/"
        },
        "id": "rQiA3DGQQhIw",
        "outputId": "d7f1d0fe-8578-4f09-b32e-5fd648ef830b"
      },
      "source": [
        "sns.countplot(x= 'number_of_outstanding_loans', data=dataset, hue= 'good_bad')"
      ],
      "execution_count": null,
      "outputs": [
        {
          "output_type": "execute_result",
          "data": {
            "text/plain": [
              "<matplotlib.axes._subplots.AxesSubplot at 0x7f2f73189350>"
            ]
          },
          "metadata": {},
          "execution_count": 50
        },
        {
          "output_type": "display_data",
          "data": {
            "image/png": "[encoded data removed]",
            "text/plain": [
              "<Figure size 432x288 with 1 Axes>"
            ]
          },
          "metadata": {
            "needs_background": "light"
          }
        }
      ]
    },
    {
      "cell_type": "markdown",
      "metadata": {
        "id": "EprEW_byK4s1"
      },
      "source": [
        "# **10. Remaining_payment_months**"
      ]
    },
    {
      "cell_type": "code",
      "metadata": {
        "colab": {
          "base_uri": "https://localhost:8080/"
        },
        "id": "UEY4MqMmQ1Me",
        "outputId": "7fcf86ce-e85e-4500-82ba-79ab35b04ab8"
      },
      "source": [
        "dataset['remaining_payment_months'].unique()"
      ],
      "execution_count": null,
      "outputs": [
        {
          "output_type": "execute_result",
          "data": {
            "text/plain": [
              "array([      0,       1,      36,      12,       3,      48,      18,\n",
              "            24,      20,      14,       6,       5,      72,      76,\n",
              "             2,      11,      25,      10,      31,       7,      53,\n",
              "            60,      40,       4,      68,      50,      56,      16,\n",
              "            13,       8,      32,       9,      84,      52,      17,\n",
              "            30,      15,      29,      21,      22,      80,      54,\n",
              "            73,      28,      58,     108,      88,      42,   20000,\n",
              "            66,     336,     240,     100,      49,      35,   15000,\n",
              "       1500000,     180,      98,      75,      45,      37,   10000,\n",
              "           120,      -4,      38,      57,     134,   47265,      19,\n",
              "            26,      70,    2025,      46,  283331,      34,      27,\n",
              "            -1,      43,  390000,   22000,     144,  100000,   12000,\n",
              "           168,      39,     200,      23,      33,   40000,   33000,\n",
              "            44,      96,   24000,      51,    7000,      83,   14500,\n",
              "         75000, 1800000,      90,      47,     150,      78,    4600,\n",
              "         37000,   16000, 4260000,    5000,   13000, 1200000,    9000,\n",
              "        180000,   31000])"
            ]
          },
          "metadata": {},
          "execution_count": 51
        }
      ]
    },
    {
      "cell_type": "code",
      "metadata": {
        "colab": {
          "base_uri": "https://localhost:8080/"
        },
        "id": "OOKOQZSa1Qov",
        "outputId": "56df5cca-a92d-4261-e0b9-ffa59ede9bfd"
      },
      "source": [
        "df = dataset[['remaining_payment_months', 'total_outstanding_loan_amount']]\n",
        "df.sample(30)"
      ],
      "execution_count": null,
      "outputs": [
        {
          "output_type": "execute_result",
          "data": {
            "text/html": [
              "<div>\n",
              "<style scoped>\n",
              "    .dataframe tbody tr th:only-of-type {\n",
              "        vertical-align: middle;\n",
              "    }\n",
              "\n",
              "    .dataframe tbody tr th {\n",
              "        vertical-align: top;\n",
              "    }\n",
              "\n",
              "    .dataframe thead th {\n",
              "        text-align: right;\n",
              "    }\n",
              "</style>\n",
              "<table border=\"1\" class=\"dataframe\">\n",
              "  <thead>\n",
              "    <tr style=\"text-align: right;\">\n",
              "      <th></th>\n",
              "      <th>remaining_payment_months</th>\n",
              "      <th>total_outstanding_loan_amount</th>\n",
              "    </tr>\n",
              "  </thead>\n",
              "  <tbody>\n",
              "    <tr>\n",
              "      <th>5311</th>\n",
              "      <td>0</td>\n",
              "      <td>0</td>\n",
              "    </tr>\n",
              "    <tr>\n",
              "      <th>4790</th>\n",
              "      <td>0</td>\n",
              "      <td>0</td>\n",
              "    </tr>\n",
              "    <tr>\n",
              "      <th>5134</th>\n",
              "      <td>0</td>\n",
              "      <td>0</td>\n",
              "    </tr>\n",
              "    <tr>\n",
              "      <th>2082</th>\n",
              "      <td>0</td>\n",
              "      <td>0</td>\n",
              "    </tr>\n",
              "    <tr>\n",
              "      <th>2035</th>\n",
              "      <td>0</td>\n",
              "      <td>0</td>\n",
              "    </tr>\n",
              "    <tr>\n",
              "      <th>4726</th>\n",
              "      <td>0</td>\n",
              "      <td>0</td>\n",
              "    </tr>\n",
              "    <tr>\n",
              "      <th>3611</th>\n",
              "      <td>0</td>\n",
              "      <td>0</td>\n",
              "    </tr>\n",
              "    <tr>\n",
              "      <th>1375</th>\n",
              "      <td>4</td>\n",
              "      <td>18000</td>\n",
              "    </tr>\n",
              "    <tr>\n",
              "      <th>1092</th>\n",
              "      <td>0</td>\n",
              "      <td>0</td>\n",
              "    </tr>\n",
              "    <tr>\n",
              "      <th>5076</th>\n",
              "      <td>11</td>\n",
              "      <td>104500</td>\n",
              "    </tr>\n",
              "    <tr>\n",
              "      <th>4573</th>\n",
              "      <td>20000</td>\n",
              "      <td>300000</td>\n",
              "    </tr>\n",
              "    <tr>\n",
              "      <th>627</th>\n",
              "      <td>0</td>\n",
              "      <td>0</td>\n",
              "    </tr>\n",
              "    <tr>\n",
              "      <th>736</th>\n",
              "      <td>0</td>\n",
              "      <td>0</td>\n",
              "    </tr>\n",
              "    <tr>\n",
              "      <th>712</th>\n",
              "      <td>0</td>\n",
              "      <td>0</td>\n",
              "    </tr>\n",
              "    <tr>\n",
              "      <th>1944</th>\n",
              "      <td>0</td>\n",
              "      <td>0</td>\n",
              "    </tr>\n",
              "    <tr>\n",
              "      <th>3934</th>\n",
              "      <td>0</td>\n",
              "      <td>0</td>\n",
              "    </tr>\n",
              "    <tr>\n",
              "      <th>2001</th>\n",
              "      <td>28</td>\n",
              "      <td>616000</td>\n",
              "    </tr>\n",
              "    <tr>\n",
              "      <th>2482</th>\n",
              "      <td>8</td>\n",
              "      <td>80000</td>\n",
              "    </tr>\n",
              "    <tr>\n",
              "      <th>5143</th>\n",
              "      <td>0</td>\n",
              "      <td>0</td>\n",
              "    </tr>\n",
              "    <tr>\n",
              "      <th>3935</th>\n",
              "      <td>60</td>\n",
              "      <td>1200000</td>\n",
              "    </tr>\n",
              "    <tr>\n",
              "      <th>2310</th>\n",
              "      <td>60</td>\n",
              "      <td>0</td>\n",
              "    </tr>\n",
              "    <tr>\n",
              "      <th>4286</th>\n",
              "      <td>0</td>\n",
              "      <td>0</td>\n",
              "    </tr>\n",
              "    <tr>\n",
              "      <th>3303</th>\n",
              "      <td>0</td>\n",
              "      <td>0</td>\n",
              "    </tr>\n",
              "    <tr>\n",
              "      <th>1603</th>\n",
              "      <td>0</td>\n",
              "      <td>0</td>\n",
              "    </tr>\n",
              "    <tr>\n",
              "      <th>1354</th>\n",
              "      <td>0</td>\n",
              "      <td>0</td>\n",
              "    </tr>\n",
              "    <tr>\n",
              "      <th>1507</th>\n",
              "      <td>0</td>\n",
              "      <td>0</td>\n",
              "    </tr>\n",
              "    <tr>\n",
              "      <th>72</th>\n",
              "      <td>0</td>\n",
              "      <td>0</td>\n",
              "    </tr>\n",
              "    <tr>\n",
              "      <th>1921</th>\n",
              "      <td>0</td>\n",
              "      <td>0</td>\n",
              "    </tr>\n",
              "    <tr>\n",
              "      <th>622</th>\n",
              "      <td>0</td>\n",
              "      <td>0</td>\n",
              "    </tr>\n",
              "    <tr>\n",
              "      <th>1198</th>\n",
              "      <td>0</td>\n",
              "      <td>0</td>\n",
              "    </tr>\n",
              "  </tbody>\n",
              "</table>\n",
              "</div>"
            ],
            "text/plain": [
              "      remaining_payment_months  total_outstanding_loan_amount\n",
              "5311                         0                              0\n",
              "4790                         0                              0\n",
              "5134                         0                              0\n",
              "2082                         0                              0\n",
              "2035                         0                              0\n",
              "4726                         0                              0\n",
              "3611                         0                              0\n",
              "1375                         4                          18000\n",
              "1092                         0                              0\n",
              "5076                        11                         104500\n",
              "4573                     20000                         300000\n",
              "627                          0                              0\n",
              "736                          0                              0\n",
              "712                          0                              0\n",
              "1944                         0                              0\n",
              "3934                         0                              0\n",
              "2001                        28                         616000\n",
              "2482                         8                          80000\n",
              "5143                         0                              0\n",
              "3935                        60                        1200000\n",
              "2310                        60                              0\n",
              "4286                         0                              0\n",
              "3303                         0                              0\n",
              "1603                         0                              0\n",
              "1354                         0                              0\n",
              "1507                         0                              0\n",
              "72                           0                              0\n",
              "1921                         0                              0\n",
              "622                          0                              0\n",
              "1198                         0                              0"
            ]
          },
          "metadata": {},
          "execution_count": 52
        }
      ]
    },
    {
      "cell_type": "code",
      "metadata": {
        "colab": {
          "base_uri": "https://localhost:8080/"
        },
        "id": "WNVn-0i30uhV",
        "outputId": "c94939d4-f43a-4dcb-88d7-1b91681584b8"
      },
      "source": [
        "dataset['remaining_payment_months'].value_counts()"
      ],
      "execution_count": null,
      "outputs": [
        {
          "output_type": "execute_result",
          "data": {
            "text/plain": [
              "0        3766\n",
              "24        187\n",
              "1         164\n",
              "12        141\n",
              "36        134\n",
              "         ... \n",
              "336         1\n",
              "33          1\n",
              "33000       1\n",
              "44          1\n",
              "31000       1\n",
              "Name: remaining_payment_months, Length: 114, dtype: int64"
            ]
          },
          "metadata": {},
          "execution_count": 53
        }
      ]
    },
    {
      "cell_type": "code",
      "metadata": {
        "colab": {
          "base_uri": "https://localhost:8080/"
        },
        "id": "jBlO5jsvQ1Mf",
        "outputId": "7113784d-03c9-4587-dcfb-c9993e26a59c"
      },
      "source": [
        "dataset['remaining_payment_months'].describe()"
      ],
      "execution_count": null,
      "outputs": [
        {
          "output_type": "execute_result",
          "data": {
            "text/plain": [
              "count    5.447000e+03\n",
              "mean     2.270369e+03\n",
              "std      7.246766e+04\n",
              "min     -4.000000e+00\n",
              "25%      0.000000e+00\n",
              "50%      0.000000e+00\n",
              "75%      3.000000e+00\n",
              "max      4.260000e+06\n",
              "Name: remaining_payment_months, dtype: float64"
            ]
          },
          "metadata": {},
          "execution_count": 54
        }
      ]
    },
    {
      "cell_type": "markdown",
      "metadata": {
        "id": "aWZSxkYOQ1Mf"
      },
      "source": [
        "3766 are 0"
      ]
    },
    {
      "cell_type": "code",
      "metadata": {
        "id": "TrH5foB-Q1Mf"
      },
      "source": [
        "#visualise ditribution\n",
        "#sns.distplot(dataset['number_of_loans'])"
      ],
      "execution_count": null,
      "outputs": []
    },
    {
      "cell_type": "code",
      "metadata": {
        "colab": {
          "base_uri": "https://localhost:8080/"
        },
        "id": "i0URpBdtQ1Mf",
        "outputId": "c1368791-85f3-4519-d866-808488ec1c7d"
      },
      "source": [
        "sns.countplot(x= 'remaining_payment_months', data=dataset, hue= 'good_bad')"
      ],
      "execution_count": null,
      "outputs": [
        {
          "output_type": "execute_result",
          "data": {
            "text/plain": [
              "<matplotlib.axes._subplots.AxesSubplot at 0x7f2f730a1550>"
            ]
          },
          "metadata": {},
          "execution_count": 56
        },
        {
          "output_type": "display_data",
          "data": {
            "image/png": "[encoded data removed]",
            "text/plain": [
              "<Figure size 432x288 with 1 Axes>"
            ]
          },
          "metadata": {
            "needs_background": "light"
          }
        }
      ]
    },
    {
      "cell_type": "markdown",
      "metadata": {
        "id": "03UrPc5JLDXm"
      },
      "source": [
        "# **11. Sum_otherincome**"
      ]
    },
    {
      "cell_type": "code",
      "metadata": {
        "colab": {
          "base_uri": "https://localhost:8080/"
        },
        "id": "bFY6q4QnRlDc",
        "outputId": "abf5a682-0ea1-4248-c13c-fefe0371b37d"
      },
      "source": [
        "dataset['sum_otherincome'].unique()"
      ],
      "execution_count": null,
      "outputs": [
        {
          "output_type": "execute_result",
          "data": {
            "text/plain": [
              "array([       0,     7000,    15000,     9000,    50000,    31000,\n",
              "          21000,    35000,   150000,    42000,       40,   200000,\n",
              "          30000,    25000,    12500,    11200,    52000,    60000,\n",
              "          70000,   100000,    33000,    10000,    82000,   170000,\n",
              "          26000,    95000,    20000,    80000,    13500,    35400,\n",
              "           5250,    33600,     4500,   120000,     5000,    40000,\n",
              "           6600,   110000,    28675,    73500,   180000,   300000,\n",
              "          18000,    22000,    16300,    58900,     5800,    76000,\n",
              "           6000,    90000,    16000,     4000,    11000,    36000,\n",
              "           8000,    12000,    84000,    66000,   340000,     3000,\n",
              "          46000,    27000,    24000,    14400,    23000,    19000,\n",
              "          37000,     2000,    88000,   108000,    17000,    39000,\n",
              "          48000,    11400,    94000,     4700,   210500,   500000,\n",
              "         160000,   850500,    14000,    45000,   260000,    56750,\n",
              "          68100,    51000,   360000,    72000,    45600,    21300,\n",
              "           7200,    32000,    75000,    55000,    19500,    24800,\n",
              "          72200,   870000,    42500,    40335,    12800,     7500,\n",
              "          13000,   246000,   140000,  1000000,    65000,   570000,\n",
              "          16800,     1500,    53000,    11250,    12660,   450000,\n",
              "              1, 20000000,     5400,     3500,     8050,    61500,\n",
              "          87500,    19200,     1040,   105000,    92000,    27200,\n",
              "          38000,   900000,    22500,   400000,    56500,    10500,\n",
              "         118000,   350000,    41500,    67500,    21600,   280000,\n",
              "          10800,    64000,    14800,    59000,   135000,     9600,\n",
              "         133500,     8400,   228000,   167000,     4800,   700000,\n",
              "          45900,    19998,   127000,  2000000,    58000,   130000,\n",
              "          44000,   104000,   240000,    89000,   250000])"
            ]
          },
          "metadata": {},
          "execution_count": 57
        }
      ]
    },
    {
      "cell_type": "code",
      "metadata": {
        "colab": {
          "base_uri": "https://localhost:8080/"
        },
        "id": "UeeUEetiRlDc",
        "outputId": "4d70a978-f517-41fe-f376-f96bc5141941"
      },
      "source": [
        "dataset['sum_otherincome'].describe()"
      ],
      "execution_count": null,
      "outputs": [
        {
          "output_type": "execute_result",
          "data": {
            "text/plain": [
              "count    5.447000e+03\n",
              "mean     1.348484e+04\n",
              "std      2.761760e+05\n",
              "min      0.000000e+00\n",
              "25%      0.000000e+00\n",
              "50%      0.000000e+00\n",
              "75%      0.000000e+00\n",
              "max      2.000000e+07\n",
              "Name: sum_otherincome, dtype: float64"
            ]
          },
          "metadata": {},
          "execution_count": 58
        }
      ]
    },
    {
      "cell_type": "markdown",
      "metadata": {
        "id": "YPJ2sSvcRlDd"
      },
      "source": [
        "4441 are 0"
      ]
    },
    {
      "cell_type": "code",
      "metadata": {
        "colab": {
          "base_uri": "https://localhost:8080/"
        },
        "id": "6BEqtkwiRlDd",
        "outputId": "57ec6b6c-9384-478c-badc-d98669a31e2e"
      },
      "source": [
        "#visualise ditribution\n",
        "sns.distplot(dataset['sum_otherincome'])"
      ],
      "execution_count": null,
      "outputs": [
        {
          "output_type": "stream",
          "name": "stderr",
          "text": [
            "/usr/local/lib/python3.7/dist-packages/seaborn/distributions.py:2619: FutureWarning: `distplot` is a deprecated function and will be removed in a future version. Please adapt your code to use either `displot` (a figure-level function with similar flexibility) or `histplot` (an axes-level function for histograms).\n",
            "  warnings.warn(msg, FutureWarning)\n"
          ]
        },
        {
          "output_type": "execute_result",
          "data": {
            "text/plain": [
              "<matplotlib.axes._subplots.AxesSubplot at 0x7f2f72cf4e50>"
            ]
          },
          "metadata": {},
          "execution_count": 59
        },
        {
          "output_type": "display_data",
          "data": {
            "image/png": "[encoded data removed]",
            "text/plain": [
              "<Figure size 432x288 with 1 Axes>"
            ]
          },
          "metadata": {
            "needs_background": "light"
          }
        }
      ]
    },
    {
      "cell_type": "code",
      "metadata": {
        "colab": {
          "base_uri": "https://localhost:8080/"
        },
        "id": "Og_EBBclRlDd",
        "outputId": "05123f13-b827-45a7-96e0-3097c91e1702"
      },
      "source": [
        "sns.countplot(x= 'sum_otherincome', data=dataset, hue= 'good_bad')"
      ],
      "execution_count": null,
      "outputs": [
        {
          "output_type": "execute_result",
          "data": {
            "text/plain": [
              "<matplotlib.axes._subplots.AxesSubplot at 0x7f2f72b0bbd0>"
            ]
          },
          "metadata": {},
          "execution_count": 60
        },
        {
          "output_type": "display_data",
          "data": {
            "image/png": "[encoded data removed]",
            "text/plain": [
              "<Figure size 432x288 with 1 Axes>"
            ]
          },
          "metadata": {
            "needs_background": "light"
          }
        }
      ]
    },
    {
      "cell_type": "code",
      "metadata": {
        "id": "EzGWjvooRlDe"
      },
      "source": [
        "variable = \"sum_otherincome\"\n",
        "x = df_inputs[variable].values\n",
        "y = df_targets"
      ],
      "execution_count": null,
      "outputs": []
    },
    {
      "cell_type": "code",
      "metadata": {
        "id": "Q4iLNOeORlDe"
      },
      "source": [
        "optb = OptimalBinning(name=variable, dtype=\"numerical\", solver=\"cp\")"
      ],
      "execution_count": null,
      "outputs": []
    },
    {
      "cell_type": "code",
      "metadata": {
        "colab": {
          "base_uri": "https://localhost:8080/"
        },
        "id": "djVBYXaKRlDe",
        "outputId": "6968d611-758d-4940-867a-c117aad81287"
      },
      "source": [
        "optb.fit(x, y)"
      ],
      "execution_count": null,
      "outputs": [
        {
          "output_type": "execute_result",
          "data": {
            "text/plain": [
              "OptimalBinning(cat_cutoff=None, class_weight=None, divergence='iv',\n",
              "               dtype='numerical', gamma=0, max_bin_n_event=None,\n",
              "               max_bin_n_nonevent=None, max_bin_size=None, max_n_bins=None,\n",
              "               max_n_prebins=20, max_pvalue=None,\n",
              "               max_pvalue_policy='consecutive', min_bin_n_event=None,\n",
              "               min_bin_n_nonevent=None, min_bin_size=None,\n",
              "               min_event_rate_diff=0, min_n_bins=None, min_prebin_size=0.05,\n",
              "               mip_solver='bop', monotonic_trend='auto', name='sum_otherincome',\n",
              "               outlier_detector=None, outlier_params=None,\n",
              "               prebinning_method='cart', solver='cp', special_codes=None,\n",
              "               split_digits=None, time_limit=100, user_splits=None,\n",
              "               user_splits_fixed=None, ...)"
            ]
          },
          "metadata": {},
          "execution_count": 63
        }
      ]
    },
    {
      "cell_type": "code",
      "metadata": {
        "colab": {
          "base_uri": "https://localhost:8080/"
        },
        "id": "_WMj7uuaRlDe",
        "outputId": "fb4e1805-ae58-4b49-d62c-ad57ca254ea4"
      },
      "source": [
        "optb.status"
      ],
      "execution_count": null,
      "outputs": [
        {
          "output_type": "execute_result",
          "data": {
            "application/vnd.google.colaboratory.intrinsic+json": {
              "type": "string"
            },
            "text/plain": [
              "'OPTIMAL'"
            ]
          },
          "metadata": {},
          "execution_count": 64
        }
      ]
    },
    {
      "cell_type": "code",
      "metadata": {
        "colab": {
          "base_uri": "https://localhost:8080/"
        },
        "id": "exXdsqTlRlDf",
        "outputId": "e5bbf1eb-2847-4ddb-e42e-edeb9f9105ba"
      },
      "source": [
        "optb.splits"
      ],
      "execution_count": null,
      "outputs": [
        {
          "output_type": "execute_result",
          "data": {
            "text/plain": [
              "array([5.00e-01, 1.42e+04])"
            ]
          },
          "metadata": {},
          "execution_count": 65
        }
      ]
    },
    {
      "cell_type": "code",
      "metadata": {
        "id": "aCMqH8vgRlDf"
      },
      "source": [
        "binning_table = optb.binning_table"
      ],
      "execution_count": null,
      "outputs": []
    },
    {
      "cell_type": "code",
      "metadata": {
        "colab": {
          "base_uri": "https://localhost:8080/"
        },
        "id": "jhA85Dj5RlDf",
        "outputId": "cbe8c96c-94a8-4f8b-f041-d000c744d8ee"
      },
      "source": [
        "binning_table.build()"
      ],
      "execution_count": null,
      "outputs": [
        {
          "output_type": "execute_result",
          "data": {
            "text/html": [
              "<div>\n",
              "<style scoped>\n",
              "    .dataframe tbody tr th:only-of-type {\n",
              "        vertical-align: middle;\n",
              "    }\n",
              "\n",
              "    .dataframe tbody tr th {\n",
              "        vertical-align: top;\n",
              "    }\n",
              "\n",
              "    .dataframe thead th {\n",
              "        text-align: right;\n",
              "    }\n",
              "</style>\n",
              "<table border=\"1\" class=\"dataframe\">\n",
              "  <thead>\n",
              "    <tr style=\"text-align: right;\">\n",
              "      <th></th>\n",
              "      <th>Bin</th>\n",
              "      <th>Count</th>\n",
              "      <th>Count (%)</th>\n",
              "      <th>Non-event</th>\n",
              "      <th>Event</th>\n",
              "      <th>Event rate</th>\n",
              "      <th>WoE</th>\n",
              "      <th>IV</th>\n",
              "      <th>JS</th>\n",
              "    </tr>\n",
              "  </thead>\n",
              "  <tbody>\n",
              "    <tr>\n",
              "      <th>0</th>\n",
              "      <td>(-inf, 0.50)</td>\n",
              "      <td>3571</td>\n",
              "      <td>0.819601</td>\n",
              "      <td>3114</td>\n",
              "      <td>457</td>\n",
              "      <td>0.127975</td>\n",
              "      <td>0.025287</td>\n",
              "      <td>0.000519</td>\n",
              "      <td>0.000065</td>\n",
              "    </tr>\n",
              "    <tr>\n",
              "      <th>1</th>\n",
              "      <td>[0.50, 14200.00)</td>\n",
              "      <td>219</td>\n",
              "      <td>0.050264</td>\n",
              "      <td>195</td>\n",
              "      <td>24</td>\n",
              "      <td>0.109589</td>\n",
              "      <td>0.201253</td>\n",
              "      <td>0.001889</td>\n",
              "      <td>0.000236</td>\n",
              "    </tr>\n",
              "    <tr>\n",
              "      <th>2</th>\n",
              "      <td>[14200.00, inf)</td>\n",
              "      <td>567</td>\n",
              "      <td>0.130135</td>\n",
              "      <td>478</td>\n",
              "      <td>89</td>\n",
              "      <td>0.156966</td>\n",
              "      <td>-0.212719</td>\n",
              "      <td>0.006364</td>\n",
              "      <td>0.000794</td>\n",
              "    </tr>\n",
              "    <tr>\n",
              "      <th>3</th>\n",
              "      <td>Special</td>\n",
              "      <td>0</td>\n",
              "      <td>0.000000</td>\n",
              "      <td>0</td>\n",
              "      <td>0</td>\n",
              "      <td>0.000000</td>\n",
              "      <td>0.0</td>\n",
              "      <td>0.000000</td>\n",
              "      <td>0.000000</td>\n",
              "    </tr>\n",
              "    <tr>\n",
              "      <th>4</th>\n",
              "      <td>Missing</td>\n",
              "      <td>0</td>\n",
              "      <td>0.000000</td>\n",
              "      <td>0</td>\n",
              "      <td>0</td>\n",
              "      <td>0.000000</td>\n",
              "      <td>0.0</td>\n",
              "      <td>0.000000</td>\n",
              "      <td>0.000000</td>\n",
              "    </tr>\n",
              "    <tr>\n",
              "      <th>Totals</th>\n",
              "      <td></td>\n",
              "      <td>4357</td>\n",
              "      <td>1.000000</td>\n",
              "      <td>3787</td>\n",
              "      <td>570</td>\n",
              "      <td>0.130824</td>\n",
              "      <td></td>\n",
              "      <td>0.008773</td>\n",
              "      <td>0.001095</td>\n",
              "    </tr>\n",
              "  </tbody>\n",
              "</table>\n",
              "</div>"
            ],
            "text/plain": [
              "                     Bin  Count  Count (%)  ...       WoE        IV        JS\n",
              "0           (-inf, 0.50)   3571   0.819601  ...  0.025287  0.000519  0.000065\n",
              "1       [0.50, 14200.00)    219   0.050264  ...  0.201253  0.001889  0.000236\n",
              "2        [14200.00, inf)    567   0.130135  ... -0.212719  0.006364  0.000794\n",
              "3                Special      0   0.000000  ...       0.0  0.000000  0.000000\n",
              "4                Missing      0   0.000000  ...       0.0  0.000000  0.000000\n",
              "Totals                     4357   1.000000  ...            0.008773  0.001095\n",
              "\n",
              "[6 rows x 9 columns]"
            ]
          },
          "metadata": {},
          "execution_count": 67
        }
      ]
    },
    {
      "cell_type": "markdown",
      "metadata": {
        "id": "SkRTkrKm0DD5"
      },
      "source": [
        "# **Optbinning**"
      ]
    },
    {
      "cell_type": "markdown",
      "metadata": {
        "id": "FY3Q4PAv0Mpy"
      },
      "source": [
        "## **Duration with same employer**"
      ]
    },
    {
      "cell_type": "code",
      "metadata": {
        "colab": {
          "base_uri": "https://localhost:8080/"
        },
        "id": "LPpLJ3iw9sUq",
        "outputId": "f4d3a647-754a-4c4b-bfe6-47142078cda5"
      },
      "source": [
        "dataset[\"duration_with_same_employer\"].value_counts()"
      ],
      "execution_count": null,
      "outputs": [
        {
          "output_type": "execute_result",
          "data": {
            "text/plain": [
              "0-1 year             3588\n",
              "More than 5 years    1458\n",
              "2-5 years             297\n",
              "1-2 years             104\n",
              "Name: duration_with_same_employer, dtype: int64"
            ]
          },
          "metadata": {},
          "execution_count": 68
        }
      ]
    },
    {
      "cell_type": "code",
      "metadata": {
        "id": "S7ZuiCiv7tdn"
      },
      "source": [
        "variable = \"duration_with_same_employer\"\n",
        "x = df_inputs[variable].values\n",
        "y = df_targets"
      ],
      "execution_count": null,
      "outputs": []
    },
    {
      "cell_type": "code",
      "metadata": {
        "id": "15xSx01b7tdo"
      },
      "source": [
        "optb = OptimalBinning(name=variable, dtype=\"categorical\", solver=\"cp\")"
      ],
      "execution_count": null,
      "outputs": []
    },
    {
      "cell_type": "code",
      "metadata": {
        "colab": {
          "base_uri": "https://localhost:8080/"
        },
        "id": "4pUxiTAf7tdo",
        "outputId": "0491f496-9e47-498c-9e7a-4723f3cd79bf"
      },
      "source": [
        "optb.fit(x, y)"
      ],
      "execution_count": null,
      "outputs": [
        {
          "output_type": "execute_result",
          "data": {
            "text/plain": [
              "OptimalBinning(cat_cutoff=None, class_weight=None, divergence='iv',\n",
              "               dtype='categorical', gamma=0, max_bin_n_event=None,\n",
              "               max_bin_n_nonevent=None, max_bin_size=None, max_n_bins=None,\n",
              "               max_n_prebins=20, max_pvalue=None,\n",
              "               max_pvalue_policy='consecutive', min_bin_n_event=None,\n",
              "               min_bin_n_nonevent=None, min_bin_size=None,\n",
              "               min_event_rate_diff=0, min_n_bins=None, min_prebin_size=0.05,\n",
              "               mip_solver='bop', monotonic_trend='auto',\n",
              "               name='duration_with_same_employer', outlier_detector=None,\n",
              "               outlier_params=None, prebinning_method='cart', solver='cp',\n",
              "               special_codes=None, split_digits=None, time_limit=100,\n",
              "               user_splits=None, user_splits_fixed=None, ...)"
            ]
          },
          "metadata": {},
          "execution_count": 71
        }
      ]
    },
    {
      "cell_type": "code",
      "metadata": {
        "colab": {
          "base_uri": "https://localhost:8080/"
        },
        "id": "rd6DPIoF7tdp",
        "outputId": "3e256e40-7108-4524-872b-12bdd037cf76"
      },
      "source": [
        "optb.status"
      ],
      "execution_count": null,
      "outputs": [
        {
          "output_type": "execute_result",
          "data": {
            "application/vnd.google.colaboratory.intrinsic+json": {
              "type": "string"
            },
            "text/plain": [
              "'OPTIMAL'"
            ]
          },
          "metadata": {},
          "execution_count": 72
        }
      ]
    },
    {
      "cell_type": "code",
      "metadata": {
        "colab": {
          "base_uri": "https://localhost:8080/"
        },
        "id": "MaVHtSx87tdq",
        "outputId": "64f60fde-132b-456c-8aa7-4521ebbb5c55"
      },
      "source": [
        "optb.splits"
      ],
      "execution_count": null,
      "outputs": [
        {
          "output_type": "execute_result",
          "data": {
            "text/plain": [
              "[array(['More than 5 years'], dtype=object),\n",
              " array(['0-1 year'], dtype=object),\n",
              " array(['2-5 years', '1-2 years'], dtype=object)]"
            ]
          },
          "metadata": {},
          "execution_count": 73
        }
      ]
    },
    {
      "cell_type": "code",
      "metadata": {
        "id": "RjXqsCF67tdr"
      },
      "source": [
        "binning_table = optb.binning_table"
      ],
      "execution_count": null,
      "outputs": []
    },
    {
      "cell_type": "code",
      "metadata": {
        "colab": {
          "base_uri": "https://localhost:8080/"
        },
        "id": "D5f461lE7tdr",
        "outputId": "3c5c63f2-f102-467a-a466-1edf86696765"
      },
      "source": [
        "binning_table.build()"
      ],
      "execution_count": null,
      "outputs": [
        {
          "output_type": "execute_result",
          "data": {
            "text/html": [
              "<div>\n",
              "<style scoped>\n",
              "    .dataframe tbody tr th:only-of-type {\n",
              "        vertical-align: middle;\n",
              "    }\n",
              "\n",
              "    .dataframe tbody tr th {\n",
              "        vertical-align: top;\n",
              "    }\n",
              "\n",
              "    .dataframe thead th {\n",
              "        text-align: right;\n",
              "    }\n",
              "</style>\n",
              "<table border=\"1\" class=\"dataframe\">\n",
              "  <thead>\n",
              "    <tr style=\"text-align: right;\">\n",
              "      <th></th>\n",
              "      <th>Bin</th>\n",
              "      <th>Count</th>\n",
              "      <th>Count (%)</th>\n",
              "      <th>Non-event</th>\n",
              "      <th>Event</th>\n",
              "      <th>Event rate</th>\n",
              "      <th>WoE</th>\n",
              "      <th>IV</th>\n",
              "      <th>JS</th>\n",
              "    </tr>\n",
              "  </thead>\n",
              "  <tbody>\n",
              "    <tr>\n",
              "      <th>0</th>\n",
              "      <td>[More than 5 years]</td>\n",
              "      <td>1188</td>\n",
              "      <td>0.272665</td>\n",
              "      <td>1070</td>\n",
              "      <td>118</td>\n",
              "      <td>0.099327</td>\n",
              "      <td>0.311036</td>\n",
              "      <td>0.023492</td>\n",
              "      <td>0.002925</td>\n",
              "    </tr>\n",
              "    <tr>\n",
              "      <th>1</th>\n",
              "      <td>[0-1 year]</td>\n",
              "      <td>2867</td>\n",
              "      <td>0.658022</td>\n",
              "      <td>2466</td>\n",
              "      <td>401</td>\n",
              "      <td>0.139867</td>\n",
              "      <td>-0.077302</td>\n",
              "      <td>0.004045</td>\n",
              "      <td>0.000506</td>\n",
              "    </tr>\n",
              "    <tr>\n",
              "      <th>2</th>\n",
              "      <td>[2-5 years, 1-2 years]</td>\n",
              "      <td>302</td>\n",
              "      <td>0.069314</td>\n",
              "      <td>251</td>\n",
              "      <td>51</td>\n",
              "      <td>0.168874</td>\n",
              "      <td>-0.300066</td>\n",
              "      <td>0.006960</td>\n",
              "      <td>0.000867</td>\n",
              "    </tr>\n",
              "    <tr>\n",
              "      <th>3</th>\n",
              "      <td>Special</td>\n",
              "      <td>0</td>\n",
              "      <td>0.000000</td>\n",
              "      <td>0</td>\n",
              "      <td>0</td>\n",
              "      <td>0.000000</td>\n",
              "      <td>0.0</td>\n",
              "      <td>0.000000</td>\n",
              "      <td>0.000000</td>\n",
              "    </tr>\n",
              "    <tr>\n",
              "      <th>4</th>\n",
              "      <td>Missing</td>\n",
              "      <td>0</td>\n",
              "      <td>0.000000</td>\n",
              "      <td>0</td>\n",
              "      <td>0</td>\n",
              "      <td>0.000000</td>\n",
              "      <td>0.0</td>\n",
              "      <td>0.000000</td>\n",
              "      <td>0.000000</td>\n",
              "    </tr>\n",
              "    <tr>\n",
              "      <th>Totals</th>\n",
              "      <td></td>\n",
              "      <td>4357</td>\n",
              "      <td>1.000000</td>\n",
              "      <td>3787</td>\n",
              "      <td>570</td>\n",
              "      <td>0.130824</td>\n",
              "      <td></td>\n",
              "      <td>0.034497</td>\n",
              "      <td>0.004297</td>\n",
              "    </tr>\n",
              "  </tbody>\n",
              "</table>\n",
              "</div>"
            ],
            "text/plain": [
              "                           Bin  Count  Count (%)  ...       WoE        IV        JS\n",
              "0          [More than 5 years]   1188   0.272665  ...  0.311036  0.023492  0.002925\n",
              "1                   [0-1 year]   2867   0.658022  ... -0.077302  0.004045  0.000506\n",
              "2       [2-5 years, 1-2 years]    302   0.069314  ... -0.300066  0.006960  0.000867\n",
              "3                      Special      0   0.000000  ...       0.0  0.000000  0.000000\n",
              "4                      Missing      0   0.000000  ...       0.0  0.000000  0.000000\n",
              "Totals                           4357   1.000000  ...            0.034497  0.004297\n",
              "\n",
              "[6 rows x 9 columns]"
            ]
          },
          "metadata": {},
          "execution_count": 75
        }
      ]
    },
    {
      "cell_type": "code",
      "metadata": {
        "colab": {
          "base_uri": "https://localhost:8080/"
        },
        "id": "qjMXOHHb8N09",
        "outputId": "ebf420ef-4fd4-45f2-f228-8c2bbf1371a1"
      },
      "source": [
        "binning_table.plot(metric=\"woe\")"
      ],
      "execution_count": null,
      "outputs": [
        {
          "output_type": "display_data",
          "data": {
            "image/png": "[encoded data removed]",
            "text/plain": [
              "<Figure size 432x288 with 2 Axes>"
            ]
          },
          "metadata": {
            "needs_background": "light"
          }
        }
      ]
    },
    {
      "cell_type": "markdown",
      "metadata": {
        "id": "n2a_4BAn0UNl"
      },
      "source": [
        "## **No of jobs before**"
      ]
    },
    {
      "cell_type": "code",
      "metadata": {
        "colab": {
          "base_uri": "https://localhost:8080/"
        },
        "id": "OLXlG3LS9d2p",
        "outputId": "9033fce2-2e9b-4be0-ab95-f716e8004ae8"
      },
      "source": [
        "dataset[\"number_of_jobs_before\"].value_counts()"
      ],
      "execution_count": null,
      "outputs": [
        {
          "output_type": "execute_result",
          "data": {
            "text/plain": [
              "0-1 jobs            5159\n",
              "2-3 jobs             249\n",
              "More than 5 jobs      32\n",
              "4-5 jobs               7\n",
              "Name: number_of_jobs_before, dtype: int64"
            ]
          },
          "metadata": {},
          "execution_count": 77
        }
      ]
    },
    {
      "cell_type": "code",
      "metadata": {
        "id": "SG6zfL_X8UVN"
      },
      "source": [
        "variable = \"number_of_jobs_before\"\n",
        "x = df_inputs[variable].values\n",
        "y = df_targets"
      ],
      "execution_count": null,
      "outputs": []
    },
    {
      "cell_type": "code",
      "metadata": {
        "id": "VH1vQntA8UVP"
      },
      "source": [
        "optb = OptimalBinning(name=variable, dtype=\"categorical\", solver=\"cp\")"
      ],
      "execution_count": null,
      "outputs": []
    },
    {
      "cell_type": "code",
      "metadata": {
        "colab": {
          "base_uri": "https://localhost:8080/"
        },
        "id": "qbp9vOdI8UVP",
        "outputId": "96508306-0c6c-441d-87e4-2d84d9457233"
      },
      "source": [
        "optb.fit(x, y)"
      ],
      "execution_count": null,
      "outputs": [
        {
          "output_type": "execute_result",
          "data": {
            "text/plain": [
              "OptimalBinning(cat_cutoff=None, class_weight=None, divergence='iv',\n",
              "               dtype='categorical', gamma=0, max_bin_n_event=None,\n",
              "               max_bin_n_nonevent=None, max_bin_size=None, max_n_bins=None,\n",
              "               max_n_prebins=20, max_pvalue=None,\n",
              "               max_pvalue_policy='consecutive', min_bin_n_event=None,\n",
              "               min_bin_n_nonevent=None, min_bin_size=None,\n",
              "               min_event_rate_diff=0, min_n_bins=None, min_prebin_size=0.05,\n",
              "               mip_solver='bop', monotonic_trend='auto',\n",
              "               name='number_of_jobs_before', outlier_detector=None,\n",
              "               outlier_params=None, prebinning_method='cart', solver='cp',\n",
              "               special_codes=None, split_digits=None, time_limit=100,\n",
              "               user_splits=None, user_splits_fixed=None, ...)"
            ]
          },
          "metadata": {},
          "execution_count": 80
        }
      ]
    },
    {
      "cell_type": "code",
      "metadata": {
        "colab": {
          "base_uri": "https://localhost:8080/"
        },
        "id": "ToHstP1-8UVQ",
        "outputId": "9d2dbf10-8416-42a9-ef43-d8eb85125551"
      },
      "source": [
        "optb.status"
      ],
      "execution_count": null,
      "outputs": [
        {
          "output_type": "execute_result",
          "data": {
            "application/vnd.google.colaboratory.intrinsic+json": {
              "type": "string"
            },
            "text/plain": [
              "'OPTIMAL'"
            ]
          },
          "metadata": {},
          "execution_count": 81
        }
      ]
    },
    {
      "cell_type": "code",
      "metadata": {
        "colab": {
          "base_uri": "https://localhost:8080/"
        },
        "id": "UaCq1LX08UVR",
        "outputId": "74c27ec0-c03b-440a-a820-de89e16146a5"
      },
      "source": [
        "optb.splits"
      ],
      "execution_count": null,
      "outputs": [
        {
          "output_type": "execute_result",
          "data": {
            "text/plain": [
              "[array(['More than 5 jobs', '0-1 jobs', '2-3 jobs', '4-5 jobs'],\n",
              "       dtype=object)]"
            ]
          },
          "metadata": {},
          "execution_count": 82
        }
      ]
    },
    {
      "cell_type": "code",
      "metadata": {
        "id": "FT5hUBND8UVS"
      },
      "source": [
        "binning_table = optb.binning_table"
      ],
      "execution_count": null,
      "outputs": []
    },
    {
      "cell_type": "code",
      "metadata": {
        "colab": {
          "base_uri": "https://localhost:8080/"
        },
        "id": "IaatmFjp8UVS",
        "outputId": "ffea890c-f0a5-42bf-a8ac-07556a063934"
      },
      "source": [
        "binning_table.build()"
      ],
      "execution_count": null,
      "outputs": [
        {
          "output_type": "execute_result",
          "data": {
            "text/html": [
              "<div>\n",
              "<style scoped>\n",
              "    .dataframe tbody tr th:only-of-type {\n",
              "        vertical-align: middle;\n",
              "    }\n",
              "\n",
              "    .dataframe tbody tr th {\n",
              "        vertical-align: top;\n",
              "    }\n",
              "\n",
              "    .dataframe thead th {\n",
              "        text-align: right;\n",
              "    }\n",
              "</style>\n",
              "<table border=\"1\" class=\"dataframe\">\n",
              "  <thead>\n",
              "    <tr style=\"text-align: right;\">\n",
              "      <th></th>\n",
              "      <th>Bin</th>\n",
              "      <th>Count</th>\n",
              "      <th>Count (%)</th>\n",
              "      <th>Non-event</th>\n",
              "      <th>Event</th>\n",
              "      <th>Event rate</th>\n",
              "      <th>WoE</th>\n",
              "      <th>IV</th>\n",
              "      <th>JS</th>\n",
              "    </tr>\n",
              "  </thead>\n",
              "  <tbody>\n",
              "    <tr>\n",
              "      <th>0</th>\n",
              "      <td>[More than 5 jobs, 0-1 jobs, 2-3 jobs, 4-5 jobs]</td>\n",
              "      <td>4357</td>\n",
              "      <td>1.0</td>\n",
              "      <td>3787</td>\n",
              "      <td>570</td>\n",
              "      <td>0.130824</td>\n",
              "      <td>0.0</td>\n",
              "      <td>0.0</td>\n",
              "      <td>0.0</td>\n",
              "    </tr>\n",
              "    <tr>\n",
              "      <th>1</th>\n",
              "      <td>Special</td>\n",
              "      <td>0</td>\n",
              "      <td>0.0</td>\n",
              "      <td>0</td>\n",
              "      <td>0</td>\n",
              "      <td>0.000000</td>\n",
              "      <td>0.0</td>\n",
              "      <td>0.0</td>\n",
              "      <td>0.0</td>\n",
              "    </tr>\n",
              "    <tr>\n",
              "      <th>2</th>\n",
              "      <td>Missing</td>\n",
              "      <td>0</td>\n",
              "      <td>0.0</td>\n",
              "      <td>0</td>\n",
              "      <td>0</td>\n",
              "      <td>0.000000</td>\n",
              "      <td>0.0</td>\n",
              "      <td>0.0</td>\n",
              "      <td>0.0</td>\n",
              "    </tr>\n",
              "    <tr>\n",
              "      <th>Totals</th>\n",
              "      <td></td>\n",
              "      <td>4357</td>\n",
              "      <td>1.0</td>\n",
              "      <td>3787</td>\n",
              "      <td>570</td>\n",
              "      <td>0.130824</td>\n",
              "      <td></td>\n",
              "      <td>0.0</td>\n",
              "      <td>0.0</td>\n",
              "    </tr>\n",
              "  </tbody>\n",
              "</table>\n",
              "</div>"
            ],
            "text/plain": [
              "                                                     Bin  Count  ...   IV   JS\n",
              "0       [More than 5 jobs, 0-1 jobs, 2-3 jobs, 4-5 jobs]   4357  ...  0.0  0.0\n",
              "1                                                Special      0  ...  0.0  0.0\n",
              "2                                                Missing      0  ...  0.0  0.0\n",
              "Totals                                                     4357  ...  0.0  0.0\n",
              "\n",
              "[4 rows x 9 columns]"
            ]
          },
          "metadata": {},
          "execution_count": 84
        }
      ]
    },
    {
      "cell_type": "code",
      "metadata": {
        "colab": {
          "base_uri": "https://localhost:8080/"
        },
        "id": "8-7dFEpt8UVT",
        "outputId": "1a460b6a-5277-49d9-92c9-8045708fa445"
      },
      "source": [
        "binning_table.plot(metric=\"woe\")"
      ],
      "execution_count": null,
      "outputs": [
        {
          "output_type": "display_data",
          "data": {
            "image/png": "[encoded data removed]",
            "text/plain": [
              "<Figure size 432x288 with 2 Axes>"
            ]
          },
          "metadata": {
            "needs_background": "light"
          }
        }
      ]
    },
    {
      "cell_type": "markdown",
      "metadata": {
        "id": "yLwtfWXo0rmo"
      },
      "source": [
        "## **Tank capacity**"
      ]
    },
    {
      "cell_type": "code",
      "metadata": {
        "colab": {
          "base_uri": "https://localhost:8080/"
        },
        "id": "5MTR5RmdeNKV",
        "outputId": "70ab17ff-f3ed-462e-9387-ae501f0a09ee"
      },
      "source": [
        "dataset['tank_capacity'].value_counts()"
      ],
      "execution_count": null,
      "outputs": [
        {
          "output_type": "execute_result",
          "data": {
            "text/plain": [
              "0        2584\n",
              "5000      602\n",
              "3000      436\n",
              "10000     340\n",
              "1000      253\n",
              "         ... \n",
              "14000       1\n",
              "960         1\n",
              "10400       1\n",
              "410         1\n",
              "2100        1\n",
              "Name: tank_capacity, Length: 131, dtype: int64"
            ]
          },
          "metadata": {},
          "execution_count": 86
        }
      ]
    },
    {
      "cell_type": "code",
      "metadata": {
        "id": "kwjZaTGt8Vid"
      },
      "source": [
        "variable = \"tank_capacity\"\n",
        "x = df_inputs[variable].values\n",
        "y = df_targets"
      ],
      "execution_count": null,
      "outputs": []
    },
    {
      "cell_type": "code",
      "metadata": {
        "id": "qMwU5Pao8Vif"
      },
      "source": [
        "optb = OptimalBinning(name=variable, dtype=\"numerical\", solver=\"cp\")"
      ],
      "execution_count": null,
      "outputs": []
    },
    {
      "cell_type": "code",
      "metadata": {
        "colab": {
          "base_uri": "https://localhost:8080/"
        },
        "id": "S8HRVy9G8Vif",
        "outputId": "aad4e07b-34c7-4daf-d87f-7f2a055839c4"
      },
      "source": [
        "optb.fit(x, y)"
      ],
      "execution_count": null,
      "outputs": [
        {
          "output_type": "execute_result",
          "data": {
            "text/plain": [
              "OptimalBinning(cat_cutoff=None, class_weight=None, divergence='iv',\n",
              "               dtype='numerical', gamma=0, max_bin_n_event=None,\n",
              "               max_bin_n_nonevent=None, max_bin_size=None, max_n_bins=None,\n",
              "               max_n_prebins=20, max_pvalue=None,\n",
              "               max_pvalue_policy='consecutive', min_bin_n_event=None,\n",
              "               min_bin_n_nonevent=None, min_bin_size=None,\n",
              "               min_event_rate_diff=0, min_n_bins=None, min_prebin_size=0.05,\n",
              "               mip_solver='bop', monotonic_trend='auto', name='tank_capacity',\n",
              "               outlier_detector=None, outlier_params=None,\n",
              "               prebinning_method='cart', solver='cp', special_codes=None,\n",
              "               split_digits=None, time_limit=100, user_splits=None,\n",
              "               user_splits_fixed=None, ...)"
            ]
          },
          "metadata": {},
          "execution_count": 89
        }
      ]
    },
    {
      "cell_type": "code",
      "metadata": {
        "colab": {
          "base_uri": "https://localhost:8080/"
        },
        "id": "rXDLvlWR8Vig",
        "outputId": "62d06b27-8c8e-4a3e-d48b-85e50618829c"
      },
      "source": [
        "optb.status"
      ],
      "execution_count": null,
      "outputs": [
        {
          "output_type": "execute_result",
          "data": {
            "application/vnd.google.colaboratory.intrinsic+json": {
              "type": "string"
            },
            "text/plain": [
              "'OPTIMAL'"
            ]
          },
          "metadata": {},
          "execution_count": 90
        }
      ]
    },
    {
      "cell_type": "code",
      "metadata": {
        "colab": {
          "base_uri": "https://localhost:8080/"
        },
        "id": "PooxDy3r8Vih",
        "outputId": "8c5bfd3c-86ca-497d-ba4f-4b2fa11f0bc2"
      },
      "source": [
        "optb.splits"
      ],
      "execution_count": null,
      "outputs": [
        {
          "output_type": "execute_result",
          "data": {
            "text/plain": [
              "array([1100., 2450., 3400., 5400.])"
            ]
          },
          "metadata": {},
          "execution_count": 91
        }
      ]
    },
    {
      "cell_type": "code",
      "metadata": {
        "id": "MDgOQoPt8Vih"
      },
      "source": [
        "binning_table = optb.binning_table"
      ],
      "execution_count": null,
      "outputs": []
    },
    {
      "cell_type": "code",
      "metadata": {
        "colab": {
          "base_uri": "https://localhost:8080/"
        },
        "id": "Z99MIo6K8Vii",
        "outputId": "592253dc-1965-4ceb-afd9-0501f6a5ad7f"
      },
      "source": [
        "binning_table.build()"
      ],
      "execution_count": null,
      "outputs": [
        {
          "output_type": "execute_result",
          "data": {
            "text/html": [
              "<div>\n",
              "<style scoped>\n",
              "    .dataframe tbody tr th:only-of-type {\n",
              "        vertical-align: middle;\n",
              "    }\n",
              "\n",
              "    .dataframe tbody tr th {\n",
              "        vertical-align: top;\n",
              "    }\n",
              "\n",
              "    .dataframe thead th {\n",
              "        text-align: right;\n",
              "    }\n",
              "</style>\n",
              "<table border=\"1\" class=\"dataframe\">\n",
              "  <thead>\n",
              "    <tr style=\"text-align: right;\">\n",
              "      <th></th>\n",
              "      <th>Bin</th>\n",
              "      <th>Count</th>\n",
              "      <th>Count (%)</th>\n",
              "      <th>Non-event</th>\n",
              "      <th>Event</th>\n",
              "      <th>Event rate</th>\n",
              "      <th>WoE</th>\n",
              "      <th>IV</th>\n",
              "      <th>JS</th>\n",
              "    </tr>\n",
              "  </thead>\n",
              "  <tbody>\n",
              "    <tr>\n",
              "      <th>0</th>\n",
              "      <td>(-inf, 1100.00)</td>\n",
              "      <td>2400</td>\n",
              "      <td>0.550838</td>\n",
              "      <td>2039</td>\n",
              "      <td>361</td>\n",
              "      <td>0.150417</td>\n",
              "      <td>-0.162356</td>\n",
              "      <td>0.015410</td>\n",
              "      <td>0.001924</td>\n",
              "    </tr>\n",
              "    <tr>\n",
              "      <th>1</th>\n",
              "      <td>[1100.00, 2450.00)</td>\n",
              "      <td>320</td>\n",
              "      <td>0.073445</td>\n",
              "      <td>283</td>\n",
              "      <td>37</td>\n",
              "      <td>0.115625</td>\n",
              "      <td>0.140836</td>\n",
              "      <td>0.001383</td>\n",
              "      <td>0.000173</td>\n",
              "    </tr>\n",
              "    <tr>\n",
              "      <th>2</th>\n",
              "      <td>[2450.00, 3400.00)</td>\n",
              "      <td>440</td>\n",
              "      <td>0.100987</td>\n",
              "      <td>401</td>\n",
              "      <td>39</td>\n",
              "      <td>0.088636</td>\n",
              "      <td>0.436707</td>\n",
              "      <td>0.016362</td>\n",
              "      <td>0.002029</td>\n",
              "    </tr>\n",
              "    <tr>\n",
              "      <th>3</th>\n",
              "      <td>[3400.00, 5400.00)</td>\n",
              "      <td>577</td>\n",
              "      <td>0.132431</td>\n",
              "      <td>518</td>\n",
              "      <td>59</td>\n",
              "      <td>0.102253</td>\n",
              "      <td>0.278745</td>\n",
              "      <td>0.009275</td>\n",
              "      <td>0.001156</td>\n",
              "    </tr>\n",
              "    <tr>\n",
              "      <th>4</th>\n",
              "      <td>[5400.00, inf)</td>\n",
              "      <td>620</td>\n",
              "      <td>0.142300</td>\n",
              "      <td>546</td>\n",
              "      <td>74</td>\n",
              "      <td>0.119355</td>\n",
              "      <td>0.104861</td>\n",
              "      <td>0.001505</td>\n",
              "      <td>0.000188</td>\n",
              "    </tr>\n",
              "    <tr>\n",
              "      <th>5</th>\n",
              "      <td>Special</td>\n",
              "      <td>0</td>\n",
              "      <td>0.000000</td>\n",
              "      <td>0</td>\n",
              "      <td>0</td>\n",
              "      <td>0.000000</td>\n",
              "      <td>0.0</td>\n",
              "      <td>0.000000</td>\n",
              "      <td>0.000000</td>\n",
              "    </tr>\n",
              "    <tr>\n",
              "      <th>6</th>\n",
              "      <td>Missing</td>\n",
              "      <td>0</td>\n",
              "      <td>0.000000</td>\n",
              "      <td>0</td>\n",
              "      <td>0</td>\n",
              "      <td>0.000000</td>\n",
              "      <td>0.0</td>\n",
              "      <td>0.000000</td>\n",
              "      <td>0.000000</td>\n",
              "    </tr>\n",
              "    <tr>\n",
              "      <th>Totals</th>\n",
              "      <td></td>\n",
              "      <td>4357</td>\n",
              "      <td>1.000000</td>\n",
              "      <td>3787</td>\n",
              "      <td>570</td>\n",
              "      <td>0.130824</td>\n",
              "      <td></td>\n",
              "      <td>0.043935</td>\n",
              "      <td>0.005470</td>\n",
              "    </tr>\n",
              "  </tbody>\n",
              "</table>\n",
              "</div>"
            ],
            "text/plain": [
              "                       Bin  Count  Count (%)  ...       WoE        IV        JS\n",
              "0          (-inf, 1100.00)   2400   0.550838  ... -0.162356  0.015410  0.001924\n",
              "1       [1100.00, 2450.00)    320   0.073445  ...  0.140836  0.001383  0.000173\n",
              "2       [2450.00, 3400.00)    440   0.100987  ...  0.436707  0.016362  0.002029\n",
              "3       [3400.00, 5400.00)    577   0.132431  ...  0.278745  0.009275  0.001156\n",
              "4           [5400.00, inf)    620   0.142300  ...  0.104861  0.001505  0.000188\n",
              "5                  Special      0   0.000000  ...       0.0  0.000000  0.000000\n",
              "6                  Missing      0   0.000000  ...       0.0  0.000000  0.000000\n",
              "Totals                       4357   1.000000  ...            0.043935  0.005470\n",
              "\n",
              "[8 rows x 9 columns]"
            ]
          },
          "metadata": {},
          "execution_count": 93
        }
      ]
    },
    {
      "cell_type": "code",
      "metadata": {
        "colab": {
          "base_uri": "https://localhost:8080/"
        },
        "id": "jAz46klD8Vij",
        "outputId": "f3561556-52f6-4eaa-bc5f-c6888d468594"
      },
      "source": [
        "binning_table.plot(metric=\"woe\")"
      ],
      "execution_count": null,
      "outputs": [
        {
          "output_type": "display_data",
          "data": {
            "image/png": "[encoded data removed]",
            "text/plain": [
              "<Figure size 432x288 with 2 Axes>"
            ]
          },
          "metadata": {
            "needs_background": "light"
          }
        }
      ]
    },
    {
      "cell_type": "markdown",
      "metadata": {
        "id": "Oq7fVJx2046S"
      },
      "source": [
        "## **Number of loans**"
      ]
    },
    {
      "cell_type": "code",
      "metadata": {
        "id": "egxilGZOPfPw"
      },
      "source": [
        "variable = \"number_of_loans\"\n",
        "x = df_inputs[variable].values\n",
        "y = df_targets"
      ],
      "execution_count": null,
      "outputs": []
    },
    {
      "cell_type": "code",
      "metadata": {
        "id": "5PVG4dkoPfPw"
      },
      "source": [
        "optb = OptimalBinning(name=variable, dtype=\"categorical\", solver=\"cp\")"
      ],
      "execution_count": null,
      "outputs": []
    },
    {
      "cell_type": "code",
      "metadata": {
        "colab": {
          "base_uri": "https://localhost:8080/"
        },
        "id": "7E9Dqe7oPfPx",
        "outputId": "3d4a12b8-91a9-474d-a4fa-6e97f844609f"
      },
      "source": [
        "optb.fit(x, y)"
      ],
      "execution_count": null,
      "outputs": [
        {
          "output_type": "execute_result",
          "data": {
            "text/plain": [
              "OptimalBinning(cat_cutoff=None, class_weight=None, divergence='iv',\n",
              "               dtype='categorical', gamma=0, max_bin_n_event=None,\n",
              "               max_bin_n_nonevent=None, max_bin_size=None, max_n_bins=None,\n",
              "               max_n_prebins=20, max_pvalue=None,\n",
              "               max_pvalue_policy='consecutive', min_bin_n_event=None,\n",
              "               min_bin_n_nonevent=None, min_bin_size=None,\n",
              "               min_event_rate_diff=0, min_n_bins=None, min_prebin_size=0.05,\n",
              "               mip_solver='bop', monotonic_trend='auto', name='number_of_loans',\n",
              "               outlier_detector=None, outlier_params=None,\n",
              "               prebinning_method='cart', solver='cp', special_codes=None,\n",
              "               split_digits=None, time_limit=100, user_splits=None,\n",
              "               user_splits_fixed=None, ...)"
            ]
          },
          "metadata": {},
          "execution_count": 97
        }
      ]
    },
    {
      "cell_type": "code",
      "metadata": {
        "colab": {
          "base_uri": "https://localhost:8080/"
        },
        "id": "RSTYqRfnPfPx",
        "outputId": "5b6922ee-8ce9-421a-cd93-03e2cd5d0a9e"
      },
      "source": [
        "optb.status"
      ],
      "execution_count": null,
      "outputs": [
        {
          "output_type": "execute_result",
          "data": {
            "application/vnd.google.colaboratory.intrinsic+json": {
              "type": "string"
            },
            "text/plain": [
              "'OPTIMAL'"
            ]
          },
          "metadata": {},
          "execution_count": 98
        }
      ]
    },
    {
      "cell_type": "code",
      "metadata": {
        "colab": {
          "base_uri": "https://localhost:8080/"
        },
        "id": "3aWEUCuCPfPx",
        "outputId": "b51fd44e-c6ef-4ac7-b410-7c52f503d552"
      },
      "source": [
        "optb.splits"
      ],
      "execution_count": null,
      "outputs": [
        {
          "output_type": "execute_result",
          "data": {
            "text/plain": [
              "[array(['More than 4 loans', '1 loan'], dtype=object),\n",
              " array(['2-3 loans'], dtype=object),\n",
              " array(['0 loans'], dtype=object)]"
            ]
          },
          "metadata": {},
          "execution_count": 99
        }
      ]
    },
    {
      "cell_type": "code",
      "metadata": {
        "id": "vsKtwQnNPfPx"
      },
      "source": [
        "binning_table = optb.binning_table"
      ],
      "execution_count": null,
      "outputs": []
    },
    {
      "cell_type": "code",
      "metadata": {
        "colab": {
          "base_uri": "https://localhost:8080/"
        },
        "id": "v9uZbEETPfPy",
        "outputId": "f4742f60-67eb-468f-ebf0-61aa6a301254"
      },
      "source": [
        "binning_table.build()"
      ],
      "execution_count": null,
      "outputs": [
        {
          "output_type": "execute_result",
          "data": {
            "text/html": [
              "<div>\n",
              "<style scoped>\n",
              "    .dataframe tbody tr th:only-of-type {\n",
              "        vertical-align: middle;\n",
              "    }\n",
              "\n",
              "    .dataframe tbody tr th {\n",
              "        vertical-align: top;\n",
              "    }\n",
              "\n",
              "    .dataframe thead th {\n",
              "        text-align: right;\n",
              "    }\n",
              "</style>\n",
              "<table border=\"1\" class=\"dataframe\">\n",
              "  <thead>\n",
              "    <tr style=\"text-align: right;\">\n",
              "      <th></th>\n",
              "      <th>Bin</th>\n",
              "      <th>Count</th>\n",
              "      <th>Count (%)</th>\n",
              "      <th>Non-event</th>\n",
              "      <th>Event</th>\n",
              "      <th>Event rate</th>\n",
              "      <th>WoE</th>\n",
              "      <th>IV</th>\n",
              "      <th>JS</th>\n",
              "    </tr>\n",
              "  </thead>\n",
              "  <tbody>\n",
              "    <tr>\n",
              "      <th>0</th>\n",
              "      <td>[More than 4 loans, 1 loan]</td>\n",
              "      <td>1429</td>\n",
              "      <td>0.327978</td>\n",
              "      <td>1257</td>\n",
              "      <td>172</td>\n",
              "      <td>0.120364</td>\n",
              "      <td>0.095296</td>\n",
              "      <td>0.002875</td>\n",
              "      <td>0.000359</td>\n",
              "    </tr>\n",
              "    <tr>\n",
              "      <th>1</th>\n",
              "      <td>[2-3 loans]</td>\n",
              "      <td>436</td>\n",
              "      <td>0.100069</td>\n",
              "      <td>378</td>\n",
              "      <td>58</td>\n",
              "      <td>0.133028</td>\n",
              "      <td>-0.019242</td>\n",
              "      <td>0.000037</td>\n",
              "      <td>0.000005</td>\n",
              "    </tr>\n",
              "    <tr>\n",
              "      <th>2</th>\n",
              "      <td>[0 loans]</td>\n",
              "      <td>2492</td>\n",
              "      <td>0.571953</td>\n",
              "      <td>2152</td>\n",
              "      <td>340</td>\n",
              "      <td>0.136437</td>\n",
              "      <td>-0.048486</td>\n",
              "      <td>0.001369</td>\n",
              "      <td>0.000171</td>\n",
              "    </tr>\n",
              "    <tr>\n",
              "      <th>3</th>\n",
              "      <td>Special</td>\n",
              "      <td>0</td>\n",
              "      <td>0.000000</td>\n",
              "      <td>0</td>\n",
              "      <td>0</td>\n",
              "      <td>0.000000</td>\n",
              "      <td>0.0</td>\n",
              "      <td>0.000000</td>\n",
              "      <td>0.000000</td>\n",
              "    </tr>\n",
              "    <tr>\n",
              "      <th>4</th>\n",
              "      <td>Missing</td>\n",
              "      <td>0</td>\n",
              "      <td>0.000000</td>\n",
              "      <td>0</td>\n",
              "      <td>0</td>\n",
              "      <td>0.000000</td>\n",
              "      <td>0.0</td>\n",
              "      <td>0.000000</td>\n",
              "      <td>0.000000</td>\n",
              "    </tr>\n",
              "    <tr>\n",
              "      <th>Totals</th>\n",
              "      <td></td>\n",
              "      <td>4357</td>\n",
              "      <td>1.000000</td>\n",
              "      <td>3787</td>\n",
              "      <td>570</td>\n",
              "      <td>0.130824</td>\n",
              "      <td></td>\n",
              "      <td>0.004281</td>\n",
              "      <td>0.000535</td>\n",
              "    </tr>\n",
              "  </tbody>\n",
              "</table>\n",
              "</div>"
            ],
            "text/plain": [
              "                                Bin  Count  ...        IV        JS\n",
              "0       [More than 4 loans, 1 loan]   1429  ...  0.002875  0.000359\n",
              "1                       [2-3 loans]    436  ...  0.000037  0.000005\n",
              "2                         [0 loans]   2492  ...  0.001369  0.000171\n",
              "3                           Special      0  ...  0.000000  0.000000\n",
              "4                           Missing      0  ...  0.000000  0.000000\n",
              "Totals                                4357  ...  0.004281  0.000535\n",
              "\n",
              "[6 rows x 9 columns]"
            ]
          },
          "metadata": {},
          "execution_count": 101
        }
      ]
    },
    {
      "cell_type": "code",
      "metadata": {
        "colab": {
          "base_uri": "https://localhost:8080/"
        },
        "id": "eYrx8HGv8aa6",
        "outputId": "1720c9fd-6a9d-4f05-b343-af3c8d2df671"
      },
      "source": [
        "binning_table.plot(metric=\"woe\")"
      ],
      "execution_count": null,
      "outputs": [
        {
          "output_type": "display_data",
          "data": {
            "image/png": "[encoded data removed]",
            "text/plain": [
              "<Figure size 432x288 with 2 Axes>"
            ]
          },
          "metadata": {
            "needs_background": "light"
          }
        }
      ]
    },
    {
      "cell_type": "markdown",
      "metadata": {
        "id": "0jSXfRar08Ov"
      },
      "source": [
        "## **Number of Outstanding loans**"
      ]
    },
    {
      "cell_type": "code",
      "metadata": {
        "colab": {
          "base_uri": "https://localhost:8080/"
        },
        "id": "7HsgOHjC-Cd5",
        "outputId": "e85f0aca-5d87-47d4-d2f1-2370d828a94e"
      },
      "source": [
        "dataset[\"number_of_outstanding_loans\"].value_counts()"
      ],
      "execution_count": null,
      "outputs": [
        {
          "output_type": "execute_result",
          "data": {
            "text/plain": [
              "0 loans              3674\n",
              "1 loan               1640\n",
              "2-3 loans             129\n",
              "More than 4 loans       4\n",
              "Name: number_of_outstanding_loans, dtype: int64"
            ]
          },
          "metadata": {},
          "execution_count": 103
        }
      ]
    },
    {
      "cell_type": "code",
      "metadata": {
        "id": "lFNUwyLHQhIw"
      },
      "source": [
        "variable = \"number_of_outstanding_loans\"\n",
        "x = df_inputs[variable].values\n",
        "y = df_targets"
      ],
      "execution_count": null,
      "outputs": []
    },
    {
      "cell_type": "code",
      "metadata": {
        "id": "mlySkgjPQhIx"
      },
      "source": [
        "optb = OptimalBinning(name=variable, dtype=\"categorical\", solver=\"cp\")"
      ],
      "execution_count": null,
      "outputs": []
    },
    {
      "cell_type": "code",
      "metadata": {
        "colab": {
          "base_uri": "https://localhost:8080/"
        },
        "id": "9HkJLw6kQhIx",
        "outputId": "85d2fa84-6ba2-48fb-8b1f-600adb3c7f2c"
      },
      "source": [
        "optb.fit(x, y)"
      ],
      "execution_count": null,
      "outputs": [
        {
          "output_type": "execute_result",
          "data": {
            "text/plain": [
              "OptimalBinning(cat_cutoff=None, class_weight=None, divergence='iv',\n",
              "               dtype='categorical', gamma=0, max_bin_n_event=None,\n",
              "               max_bin_n_nonevent=None, max_bin_size=None, max_n_bins=None,\n",
              "               max_n_prebins=20, max_pvalue=None,\n",
              "               max_pvalue_policy='consecutive', min_bin_n_event=None,\n",
              "               min_bin_n_nonevent=None, min_bin_size=None,\n",
              "               min_event_rate_diff=0, min_n_bins=None, min_prebin_size=0.05,\n",
              "               mip_solver='bop', monotonic_trend='auto',\n",
              "               name='number_of_outstanding_loans', outlier_detector=None,\n",
              "               outlier_params=None, prebinning_method='cart', solver='cp',\n",
              "               special_codes=None, split_digits=None, time_limit=100,\n",
              "               user_splits=None, user_splits_fixed=None, ...)"
            ]
          },
          "metadata": {},
          "execution_count": 106
        }
      ]
    },
    {
      "cell_type": "code",
      "metadata": {
        "colab": {
          "base_uri": "https://localhost:8080/"
        },
        "id": "LxepvnoWQhIy",
        "outputId": "e4eb058b-fd96-4ae6-ea7e-63392c054c19"
      },
      "source": [
        "optb.status"
      ],
      "execution_count": null,
      "outputs": [
        {
          "output_type": "execute_result",
          "data": {
            "application/vnd.google.colaboratory.intrinsic+json": {
              "type": "string"
            },
            "text/plain": [
              "'OPTIMAL'"
            ]
          },
          "metadata": {},
          "execution_count": 107
        }
      ]
    },
    {
      "cell_type": "code",
      "metadata": {
        "colab": {
          "base_uri": "https://localhost:8080/"
        },
        "id": "44J6JlumQhIy",
        "outputId": "63eaab0b-f326-4516-ba30-f1124c702709"
      },
      "source": [
        "optb.splits"
      ],
      "execution_count": null,
      "outputs": [
        {
          "output_type": "execute_result",
          "data": {
            "text/plain": [
              "[array(['More than 4 loans', '2-3 loans', '1 loan'], dtype=object),\n",
              " array(['0 loans'], dtype=object)]"
            ]
          },
          "metadata": {},
          "execution_count": 108
        }
      ]
    },
    {
      "cell_type": "code",
      "metadata": {
        "id": "Xnt2dZD3QhIy"
      },
      "source": [
        "binning_table = optb.binning_table"
      ],
      "execution_count": null,
      "outputs": []
    },
    {
      "cell_type": "code",
      "metadata": {
        "colab": {
          "base_uri": "https://localhost:8080/"
        },
        "id": "jtTD0AgTQhIy",
        "outputId": "de339c7b-4fc9-4c4c-82f6-b98cf4a31400"
      },
      "source": [
        "binning_table.build()"
      ],
      "execution_count": null,
      "outputs": [
        {
          "output_type": "execute_result",
          "data": {
            "text/html": [
              "<div>\n",
              "<style scoped>\n",
              "    .dataframe tbody tr th:only-of-type {\n",
              "        vertical-align: middle;\n",
              "    }\n",
              "\n",
              "    .dataframe tbody tr th {\n",
              "        vertical-align: top;\n",
              "    }\n",
              "\n",
              "    .dataframe thead th {\n",
              "        text-align: right;\n",
              "    }\n",
              "</style>\n",
              "<table border=\"1\" class=\"dataframe\">\n",
              "  <thead>\n",
              "    <tr style=\"text-align: right;\">\n",
              "      <th></th>\n",
              "      <th>Bin</th>\n",
              "      <th>Count</th>\n",
              "      <th>Count (%)</th>\n",
              "      <th>Non-event</th>\n",
              "      <th>Event</th>\n",
              "      <th>Event rate</th>\n",
              "      <th>WoE</th>\n",
              "      <th>IV</th>\n",
              "      <th>JS</th>\n",
              "    </tr>\n",
              "  </thead>\n",
              "  <tbody>\n",
              "    <tr>\n",
              "      <th>0</th>\n",
              "      <td>[More than 4 loans, 2-3 loans, 1 loan]</td>\n",
              "      <td>1414</td>\n",
              "      <td>0.324535</td>\n",
              "      <td>1240</td>\n",
              "      <td>174</td>\n",
              "      <td>0.123055</td>\n",
              "      <td>0.070118</td>\n",
              "      <td>0.001555</td>\n",
              "      <td>0.000194</td>\n",
              "    </tr>\n",
              "    <tr>\n",
              "      <th>1</th>\n",
              "      <td>[0 loans]</td>\n",
              "      <td>2943</td>\n",
              "      <td>0.675465</td>\n",
              "      <td>2547</td>\n",
              "      <td>396</td>\n",
              "      <td>0.134557</td>\n",
              "      <td>-0.032436</td>\n",
              "      <td>0.000719</td>\n",
              "      <td>0.000090</td>\n",
              "    </tr>\n",
              "    <tr>\n",
              "      <th>2</th>\n",
              "      <td>Special</td>\n",
              "      <td>0</td>\n",
              "      <td>0.000000</td>\n",
              "      <td>0</td>\n",
              "      <td>0</td>\n",
              "      <td>0.000000</td>\n",
              "      <td>0.0</td>\n",
              "      <td>0.000000</td>\n",
              "      <td>0.000000</td>\n",
              "    </tr>\n",
              "    <tr>\n",
              "      <th>3</th>\n",
              "      <td>Missing</td>\n",
              "      <td>0</td>\n",
              "      <td>0.000000</td>\n",
              "      <td>0</td>\n",
              "      <td>0</td>\n",
              "      <td>0.000000</td>\n",
              "      <td>0.0</td>\n",
              "      <td>0.000000</td>\n",
              "      <td>0.000000</td>\n",
              "    </tr>\n",
              "    <tr>\n",
              "      <th>Totals</th>\n",
              "      <td></td>\n",
              "      <td>4357</td>\n",
              "      <td>1.000000</td>\n",
              "      <td>3787</td>\n",
              "      <td>570</td>\n",
              "      <td>0.130824</td>\n",
              "      <td></td>\n",
              "      <td>0.002274</td>\n",
              "      <td>0.000284</td>\n",
              "    </tr>\n",
              "  </tbody>\n",
              "</table>\n",
              "</div>"
            ],
            "text/plain": [
              "                                           Bin  Count  ...        IV        JS\n",
              "0       [More than 4 loans, 2-3 loans, 1 loan]   1414  ...  0.001555  0.000194\n",
              "1                                    [0 loans]   2943  ...  0.000719  0.000090\n",
              "2                                      Special      0  ...  0.000000  0.000000\n",
              "3                                      Missing      0  ...  0.000000  0.000000\n",
              "Totals                                           4357  ...  0.002274  0.000284\n",
              "\n",
              "[5 rows x 9 columns]"
            ]
          },
          "metadata": {},
          "execution_count": 110
        }
      ]
    },
    {
      "cell_type": "code",
      "metadata": {
        "colab": {
          "base_uri": "https://localhost:8080/"
        },
        "id": "hV4450rP8dB1",
        "outputId": "b088489e-d26f-4c11-f0cf-a8056260bcad"
      },
      "source": [
        "binning_table.plot(metric=\"woe\")"
      ],
      "execution_count": null,
      "outputs": [
        {
          "output_type": "display_data",
          "data": {
            "image/png": "[encoded data removed]",
            "text/plain": [
              "<Figure size 432x288 with 2 Axes>"
            ]
          },
          "metadata": {
            "needs_background": "light"
          }
        }
      ]
    },
    {
      "cell_type": "markdown",
      "metadata": {
        "id": "66tnMKdl0uEE"
      },
      "source": [
        "## **Remaining payment months**"
      ]
    },
    {
      "cell_type": "code",
      "metadata": {
        "id": "OZo6t7EAQ1Mf"
      },
      "source": [
        "variable = \"remaining_payment_months\"\n",
        "x = df_inputs[variable].values\n",
        "y = df_targets"
      ],
      "execution_count": null,
      "outputs": []
    },
    {
      "cell_type": "code",
      "metadata": {
        "id": "WtkZ6xrYQ1Mf"
      },
      "source": [
        "optb = OptimalBinning(name=variable, dtype=\"numerical\", solver=\"cp\")"
      ],
      "execution_count": null,
      "outputs": []
    },
    {
      "cell_type": "code",
      "metadata": {
        "colab": {
          "base_uri": "https://localhost:8080/"
        },
        "id": "rruN5CgOQ1Mg",
        "outputId": "9281f730-6aa5-4aaf-af09-2a88e22af9b4"
      },
      "source": [
        "optb.fit(x, y)"
      ],
      "execution_count": null,
      "outputs": [
        {
          "output_type": "execute_result",
          "data": {
            "text/plain": [
              "OptimalBinning(cat_cutoff=None, class_weight=None, divergence='iv',\n",
              "               dtype='numerical', gamma=0, max_bin_n_event=None,\n",
              "               max_bin_n_nonevent=None, max_bin_size=None, max_n_bins=None,\n",
              "               max_n_prebins=20, max_pvalue=None,\n",
              "               max_pvalue_policy='consecutive', min_bin_n_event=None,\n",
              "               min_bin_n_nonevent=None, min_bin_size=None,\n",
              "               min_event_rate_diff=0, min_n_bins=None, min_prebin_size=0.05,\n",
              "               mip_solver='bop', monotonic_trend='auto',\n",
              "               name='remaining_payment_months', outlier_detector=None,\n",
              "               outlier_params=None, prebinning_method='cart', solver='cp',\n",
              "               special_codes=None, split_digits=None, time_limit=100,\n",
              "               user_splits=None, user_splits_fixed=None, ...)"
            ]
          },
          "metadata": {},
          "execution_count": 114
        }
      ]
    },
    {
      "cell_type": "code",
      "metadata": {
        "colab": {
          "base_uri": "https://localhost:8080/"
        },
        "id": "zTsb5XkKQ1Mg",
        "outputId": "d6a5eff1-bc65-49f7-ecdd-a58d80cec72c"
      },
      "source": [
        "optb.status"
      ],
      "execution_count": null,
      "outputs": [
        {
          "output_type": "execute_result",
          "data": {
            "application/vnd.google.colaboratory.intrinsic+json": {
              "type": "string"
            },
            "text/plain": [
              "'OPTIMAL'"
            ]
          },
          "metadata": {},
          "execution_count": 115
        }
      ]
    },
    {
      "cell_type": "code",
      "metadata": {
        "colab": {
          "base_uri": "https://localhost:8080/"
        },
        "id": "bYZDwGBjQ1Mg",
        "outputId": "4eb7f3cc-970b-4973-e69b-0ffd866f3d2e"
      },
      "source": [
        "optb.splits"
      ],
      "execution_count": null,
      "outputs": [
        {
          "output_type": "execute_result",
          "data": {
            "text/plain": [
              "array([ 1.5,  7.5, 17.5])"
            ]
          },
          "metadata": {},
          "execution_count": 116
        }
      ]
    },
    {
      "cell_type": "code",
      "metadata": {
        "id": "sarFqPgqQ1Mg"
      },
      "source": [
        "binning_table = optb.binning_table"
      ],
      "execution_count": null,
      "outputs": []
    },
    {
      "cell_type": "code",
      "metadata": {
        "colab": {
          "base_uri": "https://localhost:8080/"
        },
        "id": "xtrNC4IsQ1Mg",
        "outputId": "f86f8b06-8531-48aa-e4f1-fe5a35a57ee5"
      },
      "source": [
        "binning_table.build()"
      ],
      "execution_count": null,
      "outputs": [
        {
          "output_type": "execute_result",
          "data": {
            "text/html": [
              "<div>\n",
              "<style scoped>\n",
              "    .dataframe tbody tr th:only-of-type {\n",
              "        vertical-align: middle;\n",
              "    }\n",
              "\n",
              "    .dataframe tbody tr th {\n",
              "        vertical-align: top;\n",
              "    }\n",
              "\n",
              "    .dataframe thead th {\n",
              "        text-align: right;\n",
              "    }\n",
              "</style>\n",
              "<table border=\"1\" class=\"dataframe\">\n",
              "  <thead>\n",
              "    <tr style=\"text-align: right;\">\n",
              "      <th></th>\n",
              "      <th>Bin</th>\n",
              "      <th>Count</th>\n",
              "      <th>Count (%)</th>\n",
              "      <th>Non-event</th>\n",
              "      <th>Event</th>\n",
              "      <th>Event rate</th>\n",
              "      <th>WoE</th>\n",
              "      <th>IV</th>\n",
              "      <th>JS</th>\n",
              "    </tr>\n",
              "  </thead>\n",
              "  <tbody>\n",
              "    <tr>\n",
              "      <th>0</th>\n",
              "      <td>(-inf, 1.50)</td>\n",
              "      <td>3154</td>\n",
              "      <td>0.723893</td>\n",
              "      <td>2738</td>\n",
              "      <td>416</td>\n",
              "      <td>0.131896</td>\n",
              "      <td>-0.009395</td>\n",
              "      <td>0.000064</td>\n",
              "      <td>0.000008</td>\n",
              "    </tr>\n",
              "    <tr>\n",
              "      <th>1</th>\n",
              "      <td>[1.50, 7.50)</td>\n",
              "      <td>314</td>\n",
              "      <td>0.072068</td>\n",
              "      <td>255</td>\n",
              "      <td>59</td>\n",
              "      <td>0.187898</td>\n",
              "      <td>-0.429967</td>\n",
              "      <td>0.015553</td>\n",
              "      <td>0.001929</td>\n",
              "    </tr>\n",
              "    <tr>\n",
              "      <th>2</th>\n",
              "      <td>[7.50, 17.50)</td>\n",
              "      <td>256</td>\n",
              "      <td>0.058756</td>\n",
              "      <td>219</td>\n",
              "      <td>37</td>\n",
              "      <td>0.144531</td>\n",
              "      <td>-0.115539</td>\n",
              "      <td>0.000818</td>\n",
              "      <td>0.000102</td>\n",
              "    </tr>\n",
              "    <tr>\n",
              "      <th>3</th>\n",
              "      <td>[17.50, inf)</td>\n",
              "      <td>633</td>\n",
              "      <td>0.145283</td>\n",
              "      <td>575</td>\n",
              "      <td>58</td>\n",
              "      <td>0.091627</td>\n",
              "      <td>0.400234</td>\n",
              "      <td>0.020044</td>\n",
              "      <td>0.002489</td>\n",
              "    </tr>\n",
              "    <tr>\n",
              "      <th>4</th>\n",
              "      <td>Special</td>\n",
              "      <td>0</td>\n",
              "      <td>0.000000</td>\n",
              "      <td>0</td>\n",
              "      <td>0</td>\n",
              "      <td>0.000000</td>\n",
              "      <td>0.0</td>\n",
              "      <td>0.000000</td>\n",
              "      <td>0.000000</td>\n",
              "    </tr>\n",
              "    <tr>\n",
              "      <th>5</th>\n",
              "      <td>Missing</td>\n",
              "      <td>0</td>\n",
              "      <td>0.000000</td>\n",
              "      <td>0</td>\n",
              "      <td>0</td>\n",
              "      <td>0.000000</td>\n",
              "      <td>0.0</td>\n",
              "      <td>0.000000</td>\n",
              "      <td>0.000000</td>\n",
              "    </tr>\n",
              "    <tr>\n",
              "      <th>Totals</th>\n",
              "      <td></td>\n",
              "      <td>4357</td>\n",
              "      <td>1.000000</td>\n",
              "      <td>3787</td>\n",
              "      <td>570</td>\n",
              "      <td>0.130824</td>\n",
              "      <td></td>\n",
              "      <td>0.036480</td>\n",
              "      <td>0.004528</td>\n",
              "    </tr>\n",
              "  </tbody>\n",
              "</table>\n",
              "</div>"
            ],
            "text/plain": [
              "                  Bin  Count  Count (%)  ...       WoE        IV        JS\n",
              "0        (-inf, 1.50)   3154   0.723893  ... -0.009395  0.000064  0.000008\n",
              "1        [1.50, 7.50)    314   0.072068  ... -0.429967  0.015553  0.001929\n",
              "2       [7.50, 17.50)    256   0.058756  ... -0.115539  0.000818  0.000102\n",
              "3        [17.50, inf)    633   0.145283  ...  0.400234  0.020044  0.002489\n",
              "4             Special      0   0.000000  ...       0.0  0.000000  0.000000\n",
              "5             Missing      0   0.000000  ...       0.0  0.000000  0.000000\n",
              "Totals                  4357   1.000000  ...            0.036480  0.004528\n",
              "\n",
              "[7 rows x 9 columns]"
            ]
          },
          "metadata": {},
          "execution_count": 118
        }
      ]
    },
    {
      "cell_type": "code",
      "metadata": {
        "colab": {
          "base_uri": "https://localhost:8080/"
        },
        "id": "Ek4NAYw28emC",
        "outputId": "03d9acb6-a173-4f3e-a493-e5f7f83278d4"
      },
      "source": [
        "binning_table.plot(metric=\"woe\")"
      ],
      "execution_count": null,
      "outputs": [
        {
          "output_type": "display_data",
          "data": {
            "image/png": "[encoded data removed]",
            "text/plain": [
              "<Figure size 432x288 with 2 Axes>"
            ]
          },
          "metadata": {
            "needs_background": "light"
          }
        }
      ]
    },
    {
      "cell_type": "markdown",
      "metadata": {
        "id": "PIcOCF6PQBA5"
      },
      "source": [
        "## **Income_sum**"
      ]
    },
    {
      "cell_type": "code",
      "metadata": {
        "id": "DxNEqRFRQBA6"
      },
      "source": [
        "variable = \"income_sum\"\n",
        "x = df_inputs[variable].values\n",
        "y = df_targets"
      ],
      "execution_count": null,
      "outputs": []
    },
    {
      "cell_type": "code",
      "metadata": {
        "id": "ft8K6mQeQBA6"
      },
      "source": [
        "optb = OptimalBinning(name=variable, dtype=\"numerical\", solver=\"cp\")"
      ],
      "execution_count": null,
      "outputs": []
    },
    {
      "cell_type": "code",
      "metadata": {
        "colab": {
          "base_uri": "https://localhost:8080/"
        },
        "id": "Yq5oLq_HQBA6",
        "outputId": "0f40dddb-e5d6-489b-992d-7c8d59f984ad"
      },
      "source": [
        "optb.fit(x, y)"
      ],
      "execution_count": null,
      "outputs": [
        {
          "output_type": "execute_result",
          "data": {
            "text/plain": [
              "OptimalBinning(cat_cutoff=None, class_weight=None, divergence='iv',\n",
              "               dtype='numerical', gamma=0, max_bin_n_event=None,\n",
              "               max_bin_n_nonevent=None, max_bin_size=None, max_n_bins=None,\n",
              "               max_n_prebins=20, max_pvalue=None,\n",
              "               max_pvalue_policy='consecutive', min_bin_n_event=None,\n",
              "               min_bin_n_nonevent=None, min_bin_size=None,\n",
              "               min_event_rate_diff=0, min_n_bins=None, min_prebin_size=0.05,\n",
              "               mip_solver='bop', monotonic_trend='auto', name='income_sum',\n",
              "               outlier_detector=None, outlier_params=None,\n",
              "               prebinning_method='cart', solver='cp', special_codes=None,\n",
              "               split_digits=None, time_limit=100, user_splits=None,\n",
              "               user_splits_fixed=None, ...)"
            ]
          },
          "metadata": {},
          "execution_count": 122
        }
      ]
    },
    {
      "cell_type": "code",
      "metadata": {
        "colab": {
          "base_uri": "https://localhost:8080/"
        },
        "id": "ntJE3YOnQBA8",
        "outputId": "397338de-c3f1-4c47-d909-6218f5951827"
      },
      "source": [
        "optb.status"
      ],
      "execution_count": null,
      "outputs": [
        {
          "output_type": "execute_result",
          "data": {
            "application/vnd.google.colaboratory.intrinsic+json": {
              "type": "string"
            },
            "text/plain": [
              "'OPTIMAL'"
            ]
          },
          "metadata": {},
          "execution_count": 123
        }
      ]
    },
    {
      "cell_type": "code",
      "metadata": {
        "colab": {
          "base_uri": "https://localhost:8080/"
        },
        "id": "icss25xjQBA8",
        "outputId": "cccbc4c4-a1e2-4c43-d715-c58d9759bcf3"
      },
      "source": [
        "optb.splits"
      ],
      "execution_count": null,
      "outputs": [
        {
          "output_type": "execute_result",
          "data": {
            "text/plain": [
              "array([ 1270., 14200.])"
            ]
          },
          "metadata": {},
          "execution_count": 124
        }
      ]
    },
    {
      "cell_type": "code",
      "metadata": {
        "id": "V7ws_TmpQBA8"
      },
      "source": [
        "binning_table = optb.binning_table"
      ],
      "execution_count": null,
      "outputs": []
    },
    {
      "cell_type": "code",
      "metadata": {
        "colab": {
          "base_uri": "https://localhost:8080/"
        },
        "id": "RP4KVbghQBA8",
        "outputId": "baf2efd9-8f28-443e-80f0-3649d8b0afc2"
      },
      "source": [
        "binning_table.build()"
      ],
      "execution_count": null,
      "outputs": [
        {
          "output_type": "execute_result",
          "data": {
            "text/html": [
              "<div>\n",
              "<style scoped>\n",
              "    .dataframe tbody tr th:only-of-type {\n",
              "        vertical-align: middle;\n",
              "    }\n",
              "\n",
              "    .dataframe tbody tr th {\n",
              "        vertical-align: top;\n",
              "    }\n",
              "\n",
              "    .dataframe thead th {\n",
              "        text-align: right;\n",
              "    }\n",
              "</style>\n",
              "<table border=\"1\" class=\"dataframe\">\n",
              "  <thead>\n",
              "    <tr style=\"text-align: right;\">\n",
              "      <th></th>\n",
              "      <th>Bin</th>\n",
              "      <th>Count</th>\n",
              "      <th>Count (%)</th>\n",
              "      <th>Non-event</th>\n",
              "      <th>Event</th>\n",
              "      <th>Event rate</th>\n",
              "      <th>WoE</th>\n",
              "      <th>IV</th>\n",
              "      <th>JS</th>\n",
              "    </tr>\n",
              "  </thead>\n",
              "  <tbody>\n",
              "    <tr>\n",
              "      <th>0</th>\n",
              "      <td>(-inf, 1270.00)</td>\n",
              "      <td>3574</td>\n",
              "      <td>0.820289</td>\n",
              "      <td>3115</td>\n",
              "      <td>459</td>\n",
              "      <td>0.128428</td>\n",
              "      <td>0.021241</td>\n",
              "      <td>0.000367</td>\n",
              "      <td>0.000046</td>\n",
              "    </tr>\n",
              "    <tr>\n",
              "      <th>1</th>\n",
              "      <td>[1270.00, 14200.00)</td>\n",
              "      <td>220</td>\n",
              "      <td>0.050493</td>\n",
              "      <td>197</td>\n",
              "      <td>23</td>\n",
              "      <td>0.104545</td>\n",
              "      <td>0.254016</td>\n",
              "      <td>0.002964</td>\n",
              "      <td>0.000370</td>\n",
              "    </tr>\n",
              "    <tr>\n",
              "      <th>2</th>\n",
              "      <td>[14200.00, inf)</td>\n",
              "      <td>563</td>\n",
              "      <td>0.129217</td>\n",
              "      <td>475</td>\n",
              "      <td>88</td>\n",
              "      <td>0.156306</td>\n",
              "      <td>-0.207715</td>\n",
              "      <td>0.006015</td>\n",
              "      <td>0.000750</td>\n",
              "    </tr>\n",
              "    <tr>\n",
              "      <th>3</th>\n",
              "      <td>Special</td>\n",
              "      <td>0</td>\n",
              "      <td>0.000000</td>\n",
              "      <td>0</td>\n",
              "      <td>0</td>\n",
              "      <td>0.000000</td>\n",
              "      <td>0.0</td>\n",
              "      <td>0.000000</td>\n",
              "      <td>0.000000</td>\n",
              "    </tr>\n",
              "    <tr>\n",
              "      <th>4</th>\n",
              "      <td>Missing</td>\n",
              "      <td>0</td>\n",
              "      <td>0.000000</td>\n",
              "      <td>0</td>\n",
              "      <td>0</td>\n",
              "      <td>0.000000</td>\n",
              "      <td>0.0</td>\n",
              "      <td>0.000000</td>\n",
              "      <td>0.000000</td>\n",
              "    </tr>\n",
              "    <tr>\n",
              "      <th>Totals</th>\n",
              "      <td></td>\n",
              "      <td>4357</td>\n",
              "      <td>1.000000</td>\n",
              "      <td>3787</td>\n",
              "      <td>570</td>\n",
              "      <td>0.130824</td>\n",
              "      <td></td>\n",
              "      <td>0.009346</td>\n",
              "      <td>0.001166</td>\n",
              "    </tr>\n",
              "  </tbody>\n",
              "</table>\n",
              "</div>"
            ],
            "text/plain": [
              "                        Bin  Count  Count (%)  ...       WoE        IV        JS\n",
              "0           (-inf, 1270.00)   3574   0.820289  ...  0.021241  0.000367  0.000046\n",
              "1       [1270.00, 14200.00)    220   0.050493  ...  0.254016  0.002964  0.000370\n",
              "2           [14200.00, inf)    563   0.129217  ... -0.207715  0.006015  0.000750\n",
              "3                   Special      0   0.000000  ...       0.0  0.000000  0.000000\n",
              "4                   Missing      0   0.000000  ...       0.0  0.000000  0.000000\n",
              "Totals                        4357   1.000000  ...            0.009346  0.001166\n",
              "\n",
              "[6 rows x 9 columns]"
            ]
          },
          "metadata": {},
          "execution_count": 126
        }
      ]
    },
    {
      "cell_type": "code",
      "metadata": {
        "colab": {
          "base_uri": "https://localhost:8080/"
        },
        "id": "xGtoEqFSQBA8",
        "outputId": "3fa68620-09e2-472e-e431-98c096a77f90"
      },
      "source": [
        "binning_table.plot(metric=\"woe\")"
      ],
      "execution_count": null,
      "outputs": [
        {
          "output_type": "display_data",
          "data": {
            "image/png": "[encoded data removed]",
            "text/plain": [
              "<Figure size 432x288 with 2 Axes>"
            ]
          },
          "metadata": {
            "needs_background": "light"
          }
        }
      ]
    },
    {
      "cell_type": "markdown",
      "metadata": {
        "id": "yAmPoxsCWEKi"
      },
      "source": [
        "## **Crops Grown**"
      ]
    },
    {
      "cell_type": "code",
      "metadata": {
        "colab": {
          "base_uri": "https://localhost:8080/"
        },
        "id": "3mk6AcntWEKj",
        "outputId": "128495ce-9da0-40b3-fc88-99a478e3bad7"
      },
      "source": [
        "dataset[\"crops_grown\"].value_counts()"
      ],
      "execution_count": null,
      "outputs": [
        {
          "output_type": "execute_result",
          "data": {
            "text/plain": [
              "3 type of crops               1534\n",
              "2 type of crops               1213\n",
              "More than 4 types of crops    1157\n",
              "4 type of crops                722\n",
              "1 type of crop                 482\n",
              "0 type of crops                339\n",
              "Name: crops_grown, dtype: int64"
            ]
          },
          "metadata": {},
          "execution_count": 128
        }
      ]
    },
    {
      "cell_type": "code",
      "metadata": {
        "id": "a9LmtlGAWEKk"
      },
      "source": [
        "variable = \"crops_grown\"\n",
        "x = df_inputs[variable].values\n",
        "y = df_targets"
      ],
      "execution_count": null,
      "outputs": []
    },
    {
      "cell_type": "code",
      "metadata": {
        "id": "2tVEIQH6WEKk"
      },
      "source": [
        "optb = OptimalBinning(name=variable, dtype=\"categorical\", solver=\"cp\")"
      ],
      "execution_count": null,
      "outputs": []
    },
    {
      "cell_type": "code",
      "metadata": {
        "colab": {
          "base_uri": "https://localhost:8080/"
        },
        "id": "0OzMjZpDWEKk",
        "outputId": "39f80a28-9510-40ac-9ec8-66c4616460c1"
      },
      "source": [
        "optb.fit(x, y)"
      ],
      "execution_count": null,
      "outputs": [
        {
          "output_type": "execute_result",
          "data": {
            "text/plain": [
              "OptimalBinning(cat_cutoff=None, class_weight=None, divergence='iv',\n",
              "               dtype='categorical', gamma=0, max_bin_n_event=None,\n",
              "               max_bin_n_nonevent=None, max_bin_size=None, max_n_bins=None,\n",
              "               max_n_prebins=20, max_pvalue=None,\n",
              "               max_pvalue_policy='consecutive', min_bin_n_event=None,\n",
              "               min_bin_n_nonevent=None, min_bin_size=None,\n",
              "               min_event_rate_diff=0, min_n_bins=None, min_prebin_size=0.05,\n",
              "               mip_solver='bop', monotonic_trend='auto', name='crops_grown',\n",
              "               outlier_detector=None, outlier_params=None,\n",
              "               prebinning_method='cart', solver='cp', special_codes=None,\n",
              "               split_digits=None, time_limit=100, user_splits=None,\n",
              "               user_splits_fixed=None, ...)"
            ]
          },
          "metadata": {},
          "execution_count": 131
        }
      ]
    },
    {
      "cell_type": "code",
      "metadata": {
        "colab": {
          "base_uri": "https://localhost:8080/"
        },
        "id": "rPUMX2YbWEKl",
        "outputId": "cad1e16c-17be-49b6-80c8-684bf9120ecd"
      },
      "source": [
        "optb.status"
      ],
      "execution_count": null,
      "outputs": [
        {
          "output_type": "execute_result",
          "data": {
            "application/vnd.google.colaboratory.intrinsic+json": {
              "type": "string"
            },
            "text/plain": [
              "'OPTIMAL'"
            ]
          },
          "metadata": {},
          "execution_count": 132
        }
      ]
    },
    {
      "cell_type": "code",
      "metadata": {
        "colab": {
          "base_uri": "https://localhost:8080/"
        },
        "id": "umyxwFJUWEKl",
        "outputId": "b654acf2-3231-4eeb-978e-3d6ddc061d88"
      },
      "source": [
        "optb.splits"
      ],
      "execution_count": null,
      "outputs": [
        {
          "output_type": "execute_result",
          "data": {
            "text/plain": [
              "[array(['0 type of crops'], dtype=object),\n",
              " array(['1 type of crop'], dtype=object),\n",
              " array(['More than 4 types of crops'], dtype=object),\n",
              " array(['4 type of crops'], dtype=object),\n",
              " array(['3 type of crops'], dtype=object),\n",
              " array(['2 type of crops'], dtype=object)]"
            ]
          },
          "metadata": {},
          "execution_count": 133
        }
      ]
    },
    {
      "cell_type": "code",
      "metadata": {
        "id": "kD_UTyB-WEKl"
      },
      "source": [
        "binning_table = optb.binning_table"
      ],
      "execution_count": null,
      "outputs": []
    },
    {
      "cell_type": "code",
      "metadata": {
        "colab": {
          "base_uri": "https://localhost:8080/"
        },
        "id": "Zd1ZTFgsWEKl",
        "outputId": "9e077d73-3894-4bc1-bddf-e2eb03efec04"
      },
      "source": [
        "binning_table.build()"
      ],
      "execution_count": null,
      "outputs": [
        {
          "output_type": "execute_result",
          "data": {
            "text/html": [
              "<div>\n",
              "<style scoped>\n",
              "    .dataframe tbody tr th:only-of-type {\n",
              "        vertical-align: middle;\n",
              "    }\n",
              "\n",
              "    .dataframe tbody tr th {\n",
              "        vertical-align: top;\n",
              "    }\n",
              "\n",
              "    .dataframe thead th {\n",
              "        text-align: right;\n",
              "    }\n",
              "</style>\n",
              "<table border=\"1\" class=\"dataframe\">\n",
              "  <thead>\n",
              "    <tr style=\"text-align: right;\">\n",
              "      <th></th>\n",
              "      <th>Bin</th>\n",
              "      <th>Count</th>\n",
              "      <th>Count (%)</th>\n",
              "      <th>Non-event</th>\n",
              "      <th>Event</th>\n",
              "      <th>Event rate</th>\n",
              "      <th>WoE</th>\n",
              "      <th>IV</th>\n",
              "      <th>JS</th>\n",
              "    </tr>\n",
              "  </thead>\n",
              "  <tbody>\n",
              "    <tr>\n",
              "      <th>0</th>\n",
              "      <td>[0 type of crops]</td>\n",
              "      <td>271</td>\n",
              "      <td>0.062199</td>\n",
              "      <td>250</td>\n",
              "      <td>21</td>\n",
              "      <td>0.077491</td>\n",
              "      <td>0.583245</td>\n",
              "      <td>0.017015</td>\n",
              "      <td>2.097250e-03</td>\n",
              "    </tr>\n",
              "    <tr>\n",
              "      <th>1</th>\n",
              "      <td>[1 type of crop]</td>\n",
              "      <td>380</td>\n",
              "      <td>0.087216</td>\n",
              "      <td>343</td>\n",
              "      <td>37</td>\n",
              "      <td>0.097368</td>\n",
              "      <td>0.333119</td>\n",
              "      <td>0.008548</td>\n",
              "      <td>1.063598e-03</td>\n",
              "    </tr>\n",
              "    <tr>\n",
              "      <th>2</th>\n",
              "      <td>[More than 4 types of crops]</td>\n",
              "      <td>921</td>\n",
              "      <td>0.211384</td>\n",
              "      <td>809</td>\n",
              "      <td>112</td>\n",
              "      <td>0.121607</td>\n",
              "      <td>0.083607</td>\n",
              "      <td>0.001433</td>\n",
              "      <td>1.790166e-04</td>\n",
              "    </tr>\n",
              "    <tr>\n",
              "      <th>3</th>\n",
              "      <td>[4 type of crops]</td>\n",
              "      <td>576</td>\n",
              "      <td>0.132201</td>\n",
              "      <td>501</td>\n",
              "      <td>75</td>\n",
              "      <td>0.130208</td>\n",
              "      <td>0.005425</td>\n",
              "      <td>0.000004</td>\n",
              "      <td>4.853569e-07</td>\n",
              "    </tr>\n",
              "    <tr>\n",
              "      <th>4</th>\n",
              "      <td>[3 type of crops]</td>\n",
              "      <td>1248</td>\n",
              "      <td>0.286436</td>\n",
              "      <td>1070</td>\n",
              "      <td>178</td>\n",
              "      <td>0.142628</td>\n",
              "      <td>-0.100063</td>\n",
              "      <td>0.002975</td>\n",
              "      <td>3.717673e-04</td>\n",
              "    </tr>\n",
              "    <tr>\n",
              "      <th>5</th>\n",
              "      <td>[2 type of crops]</td>\n",
              "      <td>961</td>\n",
              "      <td>0.220565</td>\n",
              "      <td>814</td>\n",
              "      <td>147</td>\n",
              "      <td>0.152966</td>\n",
              "      <td>-0.182165</td>\n",
              "      <td>0.007824</td>\n",
              "      <td>9.766242e-04</td>\n",
              "    </tr>\n",
              "    <tr>\n",
              "      <th>6</th>\n",
              "      <td>Special</td>\n",
              "      <td>0</td>\n",
              "      <td>0.000000</td>\n",
              "      <td>0</td>\n",
              "      <td>0</td>\n",
              "      <td>0.000000</td>\n",
              "      <td>0.0</td>\n",
              "      <td>0.000000</td>\n",
              "      <td>0.000000e+00</td>\n",
              "    </tr>\n",
              "    <tr>\n",
              "      <th>7</th>\n",
              "      <td>Missing</td>\n",
              "      <td>0</td>\n",
              "      <td>0.000000</td>\n",
              "      <td>0</td>\n",
              "      <td>0</td>\n",
              "      <td>0.000000</td>\n",
              "      <td>0.0</td>\n",
              "      <td>0.000000</td>\n",
              "      <td>0.000000e+00</td>\n",
              "    </tr>\n",
              "    <tr>\n",
              "      <th>Totals</th>\n",
              "      <td></td>\n",
              "      <td>4357</td>\n",
              "      <td>1.000000</td>\n",
              "      <td>3787</td>\n",
              "      <td>570</td>\n",
              "      <td>0.130824</td>\n",
              "      <td></td>\n",
              "      <td>0.037799</td>\n",
              "      <td>4.688741e-03</td>\n",
              "    </tr>\n",
              "  </tbody>\n",
              "</table>\n",
              "</div>"
            ],
            "text/plain": [
              "                                 Bin  Count  ...        IV            JS\n",
              "0                  [0 type of crops]    271  ...  0.017015  2.097250e-03\n",
              "1                   [1 type of crop]    380  ...  0.008548  1.063598e-03\n",
              "2       [More than 4 types of crops]    921  ...  0.001433  1.790166e-04\n",
              "3                  [4 type of crops]    576  ...  0.000004  4.853569e-07\n",
              "4                  [3 type of crops]   1248  ...  0.002975  3.717673e-04\n",
              "5                  [2 type of crops]    961  ...  0.007824  9.766242e-04\n",
              "6                            Special      0  ...  0.000000  0.000000e+00\n",
              "7                            Missing      0  ...  0.000000  0.000000e+00\n",
              "Totals                                 4357  ...  0.037799  4.688741e-03\n",
              "\n",
              "[9 rows x 9 columns]"
            ]
          },
          "metadata": {},
          "execution_count": 135
        }
      ]
    },
    {
      "cell_type": "code",
      "metadata": {
        "colab": {
          "base_uri": "https://localhost:8080/"
        },
        "id": "X39uPB0OWEKm",
        "outputId": "130733f7-0470-4eae-d9ea-e0902e1b73e6"
      },
      "source": [
        "binning_table.plot(metric=\"woe\")"
      ],
      "execution_count": null,
      "outputs": [
        {
          "output_type": "display_data",
          "data": {
            "image/png": "[encoded data removed]",
            "text/plain": [
              "<Figure size 432x288 with 2 Axes>"
            ]
          },
          "metadata": {
            "needs_background": "light"
          }
        }
      ]
    },
    {
      "cell_type": "markdown",
      "metadata": {
        "id": "AC3yEn0b9lGb"
      },
      "source": [
        "## **Number_of_businesses_before**"
      ]
    },
    {
      "cell_type": "code",
      "metadata": {
        "colab": {
          "base_uri": "https://localhost:8080/"
        },
        "id": "AFUOPlPa9lGd",
        "outputId": "2abaf56b-7967-45e8-e68d-3f6d862dce3a"
      },
      "source": [
        "dataset[\"number_of_businesses_before\"].value_counts()"
      ],
      "execution_count": null,
      "outputs": [
        {
          "output_type": "execute_result",
          "data": {
            "text/plain": [
              "1 business                2629\n",
              "0 businesses              2389\n",
              "2 businesses               360\n",
              "3-5 businesses              44\n",
              "More than 5 businesses      25\n",
              "Name: number_of_businesses_before, dtype: int64"
            ]
          },
          "metadata": {},
          "execution_count": 137
        }
      ]
    },
    {
      "cell_type": "code",
      "metadata": {
        "id": "WqUr3opL9lGe"
      },
      "source": [
        "variable = \"number_of_businesses_before\"\n",
        "x = df_inputs[variable].values\n",
        "y = df_targets"
      ],
      "execution_count": null,
      "outputs": []
    },
    {
      "cell_type": "code",
      "metadata": {
        "id": "w2ydpnl-9lGf"
      },
      "source": [
        "optb = OptimalBinning(name=variable, dtype=\"categorical\", solver=\"cp\")"
      ],
      "execution_count": null,
      "outputs": []
    },
    {
      "cell_type": "code",
      "metadata": {
        "colab": {
          "base_uri": "https://localhost:8080/"
        },
        "id": "DEQ9n4J99lGf",
        "outputId": "4768084c-e073-4532-9d90-f72a6de82ac3"
      },
      "source": [
        "optb.fit(x, y)"
      ],
      "execution_count": null,
      "outputs": [
        {
          "output_type": "execute_result",
          "data": {
            "text/plain": [
              "OptimalBinning(cat_cutoff=None, class_weight=None, divergence='iv',\n",
              "               dtype='categorical', gamma=0, max_bin_n_event=None,\n",
              "               max_bin_n_nonevent=None, max_bin_size=None, max_n_bins=None,\n",
              "               max_n_prebins=20, max_pvalue=None,\n",
              "               max_pvalue_policy='consecutive', min_bin_n_event=None,\n",
              "               min_bin_n_nonevent=None, min_bin_size=None,\n",
              "               min_event_rate_diff=0, min_n_bins=None, min_prebin_size=0.05,\n",
              "               mip_solver='bop', monotonic_trend='auto',\n",
              "               name='number_of_businesses_before', outlier_detector=None,\n",
              "               outlier_params=None, prebinning_method='cart', solver='cp',\n",
              "               special_codes=None, split_digits=None, time_limit=100,\n",
              "               user_splits=None, user_splits_fixed=None, ...)"
            ]
          },
          "metadata": {},
          "execution_count": 140
        }
      ]
    },
    {
      "cell_type": "code",
      "metadata": {
        "colab": {
          "base_uri": "https://localhost:8080/"
        },
        "id": "dNx39oHl9lGg",
        "outputId": "bdcd167e-b2e3-4016-d7e1-9b0b90f291ff"
      },
      "source": [
        "optb.status"
      ],
      "execution_count": null,
      "outputs": [
        {
          "output_type": "execute_result",
          "data": {
            "application/vnd.google.colaboratory.intrinsic+json": {
              "type": "string"
            },
            "text/plain": [
              "'OPTIMAL'"
            ]
          },
          "metadata": {},
          "execution_count": 141
        }
      ]
    },
    {
      "cell_type": "code",
      "metadata": {
        "colab": {
          "base_uri": "https://localhost:8080/"
        },
        "id": "LFUOVzIz9lGh",
        "outputId": "75c7ccd4-1423-48b1-948f-da1f371d7c0b"
      },
      "source": [
        "optb.splits"
      ],
      "execution_count": null,
      "outputs": [
        {
          "output_type": "execute_result",
          "data": {
            "text/plain": [
              "[array(['3-5 businesses', '2 businesses'], dtype=object),\n",
              " array(['1 business'], dtype=object),\n",
              " array(['0 businesses', 'More than 5 businesses'], dtype=object)]"
            ]
          },
          "metadata": {},
          "execution_count": 142
        }
      ]
    },
    {
      "cell_type": "code",
      "metadata": {
        "id": "9H3fY1179lGi"
      },
      "source": [
        "binning_table = optb.binning_table"
      ],
      "execution_count": null,
      "outputs": []
    },
    {
      "cell_type": "code",
      "metadata": {
        "colab": {
          "base_uri": "https://localhost:8080/"
        },
        "id": "S9XII4Ua9lGi",
        "outputId": "d406a67f-8602-4e54-eed5-6b39f7be3d97"
      },
      "source": [
        "binning_table.build()"
      ],
      "execution_count": null,
      "outputs": [
        {
          "output_type": "execute_result",
          "data": {
            "text/html": [
              "<div>\n",
              "<style scoped>\n",
              "    .dataframe tbody tr th:only-of-type {\n",
              "        vertical-align: middle;\n",
              "    }\n",
              "\n",
              "    .dataframe tbody tr th {\n",
              "        vertical-align: top;\n",
              "    }\n",
              "\n",
              "    .dataframe thead th {\n",
              "        text-align: right;\n",
              "    }\n",
              "</style>\n",
              "<table border=\"1\" class=\"dataframe\">\n",
              "  <thead>\n",
              "    <tr style=\"text-align: right;\">\n",
              "      <th></th>\n",
              "      <th>Bin</th>\n",
              "      <th>Count</th>\n",
              "      <th>Count (%)</th>\n",
              "      <th>Non-event</th>\n",
              "      <th>Event</th>\n",
              "      <th>Event rate</th>\n",
              "      <th>WoE</th>\n",
              "      <th>IV</th>\n",
              "      <th>JS</th>\n",
              "    </tr>\n",
              "  </thead>\n",
              "  <tbody>\n",
              "    <tr>\n",
              "      <th>0</th>\n",
              "      <td>[3-5 businesses, 2 businesses]</td>\n",
              "      <td>336</td>\n",
              "      <td>0.077117</td>\n",
              "      <td>299</td>\n",
              "      <td>37</td>\n",
              "      <td>0.110119</td>\n",
              "      <td>0.195833</td>\n",
              "      <td>0.002750</td>\n",
              "      <td>0.000343</td>\n",
              "    </tr>\n",
              "    <tr>\n",
              "      <th>1</th>\n",
              "      <td>[1 business]</td>\n",
              "      <td>2097</td>\n",
              "      <td>0.481294</td>\n",
              "      <td>1834</td>\n",
              "      <td>263</td>\n",
              "      <td>0.125417</td>\n",
              "      <td>0.048408</td>\n",
              "      <td>0.001108</td>\n",
              "      <td>0.000138</td>\n",
              "    </tr>\n",
              "    <tr>\n",
              "      <th>2</th>\n",
              "      <td>[0 businesses, More than 5 businesses]</td>\n",
              "      <td>1924</td>\n",
              "      <td>0.441588</td>\n",
              "      <td>1654</td>\n",
              "      <td>270</td>\n",
              "      <td>0.140333</td>\n",
              "      <td>-0.081163</td>\n",
              "      <td>0.002997</td>\n",
              "      <td>0.000375</td>\n",
              "    </tr>\n",
              "    <tr>\n",
              "      <th>3</th>\n",
              "      <td>Special</td>\n",
              "      <td>0</td>\n",
              "      <td>0.000000</td>\n",
              "      <td>0</td>\n",
              "      <td>0</td>\n",
              "      <td>0.000000</td>\n",
              "      <td>0.0</td>\n",
              "      <td>0.000000</td>\n",
              "      <td>0.000000</td>\n",
              "    </tr>\n",
              "    <tr>\n",
              "      <th>4</th>\n",
              "      <td>Missing</td>\n",
              "      <td>0</td>\n",
              "      <td>0.000000</td>\n",
              "      <td>0</td>\n",
              "      <td>0</td>\n",
              "      <td>0.000000</td>\n",
              "      <td>0.0</td>\n",
              "      <td>0.000000</td>\n",
              "      <td>0.000000</td>\n",
              "    </tr>\n",
              "    <tr>\n",
              "      <th>Totals</th>\n",
              "      <td></td>\n",
              "      <td>4357</td>\n",
              "      <td>1.000000</td>\n",
              "      <td>3787</td>\n",
              "      <td>570</td>\n",
              "      <td>0.130824</td>\n",
              "      <td></td>\n",
              "      <td>0.006855</td>\n",
              "      <td>0.000856</td>\n",
              "    </tr>\n",
              "  </tbody>\n",
              "</table>\n",
              "</div>"
            ],
            "text/plain": [
              "                                           Bin  Count  ...        IV        JS\n",
              "0               [3-5 businesses, 2 businesses]    336  ...  0.002750  0.000343\n",
              "1                                 [1 business]   2097  ...  0.001108  0.000138\n",
              "2       [0 businesses, More than 5 businesses]   1924  ...  0.002997  0.000375\n",
              "3                                      Special      0  ...  0.000000  0.000000\n",
              "4                                      Missing      0  ...  0.000000  0.000000\n",
              "Totals                                           4357  ...  0.006855  0.000856\n",
              "\n",
              "[6 rows x 9 columns]"
            ]
          },
          "metadata": {},
          "execution_count": 144
        }
      ]
    },
    {
      "cell_type": "code",
      "metadata": {
        "colab": {
          "base_uri": "https://localhost:8080/"
        },
        "id": "-6q5XFd39lGj",
        "outputId": "02dff6a1-f268-49df-9adc-995ff209a124"
      },
      "source": [
        "binning_table.plot(metric=\"woe\")"
      ],
      "execution_count": null,
      "outputs": [
        {
          "output_type": "display_data",
          "data": {
            "image/png": "[encoded data removed]",
            "text/plain": [
              "<Figure size 432x288 with 2 Axes>"
            ]
          },
          "metadata": {
            "needs_background": "light"
          }
        }
      ]
    },
    {
      "cell_type": "markdown",
      "metadata": {
        "id": "NE9NSVcLdvNW"
      },
      "source": [
        "## **Family_descision_maker**"
      ]
    },
    {
      "cell_type": "code",
      "metadata": {
        "colab": {
          "base_uri": "https://localhost:8080/"
        },
        "id": "GTWcUSnrdvNW",
        "outputId": "7c0f524d-ff5d-44b4-f163-f666e70f6979"
      },
      "source": [
        "dataset[\"family_descision_maker\"].value_counts()"
      ],
      "execution_count": null,
      "outputs": [
        {
          "output_type": "execute_result",
          "data": {
            "text/plain": [
              "Husband                      3054\n",
              "Everyone in the household    1822\n",
              "Wife                          514\n",
              "Child (son/daughter)           57\n",
              "Name: family_descision_maker, dtype: int64"
            ]
          },
          "metadata": {},
          "execution_count": 146
        }
      ]
    },
    {
      "cell_type": "code",
      "metadata": {
        "id": "2LnPBdHmdvNX"
      },
      "source": [
        "variable = \"family_descision_maker\"\n",
        "x = df_inputs[variable].values\n",
        "y = df_targets"
      ],
      "execution_count": null,
      "outputs": []
    },
    {
      "cell_type": "code",
      "metadata": {
        "id": "U06_oxRLdvNX"
      },
      "source": [
        "optb = OptimalBinning(name=variable, dtype=\"categorical\", solver=\"cp\")"
      ],
      "execution_count": null,
      "outputs": []
    },
    {
      "cell_type": "code",
      "metadata": {
        "colab": {
          "base_uri": "https://localhost:8080/"
        },
        "id": "y-hoh6EUdvNX",
        "outputId": "7bcad8eb-b88d-4452-9e73-2e6b1b95883b"
      },
      "source": [
        "optb.fit(x, y)"
      ],
      "execution_count": null,
      "outputs": [
        {
          "output_type": "execute_result",
          "data": {
            "text/plain": [
              "OptimalBinning(cat_cutoff=None, class_weight=None, divergence='iv',\n",
              "               dtype='categorical', gamma=0, max_bin_n_event=None,\n",
              "               max_bin_n_nonevent=None, max_bin_size=None, max_n_bins=None,\n",
              "               max_n_prebins=20, max_pvalue=None,\n",
              "               max_pvalue_policy='consecutive', min_bin_n_event=None,\n",
              "               min_bin_n_nonevent=None, min_bin_size=None,\n",
              "               min_event_rate_diff=0, min_n_bins=None, min_prebin_size=0.05,\n",
              "               mip_solver='bop', monotonic_trend='auto',\n",
              "               name='family_descision_maker', outlier_detector=None,\n",
              "               outlier_params=None, prebinning_method='cart', solver='cp',\n",
              "               special_codes=None, split_digits=None, time_limit=100,\n",
              "               user_splits=None, user_splits_fixed=None, ...)"
            ]
          },
          "metadata": {},
          "execution_count": 149
        }
      ]
    },
    {
      "cell_type": "code",
      "metadata": {
        "colab": {
          "base_uri": "https://localhost:8080/"
        },
        "id": "-2RsSysXdvNX",
        "outputId": "3e381414-5517-4643-f5fc-376cee9c8782"
      },
      "source": [
        "optb.status"
      ],
      "execution_count": null,
      "outputs": [
        {
          "output_type": "execute_result",
          "data": {
            "application/vnd.google.colaboratory.intrinsic+json": {
              "type": "string"
            },
            "text/plain": [
              "'OPTIMAL'"
            ]
          },
          "metadata": {},
          "execution_count": 150
        }
      ]
    },
    {
      "cell_type": "code",
      "metadata": {
        "colab": {
          "base_uri": "https://localhost:8080/"
        },
        "id": "QvNugH0wdvNX",
        "outputId": "a310cafa-91b4-411b-f3e0-d9256bde84df"
      },
      "source": [
        "optb.splits"
      ],
      "execution_count": null,
      "outputs": [
        {
          "output_type": "execute_result",
          "data": {
            "text/plain": [
              "[array(['Wife'], dtype=object),\n",
              " array(['Everyone in the household'], dtype=object),\n",
              " array(['Husband', 'Child (son/daughter)'], dtype=object)]"
            ]
          },
          "metadata": {},
          "execution_count": 151
        }
      ]
    },
    {
      "cell_type": "code",
      "metadata": {
        "id": "dsMzxgF5dvNX"
      },
      "source": [
        "binning_table = optb.binning_table"
      ],
      "execution_count": null,
      "outputs": []
    },
    {
      "cell_type": "code",
      "metadata": {
        "colab": {
          "base_uri": "https://localhost:8080/"
        },
        "id": "N50drFJwdvNX",
        "outputId": "e2b3973e-43bb-4de7-a34f-f0bf1f4b35a8"
      },
      "source": [
        "binning_table.build()"
      ],
      "execution_count": null,
      "outputs": [
        {
          "output_type": "execute_result",
          "data": {
            "text/html": [
              "<div>\n",
              "<style scoped>\n",
              "    .dataframe tbody tr th:only-of-type {\n",
              "        vertical-align: middle;\n",
              "    }\n",
              "\n",
              "    .dataframe tbody tr th {\n",
              "        vertical-align: top;\n",
              "    }\n",
              "\n",
              "    .dataframe thead th {\n",
              "        text-align: right;\n",
              "    }\n",
              "</style>\n",
              "<table border=\"1\" class=\"dataframe\">\n",
              "  <thead>\n",
              "    <tr style=\"text-align: right;\">\n",
              "      <th></th>\n",
              "      <th>Bin</th>\n",
              "      <th>Count</th>\n",
              "      <th>Count (%)</th>\n",
              "      <th>Non-event</th>\n",
              "      <th>Event</th>\n",
              "      <th>Event rate</th>\n",
              "      <th>WoE</th>\n",
              "      <th>IV</th>\n",
              "      <th>JS</th>\n",
              "    </tr>\n",
              "  </thead>\n",
              "  <tbody>\n",
              "    <tr>\n",
              "      <th>0</th>\n",
              "      <td>[Wife]</td>\n",
              "      <td>408</td>\n",
              "      <td>0.093642</td>\n",
              "      <td>370</td>\n",
              "      <td>38</td>\n",
              "      <td>0.093137</td>\n",
              "      <td>0.382224</td>\n",
              "      <td>0.011863</td>\n",
              "      <td>0.001474</td>\n",
              "    </tr>\n",
              "    <tr>\n",
              "      <th>1</th>\n",
              "      <td>[Everyone in the household]</td>\n",
              "      <td>1471</td>\n",
              "      <td>0.337618</td>\n",
              "      <td>1285</td>\n",
              "      <td>186</td>\n",
              "      <td>0.126445</td>\n",
              "      <td>0.039074</td>\n",
              "      <td>0.000508</td>\n",
              "      <td>0.000064</td>\n",
              "    </tr>\n",
              "    <tr>\n",
              "      <th>2</th>\n",
              "      <td>[Husband, Child (son/daughter)]</td>\n",
              "      <td>2478</td>\n",
              "      <td>0.568740</td>\n",
              "      <td>2132</td>\n",
              "      <td>346</td>\n",
              "      <td>0.139629</td>\n",
              "      <td>-0.075316</td>\n",
              "      <td>0.003317</td>\n",
              "      <td>0.000415</td>\n",
              "    </tr>\n",
              "    <tr>\n",
              "      <th>3</th>\n",
              "      <td>Special</td>\n",
              "      <td>0</td>\n",
              "      <td>0.000000</td>\n",
              "      <td>0</td>\n",
              "      <td>0</td>\n",
              "      <td>0.000000</td>\n",
              "      <td>0.0</td>\n",
              "      <td>0.000000</td>\n",
              "      <td>0.000000</td>\n",
              "    </tr>\n",
              "    <tr>\n",
              "      <th>4</th>\n",
              "      <td>Missing</td>\n",
              "      <td>0</td>\n",
              "      <td>0.000000</td>\n",
              "      <td>0</td>\n",
              "      <td>0</td>\n",
              "      <td>0.000000</td>\n",
              "      <td>0.0</td>\n",
              "      <td>0.000000</td>\n",
              "      <td>0.000000</td>\n",
              "    </tr>\n",
              "    <tr>\n",
              "      <th>Totals</th>\n",
              "      <td></td>\n",
              "      <td>4357</td>\n",
              "      <td>1.000000</td>\n",
              "      <td>3787</td>\n",
              "      <td>570</td>\n",
              "      <td>0.130824</td>\n",
              "      <td></td>\n",
              "      <td>0.015688</td>\n",
              "      <td>0.001952</td>\n",
              "    </tr>\n",
              "  </tbody>\n",
              "</table>\n",
              "</div>"
            ],
            "text/plain": [
              "                                    Bin  Count  ...        IV        JS\n",
              "0                                [Wife]    408  ...  0.011863  0.001474\n",
              "1           [Everyone in the household]   1471  ...  0.000508  0.000064\n",
              "2       [Husband, Child (son/daughter)]   2478  ...  0.003317  0.000415\n",
              "3                               Special      0  ...  0.000000  0.000000\n",
              "4                               Missing      0  ...  0.000000  0.000000\n",
              "Totals                                    4357  ...  0.015688  0.001952\n",
              "\n",
              "[6 rows x 9 columns]"
            ]
          },
          "metadata": {},
          "execution_count": 153
        }
      ]
    },
    {
      "cell_type": "code",
      "metadata": {
        "colab": {
          "base_uri": "https://localhost:8080/"
        },
        "id": "xRjnPqDqdvNY",
        "outputId": "f0e8a92c-7295-4a6b-8377-70d2f2c56647"
      },
      "source": [
        "binning_table.plot(metric=\"woe\")"
      ],
      "execution_count": null,
      "outputs": [
        {
          "output_type": "display_data",
          "data": {
            "image/png": "[encoded data removed]",
            "text/plain": [
              "<Figure size 432x288 with 2 Axes>"
            ]
          },
          "metadata": {
            "needs_background": "light"
          }
        }
      ]
    },
    {
      "cell_type": "markdown",
      "metadata": {
        "id": "vdVPEpUIgRrv"
      },
      "source": [
        "## **Netincome1_business**"
      ]
    },
    {
      "cell_type": "code",
      "metadata": {
        "colab": {
          "base_uri": "https://localhost:8080/"
        },
        "id": "oCEi309QgRrw",
        "outputId": "c8a9eb00-7e2d-4b5f-8819-59a745be9650"
      },
      "source": [
        "dataset[\"netincome1_business\"].value_counts()"
      ],
      "execution_count": null,
      "outputs": [
        {
          "output_type": "execute_result",
          "data": {
            "text/plain": [
              "0.00     2577\n",
              "50.00     319\n",
              "60.00     164\n",
              "66.67     160\n",
              "40.00     130\n",
              "         ... \n",
              "64.81       1\n",
              "64.91       1\n",
              "57.08       1\n",
              "95.38       1\n",
              "75.33       1\n",
              "Name: netincome1_business, Length: 784, dtype: int64"
            ]
          },
          "metadata": {},
          "execution_count": 155
        }
      ]
    },
    {
      "cell_type": "code",
      "metadata": {
        "id": "ZCS2C-HggRrw"
      },
      "source": [
        "variable = \"netincome1_business\"\n",
        "x = df_inputs[variable].values\n",
        "y = df_targets"
      ],
      "execution_count": null,
      "outputs": []
    },
    {
      "cell_type": "code",
      "metadata": {
        "id": "rcg4hxEjgRrw"
      },
      "source": [
        "optb = OptimalBinning(name=variable, dtype=\"numerical\", solver=\"cp\")"
      ],
      "execution_count": null,
      "outputs": []
    },
    {
      "cell_type": "code",
      "metadata": {
        "colab": {
          "base_uri": "https://localhost:8080/"
        },
        "id": "jJPskNQCgRrw",
        "outputId": "831846a8-fd21-4c94-f08d-6e2991702f2a"
      },
      "source": [
        "optb.fit(x, y)"
      ],
      "execution_count": null,
      "outputs": [
        {
          "output_type": "execute_result",
          "data": {
            "text/plain": [
              "OptimalBinning(cat_cutoff=None, class_weight=None, divergence='iv',\n",
              "               dtype='numerical', gamma=0, max_bin_n_event=None,\n",
              "               max_bin_n_nonevent=None, max_bin_size=None, max_n_bins=None,\n",
              "               max_n_prebins=20, max_pvalue=None,\n",
              "               max_pvalue_policy='consecutive', min_bin_n_event=None,\n",
              "               min_bin_n_nonevent=None, min_bin_size=None,\n",
              "               min_event_rate_diff=0, min_n_bins=None, min_prebin_size=0.05,\n",
              "               mip_solver='bop', monotonic_trend='auto',\n",
              "               name='netincome1_business', outlier_detector=None,\n",
              "               outlier_params=None, prebinning_method='cart', solver='cp',\n",
              "               special_codes=None, split_digits=None, time_limit=100,\n",
              "               user_splits=None, user_splits_fixed=None, ...)"
            ]
          },
          "metadata": {},
          "execution_count": 158
        }
      ]
    },
    {
      "cell_type": "code",
      "metadata": {
        "colab": {
          "base_uri": "https://localhost:8080/"
        },
        "id": "cmYsHoFwgRrw",
        "outputId": "31077bc9-9e31-4420-9ab2-d1c2641fec0b"
      },
      "source": [
        "optb.status"
      ],
      "execution_count": null,
      "outputs": [
        {
          "output_type": "execute_result",
          "data": {
            "application/vnd.google.colaboratory.intrinsic+json": {
              "type": "string"
            },
            "text/plain": [
              "'OPTIMAL'"
            ]
          },
          "metadata": {},
          "execution_count": 159
        }
      ]
    },
    {
      "cell_type": "code",
      "metadata": {
        "colab": {
          "base_uri": "https://localhost:8080/"
        },
        "id": "2BDWgPd4gRrw",
        "outputId": "83033644-ff82-44cf-8532-4af947ecb0a6"
      },
      "source": [
        "optb.splits"
      ],
      "execution_count": null,
      "outputs": [
        {
          "output_type": "execute_result",
          "data": {
            "text/plain": [
              "array([15.83500004, 40.84500122, 75.04000092])"
            ]
          },
          "metadata": {},
          "execution_count": 160
        }
      ]
    },
    {
      "cell_type": "code",
      "metadata": {
        "id": "0dScbFqBgRrx"
      },
      "source": [
        "binning_table = optb.binning_table"
      ],
      "execution_count": null,
      "outputs": []
    },
    {
      "cell_type": "code",
      "metadata": {
        "colab": {
          "base_uri": "https://localhost:8080/"
        },
        "id": "rB8VoZTbgRrx",
        "outputId": "f7b7501b-dfb1-4e7a-d33a-a7fcfa0a0fe3"
      },
      "source": [
        "binning_table.build()"
      ],
      "execution_count": null,
      "outputs": [
        {
          "output_type": "execute_result",
          "data": {
            "text/html": [
              "<div>\n",
              "<style scoped>\n",
              "    .dataframe tbody tr th:only-of-type {\n",
              "        vertical-align: middle;\n",
              "    }\n",
              "\n",
              "    .dataframe tbody tr th {\n",
              "        vertical-align: top;\n",
              "    }\n",
              "\n",
              "    .dataframe thead th {\n",
              "        text-align: right;\n",
              "    }\n",
              "</style>\n",
              "<table border=\"1\" class=\"dataframe\">\n",
              "  <thead>\n",
              "    <tr style=\"text-align: right;\">\n",
              "      <th></th>\n",
              "      <th>Bin</th>\n",
              "      <th>Count</th>\n",
              "      <th>Count (%)</th>\n",
              "      <th>Non-event</th>\n",
              "      <th>Event</th>\n",
              "      <th>Event rate</th>\n",
              "      <th>WoE</th>\n",
              "      <th>IV</th>\n",
              "      <th>JS</th>\n",
              "    </tr>\n",
              "  </thead>\n",
              "  <tbody>\n",
              "    <tr>\n",
              "      <th>0</th>\n",
              "      <td>(-inf, 15.84)</td>\n",
              "      <td>2359</td>\n",
              "      <td>0.541428</td>\n",
              "      <td>2028</td>\n",
              "      <td>331</td>\n",
              "      <td>0.140314</td>\n",
              "      <td>-0.081006</td>\n",
              "      <td>0.003660</td>\n",
              "      <td>4.574126e-04</td>\n",
              "    </tr>\n",
              "    <tr>\n",
              "      <th>1</th>\n",
              "      <td>[15.84, 40.85)</td>\n",
              "      <td>478</td>\n",
              "      <td>0.109709</td>\n",
              "      <td>434</td>\n",
              "      <td>44</td>\n",
              "      <td>0.092050</td>\n",
              "      <td>0.395162</td>\n",
              "      <td>0.014783</td>\n",
              "      <td>1.835926e-03</td>\n",
              "    </tr>\n",
              "    <tr>\n",
              "      <th>2</th>\n",
              "      <td>[40.85, 75.04)</td>\n",
              "      <td>1194</td>\n",
              "      <td>0.274042</td>\n",
              "      <td>1042</td>\n",
              "      <td>152</td>\n",
              "      <td>0.127303</td>\n",
              "      <td>0.031324</td>\n",
              "      <td>0.000266</td>\n",
              "      <td>3.322193e-05</td>\n",
              "    </tr>\n",
              "    <tr>\n",
              "      <th>3</th>\n",
              "      <td>[75.04, inf)</td>\n",
              "      <td>326</td>\n",
              "      <td>0.074822</td>\n",
              "      <td>283</td>\n",
              "      <td>43</td>\n",
              "      <td>0.131902</td>\n",
              "      <td>-0.009446</td>\n",
              "      <td>0.000007</td>\n",
              "      <td>8.374801e-07</td>\n",
              "    </tr>\n",
              "    <tr>\n",
              "      <th>4</th>\n",
              "      <td>Special</td>\n",
              "      <td>0</td>\n",
              "      <td>0.000000</td>\n",
              "      <td>0</td>\n",
              "      <td>0</td>\n",
              "      <td>0.000000</td>\n",
              "      <td>0.0</td>\n",
              "      <td>0.000000</td>\n",
              "      <td>0.000000e+00</td>\n",
              "    </tr>\n",
              "    <tr>\n",
              "      <th>5</th>\n",
              "      <td>Missing</td>\n",
              "      <td>0</td>\n",
              "      <td>0.000000</td>\n",
              "      <td>0</td>\n",
              "      <td>0</td>\n",
              "      <td>0.000000</td>\n",
              "      <td>0.0</td>\n",
              "      <td>0.000000</td>\n",
              "      <td>0.000000e+00</td>\n",
              "    </tr>\n",
              "    <tr>\n",
              "      <th>Totals</th>\n",
              "      <td></td>\n",
              "      <td>4357</td>\n",
              "      <td>1.000000</td>\n",
              "      <td>3787</td>\n",
              "      <td>570</td>\n",
              "      <td>0.130824</td>\n",
              "      <td></td>\n",
              "      <td>0.018716</td>\n",
              "      <td>2.327398e-03</td>\n",
              "    </tr>\n",
              "  </tbody>\n",
              "</table>\n",
              "</div>"
            ],
            "text/plain": [
              "                   Bin  Count  Count (%)  ...       WoE        IV            JS\n",
              "0        (-inf, 15.84)   2359   0.541428  ... -0.081006  0.003660  4.574126e-04\n",
              "1       [15.84, 40.85)    478   0.109709  ...  0.395162  0.014783  1.835926e-03\n",
              "2       [40.85, 75.04)   1194   0.274042  ...  0.031324  0.000266  3.322193e-05\n",
              "3         [75.04, inf)    326   0.074822  ... -0.009446  0.000007  8.374801e-07\n",
              "4              Special      0   0.000000  ...       0.0  0.000000  0.000000e+00\n",
              "5              Missing      0   0.000000  ...       0.0  0.000000  0.000000e+00\n",
              "Totals                   4357   1.000000  ...            0.018716  2.327398e-03\n",
              "\n",
              "[7 rows x 9 columns]"
            ]
          },
          "metadata": {},
          "execution_count": 162
        }
      ]
    },
    {
      "cell_type": "code",
      "metadata": {
        "colab": {
          "base_uri": "https://localhost:8080/"
        },
        "id": "8gX7gINsgRrx",
        "outputId": "4eef9ddc-131b-4dc7-b1f1-fa31d2485d67"
      },
      "source": [
        "binning_table.plot(metric=\"woe\")"
      ],
      "execution_count": null,
      "outputs": [
        {
          "output_type": "display_data",
          "data": {
            "image/png": "[encoded data removed]",
            "text/plain": [
              "<Figure size 432x288 with 2 Axes>"
            ]
          },
          "metadata": {
            "needs_background": "light"
          }
        }
      ]
    },
    {
      "cell_type": "markdown",
      "metadata": {
        "id": "y4lAXudFjM6_"
      },
      "source": [
        "## **Netincome2_business**"
      ]
    },
    {
      "cell_type": "code",
      "metadata": {
        "colab": {
          "base_uri": "https://localhost:8080/"
        },
        "id": "XTzhaaSBjM7A",
        "outputId": "41aecc2e-6191-4113-c104-6ac2cd37e22e"
      },
      "source": [
        "dataset[\"netincome2_business\"].value_counts()"
      ],
      "execution_count": null,
      "outputs": [
        {
          "output_type": "execute_result",
          "data": {
            "text/plain": [
              " 0.00      2226\n",
              " 50.00      311\n",
              " 60.00      170\n",
              " 66.67      166\n",
              " 40.00      134\n",
              "           ... \n",
              "-48.44        1\n",
              "-760.00       1\n",
              " 26.09        1\n",
              "-298.89       1\n",
              " 86.96        1\n",
              "Name: netincome2_business, Length: 970, dtype: int64"
            ]
          },
          "metadata": {},
          "execution_count": 164
        }
      ]
    },
    {
      "cell_type": "code",
      "metadata": {
        "id": "VfsJeKwRjM7B"
      },
      "source": [
        "variable = \"netincome2_business\"\n",
        "x = df_inputs[variable].values\n",
        "y = df_targets"
      ],
      "execution_count": null,
      "outputs": []
    },
    {
      "cell_type": "code",
      "metadata": {
        "id": "hkormpmXjM7B"
      },
      "source": [
        "optb = OptimalBinning(name=variable, dtype=\"numerical\", solver=\"cp\")"
      ],
      "execution_count": null,
      "outputs": []
    },
    {
      "cell_type": "code",
      "metadata": {
        "colab": {
          "base_uri": "https://localhost:8080/"
        },
        "id": "6i1qHd89jM7B",
        "outputId": "a79be0d4-fb58-4a86-c22e-419922d0df4f"
      },
      "source": [
        "optb.fit(x, y)"
      ],
      "execution_count": null,
      "outputs": [
        {
          "output_type": "execute_result",
          "data": {
            "text/plain": [
              "OptimalBinning(cat_cutoff=None, class_weight=None, divergence='iv',\n",
              "               dtype='numerical', gamma=0, max_bin_n_event=None,\n",
              "               max_bin_n_nonevent=None, max_bin_size=None, max_n_bins=None,\n",
              "               max_n_prebins=20, max_pvalue=None,\n",
              "               max_pvalue_policy='consecutive', min_bin_n_event=None,\n",
              "               min_bin_n_nonevent=None, min_bin_size=None,\n",
              "               min_event_rate_diff=0, min_n_bins=None, min_prebin_size=0.05,\n",
              "               mip_solver='bop', monotonic_trend='auto',\n",
              "               name='netincome2_business', outlier_detector=None,\n",
              "               outlier_params=None, prebinning_method='cart', solver='cp',\n",
              "               special_codes=None, split_digits=None, time_limit=100,\n",
              "               user_splits=None, user_splits_fixed=None, ...)"
            ]
          },
          "metadata": {},
          "execution_count": 167
        }
      ]
    },
    {
      "cell_type": "code",
      "metadata": {
        "colab": {
          "base_uri": "https://localhost:8080/"
        },
        "id": "ifqMJYnejM7B",
        "outputId": "88629816-dffb-434c-fe37-aae70c542026"
      },
      "source": [
        "optb.status"
      ],
      "execution_count": null,
      "outputs": [
        {
          "output_type": "execute_result",
          "data": {
            "application/vnd.google.colaboratory.intrinsic+json": {
              "type": "string"
            },
            "text/plain": [
              "'OPTIMAL'"
            ]
          },
          "metadata": {},
          "execution_count": 168
        }
      ]
    },
    {
      "cell_type": "code",
      "metadata": {
        "colab": {
          "base_uri": "https://localhost:8080/"
        },
        "id": "kcz7uLFhjM7C",
        "outputId": "e3b8c874-f366-4f0f-cd7a-4807d31dac0d"
      },
      "source": [
        "optb.splits"
      ],
      "execution_count": null,
      "outputs": [
        {
          "output_type": "execute_result",
          "data": {
            "text/plain": [
              "array([23.90499973, 40.17499924, 81.60499954])"
            ]
          },
          "metadata": {},
          "execution_count": 169
        }
      ]
    },
    {
      "cell_type": "code",
      "metadata": {
        "id": "GXHQQw-DjM7C"
      },
      "source": [
        "binning_table = optb.binning_table"
      ],
      "execution_count": null,
      "outputs": []
    },
    {
      "cell_type": "code",
      "metadata": {
        "colab": {
          "base_uri": "https://localhost:8080/"
        },
        "id": "WNmehzkSjM7C",
        "outputId": "5f48cb84-5bb2-40e4-afd8-36b21805e95e"
      },
      "source": [
        "binning_table.build()"
      ],
      "execution_count": null,
      "outputs": [
        {
          "output_type": "execute_result",
          "data": {
            "text/html": [
              "<div>\n",
              "<style scoped>\n",
              "    .dataframe tbody tr th:only-of-type {\n",
              "        vertical-align: middle;\n",
              "    }\n",
              "\n",
              "    .dataframe tbody tr th {\n",
              "        vertical-align: top;\n",
              "    }\n",
              "\n",
              "    .dataframe thead th {\n",
              "        text-align: right;\n",
              "    }\n",
              "</style>\n",
              "<table border=\"1\" class=\"dataframe\">\n",
              "  <thead>\n",
              "    <tr style=\"text-align: right;\">\n",
              "      <th></th>\n",
              "      <th>Bin</th>\n",
              "      <th>Count</th>\n",
              "      <th>Count (%)</th>\n",
              "      <th>Non-event</th>\n",
              "      <th>Event</th>\n",
              "      <th>Event rate</th>\n",
              "      <th>WoE</th>\n",
              "      <th>IV</th>\n",
              "      <th>JS</th>\n",
              "    </tr>\n",
              "  </thead>\n",
              "  <tbody>\n",
              "    <tr>\n",
              "      <th>0</th>\n",
              "      <td>(-inf, 23.90)</td>\n",
              "      <td>2207</td>\n",
              "      <td>0.506541</td>\n",
              "      <td>1908</td>\n",
              "      <td>299</td>\n",
              "      <td>0.135478</td>\n",
              "      <td>-0.040326</td>\n",
              "      <td>0.000836</td>\n",
              "      <td>0.000104</td>\n",
              "    </tr>\n",
              "    <tr>\n",
              "      <th>1</th>\n",
              "      <td>[23.90, 40.17)</td>\n",
              "      <td>402</td>\n",
              "      <td>0.092265</td>\n",
              "      <td>363</td>\n",
              "      <td>39</td>\n",
              "      <td>0.097015</td>\n",
              "      <td>0.337148</td>\n",
              "      <td>0.009249</td>\n",
              "      <td>0.001151</td>\n",
              "    </tr>\n",
              "    <tr>\n",
              "      <th>2</th>\n",
              "      <td>[40.17, 81.60)</td>\n",
              "      <td>1482</td>\n",
              "      <td>0.340142</td>\n",
              "      <td>1292</td>\n",
              "      <td>190</td>\n",
              "      <td>0.128205</td>\n",
              "      <td>0.02323</td>\n",
              "      <td>0.000182</td>\n",
              "      <td>0.000023</td>\n",
              "    </tr>\n",
              "    <tr>\n",
              "      <th>3</th>\n",
              "      <td>[81.60, inf)</td>\n",
              "      <td>266</td>\n",
              "      <td>0.061051</td>\n",
              "      <td>224</td>\n",
              "      <td>42</td>\n",
              "      <td>0.157895</td>\n",
              "      <td>-0.219717</td>\n",
              "      <td>0.003193</td>\n",
              "      <td>0.000398</td>\n",
              "    </tr>\n",
              "    <tr>\n",
              "      <th>4</th>\n",
              "      <td>Special</td>\n",
              "      <td>0</td>\n",
              "      <td>0.000000</td>\n",
              "      <td>0</td>\n",
              "      <td>0</td>\n",
              "      <td>0.000000</td>\n",
              "      <td>0.0</td>\n",
              "      <td>0.000000</td>\n",
              "      <td>0.000000</td>\n",
              "    </tr>\n",
              "    <tr>\n",
              "      <th>5</th>\n",
              "      <td>Missing</td>\n",
              "      <td>0</td>\n",
              "      <td>0.000000</td>\n",
              "      <td>0</td>\n",
              "      <td>0</td>\n",
              "      <td>0.000000</td>\n",
              "      <td>0.0</td>\n",
              "      <td>0.000000</td>\n",
              "      <td>0.000000</td>\n",
              "    </tr>\n",
              "    <tr>\n",
              "      <th>Totals</th>\n",
              "      <td></td>\n",
              "      <td>4357</td>\n",
              "      <td>1.000000</td>\n",
              "      <td>3787</td>\n",
              "      <td>570</td>\n",
              "      <td>0.130824</td>\n",
              "      <td></td>\n",
              "      <td>0.013461</td>\n",
              "      <td>0.001676</td>\n",
              "    </tr>\n",
              "  </tbody>\n",
              "</table>\n",
              "</div>"
            ],
            "text/plain": [
              "                   Bin  Count  Count (%)  ...       WoE        IV        JS\n",
              "0        (-inf, 23.90)   2207   0.506541  ... -0.040326  0.000836  0.000104\n",
              "1       [23.90, 40.17)    402   0.092265  ...  0.337148  0.009249  0.001151\n",
              "2       [40.17, 81.60)   1482   0.340142  ...   0.02323  0.000182  0.000023\n",
              "3         [81.60, inf)    266   0.061051  ... -0.219717  0.003193  0.000398\n",
              "4              Special      0   0.000000  ...       0.0  0.000000  0.000000\n",
              "5              Missing      0   0.000000  ...       0.0  0.000000  0.000000\n",
              "Totals                   4357   1.000000  ...            0.013461  0.001676\n",
              "\n",
              "[7 rows x 9 columns]"
            ]
          },
          "metadata": {},
          "execution_count": 171
        }
      ]
    },
    {
      "cell_type": "code",
      "metadata": {
        "colab": {
          "base_uri": "https://localhost:8080/"
        },
        "id": "eKvvE0bBjM7C",
        "outputId": "d754df3e-bc1b-4811-f761-e4faa9334e71"
      },
      "source": [
        "binning_table.plot(metric=\"woe\")"
      ],
      "execution_count": null,
      "outputs": [
        {
          "output_type": "display_data",
          "data": {
            "image/png": "[encoded data removed]",
            "text/plain": [
              "<Figure size 432x288 with 2 Axes>"
            ]
          },
          "metadata": {
            "needs_background": "light"
          }
        }
      ]
    },
    {
      "cell_type": "markdown",
      "metadata": {
        "id": "L2sKx_cJS6hq"
      },
      "source": [
        "# **Dummies**"
      ]
    },
    {
      "cell_type": "markdown",
      "metadata": {
        "id": "skmZdW5zTBBG"
      },
      "source": [
        "Columns: crops_grown, tank capacity, duration with same employer, remaining_payment_months"
      ]
    },
    {
      "cell_type": "markdown",
      "metadata": {
        "id": "RnejijgQTY08"
      },
      "source": [
        "## **Crops_grown**"
      ]
    },
    {
      "cell_type": "code",
      "metadata": {
        "colab": {
          "base_uri": "https://localhost:8080/"
        },
        "id": "JzwmqGm0TWQ0",
        "outputId": "0f56bb28-c104-4955-ca0a-8fbeae5e167b"
      },
      "source": [
        "df_inputs['crops_grown'].unique()"
      ],
      "execution_count": null,
      "outputs": [
        {
          "output_type": "execute_result",
          "data": {
            "text/plain": [
              "array(['3 type of crops', '1 type of crop', 'More than 4 types of crops',\n",
              "       '4 type of crops', '2 type of crops', '0 type of crops'],\n",
              "      dtype=object)"
            ]
          },
          "metadata": {},
          "execution_count": 173
        }
      ]
    },
    {
      "cell_type": "code",
      "metadata": {
        "colab": {
          "base_uri": "https://localhost:8080/"
        },
        "id": "Mr2nM-NET4Cp",
        "outputId": "95a02eb5-ebb2-42bf-ec8b-b16c8ad34256"
      },
      "source": [
        "crops_dummies = pd.get_dummies(df_inputs['crops_grown'], prefix='crops_grown', prefix_sep=':')\n",
        "crops_dummies.columns"
      ],
      "execution_count": null,
      "outputs": [
        {
          "output_type": "execute_result",
          "data": {
            "text/plain": [
              "Index(['crops_grown:0 type of crops', 'crops_grown:1 type of crop',\n",
              "       'crops_grown:2 type of crops', 'crops_grown:3 type of crops',\n",
              "       'crops_grown:4 type of crops',\n",
              "       'crops_grown:More than 4 types of crops'],\n",
              "      dtype='object')"
            ]
          },
          "metadata": {},
          "execution_count": 174
        }
      ]
    },
    {
      "cell_type": "code",
      "metadata": {
        "id": "2yfR8GfYZ1TC"
      },
      "source": [
        "# concatenate\n",
        "\n",
        "df_inputs = pd.concat([df_inputs, crops_dummies], axis=1)"
      ],
      "execution_count": null,
      "outputs": []
    },
    {
      "cell_type": "markdown",
      "metadata": {
        "id": "pFl0zfgbYD-n"
      },
      "source": [
        "## **Duration with same employer**"
      ]
    },
    {
      "cell_type": "code",
      "metadata": {
        "colab": {
          "base_uri": "https://localhost:8080/"
        },
        "id": "JRrShYvUUqCH",
        "outputId": "355dd78a-5248-40b3-bea6-26d2adb4af6a"
      },
      "source": [
        "duration_with_same_employer_dummies = pd.get_dummies(df_inputs['duration_with_same_employer'], prefix='duration_with_same_employer', prefix_sep=':')\n",
        "duration_with_same_employer_dummies.columns\n"
      ],
      "execution_count": null,
      "outputs": [
        {
          "output_type": "execute_result",
          "data": {
            "text/plain": [
              "Index(['duration_with_same_employer:0-1 year',\n",
              "       'duration_with_same_employer:1-2 years',\n",
              "       'duration_with_same_employer:2-5 years',\n",
              "       'duration_with_same_employer:More than 5 years'],\n",
              "      dtype='object')"
            ]
          },
          "metadata": {},
          "execution_count": 176
        }
      ]
    },
    {
      "cell_type": "code",
      "metadata": {
        "id": "3Q8m3zySZ7KH"
      },
      "source": [
        "# concatenate\n",
        "df_inputs = pd.concat([df_inputs, duration_with_same_employer_dummies], axis=1)"
      ],
      "execution_count": null,
      "outputs": []
    },
    {
      "cell_type": "code",
      "metadata": {
        "id": "jgASaqNgZLjx"
      },
      "source": [
        "# coarse classing\n",
        "df_inputs['duration_with_same_employer:1-5 years'] = sum([df_inputs['duration_with_same_employer:1-2 years'],\n",
        "                                                df_inputs['duration_with_same_employer:2-5 years']])"
      ],
      "execution_count": null,
      "outputs": []
    },
    {
      "cell_type": "markdown",
      "metadata": {
        "id": "6fy0ORpxUZRx"
      },
      "source": [
        "## **Tank_capacity**"
      ]
    },
    {
      "cell_type": "code",
      "metadata": {
        "id": "-9aZb2F7aPp2"
      },
      "source": [
        "df_inputs['tank_capacity:<= 1100'] =np.where((df_inputs['tank_capacity'] <= 1100),1,0)\n",
        "\n",
        "df_inputs['tank_capacity:1100-2450'] = np.where(((df_inputs['tank_capacity'] > 1100) &\n",
        "                                                               (df_inputs['tank_capacity'] <= 2450)),1,0)\n",
        "\n",
        "df_inputs['tank_capacity:2450-3400'] = np.where(((df_inputs['tank_capacity'] > 2450) &\n",
        "                                                               (df_inputs['tank_capacity'] <= 3400)),1,0)\n",
        "\n",
        "df_inputs['tank_capacity:3400-5400'] = np.where(((df_inputs['tank_capacity'] > 3400) &\n",
        "                                                              (df_inputs['tank_capacity'] <= 5400)),1,0)\n",
        "\n",
        "df_inputs['tank_capacity:>5400'] = np.where((df_inputs['tank_capacity'] > 5400),1,0)"
      ],
      "execution_count": null,
      "outputs": []
    },
    {
      "cell_type": "markdown",
      "metadata": {
        "id": "SoweYsbAYNfv"
      },
      "source": [
        "## **Remaining_payment_months**"
      ]
    },
    {
      "cell_type": "code",
      "metadata": {
        "id": "eCPqdojqaRBE"
      },
      "source": [
        "df_inputs['remaining_payment_months:<=1.5'] = np.where((df_inputs['remaining_payment_months'] <= 1.5),1,0)\n",
        "\n",
        "df_inputs['remaining_payment_months:1.5-7.5'] = np.where(((df_inputs['remaining_payment_months'] > 1.5) &\n",
        "                                                              (df_inputs['remaining_payment_months'] <= 7.5)),1,0)\n",
        "\n",
        "df_inputs['remaining_payment_months:7.5-17.50'] = np.where(((df_inputs['remaining_payment_months'] > 7.5) &\n",
        "                                                               (df_inputs['remaining_payment_months'] <= 17.50)),1,0)\n",
        "\n",
        "df_inputs['remaining_payment_months:>17.50'] = np.where((df_inputs['remaining_payment_months'] > 17.50),1,0)"
      ],
      "execution_count": null,
      "outputs": []
    },
    {
      "cell_type": "markdown",
      "metadata": {
        "id": "hvzmlMOD65lz"
      },
      "source": [
        "## **Income_sum**"
      ]
    },
    {
      "cell_type": "code",
      "metadata": {
        "id": "h8_demzn65l0"
      },
      "source": [
        "df_inputs['income_sum:<=1270'] = np.where((df_inputs['income_sum'] <= 1270),1,0)\n",
        "\n",
        "df_inputs['income_sum:1270-14200'] = np.where(((df_inputs['income_sum'] > 1270) &\n",
        "                                                              (df_inputs['income_sum'] <= 14200)),1,0)\n",
        "\n",
        "df_inputs['income_sum:>14200'] = np.where((df_inputs['income_sum'] > 14200),1,0)"
      ],
      "execution_count": null,
      "outputs": []
    },
    {
      "cell_type": "markdown",
      "metadata": {
        "id": "qDhx7SBvZQb_"
      },
      "source": [
        "## **Number_of_businesses_before**"
      ]
    },
    {
      "cell_type": "code",
      "metadata": {
        "colab": {
          "base_uri": "https://localhost:8080/"
        },
        "id": "vYO2exUKZQb_",
        "outputId": "c33e246d-0e8c-4730-cdb2-98c0a292aab7"
      },
      "source": [
        "number_of_businesses_before_dummies = pd.get_dummies(df_inputs['number_of_businesses_before'], prefix='number_of_businesses_before', prefix_sep=':')\n",
        "number_of_businesses_before_dummies.columns\n"
      ],
      "execution_count": null,
      "outputs": [
        {
          "output_type": "execute_result",
          "data": {
            "text/plain": [
              "Index(['number_of_businesses_before:0 businesses',\n",
              "       'number_of_businesses_before:1 business',\n",
              "       'number_of_businesses_before:2 businesses',\n",
              "       'number_of_businesses_before:3-5 businesses',\n",
              "       'number_of_businesses_before:More than 5 businesses'],\n",
              "      dtype='object')"
            ]
          },
          "metadata": {},
          "execution_count": 182
        }
      ]
    },
    {
      "cell_type": "code",
      "metadata": {
        "id": "NhUwQvFmZQcA"
      },
      "source": [
        "# concatenate\n",
        "df_inputs = pd.concat([df_inputs, number_of_businesses_before_dummies], axis=1)"
      ],
      "execution_count": null,
      "outputs": []
    },
    {
      "cell_type": "code",
      "metadata": {
        "id": "44Vd5bJZZQcA"
      },
      "source": [
        "# coarse classing\n",
        "df_inputs['number_of_businesses_before:2-5 businesses'] = sum([df_inputs['number_of_businesses_before:2 businesses'],\n",
        "                                                df_inputs['number_of_businesses_before:3-5 businesses']])\n",
        "\n",
        "df_inputs['number_of_businesses_before:0 & More than 5 businesses'] = sum([df_inputs['number_of_businesses_before:0 businesses'],\n",
        "                                                df_inputs['number_of_businesses_before:More than 5 businesses']])"
      ],
      "execution_count": null,
      "outputs": []
    },
    {
      "cell_type": "markdown",
      "metadata": {
        "id": "icUOFdeReB3P"
      },
      "source": [
        "## **Family_descision_maker**"
      ]
    },
    {
      "cell_type": "code",
      "metadata": {
        "colab": {
          "base_uri": "https://localhost:8080/"
        },
        "id": "VNNGPp0meB3Q",
        "outputId": "3abcc609-38eb-4d7b-ca7f-65124002651d"
      },
      "source": [
        "df_inputs['family_descision_maker'].unique()"
      ],
      "execution_count": null,
      "outputs": [
        {
          "output_type": "execute_result",
          "data": {
            "text/plain": [
              "array(['Everyone in the household', 'Husband', 'Wife',\n",
              "       'Child (son/daughter)'], dtype=object)"
            ]
          },
          "metadata": {},
          "execution_count": 185
        }
      ]
    },
    {
      "cell_type": "code",
      "metadata": {
        "colab": {
          "base_uri": "https://localhost:8080/"
        },
        "id": "o77f4BjQeB3Q",
        "outputId": "60906b3e-6a67-4b33-b8b2-492907388009"
      },
      "source": [
        "family_descision_maker_dummies = pd.get_dummies(df_inputs['family_descision_maker'], prefix='family_descision_maker', prefix_sep=':')\n",
        "family_descision_maker_dummies.columns"
      ],
      "execution_count": null,
      "outputs": [
        {
          "output_type": "execute_result",
          "data": {
            "text/plain": [
              "Index(['family_descision_maker:Child (son/daughter)',\n",
              "       'family_descision_maker:Everyone in the household',\n",
              "       'family_descision_maker:Husband', 'family_descision_maker:Wife'],\n",
              "      dtype='object')"
            ]
          },
          "metadata": {},
          "execution_count": 186
        }
      ]
    },
    {
      "cell_type": "code",
      "metadata": {
        "id": "Q4SH18OJeB3S"
      },
      "source": [
        "# concatenate\n",
        "\n",
        "df_inputs = pd.concat([df_inputs, family_descision_maker_dummies], axis=1)"
      ],
      "execution_count": null,
      "outputs": []
    },
    {
      "cell_type": "code",
      "metadata": {
        "id": "2f4WqrLIeZL7"
      },
      "source": [
        "# coarse classing\n",
        "df_inputs['family_descision_maker:Husband_Child(son/daughter)'] = sum([df_inputs['family_descision_maker:Husband'],\n",
        "                                                df_inputs['family_descision_maker:Child (son/daughter)']])"
      ],
      "execution_count": null,
      "outputs": []
    },
    {
      "cell_type": "markdown",
      "metadata": {
        "id": "8xn0YlPChGHA"
      },
      "source": [
        "## **Netincome1_business**"
      ]
    },
    {
      "cell_type": "code",
      "metadata": {
        "id": "SyRzCyEfhT18"
      },
      "source": [
        "df_inputs['netincome1_business:<= 15.84'] =np.where((df_inputs['netincome1_business'] <15.84),1,0)\n",
        "\n",
        "df_inputs['netincome1_business:15.84-40.85'] = np.where(((df_inputs['netincome1_business'] > 15.84) &\n",
        "                                                               (df_inputs['netincome1_business'] <= 40.85)),1,0)\n",
        "\n",
        "df_inputs['netincome1_business:40.85-75.04'] = np.where(((df_inputs['netincome1_business'] > 40.85) &\n",
        "                                                               (df_inputs['netincome1_business'] <= 75.04)),1,0)\n",
        "\n",
        "df_inputs['netincome1_business:>75.04'] = np.where((df_inputs['netincome1_business'] > 75.04),1,0)"
      ],
      "execution_count": null,
      "outputs": []
    },
    {
      "cell_type": "markdown",
      "metadata": {
        "id": "m97f01OwjqQB"
      },
      "source": [
        "## **Netincome2_business**"
      ]
    },
    {
      "cell_type": "code",
      "metadata": {
        "id": "Ti7mTlKmjqQB"
      },
      "source": [
        "df_inputs['netincome2_business:<= 23.90'] =np.where((df_inputs['netincome2_business'] <23.90),1,0)\n",
        "\n",
        "df_inputs['netincome2_business:23.90-40.17'] = np.where(((df_inputs['netincome2_business'] > 23.90) &\n",
        "                                                               (df_inputs['netincome2_business'] <= 40.17)),1,0)\n",
        "\n",
        "df_inputs['netincome2_business:40.17-81.60'] = np.where(((df_inputs['netincome2_business'] > 40.17) &\n",
        "                                                               (df_inputs['netincome2_business'] <= 81.60)),1,0)\n",
        "\n",
        "df_inputs['netincome2_business:>81.60'] = np.where((df_inputs['netincome2_business'] > 81.60),1,0)"
      ],
      "execution_count": null,
      "outputs": []
    },
    {
      "cell_type": "code",
      "metadata": {
        "id": "jz5HCUsoTgxW"
      },
      "source": [],
      "execution_count": null,
      "outputs": []
    },
    {
      "cell_type": "markdown",
      "metadata": {
        "id": "xusnYAYtThIu"
      },
      "source": [
        "## **House_hold_number**"
      ]
    },
    {
      "cell_type": "code",
      "metadata": {
        "colab": {
          "base_uri": "https://localhost:8080/"
        },
        "id": "AW97lU4OThIu",
        "outputId": "730439ca-6276-471b-8e89-16c2d8f5e8ef"
      },
      "source": [
        "df_inputs['house_hold_number'].unique()"
      ],
      "execution_count": null,
      "outputs": [
        {
          "output_type": "execute_result",
          "data": {
            "text/plain": [
              "array(['04-Jul', 'More than 7', '02-Mar', '1'], dtype=object)"
            ]
          },
          "metadata": {},
          "execution_count": 191
        }
      ]
    },
    {
      "cell_type": "code",
      "metadata": {
        "colab": {
          "base_uri": "https://localhost:8080/"
        },
        "id": "odUfpo3aThIu",
        "outputId": "87d6738c-843a-4835-f2ae-a9a01ed7e7aa"
      },
      "source": [
        "house_hold_number = pd.get_dummies(df_inputs['house_hold_number'], prefix='house_hold_number', prefix_sep=':')\n",
        "house_hold_number.columns"
      ],
      "execution_count": null,
      "outputs": [
        {
          "output_type": "execute_result",
          "data": {
            "text/plain": [
              "Index(['house_hold_number:02-Mar', 'house_hold_number:04-Jul',\n",
              "       'house_hold_number:1', 'house_hold_number:More than 7'],\n",
              "      dtype='object')"
            ]
          },
          "metadata": {},
          "execution_count": 192
        }
      ]
    },
    {
      "cell_type": "code",
      "metadata": {
        "id": "EXzuS5XZThIv"
      },
      "source": [
        "# concatenate\n",
        "\n",
        "df_inputs = pd.concat([df_inputs, house_hold_number], axis=1)"
      ],
      "execution_count": null,
      "outputs": []
    },
    {
      "cell_type": "code",
      "metadata": {
        "id": "TdSrvWRMT_O9"
      },
      "source": [
        "# coarse classing\n",
        "df_inputs['house_hold_number:1-02-3'] = sum([df_inputs['house_hold_number:1'],\n",
        "                                                df_inputs['house_hold_number:02-Mar']])\n"
      ],
      "execution_count": null,
      "outputs": []
    },
    {
      "cell_type": "code",
      "metadata": {
        "id": "fg5FOaBGUpwr"
      },
      "source": [
        "df_inputs['house_hold_number:4-7'] = df_inputs['house_hold_number:04-Jul']\n"
      ],
      "execution_count": null,
      "outputs": []
    },
    {
      "cell_type": "markdown",
      "metadata": {
        "id": "B22Jwtr-j4x4"
      },
      "source": [
        "## **Electricity_connectivity**"
      ]
    },
    {
      "cell_type": "code",
      "metadata": {
        "colab": {
          "base_uri": "https://localhost:8080/"
        },
        "id": "DwjBlPHZj4x5",
        "outputId": "5b059bf4-1ea8-4b98-8f15-7fd542f74a96"
      },
      "source": [
        "electricity_connectivity_dummies = pd.get_dummies(df_inputs['electricity_connectivity'], prefix='electricity_connectivity', prefix_sep=':')\n",
        "electricity_connectivity_dummies.columns\n"
      ],
      "execution_count": null,
      "outputs": [
        {
          "output_type": "execute_result",
          "data": {
            "text/plain": [
              "Index(['electricity_connectivity:Electricity',\n",
              "       'electricity_connectivity:Kerosene',\n",
              "       'electricity_connectivity:Solar Power'],\n",
              "      dtype='object')"
            ]
          },
          "metadata": {},
          "execution_count": 196
        }
      ]
    },
    {
      "cell_type": "code",
      "metadata": {
        "id": "hFw2NnRDj4x6"
      },
      "source": [
        "# concatenate\n",
        "df_inputs = pd.concat([df_inputs, electricity_connectivity_dummies], axis=1)"
      ],
      "execution_count": null,
      "outputs": []
    },
    {
      "cell_type": "code",
      "metadata": {
        "id": "dYsnzyI8j4x6"
      },
      "source": [
        "# coarse classing\n",
        "df_inputs['electricity_connectivity:Kerosene'] = sum([df_inputs['electricity_connectivity:Kerosene'],\n",
        "                                                df_inputs['electricity_connectivity:Electricity']])"
      ],
      "execution_count": null,
      "outputs": []
    },
    {
      "cell_type": "markdown",
      "metadata": {
        "id": "o149B8tLn3Iw"
      },
      "source": [
        "## **Farming_duration**"
      ]
    },
    {
      "cell_type": "code",
      "metadata": {
        "colab": {
          "base_uri": "https://localhost:8080/"
        },
        "id": "xoMrbbTun3Iw",
        "outputId": "f3042021-0a26-4ad9-a2d4-7299dd90288f"
      },
      "source": [
        "farming_duration_dummies = pd.get_dummies(df_inputs['farming_duration'], prefix='farming_duration', prefix_sep=':')\n",
        "farming_duration_dummies.columns\n"
      ],
      "execution_count": null,
      "outputs": [
        {
          "output_type": "execute_result",
          "data": {
            "text/plain": [
              "Index(['farming_duration:0-1 year', 'farming_duration:1-2 years',\n",
              "       'farming_duration:2-5 years', 'farming_duration:More than 5 years'],\n",
              "      dtype='object')"
            ]
          },
          "metadata": {},
          "execution_count": 199
        }
      ]
    },
    {
      "cell_type": "code",
      "metadata": {
        "id": "eqoJ8vDCn3Iw"
      },
      "source": [
        "# concatenate\n",
        "df_inputs = pd.concat([df_inputs, farming_duration_dummies], axis=1)"
      ],
      "execution_count": null,
      "outputs": []
    },
    {
      "cell_type": "code",
      "metadata": {
        "id": "H2Ydpe9Xn3Iw"
      },
      "source": [
        "# coarse classing\n",
        "df_inputs['farming_duration:more_than_5_years_&_1-2'] = sum([df_inputs['farming_duration:More than 5 years'],\n",
        "                                                df_inputs['farming_duration:1-2 years']])"
      ],
      "execution_count": null,
      "outputs": []
    },
    {
      "cell_type": "markdown",
      "metadata": {
        "id": "j7MPhZVhpsCV"
      },
      "source": [
        "## **Rent**"
      ]
    },
    {
      "cell_type": "code",
      "metadata": {
        "id": "_pnmTKAtprSC"
      },
      "source": [
        "df_inputs['rent:<=300'] = np.where((df_inputs['rent'] <= 300),1,0)\n",
        "\n",
        "df_inputs['rent:>300'] = np.where((df_inputs['rent'] > 300),1,0)"
      ],
      "execution_count": null,
      "outputs": []
    },
    {
      "cell_type": "markdown",
      "metadata": {
        "id": "hCmGGdXoqsjC"
      },
      "source": [
        "## **Loans**"
      ]
    },
    {
      "cell_type": "code",
      "metadata": {
        "id": "Be-L58VYqsjC"
      },
      "source": [
        "df_inputs['loans:<=6800'] = np.where((df_inputs['loans'] <= 6800),1,0)\n",
        "\n",
        "df_inputs['loans:>6800'] = np.where((df_inputs['loans'] > 6800),1,0)"
      ],
      "execution_count": null,
      "outputs": []
    },
    {
      "cell_type": "markdown",
      "metadata": {
        "id": "tTxissqwm-cq"
      },
      "source": [
        "# **Final Cols**"
      ]
    },
    {
      "cell_type": "code",
      "metadata": {
        "id": "hgYvwir-nCbK"
      },
      "source": [
        "final_cols = ['crops_grown:0 type of crops', 'crops_grown:1 type of crop', 'crops_grown:2 type of crops','crops_grown:3 type of crops','crops_grown:4 type of crops',\n",
        "            'crops_grown:More than 4 types of crops','duration_with_same_employer:0-1 year', 'duration_with_same_employer:1-5 years','duration_with_same_employer:More than 5 years',\n",
        "            'remaining_payment_months:<=1.5','remaining_payment_months:1.5-7.5','remaining_payment_months:7.5-17.50','remaining_payment_months:>17.50','tank_capacity:<= 1100',\n",
        "            'tank_capacity:1100-2450','tank_capacity:2450-3400','tank_capacity:3400-5400','tank_capacity:>5400',\n",
        "            'number_of_businesses_before:1 business','number_of_businesses_before:2-5 businesses','number_of_businesses_before:0 & More than 5 businesses',\n",
        "            'income_sum:<=1270','income_sum:1270-14200','income_sum:>14200','family_descision_maker:Everyone in the household','family_descision_maker:Wife',\n",
        "            'family_descision_maker:Husband_Child(son/daughter)','netincome1_business:<= 15.84','netincome1_business:15.84-40.85','netincome1_business:40.85-75.04',\n",
        "            'netincome1_business:>75.04','netincome2_business:<= 23.90','netincome2_business:23.90-40.17','netincome2_business:40.17-81.60','netincome2_business:>81.60',\n",
        "            'house_hold_number:1-02-3','house_hold_number:4-7','house_hold_number:More than 7','farming_duration:more_than_5_years_&_1-2','farming_duration:0-1 year','farming_duration:2-5 years',\n",
        "            'rent:<=300','rent:>300' ]\n",
        "\n",
        "final_inputs_df = df_inputs[final_cols]\n"
      ],
      "execution_count": null,
      "outputs": []
    },
    {
      "cell_type": "code",
      "metadata": {
        "colab": {
          "base_uri": "https://localhost:8080/"
        },
        "id": "VSWF2OOwoUiW",
        "outputId": "da8f9fd3-53ea-45bc-9890-8c8923d8cc22"
      },
      "source": [
        "final_inputs_df.shape"
      ],
      "execution_count": null,
      "outputs": [
        {
          "output_type": "execute_result",
          "data": {
            "text/plain": [
              "(4357, 43)"
            ]
          },
          "metadata": {},
          "execution_count": 205
        }
      ]
    },
    {
      "cell_type": "code",
      "metadata": {
        "colab": {
          "base_uri": "https://localhost:8080/",
          "height": 261
        },
        "id": "065TH2pYoYb6",
        "outputId": "6108d2e8-8b4f-4788-e216-236d4cf1e111"
      },
      "source": [
        "final_inputs_df.head()"
      ],
      "execution_count": null,
      "outputs": [
        {
          "output_type": "execute_result",
          "data": {
            "text/html": [
              "<div>\n",
              "<style scoped>\n",
              "    .dataframe tbody tr th:only-of-type {\n",
              "        vertical-align: middle;\n",
              "    }\n",
              "\n",
              "    .dataframe tbody tr th {\n",
              "        vertical-align: top;\n",
              "    }\n",
              "\n",
              "    .dataframe thead th {\n",
              "        text-align: right;\n",
              "    }\n",
              "</style>\n",
              "<table border=\"1\" class=\"dataframe\">\n",
              "  <thead>\n",
              "    <tr style=\"text-align: right;\">\n",
              "      <th></th>\n",
              "      <th>crops_grown:0 type of crops</th>\n",
              "      <th>crops_grown:1 type of crop</th>\n",
              "      <th>crops_grown:2 type of crops</th>\n",
              "      <th>crops_grown:3 type of crops</th>\n",
              "      <th>crops_grown:4 type of crops</th>\n",
              "      <th>crops_grown:More than 4 types of crops</th>\n",
              "      <th>duration_with_same_employer:0-1 year</th>\n",
              "      <th>duration_with_same_employer:1-5 years</th>\n",
              "      <th>duration_with_same_employer:More than 5 years</th>\n",
              "      <th>remaining_payment_months:&lt;=1.5</th>\n",
              "      <th>remaining_payment_months:1.5-7.5</th>\n",
              "      <th>remaining_payment_months:7.5-17.50</th>\n",
              "      <th>remaining_payment_months:&gt;17.50</th>\n",
              "      <th>tank_capacity:&lt;= 1100</th>\n",
              "      <th>tank_capacity:1100-2450</th>\n",
              "      <th>tank_capacity:2450-3400</th>\n",
              "      <th>tank_capacity:3400-5400</th>\n",
              "      <th>tank_capacity:&gt;5400</th>\n",
              "      <th>number_of_businesses_before:1 business</th>\n",
              "      <th>number_of_businesses_before:2-5 businesses</th>\n",
              "      <th>number_of_businesses_before:0 &amp; More than 5 businesses</th>\n",
              "      <th>income_sum:&lt;=1270</th>\n",
              "      <th>income_sum:1270-14200</th>\n",
              "      <th>income_sum:&gt;14200</th>\n",
              "      <th>family_descision_maker:Everyone in the household</th>\n",
              "      <th>family_descision_maker:Wife</th>\n",
              "      <th>family_descision_maker:Husband_Child(son/daughter)</th>\n",
              "      <th>netincome1_business:&lt;= 15.84</th>\n",
              "      <th>netincome1_business:15.84-40.85</th>\n",
              "      <th>netincome1_business:40.85-75.04</th>\n",
              "      <th>netincome1_business:&gt;75.04</th>\n",
              "      <th>netincome2_business:&lt;= 23.90</th>\n",
              "      <th>netincome2_business:23.90-40.17</th>\n",
              "      <th>netincome2_business:40.17-81.60</th>\n",
              "      <th>netincome2_business:&gt;81.60</th>\n",
              "      <th>house_hold_number:1-02-3</th>\n",
              "      <th>house_hold_number:4-7</th>\n",
              "      <th>house_hold_number:More than 7</th>\n",
              "      <th>farming_duration:more_than_5_years_&amp;_1-2</th>\n",
              "      <th>farming_duration:0-1 year</th>\n",
              "      <th>farming_duration:2-5 years</th>\n",
              "      <th>rent:&lt;=300</th>\n",
              "      <th>rent:&gt;300</th>\n",
              "    </tr>\n",
              "  </thead>\n",
              "  <tbody>\n",
              "    <tr>\n",
              "      <th>3386</th>\n",
              "      <td>0</td>\n",
              "      <td>0</td>\n",
              "      <td>0</td>\n",
              "      <td>1</td>\n",
              "      <td>0</td>\n",
              "      <td>0</td>\n",
              "      <td>0</td>\n",
              "      <td>0</td>\n",
              "      <td>1</td>\n",
              "      <td>1</td>\n",
              "      <td>0</td>\n",
              "      <td>0</td>\n",
              "      <td>0</td>\n",
              "      <td>0</td>\n",
              "      <td>0</td>\n",
              "      <td>0</td>\n",
              "      <td>0</td>\n",
              "      <td>1</td>\n",
              "      <td>0</td>\n",
              "      <td>0</td>\n",
              "      <td>1</td>\n",
              "      <td>1</td>\n",
              "      <td>0</td>\n",
              "      <td>0</td>\n",
              "      <td>1</td>\n",
              "      <td>0</td>\n",
              "      <td>0</td>\n",
              "      <td>1</td>\n",
              "      <td>0</td>\n",
              "      <td>0</td>\n",
              "      <td>0</td>\n",
              "      <td>1</td>\n",
              "      <td>0</td>\n",
              "      <td>0</td>\n",
              "      <td>0</td>\n",
              "      <td>0</td>\n",
              "      <td>1</td>\n",
              "      <td>0</td>\n",
              "      <td>1</td>\n",
              "      <td>0</td>\n",
              "      <td>0</td>\n",
              "      <td>1</td>\n",
              "      <td>0</td>\n",
              "    </tr>\n",
              "    <tr>\n",
              "      <th>596</th>\n",
              "      <td>0</td>\n",
              "      <td>0</td>\n",
              "      <td>0</td>\n",
              "      <td>1</td>\n",
              "      <td>0</td>\n",
              "      <td>0</td>\n",
              "      <td>1</td>\n",
              "      <td>0</td>\n",
              "      <td>0</td>\n",
              "      <td>1</td>\n",
              "      <td>0</td>\n",
              "      <td>0</td>\n",
              "      <td>0</td>\n",
              "      <td>1</td>\n",
              "      <td>0</td>\n",
              "      <td>0</td>\n",
              "      <td>0</td>\n",
              "      <td>0</td>\n",
              "      <td>1</td>\n",
              "      <td>0</td>\n",
              "      <td>0</td>\n",
              "      <td>1</td>\n",
              "      <td>0</td>\n",
              "      <td>0</td>\n",
              "      <td>0</td>\n",
              "      <td>0</td>\n",
              "      <td>1</td>\n",
              "      <td>0</td>\n",
              "      <td>1</td>\n",
              "      <td>0</td>\n",
              "      <td>0</td>\n",
              "      <td>0</td>\n",
              "      <td>1</td>\n",
              "      <td>0</td>\n",
              "      <td>0</td>\n",
              "      <td>0</td>\n",
              "      <td>0</td>\n",
              "      <td>1</td>\n",
              "      <td>1</td>\n",
              "      <td>0</td>\n",
              "      <td>0</td>\n",
              "      <td>1</td>\n",
              "      <td>0</td>\n",
              "    </tr>\n",
              "    <tr>\n",
              "      <th>1765</th>\n",
              "      <td>0</td>\n",
              "      <td>0</td>\n",
              "      <td>0</td>\n",
              "      <td>1</td>\n",
              "      <td>0</td>\n",
              "      <td>0</td>\n",
              "      <td>1</td>\n",
              "      <td>0</td>\n",
              "      <td>0</td>\n",
              "      <td>1</td>\n",
              "      <td>0</td>\n",
              "      <td>0</td>\n",
              "      <td>0</td>\n",
              "      <td>0</td>\n",
              "      <td>0</td>\n",
              "      <td>0</td>\n",
              "      <td>0</td>\n",
              "      <td>1</td>\n",
              "      <td>0</td>\n",
              "      <td>0</td>\n",
              "      <td>1</td>\n",
              "      <td>0</td>\n",
              "      <td>1</td>\n",
              "      <td>0</td>\n",
              "      <td>0</td>\n",
              "      <td>0</td>\n",
              "      <td>1</td>\n",
              "      <td>1</td>\n",
              "      <td>0</td>\n",
              "      <td>0</td>\n",
              "      <td>0</td>\n",
              "      <td>0</td>\n",
              "      <td>0</td>\n",
              "      <td>1</td>\n",
              "      <td>0</td>\n",
              "      <td>1</td>\n",
              "      <td>0</td>\n",
              "      <td>0</td>\n",
              "      <td>1</td>\n",
              "      <td>0</td>\n",
              "      <td>0</td>\n",
              "      <td>1</td>\n",
              "      <td>0</td>\n",
              "    </tr>\n",
              "    <tr>\n",
              "      <th>1618</th>\n",
              "      <td>0</td>\n",
              "      <td>1</td>\n",
              "      <td>0</td>\n",
              "      <td>0</td>\n",
              "      <td>0</td>\n",
              "      <td>0</td>\n",
              "      <td>1</td>\n",
              "      <td>0</td>\n",
              "      <td>0</td>\n",
              "      <td>0</td>\n",
              "      <td>0</td>\n",
              "      <td>1</td>\n",
              "      <td>0</td>\n",
              "      <td>0</td>\n",
              "      <td>0</td>\n",
              "      <td>1</td>\n",
              "      <td>0</td>\n",
              "      <td>0</td>\n",
              "      <td>1</td>\n",
              "      <td>0</td>\n",
              "      <td>0</td>\n",
              "      <td>1</td>\n",
              "      <td>0</td>\n",
              "      <td>0</td>\n",
              "      <td>0</td>\n",
              "      <td>0</td>\n",
              "      <td>1</td>\n",
              "      <td>0</td>\n",
              "      <td>0</td>\n",
              "      <td>1</td>\n",
              "      <td>0</td>\n",
              "      <td>0</td>\n",
              "      <td>0</td>\n",
              "      <td>1</td>\n",
              "      <td>0</td>\n",
              "      <td>1</td>\n",
              "      <td>0</td>\n",
              "      <td>0</td>\n",
              "      <td>1</td>\n",
              "      <td>0</td>\n",
              "      <td>0</td>\n",
              "      <td>1</td>\n",
              "      <td>0</td>\n",
              "    </tr>\n",
              "    <tr>\n",
              "      <th>4641</th>\n",
              "      <td>0</td>\n",
              "      <td>0</td>\n",
              "      <td>0</td>\n",
              "      <td>0</td>\n",
              "      <td>0</td>\n",
              "      <td>1</td>\n",
              "      <td>1</td>\n",
              "      <td>0</td>\n",
              "      <td>0</td>\n",
              "      <td>0</td>\n",
              "      <td>0</td>\n",
              "      <td>0</td>\n",
              "      <td>1</td>\n",
              "      <td>1</td>\n",
              "      <td>0</td>\n",
              "      <td>0</td>\n",
              "      <td>0</td>\n",
              "      <td>0</td>\n",
              "      <td>1</td>\n",
              "      <td>0</td>\n",
              "      <td>0</td>\n",
              "      <td>1</td>\n",
              "      <td>0</td>\n",
              "      <td>0</td>\n",
              "      <td>0</td>\n",
              "      <td>0</td>\n",
              "      <td>1</td>\n",
              "      <td>0</td>\n",
              "      <td>0</td>\n",
              "      <td>1</td>\n",
              "      <td>0</td>\n",
              "      <td>0</td>\n",
              "      <td>0</td>\n",
              "      <td>1</td>\n",
              "      <td>0</td>\n",
              "      <td>0</td>\n",
              "      <td>1</td>\n",
              "      <td>0</td>\n",
              "      <td>1</td>\n",
              "      <td>0</td>\n",
              "      <td>0</td>\n",
              "      <td>1</td>\n",
              "      <td>0</td>\n",
              "    </tr>\n",
              "  </tbody>\n",
              "</table>\n",
              "</div>"
            ],
            "text/plain": [
              "      crops_grown:0 type of crops  ...  rent:>300\n",
              "3386                            0  ...          0\n",
              "596                             0  ...          0\n",
              "1765                            0  ...          0\n",
              "1618                            0  ...          0\n",
              "4641                            0  ...          0\n",
              "\n",
              "[5 rows x 43 columns]"
            ]
          },
          "metadata": {},
          "execution_count": 206
        }
      ]
    },
    {
      "cell_type": "code",
      "metadata": {
        "colab": {
          "base_uri": "https://localhost:8080/"
        },
        "id": "UAO03DuwodPV",
        "outputId": "4adb6832-38a4-4ee9-bb03-e5c280b7550a"
      },
      "source": [
        "final_inputs_df.info()\n"
      ],
      "execution_count": null,
      "outputs": [
        {
          "output_type": "stream",
          "name": "stdout",
          "text": [
            "<class 'pandas.core.frame.DataFrame'>\n",
            "Int64Index: 4357 entries, 3386 to 860\n",
            "Data columns (total 43 columns):\n",
            " #   Column                                                  Non-Null Count  Dtype\n",
            "---  ------                                                  --------------  -----\n",
            " 0   crops_grown:0 type of crops                             4357 non-null   uint8\n",
            " 1   crops_grown:1 type of crop                              4357 non-null   uint8\n",
            " 2   crops_grown:2 type of crops                             4357 non-null   uint8\n",
            " 3   crops_grown:3 type of crops                             4357 non-null   uint8\n",
            " 4   crops_grown:4 type of crops                             4357 non-null   uint8\n",
            " 5   crops_grown:More than 4 types of crops                  4357 non-null   uint8\n",
            " 6   duration_with_same_employer:0-1 year                    4357 non-null   uint8\n",
            " 7   duration_with_same_employer:1-5 years                   4357 non-null   uint8\n",
            " 8   duration_with_same_employer:More than 5 years           4357 non-null   uint8\n",
            " 9   remaining_payment_months:<=1.5                          4357 non-null   int64\n",
            " 10  remaining_payment_months:1.5-7.5                        4357 non-null   int64\n",
            " 11  remaining_payment_months:7.5-17.50                      4357 non-null   int64\n",
            " 12  remaining_payment_months:>17.50                         4357 non-null   int64\n",
            " 13  tank_capacity:<= 1100                                   4357 non-null   int64\n",
            " 14  tank_capacity:1100-2450                                 4357 non-null   int64\n",
            " 15  tank_capacity:2450-3400                                 4357 non-null   int64\n",
            " 16  tank_capacity:3400-5400                                 4357 non-null   int64\n",
            " 17  tank_capacity:>5400                                     4357 non-null   int64\n",
            " 18  number_of_businesses_before:1 business                  4357 non-null   uint8\n",
            " 19  number_of_businesses_before:2-5 businesses              4357 non-null   uint8\n",
            " 20  number_of_businesses_before:0 & More than 5 businesses  4357 non-null   uint8\n",
            " 21  income_sum:<=1270                                       4357 non-null   int64\n",
            " 22  income_sum:1270-14200                                   4357 non-null   int64\n",
            " 23  income_sum:>14200                                       4357 non-null   int64\n",
            " 24  family_descision_maker:Everyone in the household        4357 non-null   uint8\n",
            " 25  family_descision_maker:Wife                             4357 non-null   uint8\n",
            " 26  family_descision_maker:Husband_Child(son/daughter)      4357 non-null   uint8\n",
            " 27  netincome1_business:<= 15.84                            4357 non-null   int64\n",
            " 28  netincome1_business:15.84-40.85                         4357 non-null   int64\n",
            " 29  netincome1_business:40.85-75.04                         4357 non-null   int64\n",
            " 30  netincome1_business:>75.04                              4357 non-null   int64\n",
            " 31  netincome2_business:<= 23.90                            4357 non-null   int64\n",
            " 32  netincome2_business:23.90-40.17                         4357 non-null   int64\n",
            " 33  netincome2_business:40.17-81.60                         4357 non-null   int64\n",
            " 34  netincome2_business:>81.60                              4357 non-null   int64\n",
            " 35  house_hold_number:1-02-3                                4357 non-null   uint8\n",
            " 36  house_hold_number:4-7                                   4357 non-null   uint8\n",
            " 37  house_hold_number:More than 7                           4357 non-null   uint8\n",
            " 38  farming_duration:more_than_5_years_&_1-2                4357 non-null   uint8\n",
            " 39  farming_duration:0-1 year                               4357 non-null   uint8\n",
            " 40  farming_duration:2-5 years                              4357 non-null   uint8\n",
            " 41  rent:<=300                                              4357 non-null   int64\n",
            " 42  rent:>300                                               4357 non-null   int64\n",
            "dtypes: int64(22), uint8(21)\n",
            "memory usage: 872.3 KB\n"
          ]
        }
      ]
    },
    {
      "cell_type": "code",
      "metadata": {
        "id": "VRACixL5on6a"
      },
      "source": [
        "# save\n",
        "\n",
        "final_inputs_df.to_csv('/content/drive/My Drive/AICE/Precredit/train_inputs.csv',index=False)"
      ],
      "execution_count": null,
      "outputs": []
    }
  ]
}